{
 "cells": [
  {
   "cell_type": "markdown",
   "metadata": {},
   "source": [
    "# 1.  Installing explainer Dashboard package"
   ]
  },
  {
   "cell_type": "code",
   "execution_count": 10,
   "metadata": {},
   "outputs": [
    {
     "name": "stdout",
     "output_type": "stream",
     "text": [
      "Requirement already satisfied: explainerdashboard in .\\venv\\lib\\site-packages (0.4.0)\n",
      "Requirement already satisfied: graphviz>=0.18.2 in .\\venv\\lib\\site-packages (from explainerdashboard) (0.20.1)\n",
      "Requirement already satisfied: dash>=2.3.1 in .\\venv\\lib\\site-packages (from explainerdashboard) (2.7.0)\n",
      "Requirement already satisfied: joblib in .\\venv\\lib\\site-packages (from explainerdashboard) (1.1.1)\n",
      "Requirement already satisfied: pandas>=1.1 in .\\venv\\lib\\site-packages (from explainerdashboard) (1.5.2)\n",
      "Requirement already satisfied: dtreeviz>=1.3 in .\\venv\\lib\\site-packages (from explainerdashboard) (1.4.1)\n",
      "Requirement already satisfied: scikit-learn>=1.1 in .\\venv\\lib\\site-packages (from explainerdashboard) (1.1.3)\n",
      "Requirement already satisfied: waitress in .\\venv\\lib\\site-packages (from explainerdashboard) (2.1.2)\n",
      "Requirement already satisfied: numpy in .\\venv\\lib\\site-packages (from explainerdashboard) (1.23.5)\n",
      "Requirement already satisfied: oyaml in .\\venv\\lib\\site-packages (from explainerdashboard) (1.0)\n",
      "Requirement already satisfied: dash-bootstrap-components>=1 in .\\venv\\lib\\site-packages (from explainerdashboard) (1.2.1)\n",
      "Requirement already satisfied: click in .\\venv\\lib\\site-packages (from explainerdashboard) (8.1.3)\n",
      "Requirement already satisfied: shap>=0.37 in .\\venv\\lib\\site-packages (from explainerdashboard) (0.41.0)\n",
      "Requirement already satisfied: flask-simplelogin in .\\venv\\lib\\site-packages (from explainerdashboard) (0.1.1)\n",
      "Requirement already satisfied: jupyter-dash in .\\venv\\lib\\site-packages (from explainerdashboard) (0.4.2)\n",
      "Requirement already satisfied: dash-auth in .\\venv\\lib\\site-packages (from explainerdashboard) (1.4.1)\n",
      "Requirement already satisfied: dash-core-components==2.0.0 in .\\venv\\lib\\site-packages (from dash>=2.3.1->explainerdashboard) (2.0.0)\n",
      "Requirement already satisfied: dash-html-components==2.0.0 in .\\venv\\lib\\site-packages (from dash>=2.3.1->explainerdashboard) (2.0.0)\n",
      "Requirement already satisfied: dash-table==5.0.0 in .\\venv\\lib\\site-packages (from dash>=2.3.1->explainerdashboard) (5.0.0)\n",
      "Requirement already satisfied: Flask>=1.0.4 in .\\venv\\lib\\site-packages (from dash>=2.3.1->explainerdashboard) (2.2.2)\n",
      "Requirement already satisfied: plotly>=5.0.0 in .\\venv\\lib\\site-packages (from dash>=2.3.1->explainerdashboard) (5.11.0)\n",
      "Requirement already satisfied: colour in .\\venv\\lib\\site-packages (from dtreeviz>=1.3->explainerdashboard) (0.1.5)\n",
      "Requirement already satisfied: matplotlib in .\\venv\\lib\\site-packages (from dtreeviz>=1.3->explainerdashboard) (3.6.2)\n",
      "Requirement already satisfied: pytest in .\\venv\\lib\\site-packages (from dtreeviz>=1.3->explainerdashboard) (7.2.0)\n",
      "Requirement already satisfied: pytz>=2020.1 in .\\venv\\lib\\site-packages (from pandas>=1.1->explainerdashboard) (2022.6)\n",
      "Requirement already satisfied: python-dateutil>=2.8.1 in .\\venv\\lib\\site-packages (from pandas>=1.1->explainerdashboard) (2.8.2)\n",
      "Requirement already satisfied: threadpoolctl>=2.0.0 in .\\venv\\lib\\site-packages (from scikit-learn>=1.1->explainerdashboard) (3.1.0)\n",
      "Requirement already satisfied: scipy>=1.3.2 in .\\venv\\lib\\site-packages (from scikit-learn>=1.1->explainerdashboard) (1.9.3)\n",
      "Requirement already satisfied: slicer==0.0.7 in .\\venv\\lib\\site-packages (from shap>=0.37->explainerdashboard) (0.0.7)\n",
      "Requirement already satisfied: packaging>20.9 in .\\venv\\lib\\site-packages (from shap>=0.37->explainerdashboard) (21.3)\n",
      "Requirement already satisfied: tqdm>4.25.0 in .\\venv\\lib\\site-packages (from shap>=0.37->explainerdashboard) (4.64.1)\n",
      "Requirement already satisfied: cloudpickle in .\\venv\\lib\\site-packages (from shap>=0.37->explainerdashboard) (2.2.0)\n",
      "Requirement already satisfied: numba in .\\venv\\lib\\site-packages (from shap>=0.37->explainerdashboard) (0.56.4)\n",
      "Requirement already satisfied: colorama in .\\venv\\lib\\site-packages (from click->explainerdashboard) (0.4.6)\n",
      "Requirement already satisfied: retrying in .\\venv\\lib\\site-packages (from dash-auth->explainerdashboard) (1.3.4)\n",
      "Requirement already satisfied: flask-compress in .\\venv\\lib\\site-packages (from dash-auth->explainerdashboard) (1.13)\n",
      "Requirement already satisfied: requests in .\\venv\\lib\\site-packages (from dash-auth->explainerdashboard) (2.28.1)\n",
      "Requirement already satisfied: itsdangerous>=1.1.0 in .\\venv\\lib\\site-packages (from dash-auth->explainerdashboard) (2.1.2)\n",
      "Requirement already satisfied: flask-seasurf in .\\venv\\lib\\site-packages (from dash-auth->explainerdashboard) (1.1.1)\n",
      "Requirement already satisfied: chart-studio>=1.0.0 in .\\venv\\lib\\site-packages (from dash-auth->explainerdashboard) (1.1.0)\n",
      "Requirement already satisfied: ua-parser in .\\venv\\lib\\site-packages (from dash-auth->explainerdashboard) (0.16.1)\n",
      "Requirement already satisfied: WTForms>=2.1 in .\\venv\\lib\\site-packages (from flask-simplelogin->explainerdashboard) (3.0.1)\n",
      "Requirement already satisfied: Flask-WTF<0.16.0,>=0.15.1 in .\\venv\\lib\\site-packages (from flask-simplelogin->explainerdashboard) (0.15.1)\n",
      "Requirement already satisfied: nest-asyncio in .\\venv\\lib\\site-packages (from jupyter-dash->explainerdashboard) (1.5.6)\n",
      "Requirement already satisfied: ansi2html in .\\venv\\lib\\site-packages (from jupyter-dash->explainerdashboard) (1.8.0)\n",
      "Requirement already satisfied: ipykernel in .\\venv\\lib\\site-packages (from jupyter-dash->explainerdashboard) (6.19.0)\n",
      "Requirement already satisfied: ipython in .\\venv\\lib\\site-packages (from jupyter-dash->explainerdashboard) (8.7.0)\n",
      "Requirement already satisfied: pyyaml in .\\venv\\lib\\site-packages (from oyaml->explainerdashboard) (6.0)\n",
      "Requirement already satisfied: six in .\\venv\\lib\\site-packages (from chart-studio>=1.0.0->dash-auth->explainerdashboard) (1.16.0)\n",
      "Requirement already satisfied: Jinja2>=3.0 in .\\venv\\lib\\site-packages (from Flask>=1.0.4->dash>=2.3.1->explainerdashboard) (3.1.2)\n",
      "Requirement already satisfied: Werkzeug>=2.2.2 in .\\venv\\lib\\site-packages (from Flask>=1.0.4->dash>=2.3.1->explainerdashboard) (2.2.2)\n",
      "Requirement already satisfied: pyparsing!=3.0.5,>=2.0.2 in .\\venv\\lib\\site-packages (from packaging>20.9->shap>=0.37->explainerdashboard) (3.0.9)\n",
      "Requirement already satisfied: tenacity>=6.2.0 in .\\venv\\lib\\site-packages (from plotly>=5.0.0->dash>=2.3.1->explainerdashboard) (8.1.0)\n",
      "Requirement already satisfied: MarkupSafe in .\\venv\\lib\\site-packages (from WTForms>=2.1->flask-simplelogin->explainerdashboard) (2.1.1)\n",
      "Requirement already satisfied: brotli in .\\venv\\lib\\site-packages (from flask-compress->dash-auth->explainerdashboard) (1.0.9)\n",
      "Requirement already satisfied: jupyter-client>=6.1.12 in .\\venv\\lib\\site-packages (from ipykernel->jupyter-dash->explainerdashboard) (7.4.8)\n",
      "Requirement already satisfied: comm>=0.1.1 in .\\venv\\lib\\site-packages (from ipykernel->jupyter-dash->explainerdashboard) (0.1.1)\n",
      "Requirement already satisfied: matplotlib-inline>=0.1 in .\\venv\\lib\\site-packages (from ipykernel->jupyter-dash->explainerdashboard) (0.1.6)\n",
      "Requirement already satisfied: traitlets>=5.4.0 in .\\venv\\lib\\site-packages (from ipykernel->jupyter-dash->explainerdashboard) (5.6.0)\n",
      "Requirement already satisfied: tornado>=6.1 in .\\venv\\lib\\site-packages (from ipykernel->jupyter-dash->explainerdashboard) (6.2)\n",
      "Requirement already satisfied: pyzmq>=17 in .\\venv\\lib\\site-packages (from ipykernel->jupyter-dash->explainerdashboard) (24.0.1)\n",
      "Requirement already satisfied: psutil in .\\venv\\lib\\site-packages (from ipykernel->jupyter-dash->explainerdashboard) (5.9.4)\n",
      "Requirement already satisfied: debugpy>=1.0 in .\\venv\\lib\\site-packages (from ipykernel->jupyter-dash->explainerdashboard) (1.6.4)\n",
      "Requirement already satisfied: decorator in .\\venv\\lib\\site-packages (from ipython->jupyter-dash->explainerdashboard) (5.1.1)\n",
      "Requirement already satisfied: prompt-toolkit<3.1.0,>=3.0.11 in .\\venv\\lib\\site-packages (from ipython->jupyter-dash->explainerdashboard) (3.0.36)\n",
      "Requirement already satisfied: stack-data in .\\venv\\lib\\site-packages (from ipython->jupyter-dash->explainerdashboard) (0.6.2)\n",
      "Requirement already satisfied: backcall in .\\venv\\lib\\site-packages (from ipython->jupyter-dash->explainerdashboard) (0.2.0)\n",
      "Requirement already satisfied: jedi>=0.16 in .\\venv\\lib\\site-packages (from ipython->jupyter-dash->explainerdashboard) (0.18.2)\n",
      "Requirement already satisfied: pickleshare in .\\venv\\lib\\site-packages (from ipython->jupyter-dash->explainerdashboard) (0.7.5)\n",
      "Requirement already satisfied: pygments>=2.4.0 in .\\venv\\lib\\site-packages (from ipython->jupyter-dash->explainerdashboard) (2.13.0)\n",
      "Requirement already satisfied: fonttools>=4.22.0 in .\\venv\\lib\\site-packages (from matplotlib->dtreeviz>=1.3->explainerdashboard) (4.38.0)\n",
      "Requirement already satisfied: pillow>=6.2.0 in .\\venv\\lib\\site-packages (from matplotlib->dtreeviz>=1.3->explainerdashboard) (9.3.0)\n",
      "Requirement already satisfied: contourpy>=1.0.1 in .\\venv\\lib\\site-packages (from matplotlib->dtreeviz>=1.3->explainerdashboard) (1.0.6)\n",
      "Requirement already satisfied: cycler>=0.10 in .\\venv\\lib\\site-packages (from matplotlib->dtreeviz>=1.3->explainerdashboard) (0.11.0)\n",
      "Requirement already satisfied: kiwisolver>=1.0.1 in .\\venv\\lib\\site-packages (from matplotlib->dtreeviz>=1.3->explainerdashboard) (1.4.4)\n",
      "Requirement already satisfied: setuptools in .\\venv\\lib\\site-packages (from numba->shap>=0.37->explainerdashboard) (58.1.0)\n",
      "Requirement already satisfied: llvmlite<0.40,>=0.39.0dev0 in .\\venv\\lib\\site-packages (from numba->shap>=0.37->explainerdashboard) (0.39.1)\n",
      "Requirement already satisfied: pluggy<2.0,>=0.12 in .\\venv\\lib\\site-packages (from pytest->dtreeviz>=1.3->explainerdashboard) (1.0.0)\n",
      "Requirement already satisfied: attrs>=19.2.0 in .\\venv\\lib\\site-packages (from pytest->dtreeviz>=1.3->explainerdashboard) (22.1.0)\n",
      "Requirement already satisfied: exceptiongroup>=1.0.0rc8 in .\\venv\\lib\\site-packages (from pytest->dtreeviz>=1.3->explainerdashboard) (1.0.4)\n",
      "Requirement already satisfied: tomli>=1.0.0 in .\\venv\\lib\\site-packages (from pytest->dtreeviz>=1.3->explainerdashboard) (2.0.1)\n",
      "Requirement already satisfied: iniconfig in .\\venv\\lib\\site-packages (from pytest->dtreeviz>=1.3->explainerdashboard) (1.1.1)\n",
      "Requirement already satisfied: urllib3<1.27,>=1.21.1 in .\\venv\\lib\\site-packages (from requests->dash-auth->explainerdashboard) (1.26.13)\n",
      "Requirement already satisfied: charset-normalizer<3,>=2 in .\\venv\\lib\\site-packages (from requests->dash-auth->explainerdashboard) (2.1.1)\n",
      "Requirement already satisfied: idna<4,>=2.5 in .\\venv\\lib\\site-packages (from requests->dash-auth->explainerdashboard) (3.4)\n",
      "Requirement already satisfied: certifi>=2017.4.17 in .\\venv\\lib\\site-packages (from requests->dash-auth->explainerdashboard) (2022.9.24)\n",
      "Requirement already satisfied: parso<0.9.0,>=0.8.0 in .\\venv\\lib\\site-packages (from jedi>=0.16->ipython->jupyter-dash->explainerdashboard) (0.8.3)\n",
      "Requirement already satisfied: jupyter-core>=4.9.2 in .\\venv\\lib\\site-packages (from jupyter-client>=6.1.12->ipykernel->jupyter-dash->explainerdashboard) (5.1.0)\n",
      "Requirement already satisfied: entrypoints in .\\venv\\lib\\site-packages (from jupyter-client>=6.1.12->ipykernel->jupyter-dash->explainerdashboard) (0.4)\n",
      "Requirement already satisfied: wcwidth in .\\venv\\lib\\site-packages (from prompt-toolkit<3.1.0,>=3.0.11->ipython->jupyter-dash->explainerdashboard) (0.2.5)\n",
      "Requirement already satisfied: asttokens>=2.1.0 in .\\venv\\lib\\site-packages (from stack-data->ipython->jupyter-dash->explainerdashboard) (2.2.1)\n",
      "Requirement already satisfied: executing>=1.2.0 in .\\venv\\lib\\site-packages (from stack-data->ipython->jupyter-dash->explainerdashboard) (1.2.0)\n",
      "Requirement already satisfied: pure-eval in .\\venv\\lib\\site-packages (from stack-data->ipython->jupyter-dash->explainerdashboard) (0.2.2)\n",
      "Requirement already satisfied: pywin32>=1.0 in .\\venv\\lib\\site-packages (from jupyter-core>=4.9.2->jupyter-client>=6.1.12->ipykernel->jupyter-dash->explainerdashboard) (305)\n",
      "Requirement already satisfied: platformdirs>=2.5 in .\\venv\\lib\\site-packages (from jupyter-core>=4.9.2->jupyter-client>=6.1.12->ipykernel->jupyter-dash->explainerdashboard) (2.6.0)\n"
     ]
    }
   ],
   "source": [
    "# Install explainer Dashboard package\n",
    "!pip install explainerdashboard"
   ]
  },
  {
   "cell_type": "markdown",
   "metadata": {},
   "source": [
    "# 2. Importing some libraries"
   ]
  },
  {
   "cell_type": "code",
   "execution_count": 11,
   "metadata": {},
   "outputs": [],
   "source": [
    "# Importing Libraries and packages\n",
    "import pandas as pd\n",
    "import numpy as np\n",
    "from sklearn.ensemble import RandomForestRegressor\n",
    "from explainerdashboard import RegressionExplainer, ExplainerDashboard\n",
    "import dash_bootstrap_components as dbc \n",
    "from sklearn.model_selection import  train_test_split"
   ]
  },
  {
   "cell_type": "markdown",
   "metadata": {},
   "source": [
    "# 3. Importing the Dataset"
   ]
  },
  {
   "cell_type": "code",
   "execution_count": 12,
   "metadata": {},
   "outputs": [
    {
     "name": "stdout",
     "output_type": "stream",
     "text": [
      "{'data': array([[ 0.03807591,  0.05068012,  0.06169621, ..., -0.00259226,\n",
      "         0.01990749, -0.01764613],\n",
      "       [-0.00188202, -0.04464164, -0.05147406, ..., -0.03949338,\n",
      "        -0.06833155, -0.09220405],\n",
      "       [ 0.08529891,  0.05068012,  0.04445121, ..., -0.00259226,\n",
      "         0.00286131, -0.02593034],\n",
      "       ...,\n",
      "       [ 0.04170844,  0.05068012, -0.01590626, ..., -0.01107952,\n",
      "        -0.04688253,  0.01549073],\n",
      "       [-0.04547248, -0.04464164,  0.03906215, ...,  0.02655962,\n",
      "         0.04452873, -0.02593034],\n",
      "       [-0.04547248, -0.04464164, -0.0730303 , ..., -0.03949338,\n",
      "        -0.00422151,  0.00306441]]), 'target': array([151.,  75., 141., 206., 135.,  97., 138.,  63., 110., 310., 101.,\n",
      "        69., 179., 185., 118., 171., 166., 144.,  97., 168.,  68.,  49.,\n",
      "        68., 245., 184., 202., 137.,  85., 131., 283., 129.,  59., 341.,\n",
      "        87.,  65., 102., 265., 276., 252.,  90., 100.,  55.,  61.,  92.,\n",
      "       259.,  53., 190., 142.,  75., 142., 155., 225.,  59., 104., 182.,\n",
      "       128.,  52.,  37., 170., 170.,  61., 144.,  52., 128.,  71., 163.,\n",
      "       150.,  97., 160., 178.,  48., 270., 202., 111.,  85.,  42., 170.,\n",
      "       200., 252., 113., 143.,  51.,  52., 210.,  65., 141.,  55., 134.,\n",
      "        42., 111.,  98., 164.,  48.,  96.,  90., 162., 150., 279.,  92.,\n",
      "        83., 128., 102., 302., 198.,  95.,  53., 134., 144., 232.,  81.,\n",
      "       104.,  59., 246., 297., 258., 229., 275., 281., 179., 200., 200.,\n",
      "       173., 180.,  84., 121., 161.,  99., 109., 115., 268., 274., 158.,\n",
      "       107.,  83., 103., 272.,  85., 280., 336., 281., 118., 317., 235.,\n",
      "        60., 174., 259., 178., 128.,  96., 126., 288.,  88., 292.,  71.,\n",
      "       197., 186.,  25.,  84.,  96., 195.,  53., 217., 172., 131., 214.,\n",
      "        59.,  70., 220., 268., 152.,  47.,  74., 295., 101., 151., 127.,\n",
      "       237., 225.,  81., 151., 107.,  64., 138., 185., 265., 101., 137.,\n",
      "       143., 141.,  79., 292., 178.,  91., 116.,  86., 122.,  72., 129.,\n",
      "       142.,  90., 158.,  39., 196., 222., 277.,  99., 196., 202., 155.,\n",
      "        77., 191.,  70.,  73.,  49.,  65., 263., 248., 296., 214., 185.,\n",
      "        78.,  93., 252., 150.,  77., 208.,  77., 108., 160.,  53., 220.,\n",
      "       154., 259.,  90., 246., 124.,  67.,  72., 257., 262., 275., 177.,\n",
      "        71.,  47., 187., 125.,  78.,  51., 258., 215., 303., 243.,  91.,\n",
      "       150., 310., 153., 346.,  63.,  89.,  50.,  39., 103., 308., 116.,\n",
      "       145.,  74.,  45., 115., 264.,  87., 202., 127., 182., 241.,  66.,\n",
      "        94., 283.,  64., 102., 200., 265.,  94., 230., 181., 156., 233.,\n",
      "        60., 219.,  80.,  68., 332., 248.,  84., 200.,  55.,  85.,  89.,\n",
      "        31., 129.,  83., 275.,  65., 198., 236., 253., 124.,  44., 172.,\n",
      "       114., 142., 109., 180., 144., 163., 147.,  97., 220., 190., 109.,\n",
      "       191., 122., 230., 242., 248., 249., 192., 131., 237.,  78., 135.,\n",
      "       244., 199., 270., 164.,  72.,  96., 306.,  91., 214.,  95., 216.,\n",
      "       263., 178., 113., 200., 139., 139.,  88., 148.,  88., 243.,  71.,\n",
      "        77., 109., 272.,  60.,  54., 221.,  90., 311., 281., 182., 321.,\n",
      "        58., 262., 206., 233., 242., 123., 167.,  63., 197.,  71., 168.,\n",
      "       140., 217., 121., 235., 245.,  40.,  52., 104., 132.,  88.,  69.,\n",
      "       219.,  72., 201., 110.,  51., 277.,  63., 118.,  69., 273., 258.,\n",
      "        43., 198., 242., 232., 175.,  93., 168., 275., 293., 281.,  72.,\n",
      "       140., 189., 181., 209., 136., 261., 113., 131., 174., 257.,  55.,\n",
      "        84.,  42., 146., 212., 233.,  91., 111., 152., 120.,  67., 310.,\n",
      "        94., 183.,  66., 173.,  72.,  49.,  64.,  48., 178., 104., 132.,\n",
      "       220.,  57.]), 'frame': None, 'DESCR': '.. _diabetes_dataset:\\n\\nDiabetes dataset\\n----------------\\n\\nTen baseline variables, age, sex, body mass index, average blood\\npressure, and six blood serum measurements were obtained for each of n =\\n442 diabetes patients, as well as the response of interest, a\\nquantitative measure of disease progression one year after baseline.\\n\\n**Data Set Characteristics:**\\n\\n  :Number of Instances: 442\\n\\n  :Number of Attributes: First 10 columns are numeric predictive values\\n\\n  :Target: Column 11 is a quantitative measure of disease progression one year after baseline\\n\\n  :Attribute Information:\\n      - age     age in years\\n      - sex\\n      - bmi     body mass index\\n      - bp      average blood pressure\\n      - s1      tc, total serum cholesterol\\n      - s2      ldl, low-density lipoproteins\\n      - s3      hdl, high-density lipoproteins\\n      - s4      tch, total cholesterol / HDL\\n      - s5      ltg, possibly log of serum triglycerides level\\n      - s6      glu, blood sugar level\\n\\nNote: Each of these 10 feature variables have been mean centered and scaled by the standard deviation times the square root of `n_samples` (i.e. the sum of squares of each column totals 1).\\n\\nSource URL:\\nhttps://www4.stat.ncsu.edu/~boos/var.select/diabetes.html\\n\\nFor more information see:\\nBradley Efron, Trevor Hastie, Iain Johnstone and Robert Tibshirani (2004) \"Least Angle Regression,\" Annals of Statistics (with discussion), 407-499.\\n(https://web.stanford.edu/~hastie/Papers/LARS/LeastAngle_2002.pdf)\\n', 'feature_names': ['age', 'sex', 'bmi', 'bp', 's1', 's2', 's3', 's4', 's5', 's6'], 'data_filename': 'diabetes_data_raw.csv.gz', 'target_filename': 'diabetes_target.csv.gz', 'data_module': 'sklearn.datasets.data'}\n"
     ]
    }
   ],
   "source": [
    "# Loading the Diabetes Datasets\n",
    "from sklearn.datasets import load_diabetes\n",
    "data = load_diabetes()\n",
    "print(data)"
   ]
  },
  {
   "cell_type": "code",
   "execution_count": 13,
   "metadata": {},
   "outputs": [
    {
     "data": {
      "text/html": [
       "<div>\n",
       "<style scoped>\n",
       "    .dataframe tbody tr th:only-of-type {\n",
       "        vertical-align: middle;\n",
       "    }\n",
       "\n",
       "    .dataframe tbody tr th {\n",
       "        vertical-align: top;\n",
       "    }\n",
       "\n",
       "    .dataframe thead th {\n",
       "        text-align: right;\n",
       "    }\n",
       "</style>\n",
       "<table border=\"1\" class=\"dataframe\">\n",
       "  <thead>\n",
       "    <tr style=\"text-align: right;\">\n",
       "      <th></th>\n",
       "      <th>age</th>\n",
       "      <th>sex</th>\n",
       "      <th>bmi</th>\n",
       "      <th>bp</th>\n",
       "      <th>s1</th>\n",
       "      <th>s2</th>\n",
       "      <th>s3</th>\n",
       "      <th>s4</th>\n",
       "      <th>s5</th>\n",
       "      <th>s6</th>\n",
       "    </tr>\n",
       "  </thead>\n",
       "  <tbody>\n",
       "    <tr>\n",
       "      <th>0</th>\n",
       "      <td>0.038076</td>\n",
       "      <td>0.050680</td>\n",
       "      <td>0.061696</td>\n",
       "      <td>0.021872</td>\n",
       "      <td>-0.044223</td>\n",
       "      <td>-0.034821</td>\n",
       "      <td>-0.043401</td>\n",
       "      <td>-0.002592</td>\n",
       "      <td>0.019907</td>\n",
       "      <td>-0.017646</td>\n",
       "    </tr>\n",
       "    <tr>\n",
       "      <th>1</th>\n",
       "      <td>-0.001882</td>\n",
       "      <td>-0.044642</td>\n",
       "      <td>-0.051474</td>\n",
       "      <td>-0.026328</td>\n",
       "      <td>-0.008449</td>\n",
       "      <td>-0.019163</td>\n",
       "      <td>0.074412</td>\n",
       "      <td>-0.039493</td>\n",
       "      <td>-0.068332</td>\n",
       "      <td>-0.092204</td>\n",
       "    </tr>\n",
       "    <tr>\n",
       "      <th>2</th>\n",
       "      <td>0.085299</td>\n",
       "      <td>0.050680</td>\n",
       "      <td>0.044451</td>\n",
       "      <td>-0.005670</td>\n",
       "      <td>-0.045599</td>\n",
       "      <td>-0.034194</td>\n",
       "      <td>-0.032356</td>\n",
       "      <td>-0.002592</td>\n",
       "      <td>0.002861</td>\n",
       "      <td>-0.025930</td>\n",
       "    </tr>\n",
       "    <tr>\n",
       "      <th>3</th>\n",
       "      <td>-0.089063</td>\n",
       "      <td>-0.044642</td>\n",
       "      <td>-0.011595</td>\n",
       "      <td>-0.036656</td>\n",
       "      <td>0.012191</td>\n",
       "      <td>0.024991</td>\n",
       "      <td>-0.036038</td>\n",
       "      <td>0.034309</td>\n",
       "      <td>0.022688</td>\n",
       "      <td>-0.009362</td>\n",
       "    </tr>\n",
       "    <tr>\n",
       "      <th>4</th>\n",
       "      <td>0.005383</td>\n",
       "      <td>-0.044642</td>\n",
       "      <td>-0.036385</td>\n",
       "      <td>0.021872</td>\n",
       "      <td>0.003935</td>\n",
       "      <td>0.015596</td>\n",
       "      <td>0.008142</td>\n",
       "      <td>-0.002592</td>\n",
       "      <td>-0.031988</td>\n",
       "      <td>-0.046641</td>\n",
       "    </tr>\n",
       "  </tbody>\n",
       "</table>\n",
       "</div>"
      ],
      "text/plain": [
       "        age       sex       bmi        bp        s1        s2        s3  \\\n",
       "0  0.038076  0.050680  0.061696  0.021872 -0.044223 -0.034821 -0.043401   \n",
       "1 -0.001882 -0.044642 -0.051474 -0.026328 -0.008449 -0.019163  0.074412   \n",
       "2  0.085299  0.050680  0.044451 -0.005670 -0.045599 -0.034194 -0.032356   \n",
       "3 -0.089063 -0.044642 -0.011595 -0.036656  0.012191  0.024991 -0.036038   \n",
       "4  0.005383 -0.044642 -0.036385  0.021872  0.003935  0.015596  0.008142   \n",
       "\n",
       "         s4        s5        s6  \n",
       "0 -0.002592  0.019907 -0.017646  \n",
       "1 -0.039493 -0.068332 -0.092204  \n",
       "2 -0.002592  0.002861 -0.025930  \n",
       "3  0.034309  0.022688 -0.009362  \n",
       "4 -0.002592 -0.031988 -0.046641  "
      ]
     },
     "execution_count": 13,
     "metadata": {},
     "output_type": "execute_result"
    }
   ],
   "source": [
    "# Create a Dataframe from the dataset\n",
    "X = pd.DataFrame(data.data, columns=data.feature_names)\n",
    "X.head()"
   ]
  },
  {
   "cell_type": "code",
   "execution_count": 14,
   "metadata": {},
   "outputs": [
    {
     "data": {
      "text/html": [
       "<div>\n",
       "<style scoped>\n",
       "    .dataframe tbody tr th:only-of-type {\n",
       "        vertical-align: middle;\n",
       "    }\n",
       "\n",
       "    .dataframe tbody tr th {\n",
       "        vertical-align: top;\n",
       "    }\n",
       "\n",
       "    .dataframe thead th {\n",
       "        text-align: right;\n",
       "    }\n",
       "</style>\n",
       "<table border=\"1\" class=\"dataframe\">\n",
       "  <thead>\n",
       "    <tr style=\"text-align: right;\">\n",
       "      <th></th>\n",
       "      <th>target</th>\n",
       "    </tr>\n",
       "  </thead>\n",
       "  <tbody>\n",
       "    <tr>\n",
       "      <th>0</th>\n",
       "      <td>151.0</td>\n",
       "    </tr>\n",
       "    <tr>\n",
       "      <th>1</th>\n",
       "      <td>75.0</td>\n",
       "    </tr>\n",
       "    <tr>\n",
       "      <th>2</th>\n",
       "      <td>141.0</td>\n",
       "    </tr>\n",
       "    <tr>\n",
       "      <th>3</th>\n",
       "      <td>206.0</td>\n",
       "    </tr>\n",
       "    <tr>\n",
       "      <th>4</th>\n",
       "      <td>135.0</td>\n",
       "    </tr>\n",
       "  </tbody>\n",
       "</table>\n",
       "</div>"
      ],
      "text/plain": [
       "   target\n",
       "0   151.0\n",
       "1    75.0\n",
       "2   141.0\n",
       "3   206.0\n",
       "4   135.0"
      ]
     },
     "execution_count": 14,
     "metadata": {},
     "output_type": "execute_result"
    }
   ],
   "source": [
    "y = pd.DataFrame(data.target, columns=['target'])\n",
    "\n",
    "y.head()"
   ]
  },
  {
   "cell_type": "code",
   "execution_count": 15,
   "metadata": {},
   "outputs": [],
   "source": [
    "X_train, X_test, y_train, y_test = train_test_split(X, y, test_size=0.2, random_state=1)\n"
   ]
  },
  {
   "cell_type": "code",
   "execution_count": 16,
   "metadata": {},
   "outputs": [
    {
     "name": "stdout",
     "output_type": "stream",
     "text": [
      "x_train shape: (353, 10)\n",
      "y_train shape: (353, 1)\n",
      "x_test shape: (89, 10)\n",
      "y_test shape: (89, 1)\n"
     ]
    }
   ],
   "source": [
    "print(f\"x_train shape: {X_train.shape}\")\n",
    "print(f\"y_train shape: {y_train.shape}\")\n",
    "print(f\"x_test shape: {X_test.shape}\")\n",
    "print(f\"y_test shape: {y_test.shape}\")"
   ]
  },
  {
   "cell_type": "markdown",
   "metadata": {},
   "source": [
    "# 4. Building The Model"
   ]
  },
  {
   "cell_type": "code",
   "execution_count": 17,
   "metadata": {},
   "outputs": [
    {
     "data": {
      "text/html": [
       "<style>#sk-container-id-2 {color: black;background-color: white;}#sk-container-id-2 pre{padding: 0;}#sk-container-id-2 div.sk-toggleable {background-color: white;}#sk-container-id-2 label.sk-toggleable__label {cursor: pointer;display: block;width: 100%;margin-bottom: 0;padding: 0.3em;box-sizing: border-box;text-align: center;}#sk-container-id-2 label.sk-toggleable__label-arrow:before {content: \"▸\";float: left;margin-right: 0.25em;color: #696969;}#sk-container-id-2 label.sk-toggleable__label-arrow:hover:before {color: black;}#sk-container-id-2 div.sk-estimator:hover label.sk-toggleable__label-arrow:before {color: black;}#sk-container-id-2 div.sk-toggleable__content {max-height: 0;max-width: 0;overflow: hidden;text-align: left;background-color: #f0f8ff;}#sk-container-id-2 div.sk-toggleable__content pre {margin: 0.2em;color: black;border-radius: 0.25em;background-color: #f0f8ff;}#sk-container-id-2 input.sk-toggleable__control:checked~div.sk-toggleable__content {max-height: 200px;max-width: 100%;overflow: auto;}#sk-container-id-2 input.sk-toggleable__control:checked~label.sk-toggleable__label-arrow:before {content: \"▾\";}#sk-container-id-2 div.sk-estimator input.sk-toggleable__control:checked~label.sk-toggleable__label {background-color: #d4ebff;}#sk-container-id-2 div.sk-label input.sk-toggleable__control:checked~label.sk-toggleable__label {background-color: #d4ebff;}#sk-container-id-2 input.sk-hidden--visually {border: 0;clip: rect(1px 1px 1px 1px);clip: rect(1px, 1px, 1px, 1px);height: 1px;margin: -1px;overflow: hidden;padding: 0;position: absolute;width: 1px;}#sk-container-id-2 div.sk-estimator {font-family: monospace;background-color: #f0f8ff;border: 1px dotted black;border-radius: 0.25em;box-sizing: border-box;margin-bottom: 0.5em;}#sk-container-id-2 div.sk-estimator:hover {background-color: #d4ebff;}#sk-container-id-2 div.sk-parallel-item::after {content: \"\";width: 100%;border-bottom: 1px solid gray;flex-grow: 1;}#sk-container-id-2 div.sk-label:hover label.sk-toggleable__label {background-color: #d4ebff;}#sk-container-id-2 div.sk-serial::before {content: \"\";position: absolute;border-left: 1px solid gray;box-sizing: border-box;top: 0;bottom: 0;left: 50%;z-index: 0;}#sk-container-id-2 div.sk-serial {display: flex;flex-direction: column;align-items: center;background-color: white;padding-right: 0.2em;padding-left: 0.2em;position: relative;}#sk-container-id-2 div.sk-item {position: relative;z-index: 1;}#sk-container-id-2 div.sk-parallel {display: flex;align-items: stretch;justify-content: center;background-color: white;position: relative;}#sk-container-id-2 div.sk-item::before, #sk-container-id-2 div.sk-parallel-item::before {content: \"\";position: absolute;border-left: 1px solid gray;box-sizing: border-box;top: 0;bottom: 0;left: 50%;z-index: -1;}#sk-container-id-2 div.sk-parallel-item {display: flex;flex-direction: column;z-index: 1;position: relative;background-color: white;}#sk-container-id-2 div.sk-parallel-item:first-child::after {align-self: flex-end;width: 50%;}#sk-container-id-2 div.sk-parallel-item:last-child::after {align-self: flex-start;width: 50%;}#sk-container-id-2 div.sk-parallel-item:only-child::after {width: 0;}#sk-container-id-2 div.sk-dashed-wrapped {border: 1px dashed gray;margin: 0 0.4em 0.5em 0.4em;box-sizing: border-box;padding-bottom: 0.4em;background-color: white;}#sk-container-id-2 div.sk-label label {font-family: monospace;font-weight: bold;display: inline-block;line-height: 1.2em;}#sk-container-id-2 div.sk-label-container {text-align: center;}#sk-container-id-2 div.sk-container {/* jupyter's `normalize.less` sets `[hidden] { display: none; }` but bootstrap.min.css set `[hidden] { display: none !important; }` so we also need the `!important` here to be able to override the default hidden behavior on the sphinx rendered scikit-learn.org. See: https://github.com/scikit-learn/scikit-learn/issues/21755 */display: inline-block !important;position: relative;}#sk-container-id-2 div.sk-text-repr-fallback {display: none;}</style><div id=\"sk-container-id-2\" class=\"sk-top-container\"><div class=\"sk-text-repr-fallback\"><pre>RandomForestRegressor(max_depth=5, n_estimators=50)</pre><b>In a Jupyter environment, please rerun this cell to show the HTML representation or trust the notebook. <br />On GitHub, the HTML representation is unable to render, please try loading this page with nbviewer.org.</b></div><div class=\"sk-container\" hidden><div class=\"sk-item\"><div class=\"sk-estimator sk-toggleable\"><input class=\"sk-toggleable__control sk-hidden--visually\" id=\"sk-estimator-id-2\" type=\"checkbox\" checked><label for=\"sk-estimator-id-2\" class=\"sk-toggleable__label sk-toggleable__label-arrow\">RandomForestRegressor</label><div class=\"sk-toggleable__content\"><pre>RandomForestRegressor(max_depth=5, n_estimators=50)</pre></div></div></div></div></div>"
      ],
      "text/plain": [
       "RandomForestRegressor(max_depth=5, n_estimators=50)"
      ]
     },
     "execution_count": 17,
     "metadata": {},
     "output_type": "execute_result"
    }
   ],
   "source": [
    "# Random Forest Regressor\n",
    "model = RandomForestRegressor(n_estimators=50, max_depth=5)\n",
    "\n",
    "# Fit the data  into Model\n",
    "model.fit(X_train, y_train.values.ravel())"
   ]
  },
  {
   "cell_type": "markdown",
   "metadata": {},
   "source": [
    "# 5. Making the Dashboard"
   ]
  },
  {
   "cell_type": "code",
   "execution_count": 18,
   "metadata": {},
   "outputs": [
    {
     "name": "stdout",
     "output_type": "stream",
     "text": [
      "Changing class type to RandomForestRegressionExplainer...\n",
      "Generating self.shap_explainer = shap.TreeExplainer(model)\n",
      "Building ExplainerDashboard..\n",
      "Detected notebook environment, consider setting mode='external', mode='inline' or mode='jupyterlab' to keep the notebook interactive while the dashboard is running...\n",
      "Warning: calculating shap interaction values can be slow! Pass shap_interaction=False to remove interactions tab.\n",
      "Generating layout...\n",
      "Calculating shap values...\n",
      "Calculating predictions...\n",
      "Calculating residuals...\n",
      "Calculating absolute residuals...\n",
      "Calculating shap interaction values...\n",
      "Reminder: TreeShap computational complexity is O(TLD^2), where T is the number of trees, L is the maximum number of leaves in any tree and D the maximal depth of any tree. So reducing these will speed up the calculation.\n",
      "Calculating dependencies...\n",
      "Calculating importances...\n",
      "Calculating ShadowDecTree for each individual decision tree...\n",
      "Reminder: you can store the explainer (including calculated dependencies) with explainer.dump('explainer.joblib') and reload with e.g. ClassifierExplainer.from_file('explainer.joblib')\n",
      "Registering callbacks...\n",
      "Starting ExplainerDashboard on http://192.168.43.162:3050\n",
      "Dash is running on http://0.0.0.0:3050/\n",
      "\n",
      "Dash is running on http://0.0.0.0:3050/\n",
      "\n",
      " * Serving Flask app 'explainerdashboard.dashboards'\n",
      " * Debug mode: off\n"
     ]
    },
    {
     "name": "stderr",
     "output_type": "stream",
     "text": [
      "WARNING: This is a development server. Do not use it in a production deployment. Use a production WSGI server instead.\n",
      " * Running on all addresses (0.0.0.0)\n",
      " * Running on http://127.0.0.1:3050\n",
      " * Running on http://192.168.43.162:3050\n",
      "Press CTRL+C to quit\n"
     ]
    }
   ],
   "source": [
    "explainer = RegressionExplainer(model, X_test, y_test)\n",
    "\n",
    "db = ExplainerDashboard(explainer, title='Diabetes Prediction', whatif=False)\n",
    "\n",
    "db.run(port=3050)"
   ]
  },
  {
   "cell_type": "markdown",
   "metadata": {},
   "source": []
  }
 ],
 "metadata": {
  "kernelspec": {
   "display_name": "venv",
   "language": "python",
   "name": "python3"
  },
  "language_info": {
   "codemirror_mode": {
    "name": "ipython",
    "version": 3
   },
   "file_extension": ".py",
   "mimetype": "text/x-python",
   "name": "python",
   "nbconvert_exporter": "python",
   "pygments_lexer": "ipython3",
   "version": "3.10.5 (tags/v3.10.5:f377153, Jun  6 2022, 16:14:13) [MSC v.1929 64 bit (AMD64)]"
  },
  "orig_nbformat": 4,
  "vscode": {
   "interpreter": {
    "hash": "91c019e52b025e8bcb0d6cbdacf5c62f2f0d0f9631bacc8c58010601b9abecbf"
   }
  }
 },
 "nbformat": 4,
 "nbformat_minor": 2
}
