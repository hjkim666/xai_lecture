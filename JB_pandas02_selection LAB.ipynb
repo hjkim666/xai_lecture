{
 "cells": [
  {
   "attachments": {},
   "cell_type": "markdown",
   "metadata": {},
   "source": [
    "## Pandas 02\n"
   ]
  },
  {
   "attachments": {},
   "cell_type": "markdown",
   "metadata": {
    "id": "YBOq-k8oPxK9"
   },
   "source": [
    "## Pandas Selsection - Indexing & Slicing"
   ]
  },
  {
   "attachments": {},
   "cell_type": "markdown",
   "metadata": {
    "id": "qcMTTEmHRenj"
   },
   "source": [
    "### Series "
   ]
  },
  {
   "attachments": {},
   "cell_type": "markdown",
   "metadata": {
    "id": "xQZQDnoUQK38"
   },
   "source": [
    "#### Series Indexing & Slicing (숫자 인덱스) \n",
    "- Numpy Array와 동일하게 대괄호([ ])를 사용하여 특정 요소에 접근 \n",
    "- 위치가 index가 아니라 '**행 인덱스를 사용**'한다는 점에 유의\n",
    "- -1로 가장 마지막 요소에 접근 불가 (-1 인덱스는 없기 때문)"
   ]
  },
  {
   "cell_type": "code",
   "execution_count": null,
   "metadata": {
    "colab": {
     "base_uri": "https://localhost:8080/"
    },
    "executionInfo": {
     "elapsed": 626,
     "status": "ok",
     "timestamp": 1612246896646,
     "user": {
      "displayName": "hj Kim",
      "photoUrl": "",
      "userId": "02263672027550517756"
     },
     "user_tz": -540
    },
    "id": "nI-dQHycOFX_",
    "outputId": "a1a4660e-60fe-42b9-b9d1-b9cf8548a7f1"
   },
   "outputs": [
    {
     "data": {
      "text/plain": [
       "0    1\n",
       "1    2\n",
       "2    3\n",
       "3    4\n",
       "4    5\n",
       "dtype: int64"
      ]
     },
     "execution_count": 31,
     "metadata": {
      "tags": []
     },
     "output_type": "execute_result"
    }
   ],
   "source": [
    "# 숫자 인덱스를 갖는 Series 생성\n",
    "import pandas as pd \n",
    "s = pd.Series([1, 2, 3, 4, 5])\n",
    "s"
   ]
  },
  {
   "cell_type": "code",
   "execution_count": null,
   "metadata": {
    "colab": {
     "base_uri": "https://localhost:8080/"
    },
    "executionInfo": {
     "elapsed": 736,
     "status": "ok",
     "timestamp": 1612246933485,
     "user": {
      "displayName": "hj Kim",
      "photoUrl": "",
      "userId": "02263672027550517756"
     },
     "user_tz": -540
    },
    "id": "ALujvy06SEhU",
    "outputId": "225534a2-19ad-413c-f5d3-2cb9204e3e1b"
   },
   "outputs": [
    {
     "data": {
      "text/plain": [
       "1"
      ]
     },
     "execution_count": 32,
     "metadata": {
      "tags": []
     },
     "output_type": "execute_result"
    }
   ],
   "source": [
    "# indexing을 사용하여 0 인덱스에 대한 value 가져오기\n"
   ]
  },
  {
   "cell_type": "code",
   "execution_count": null,
   "metadata": {
    "colab": {
     "base_uri": "https://localhost:8080/"
    },
    "executionInfo": {
     "elapsed": 617,
     "status": "ok",
     "timestamp": 1612246979472,
     "user": {
      "displayName": "hj Kim",
      "photoUrl": "",
      "userId": "02263672027550517756"
     },
     "user_tz": -540
    },
    "id": "0_xkSl_ROFX_",
    "outputId": "e2fd462d-b537-49ff-e51d-f4ec8c74ea62"
   },
   "outputs": [
    {
     "data": {
      "text/plain": [
       "1    2\n",
       "2    3\n",
       "dtype: int64"
      ]
     },
     "execution_count": 33,
     "metadata": {
      "tags": []
     },
     "output_type": "execute_result"
    }
   ],
   "source": [
    "# slicing을 사용하여 1~2 인덱스에 대한 value 가져오기\n"
   ]
  },
  {
   "cell_type": "code",
   "execution_count": null,
   "metadata": {
    "id": "BSHQHueJQo1t"
   },
   "outputs": [],
   "source": [
    "# -1 인덱스를 사용하면 Error를 볼 수 있음\n",
    "s[-1]"
   ]
  },
  {
   "attachments": {},
   "cell_type": "markdown",
   "metadata": {
    "id": "L1c28dlSRueP"
   },
   "source": [
    "####  Series Indexing & Slicing (문자 인덱스)\n",
    "- Series의 경우 문자열 인덱스를 가질 수 있기 때문에 이름(문자열)을 통해서도 개별\n",
    "데이터에 접근 가능\n",
    "- 모든 행에 대해 인덱스가 문자로 지정된 경우에는 위치(숫자)를 동시에 사용 가능\n",
    "- 문자 인덱스를 이용하여 슬라이싱하는 경우 마지막 값을 포함함"
   ]
  },
  {
   "cell_type": "code",
   "execution_count": null,
   "metadata": {
    "colab": {
     "base_uri": "https://localhost:8080/"
    },
    "executionInfo": {
     "elapsed": 627,
     "status": "ok",
     "timestamp": 1612247090262,
     "user": {
      "displayName": "hj Kim",
      "photoUrl": "",
      "userId": "02263672027550517756"
     },
     "user_tz": -540
    },
    "id": "zSTkuZSoOFYA",
    "outputId": "199574fb-b4b7-46b0-c8fa-ebdba39c5bb3"
   },
   "outputs": [
    {
     "data": {
      "text/plain": [
       "A    1\n",
       "B    2\n",
       "C    3\n",
       "D    4\n",
       "E    5\n",
       "dtype: int64"
      ]
     },
     "execution_count": 35,
     "metadata": {
      "tags": []
     },
     "output_type": "execute_result"
    }
   ],
   "source": [
    "# 문자열 인덱스를 갖는 Series 생성\n",
    "s = pd.Series([1, 2, 3, 4, 5],\n",
    "              index=['A','B','C','D','E'])\n",
    "s"
   ]
  },
  {
   "cell_type": "code",
   "execution_count": null,
   "metadata": {
    "colab": {
     "base_uri": "https://localhost:8080/"
    },
    "executionInfo": {
     "elapsed": 632,
     "status": "ok",
     "timestamp": 1612247125971,
     "user": {
      "displayName": "hj Kim",
      "photoUrl": "",
      "userId": "02263672027550517756"
     },
     "user_tz": -540
    },
    "id": "1hvgxvo6WPwI",
    "outputId": "119640b0-9e6f-4a3e-90b4-5f4e8e795bdd"
   },
   "outputs": [
    {
     "data": {
      "text/plain": [
       "1"
      ]
     },
     "execution_count": 36,
     "metadata": {
      "tags": []
     },
     "output_type": "execute_result"
    }
   ],
   "source": [
    "# Series s에서 인덱스가 'A'인 것에 대한 indexing => 정수 반환\n",
    "# code here"
   ]
  },
  {
   "cell_type": "code",
   "execution_count": null,
   "metadata": {
    "colab": {
     "base_uri": "https://localhost:8080/"
    },
    "executionInfo": {
     "elapsed": 596,
     "status": "ok",
     "timestamp": 1612247183189,
     "user": {
      "displayName": "hj Kim",
      "photoUrl": "",
      "userId": "02263672027550517756"
     },
     "user_tz": -540
    },
    "id": "MUDbh54SOFYA",
    "outputId": "17e10ed9-e60c-4631-ea9a-ead82366efdb"
   },
   "outputs": [
    {
     "data": {
      "text/plain": [
       "B    2\n",
       "C    3\n",
       "D    4\n",
       "dtype: int64"
      ]
     },
     "execution_count": 37,
     "metadata": {
      "tags": []
     },
     "output_type": "execute_result"
    }
   ],
   "source": [
    "# Series s에서 인덱스가 'B', 'C', 'D' 인 것에 대한 Slicing => Series 반환\n",
    "# 문자열 인덱스를 사용하여 slicing 하여볼 것\n",
    "# code here\n"
   ]
  },
  {
   "cell_type": "code",
   "execution_count": null,
   "metadata": {
    "colab": {
     "base_uri": "https://localhost:8080/"
    },
    "executionInfo": {
     "elapsed": 622,
     "status": "ok",
     "timestamp": 1612247238785,
     "user": {
      "displayName": "hj Kim",
      "photoUrl": "",
      "userId": "02263672027550517756"
     },
     "user_tz": -540
    },
    "id": "fai21gRYWyo4",
    "outputId": "2d335b7e-e948-489c-c2ca-9d8cac7fa708"
   },
   "outputs": [
    {
     "data": {
      "text/plain": [
       "B    2\n",
       "C    3\n",
       "D    4\n",
       "dtype: int64"
      ]
     },
     "execution_count": 38,
     "metadata": {
      "tags": []
     },
     "output_type": "execute_result"
    }
   ],
   "source": [
    "# 정수 index를 사용하여 'B', 'C', 'D' 인 것에 대한 Slicing\n",
    "# code here\n"
   ]
  },
  {
   "cell_type": "code",
   "execution_count": null,
   "metadata": {
    "colab": {
     "base_uri": "https://localhost:8080/"
    },
    "executionInfo": {
     "elapsed": 625,
     "status": "ok",
     "timestamp": 1612247274081,
     "user": {
      "displayName": "hj Kim",
      "photoUrl": "",
      "userId": "02263672027550517756"
     },
     "user_tz": -540
    },
    "id": "d1TtoU4oOFYA",
    "outputId": "ee79cba5-15b7-488b-a763-70f8f76ef8da"
   },
   "outputs": [
    {
     "data": {
      "text/plain": [
       "5"
      ]
     },
     "execution_count": 39,
     "metadata": {
      "tags": []
     },
     "output_type": "execute_result"
    }
   ],
   "source": [
    "# 정수 index를 사용할 수 있으므로 -1 인덱스 가능!\n",
    "s[-1]"
   ]
  },
  {
   "attachments": {},
   "cell_type": "markdown",
   "metadata": {
    "id": "WBb0uJ38SABl"
   },
   "source": [
    "### DataFrame\n",
    "- DataFrame에서 Indexing과 Slicing은 다르게 동작함\n",
    "- Indexing : 열 단위 선택\n",
    "- Slicing : 행 단위 선택"
   ]
  },
  {
   "attachments": {},
   "cell_type": "markdown",
   "metadata": {
    "id": "DoOxpJOFdpBN"
   },
   "source": [
    "####  Indexing, Slicing"
   ]
  },
  {
   "cell_type": "code",
   "execution_count": null,
   "metadata": {
    "colab": {
     "base_uri": "https://localhost:8080/",
     "height": 142
    },
    "executionInfo": {
     "elapsed": 642,
     "status": "ok",
     "timestamp": 1612247366937,
     "user": {
      "displayName": "hj Kim",
      "photoUrl": "",
      "userId": "02263672027550517756"
     },
     "user_tz": -540
    },
    "id": "6JomkMecOFYB",
    "outputId": "683de17b-ca9d-4fea-c55c-0b6dde6117d2"
   },
   "outputs": [
    {
     "data": {
      "text/html": [
       "<div>\n",
       "<style scoped>\n",
       "    .dataframe tbody tr th:only-of-type {\n",
       "        vertical-align: middle;\n",
       "    }\n",
       "\n",
       "    .dataframe tbody tr th {\n",
       "        vertical-align: top;\n",
       "    }\n",
       "\n",
       "    .dataframe thead th {\n",
       "        text-align: right;\n",
       "    }\n",
       "</style>\n",
       "<table border=\"1\" class=\"dataframe\">\n",
       "  <thead>\n",
       "    <tr style=\"text-align: right;\">\n",
       "      <th></th>\n",
       "      <th>X1</th>\n",
       "      <th>X2</th>\n",
       "      <th>X3</th>\n",
       "    </tr>\n",
       "  </thead>\n",
       "  <tbody>\n",
       "    <tr>\n",
       "      <th>A</th>\n",
       "      <td>1</td>\n",
       "      <td>2</td>\n",
       "      <td>3</td>\n",
       "    </tr>\n",
       "    <tr>\n",
       "      <th>B</th>\n",
       "      <td>4</td>\n",
       "      <td>5</td>\n",
       "      <td>6</td>\n",
       "    </tr>\n",
       "    <tr>\n",
       "      <th>C</th>\n",
       "      <td>7</td>\n",
       "      <td>8</td>\n",
       "      <td>9</td>\n",
       "    </tr>\n",
       "  </tbody>\n",
       "</table>\n",
       "</div>"
      ],
      "text/plain": [
       "   X1  X2  X3\n",
       "A   1   2   3\n",
       "B   4   5   6\n",
       "C   7   8   9"
      ]
     },
     "execution_count": 40,
     "metadata": {
      "tags": []
     },
     "output_type": "execute_result"
    }
   ],
   "source": [
    "df = pd.DataFrame([[1, 2, 3], \n",
    "                   [4, 5, 6], \n",
    "                   [7, 8, 9]],\n",
    "                  index=['A', 'B', 'C'], columns=['X1', 'X2', 'X3'])\n",
    "df"
   ]
  },
  {
   "cell_type": "code",
   "execution_count": null,
   "metadata": {
    "colab": {
     "base_uri": "https://localhost:8080/"
    },
    "executionInfo": {
     "elapsed": 761,
     "status": "ok",
     "timestamp": 1612247477635,
     "user": {
      "displayName": "hj Kim",
      "photoUrl": "",
      "userId": "02263672027550517756"
     },
     "user_tz": -540
    },
    "id": "Z7ye2oyvXMhN",
    "outputId": "30d3e920-df36-47e6-9e4b-20dfdeded063"
   },
   "outputs": [
    {
     "data": {
      "text/plain": [
       "A    1\n",
       "B    4\n",
       "C    7\n",
       "Name: X1, dtype: int64"
      ]
     },
     "execution_count": 42,
     "metadata": {
      "tags": []
     },
     "output_type": "execute_result"
    }
   ],
   "source": [
    "# DataFrame df에서 column의 이름이 'X1'인 것에 대해 indexing\n",
    "\n",
    "# code here"
   ]
  },
  {
   "cell_type": "code",
   "execution_count": null,
   "metadata": {
    "colab": {
     "base_uri": "https://localhost:8080/",
     "height": 111
    },
    "executionInfo": {
     "elapsed": 659,
     "status": "ok",
     "timestamp": 1612247546293,
     "user": {
      "displayName": "hj Kim",
      "photoUrl": "",
      "userId": "02263672027550517756"
     },
     "user_tz": -540
    },
    "id": "JsLE1msmOFYB",
    "outputId": "f5e6cae9-7b4e-47f6-e571-c590016ab7e4"
   },
   "outputs": [
    {
     "data": {
      "text/html": [
       "<div>\n",
       "<style scoped>\n",
       "    .dataframe tbody tr th:only-of-type {\n",
       "        vertical-align: middle;\n",
       "    }\n",
       "\n",
       "    .dataframe tbody tr th {\n",
       "        vertical-align: top;\n",
       "    }\n",
       "\n",
       "    .dataframe thead th {\n",
       "        text-align: right;\n",
       "    }\n",
       "</style>\n",
       "<table border=\"1\" class=\"dataframe\">\n",
       "  <thead>\n",
       "    <tr style=\"text-align: right;\">\n",
       "      <th></th>\n",
       "      <th>X1</th>\n",
       "      <th>X2</th>\n",
       "      <th>X3</th>\n",
       "    </tr>\n",
       "  </thead>\n",
       "  <tbody>\n",
       "    <tr>\n",
       "      <th>B</th>\n",
       "      <td>4</td>\n",
       "      <td>5</td>\n",
       "      <td>6</td>\n",
       "    </tr>\n",
       "    <tr>\n",
       "      <th>C</th>\n",
       "      <td>7</td>\n",
       "      <td>8</td>\n",
       "      <td>9</td>\n",
       "    </tr>\n",
       "  </tbody>\n",
       "</table>\n",
       "</div>"
      ],
      "text/plain": [
       "   X1  X2  X3\n",
       "B   4   5   6\n",
       "C   7   8   9"
      ]
     },
     "execution_count": 43,
     "metadata": {
      "tags": []
     },
     "output_type": "execute_result"
    }
   ],
   "source": [
    "# DataFrame df에서 index의 이름이 'B'인 것부터 마지막까지 slicing\n",
    "\n",
    "# code here"
   ]
  },
  {
   "attachments": {},
   "cell_type": "markdown",
   "metadata": {
    "id": "b3IAfT5SScO3"
   },
   "source": [
    "####  조건, 팬시 인덱싱  "
   ]
  },
  {
   "attachments": {},
   "cell_type": "markdown",
   "metadata": {
    "id": "PBi_kU4Sk6Rp"
   },
   "source": [
    "- Boolean DataFrame인 경우 True 값을 가지는 위치의 행 인덱스와 열 인덱스를 기\n",
    "반으로 선택\n",
    "- False 값을 가지는 위치는 NaN으로 설정"
   ]
  },
  {
   "cell_type": "code",
   "execution_count": null,
   "metadata": {
    "colab": {
     "base_uri": "https://localhost:8080/",
     "height": 142
    },
    "executionInfo": {
     "elapsed": 669,
     "status": "ok",
     "timestamp": 1612247750370,
     "user": {
      "displayName": "hj Kim",
      "photoUrl": "",
      "userId": "02263672027550517756"
     },
     "user_tz": -540
    },
    "id": "NNR2pNMTdErF",
    "outputId": "1977eb0d-9c58-4dd3-e9a7-dd6967e99c9a"
   },
   "outputs": [
    {
     "data": {
      "text/html": [
       "<div>\n",
       "<style scoped>\n",
       "    .dataframe tbody tr th:only-of-type {\n",
       "        vertical-align: middle;\n",
       "    }\n",
       "\n",
       "    .dataframe tbody tr th {\n",
       "        vertical-align: top;\n",
       "    }\n",
       "\n",
       "    .dataframe thead th {\n",
       "        text-align: right;\n",
       "    }\n",
       "</style>\n",
       "<table border=\"1\" class=\"dataframe\">\n",
       "  <thead>\n",
       "    <tr style=\"text-align: right;\">\n",
       "      <th></th>\n",
       "      <th>X1</th>\n",
       "      <th>X2</th>\n",
       "      <th>X3</th>\n",
       "    </tr>\n",
       "  </thead>\n",
       "  <tbody>\n",
       "    <tr>\n",
       "      <th>A</th>\n",
       "      <td>1</td>\n",
       "      <td>2</td>\n",
       "      <td>3</td>\n",
       "    </tr>\n",
       "    <tr>\n",
       "      <th>B</th>\n",
       "      <td>4</td>\n",
       "      <td>5</td>\n",
       "      <td>6</td>\n",
       "    </tr>\n",
       "    <tr>\n",
       "      <th>C</th>\n",
       "      <td>7</td>\n",
       "      <td>8</td>\n",
       "      <td>9</td>\n",
       "    </tr>\n",
       "  </tbody>\n",
       "</table>\n",
       "</div>"
      ],
      "text/plain": [
       "   X1  X2  X3\n",
       "A   1   2   3\n",
       "B   4   5   6\n",
       "C   7   8   9"
      ]
     },
     "execution_count": 47,
     "metadata": {
      "tags": []
     },
     "output_type": "execute_result"
    }
   ],
   "source": [
    "df"
   ]
  },
  {
   "cell_type": "code",
   "execution_count": null,
   "metadata": {
    "colab": {
     "base_uri": "https://localhost:8080/",
     "height": 142
    },
    "executionInfo": {
     "elapsed": 660,
     "status": "ok",
     "timestamp": 1612247780776,
     "user": {
      "displayName": "hj Kim",
      "photoUrl": "",
      "userId": "02263672027550517756"
     },
     "user_tz": -540
    },
    "id": "twmWJ6uJdLPO",
    "outputId": "39e2a09b-14cd-4267-ef16-d3754a66d070"
   },
   "outputs": [
    {
     "data": {
      "text/html": [
       "<div>\n",
       "<style scoped>\n",
       "    .dataframe tbody tr th:only-of-type {\n",
       "        vertical-align: middle;\n",
       "    }\n",
       "\n",
       "    .dataframe tbody tr th {\n",
       "        vertical-align: top;\n",
       "    }\n",
       "\n",
       "    .dataframe thead th {\n",
       "        text-align: right;\n",
       "    }\n",
       "</style>\n",
       "<table border=\"1\" class=\"dataframe\">\n",
       "  <thead>\n",
       "    <tr style=\"text-align: right;\">\n",
       "      <th></th>\n",
       "      <th>X1</th>\n",
       "      <th>X2</th>\n",
       "      <th>X3</th>\n",
       "    </tr>\n",
       "  </thead>\n",
       "  <tbody>\n",
       "    <tr>\n",
       "      <th>A</th>\n",
       "      <td>False</td>\n",
       "      <td>True</td>\n",
       "      <td>False</td>\n",
       "    </tr>\n",
       "    <tr>\n",
       "      <th>B</th>\n",
       "      <td>True</td>\n",
       "      <td>False</td>\n",
       "      <td>True</td>\n",
       "    </tr>\n",
       "    <tr>\n",
       "      <th>C</th>\n",
       "      <td>False</td>\n",
       "      <td>True</td>\n",
       "      <td>False</td>\n",
       "    </tr>\n",
       "  </tbody>\n",
       "</table>\n",
       "</div>"
      ],
      "text/plain": [
       "      X1     X2     X3\n",
       "A  False   True  False\n",
       "B   True  False   True\n",
       "C  False   True  False"
      ]
     },
     "execution_count": 48,
     "metadata": {
      "tags": []
     },
     "output_type": "execute_result"
    }
   ],
   "source": [
    "df % 2 == 0"
   ]
  },
  {
   "cell_type": "code",
   "execution_count": null,
   "metadata": {
    "colab": {
     "base_uri": "https://localhost:8080/",
     "height": 142
    },
    "executionInfo": {
     "elapsed": 1004,
     "status": "ok",
     "timestamp": 1612247807762,
     "user": {
      "displayName": "hj Kim",
      "photoUrl": "",
      "userId": "02263672027550517756"
     },
     "user_tz": -540
    },
    "id": "yJWuCrgKOFYB",
    "outputId": "ec3c4096-1b3b-4117-aefb-da41b517040f"
   },
   "outputs": [
    {
     "data": {
      "text/html": [
       "<div>\n",
       "<style scoped>\n",
       "    .dataframe tbody tr th:only-of-type {\n",
       "        vertical-align: middle;\n",
       "    }\n",
       "\n",
       "    .dataframe tbody tr th {\n",
       "        vertical-align: top;\n",
       "    }\n",
       "\n",
       "    .dataframe thead th {\n",
       "        text-align: right;\n",
       "    }\n",
       "</style>\n",
       "<table border=\"1\" class=\"dataframe\">\n",
       "  <thead>\n",
       "    <tr style=\"text-align: right;\">\n",
       "      <th></th>\n",
       "      <th>X1</th>\n",
       "      <th>X2</th>\n",
       "      <th>X3</th>\n",
       "    </tr>\n",
       "  </thead>\n",
       "  <tbody>\n",
       "    <tr>\n",
       "      <th>A</th>\n",
       "      <td>NaN</td>\n",
       "      <td>2.0</td>\n",
       "      <td>NaN</td>\n",
       "    </tr>\n",
       "    <tr>\n",
       "      <th>B</th>\n",
       "      <td>4.0</td>\n",
       "      <td>NaN</td>\n",
       "      <td>6.0</td>\n",
       "    </tr>\n",
       "    <tr>\n",
       "      <th>C</th>\n",
       "      <td>NaN</td>\n",
       "      <td>8.0</td>\n",
       "      <td>NaN</td>\n",
       "    </tr>\n",
       "  </tbody>\n",
       "</table>\n",
       "</div>"
      ],
      "text/plain": [
       "    X1   X2   X3\n",
       "A  NaN  2.0  NaN\n",
       "B  4.0  NaN  6.0\n",
       "C  NaN  8.0  NaN"
      ]
     },
     "execution_count": 49,
     "metadata": {
      "tags": []
     },
     "output_type": "execute_result"
    }
   ],
   "source": [
    "# Boolean DataFrame\n",
    "# df의 값이 짝수인 것은 그대로, 홀수인 것은  Nan\n",
    "df[df % 2 == 0]"
   ]
  },
  {
   "attachments": {},
   "cell_type": "markdown",
   "metadata": {
    "id": "4wibrgKwSj_S"
   },
   "source": [
    "- Boolean List 또는 Boolean Array라면 True 값을 가지는 위치를 기반으로 선택\n",
    "- Boolean Series인 경우 True 값을 가지는 인덱스를 기반으로 선택"
   ]
  },
  {
   "cell_type": "code",
   "execution_count": null,
   "metadata": {
    "colab": {
     "base_uri": "https://localhost:8080/",
     "height": 80
    },
    "executionInfo": {
     "elapsed": 640,
     "status": "ok",
     "timestamp": 1612247901323,
     "user": {
      "displayName": "hj Kim",
      "photoUrl": "",
      "userId": "02263672027550517756"
     },
     "user_tz": -540
    },
    "id": "dwFPm7_yOFYC",
    "outputId": "159d4db8-227e-49ab-95dc-41223aa22477"
   },
   "outputs": [
    {
     "data": {
      "text/html": [
       "<div>\n",
       "<style scoped>\n",
       "    .dataframe tbody tr th:only-of-type {\n",
       "        vertical-align: middle;\n",
       "    }\n",
       "\n",
       "    .dataframe tbody tr th {\n",
       "        vertical-align: top;\n",
       "    }\n",
       "\n",
       "    .dataframe thead th {\n",
       "        text-align: right;\n",
       "    }\n",
       "</style>\n",
       "<table border=\"1\" class=\"dataframe\">\n",
       "  <thead>\n",
       "    <tr style=\"text-align: right;\">\n",
       "      <th></th>\n",
       "      <th>X1</th>\n",
       "      <th>X2</th>\n",
       "      <th>X3</th>\n",
       "    </tr>\n",
       "  </thead>\n",
       "  <tbody>\n",
       "    <tr>\n",
       "      <th>A</th>\n",
       "      <td>1</td>\n",
       "      <td>2</td>\n",
       "      <td>3</td>\n",
       "    </tr>\n",
       "  </tbody>\n",
       "</table>\n",
       "</div>"
      ],
      "text/plain": [
       "   X1  X2  X3\n",
       "A   1   2   3"
      ]
     },
     "execution_count": 50,
     "metadata": {
      "tags": []
     },
     "output_type": "execute_result"
    }
   ],
   "source": [
    "# Boolean List를 사용한 인덱싱 - True 값을 가지는 위치를 기반으로 선택\n",
    "blist = [True, False, False]\n",
    "df[blist]"
   ]
  },
  {
   "cell_type": "code",
   "execution_count": null,
   "metadata": {
    "colab": {
     "base_uri": "https://localhost:8080/",
     "height": 142
    },
    "executionInfo": {
     "elapsed": 651,
     "status": "ok",
     "timestamp": 1612248063625,
     "user": {
      "displayName": "hj Kim",
      "photoUrl": "",
      "userId": "02263672027550517756"
     },
     "user_tz": -540
    },
    "id": "YlkC-UkueGy8",
    "outputId": "f812f5fb-d719-4215-eb88-aefe2eb08de5"
   },
   "outputs": [
    {
     "data": {
      "text/html": [
       "<div>\n",
       "<style scoped>\n",
       "    .dataframe tbody tr th:only-of-type {\n",
       "        vertical-align: middle;\n",
       "    }\n",
       "\n",
       "    .dataframe tbody tr th {\n",
       "        vertical-align: top;\n",
       "    }\n",
       "\n",
       "    .dataframe thead th {\n",
       "        text-align: right;\n",
       "    }\n",
       "</style>\n",
       "<table border=\"1\" class=\"dataframe\">\n",
       "  <thead>\n",
       "    <tr style=\"text-align: right;\">\n",
       "      <th></th>\n",
       "      <th>X1</th>\n",
       "    </tr>\n",
       "  </thead>\n",
       "  <tbody>\n",
       "    <tr>\n",
       "      <th>A</th>\n",
       "      <td>1</td>\n",
       "    </tr>\n",
       "    <tr>\n",
       "      <th>B</th>\n",
       "      <td>4</td>\n",
       "    </tr>\n",
       "    <tr>\n",
       "      <th>C</th>\n",
       "      <td>7</td>\n",
       "    </tr>\n",
       "  </tbody>\n",
       "</table>\n",
       "</div>"
      ],
      "text/plain": [
       "   X1\n",
       "A   1\n",
       "B   4\n",
       "C   7"
      ]
     },
     "execution_count": 54,
     "metadata": {
      "tags": []
     },
     "output_type": "execute_result"
    }
   ],
   "source": [
    "df[ df.columns[blist]]"
   ]
  },
  {
   "cell_type": "code",
   "execution_count": null,
   "metadata": {
    "colab": {
     "base_uri": "https://localhost:8080/",
     "height": 80
    },
    "executionInfo": {
     "elapsed": 695,
     "status": "ok",
     "timestamp": 1612248255370,
     "user": {
      "displayName": "hj Kim",
      "photoUrl": "",
      "userId": "02263672027550517756"
     },
     "user_tz": -540
    },
    "id": "vtrnFAcmflKf",
    "outputId": "046e30b8-b8da-4af8-8125-d253b47b404f"
   },
   "outputs": [
    {
     "data": {
      "text/html": [
       "<div>\n",
       "<style scoped>\n",
       "    .dataframe tbody tr th:only-of-type {\n",
       "        vertical-align: middle;\n",
       "    }\n",
       "\n",
       "    .dataframe tbody tr th {\n",
       "        vertical-align: top;\n",
       "    }\n",
       "\n",
       "    .dataframe thead th {\n",
       "        text-align: right;\n",
       "    }\n",
       "</style>\n",
       "<table border=\"1\" class=\"dataframe\">\n",
       "  <thead>\n",
       "    <tr style=\"text-align: right;\">\n",
       "      <th></th>\n",
       "      <th>X1</th>\n",
       "      <th>X2</th>\n",
       "      <th>X3</th>\n",
       "    </tr>\n",
       "  </thead>\n",
       "  <tbody>\n",
       "    <tr>\n",
       "      <th>B</th>\n",
       "      <td>4</td>\n",
       "      <td>5</td>\n",
       "      <td>6</td>\n",
       "    </tr>\n",
       "  </tbody>\n",
       "</table>\n",
       "</div>"
      ],
      "text/plain": [
       "   X1  X2  X3\n",
       "B   4   5   6"
      ]
     },
     "execution_count": 58,
     "metadata": {
      "tags": []
     },
     "output_type": "execute_result"
    }
   ],
   "source": [
    "# Boolean Series를 사용한 인덱싱 - True 값을 가지는 인덱스를 기반으로 선택\n",
    "# df['X1']의 값이 짝수 index에 인 것에 대해 가져오기\n",
    "\n"
   ]
  },
  {
   "cell_type": "code",
   "execution_count": null,
   "metadata": {
    "colab": {
     "base_uri": "https://localhost:8080/"
    },
    "executionInfo": {
     "elapsed": 730,
     "status": "ok",
     "timestamp": 1612248161117,
     "user": {
      "displayName": "hj Kim",
      "photoUrl": "",
      "userId": "02263672027550517756"
     },
     "user_tz": -540
    },
    "id": "tO2yBZMblx_2",
    "outputId": "1ba57cbd-aacb-4c7b-c2f1-fe95a9de09fb"
   },
   "outputs": [
    {
     "data": {
      "text/plain": [
       "A    False\n",
       "B     True\n",
       "C    False\n",
       "Name: X1, dtype: bool"
      ]
     },
     "execution_count": 55,
     "metadata": {
      "tags": []
     },
     "output_type": "execute_result"
    }
   ],
   "source": [
    "df['X1'] % 2 ==0"
   ]
  },
  {
   "cell_type": "code",
   "execution_count": null,
   "metadata": {
    "colab": {
     "base_uri": "https://localhost:8080/",
     "height": 142
    },
    "executionInfo": {
     "elapsed": 640,
     "status": "ok",
     "timestamp": 1612248188091,
     "user": {
      "displayName": "hj Kim",
      "photoUrl": "",
      "userId": "02263672027550517756"
     },
     "user_tz": -540
    },
    "id": "zJcFycZzevJy",
    "outputId": "953ac16b-2bbb-4b84-e8db-88945296ab54"
   },
   "outputs": [
    {
     "data": {
      "text/html": [
       "<div>\n",
       "<style scoped>\n",
       "    .dataframe tbody tr th:only-of-type {\n",
       "        vertical-align: middle;\n",
       "    }\n",
       "\n",
       "    .dataframe tbody tr th {\n",
       "        vertical-align: top;\n",
       "    }\n",
       "\n",
       "    .dataframe thead th {\n",
       "        text-align: right;\n",
       "    }\n",
       "</style>\n",
       "<table border=\"1\" class=\"dataframe\">\n",
       "  <thead>\n",
       "    <tr style=\"text-align: right;\">\n",
       "      <th></th>\n",
       "      <th>X1</th>\n",
       "      <th>X2</th>\n",
       "      <th>X3</th>\n",
       "    </tr>\n",
       "  </thead>\n",
       "  <tbody>\n",
       "    <tr>\n",
       "      <th>A</th>\n",
       "      <td>1</td>\n",
       "      <td>2</td>\n",
       "      <td>3</td>\n",
       "    </tr>\n",
       "    <tr>\n",
       "      <th>B</th>\n",
       "      <td>4</td>\n",
       "      <td>5</td>\n",
       "      <td>6</td>\n",
       "    </tr>\n",
       "    <tr>\n",
       "      <th>C</th>\n",
       "      <td>7</td>\n",
       "      <td>8</td>\n",
       "      <td>9</td>\n",
       "    </tr>\n",
       "  </tbody>\n",
       "</table>\n",
       "</div>"
      ],
      "text/plain": [
       "   X1  X2  X3\n",
       "A   1   2   3\n",
       "B   4   5   6\n",
       "C   7   8   9"
      ]
     },
     "execution_count": 56,
     "metadata": {
      "tags": []
     },
     "output_type": "execute_result"
    }
   ],
   "source": [
    "df"
   ]
  },
  {
   "cell_type": "code",
   "execution_count": null,
   "metadata": {
    "colab": {
     "base_uri": "https://localhost:8080/"
    },
    "executionInfo": {
     "elapsed": 687,
     "status": "ok",
     "timestamp": 1612248378857,
     "user": {
      "displayName": "hj Kim",
      "photoUrl": "",
      "userId": "02263672027550517756"
     },
     "user_tz": -540
    },
    "id": "r03UOKoTOFYC",
    "outputId": "db063104-77b5-4d71-c407-706e45f36b3d"
   },
   "outputs": [
    {
     "data": {
      "text/plain": [
       "C     True\n",
       "B    False\n",
       "A    False\n",
       "dtype: bool"
      ]
     },
     "execution_count": 59,
     "metadata": {
      "tags": []
     },
     "output_type": "execute_result"
    }
   ],
   "source": [
    "# index를 ['C','B','A']로 갖는 Series 생성\n",
    "bs = pd.Series([True, False, False], index=['C','B','A'])\n",
    "bs"
   ]
  },
  {
   "cell_type": "code",
   "execution_count": null,
   "metadata": {
    "colab": {
     "base_uri": "https://localhost:8080/",
     "height": 135
    },
    "executionInfo": {
     "elapsed": 625,
     "status": "ok",
     "timestamp": 1612248433549,
     "user": {
      "displayName": "hj Kim",
      "photoUrl": "",
      "userId": "02263672027550517756"
     },
     "user_tz": -540
    },
    "id": "G1GCqdjvvbf6",
    "outputId": "20d92567-a404-427b-d5c1-aa60e3c961ea"
   },
   "outputs": [
    {
     "name": "stderr",
     "output_type": "stream",
     "text": [
      "/usr/local/lib/python3.6/dist-packages/ipykernel_launcher.py:2: UserWarning: Boolean Series key will be reindexed to match DataFrame index.\n",
      "  \n"
     ]
    },
    {
     "data": {
      "text/html": [
       "<div>\n",
       "<style scoped>\n",
       "    .dataframe tbody tr th:only-of-type {\n",
       "        vertical-align: middle;\n",
       "    }\n",
       "\n",
       "    .dataframe tbody tr th {\n",
       "        vertical-align: top;\n",
       "    }\n",
       "\n",
       "    .dataframe thead th {\n",
       "        text-align: right;\n",
       "    }\n",
       "</style>\n",
       "<table border=\"1\" class=\"dataframe\">\n",
       "  <thead>\n",
       "    <tr style=\"text-align: right;\">\n",
       "      <th></th>\n",
       "      <th>X1</th>\n",
       "      <th>X2</th>\n",
       "      <th>X3</th>\n",
       "    </tr>\n",
       "  </thead>\n",
       "  <tbody>\n",
       "    <tr>\n",
       "      <th>C</th>\n",
       "      <td>7</td>\n",
       "      <td>8</td>\n",
       "      <td>9</td>\n",
       "    </tr>\n",
       "  </tbody>\n",
       "</table>\n",
       "</div>"
      ],
      "text/plain": [
       "   X1  X2  X3\n",
       "C   7   8   9"
      ]
     },
     "execution_count": 60,
     "metadata": {
      "tags": []
     },
     "output_type": "execute_result"
    }
   ],
   "source": [
    "# bs를 사용한 indexing 확인\n",
    "df[bs]"
   ]
  },
  {
   "cell_type": "code",
   "execution_count": null,
   "metadata": {
    "colab": {
     "base_uri": "https://localhost:8080/",
     "height": 142
    },
    "executionInfo": {
     "elapsed": 824,
     "status": "ok",
     "timestamp": 1612248499969,
     "user": {
      "displayName": "hj Kim",
      "photoUrl": "",
      "userId": "02263672027550517756"
     },
     "user_tz": -540
    },
    "id": "wulalG7pOFYC",
    "outputId": "754d05e8-c874-4caa-c1ec-5bd59e54bbb4"
   },
   "outputs": [
    {
     "data": {
      "text/html": [
       "<div>\n",
       "<style scoped>\n",
       "    .dataframe tbody tr th:only-of-type {\n",
       "        vertical-align: middle;\n",
       "    }\n",
       "\n",
       "    .dataframe tbody tr th {\n",
       "        vertical-align: top;\n",
       "    }\n",
       "\n",
       "    .dataframe thead th {\n",
       "        text-align: right;\n",
       "    }\n",
       "</style>\n",
       "<table border=\"1\" class=\"dataframe\">\n",
       "  <thead>\n",
       "    <tr style=\"text-align: right;\">\n",
       "      <th></th>\n",
       "      <th>X1</th>\n",
       "      <th>X3</th>\n",
       "    </tr>\n",
       "  </thead>\n",
       "  <tbody>\n",
       "    <tr>\n",
       "      <th>A</th>\n",
       "      <td>1</td>\n",
       "      <td>3</td>\n",
       "    </tr>\n",
       "    <tr>\n",
       "      <th>B</th>\n",
       "      <td>4</td>\n",
       "      <td>6</td>\n",
       "    </tr>\n",
       "    <tr>\n",
       "      <th>C</th>\n",
       "      <td>7</td>\n",
       "      <td>9</td>\n",
       "    </tr>\n",
       "  </tbody>\n",
       "</table>\n",
       "</div>"
      ],
      "text/plain": [
       "   X1  X3\n",
       "A   1   3\n",
       "B   4   6\n",
       "C   7   9"
      ]
     },
     "execution_count": 61,
     "metadata": {
      "tags": []
     },
     "output_type": "execute_result"
    }
   ],
   "source": [
    "# array를 사용하여 가져올 여러 개의 열을 지정\n",
    "# DataFrame df에 대해 array를 사용하여 'X1', 'X3' 열 가져오기 \n",
    "# df[[ 열1, 열2]]\n",
    "\n",
    "# code here "
   ]
  },
  {
   "attachments": {},
   "cell_type": "markdown",
   "metadata": {
    "id": "DefZp5y1vnu8"
   },
   "source": [
    "## Pandas Selection - Indexer\n",
    "- 기본 indexing, slicing보다 indexer 사용을 권장함\n",
    "- indexer는 loc, iloc, at, iat이 있음\n",
    "    - loc, at 인덱서 : 이름 기반 인덱싱\n",
    "    - iloc, iat 인덱서 : 위치 기반 인덱싱\n",
    "    - at, iat 인덱서 : 한 개의 값만 반환\n",
    "- dataframe.인덱서[행 인덱스, 열 인덱스] 와 같이 사용    "
   ]
  },
  {
   "attachments": {},
   "cell_type": "markdown",
   "metadata": {
    "id": "MzQNcbF2wD63"
   },
   "source": [
    "### loc 인덱서\n",
    "- loc 인덱서의 행 또는 열 인덱스\n",
    "    - 위치(정수)가 아닌 이름(문자열)\n",
    "    - 이름(문자열)의 리스트나 슬라이싱\n",
    "    - boolean 리스트, 1차원 배열, 시리즈 (DataFrame은 불가)\n",
    "- loc 인덱서 사용 방법\n",
    "    - dataframe.loc[행 인덱스, 열 인덱스]\n",
    "    - 예) df.loc[:, 'A':'C']    "
   ]
  },
  {
   "cell_type": "code",
   "execution_count": null,
   "metadata": {
    "colab": {
     "base_uri": "https://localhost:8080/",
     "height": 142
    },
    "executionInfo": {
     "elapsed": 1182,
     "status": "ok",
     "timestamp": 1612249576410,
     "user": {
      "displayName": "hj Kim",
      "photoUrl": "",
      "userId": "02263672027550517756"
     },
     "user_tz": -540
    },
    "id": "mVGRuDfswmqp",
    "outputId": "b95f832e-770e-46e2-9adf-fa0a68b7b070"
   },
   "outputs": [
    {
     "data": {
      "text/html": [
       "<div>\n",
       "<style scoped>\n",
       "    .dataframe tbody tr th:only-of-type {\n",
       "        vertical-align: middle;\n",
       "    }\n",
       "\n",
       "    .dataframe tbody tr th {\n",
       "        vertical-align: top;\n",
       "    }\n",
       "\n",
       "    .dataframe thead th {\n",
       "        text-align: right;\n",
       "    }\n",
       "</style>\n",
       "<table border=\"1\" class=\"dataframe\">\n",
       "  <thead>\n",
       "    <tr style=\"text-align: right;\">\n",
       "      <th></th>\n",
       "      <th>X1</th>\n",
       "      <th>X2</th>\n",
       "      <th>X3</th>\n",
       "    </tr>\n",
       "  </thead>\n",
       "  <tbody>\n",
       "    <tr>\n",
       "      <th>A</th>\n",
       "      <td>1</td>\n",
       "      <td>2</td>\n",
       "      <td>3</td>\n",
       "    </tr>\n",
       "    <tr>\n",
       "      <th>B</th>\n",
       "      <td>4</td>\n",
       "      <td>5</td>\n",
       "      <td>6</td>\n",
       "    </tr>\n",
       "    <tr>\n",
       "      <th>C</th>\n",
       "      <td>7</td>\n",
       "      <td>8</td>\n",
       "      <td>9</td>\n",
       "    </tr>\n",
       "  </tbody>\n",
       "</table>\n",
       "</div>"
      ],
      "text/plain": [
       "   X1  X2  X3\n",
       "A   1   2   3\n",
       "B   4   5   6\n",
       "C   7   8   9"
      ]
     },
     "execution_count": 66,
     "metadata": {
      "tags": []
     },
     "output_type": "execute_result"
    }
   ],
   "source": [
    "df = pd.DataFrame([[1, 2, 3], \n",
    "                   [4, 5, 6], \n",
    "                   [7, 8, 9]],\n",
    "                  index=['A', 'B', 'C'], columns=['X1', 'X2', 'X3'])\n",
    "df"
   ]
  },
  {
   "cell_type": "code",
   "execution_count": null,
   "metadata": {
    "colab": {
     "base_uri": "https://localhost:8080/"
    },
    "executionInfo": {
     "elapsed": 679,
     "status": "ok",
     "timestamp": 1612249698113,
     "user": {
      "displayName": "hj Kim",
      "photoUrl": "",
      "userId": "02263672027550517756"
     },
     "user_tz": -540
    },
    "id": "yPotFniBOFYD",
    "outputId": "07d75e78-a2a3-48dd-a8da-c632d89ef883"
   },
   "outputs": [
    {
     "data": {
      "text/plain": [
       "X1    1\n",
       "X2    2\n",
       "X3    3\n",
       "Name: A, dtype: int64"
      ]
     },
     "execution_count": 68,
     "metadata": {
      "tags": []
     },
     "output_type": "execute_result"
    }
   ],
   "source": [
    "# DataFrame df에서 'A' 행, 모든 열에 대해 추출 -> Series 반환\n",
    "# code here\n"
   ]
  },
  {
   "cell_type": "code",
   "execution_count": null,
   "metadata": {
    "colab": {
     "base_uri": "https://localhost:8080/"
    },
    "executionInfo": {
     "elapsed": 758,
     "status": "ok",
     "timestamp": 1611984478441,
     "user": {
      "displayName": "soyoung yoon",
      "photoUrl": "",
      "userId": "10805103917170170851"
     },
     "user_tz": -540
    },
    "id": "VqCEeno-OFYD",
    "outputId": "60629a2a-7f78-43d7-fc40-bfee439def68"
   },
   "outputs": [
    {
     "data": {
      "text/plain": [
       "A    1\n",
       "B    4\n",
       "C    7\n",
       "Name: X1, dtype: int64"
      ]
     },
     "execution_count": 63,
     "metadata": {
      "tags": []
     },
     "output_type": "execute_result"
    }
   ],
   "source": [
    "# loc을 사용하여 DataFrame df에서 모든 행, 'X1' 열에 대해 추출 -> Series 반환\n",
    "# code here\n"
   ]
  },
  {
   "cell_type": "code",
   "execution_count": null,
   "metadata": {
    "id": "wtxLROJ6OFYE",
    "outputId": "074ade39-bded-466e-dee0-e9cfc1de661c"
   },
   "outputs": [
    {
     "data": {
      "text/html": [
       "<div>\n",
       "<style scoped>\n",
       "    .dataframe tbody tr th:only-of-type {\n",
       "        vertical-align: middle;\n",
       "    }\n",
       "\n",
       "    .dataframe tbody tr th {\n",
       "        vertical-align: top;\n",
       "    }\n",
       "\n",
       "    .dataframe thead th {\n",
       "        text-align: right;\n",
       "    }\n",
       "</style>\n",
       "<table border=\"1\" class=\"dataframe\">\n",
       "  <thead>\n",
       "    <tr style=\"text-align: right;\">\n",
       "      <th></th>\n",
       "      <th>X1</th>\n",
       "      <th>X2</th>\n",
       "    </tr>\n",
       "  </thead>\n",
       "  <tbody>\n",
       "    <tr>\n",
       "      <th>A</th>\n",
       "      <td>1</td>\n",
       "      <td>2</td>\n",
       "    </tr>\n",
       "    <tr>\n",
       "      <th>C</th>\n",
       "      <td>7</td>\n",
       "      <td>8</td>\n",
       "    </tr>\n",
       "  </tbody>\n",
       "</table>\n",
       "</div>"
      ],
      "text/plain": [
       "   X1  X2\n",
       "A   1   2\n",
       "C   7   8"
      ]
     },
     "execution_count": 41,
     "metadata": {
      "tags": []
     },
     "output_type": "execute_result"
    }
   ],
   "source": [
    "# loc을 사용하여 DataFrame df에서 [['A', 'C']행, ['X1', 'X2']열]에 대해 추출\n",
    "# code here \n"
   ]
  },
  {
   "cell_type": "code",
   "execution_count": null,
   "metadata": {
    "colab": {
     "base_uri": "https://localhost:8080/",
     "height": 80
    },
    "executionInfo": {
     "elapsed": 835,
     "status": "ok",
     "timestamp": 1612250062204,
     "user": {
      "displayName": "hj Kim",
      "photoUrl": "",
      "userId": "02263672027550517756"
     },
     "user_tz": -540
    },
    "id": "gbces0fNOFYE",
    "outputId": "ce236f47-1604-483d-fa21-3f4419838e0d"
   },
   "outputs": [
    {
     "data": {
      "text/html": [
       "<div>\n",
       "<style scoped>\n",
       "    .dataframe tbody tr th:only-of-type {\n",
       "        vertical-align: middle;\n",
       "    }\n",
       "\n",
       "    .dataframe tbody tr th {\n",
       "        vertical-align: top;\n",
       "    }\n",
       "\n",
       "    .dataframe thead th {\n",
       "        text-align: right;\n",
       "    }\n",
       "</style>\n",
       "<table border=\"1\" class=\"dataframe\">\n",
       "  <thead>\n",
       "    <tr style=\"text-align: right;\">\n",
       "      <th></th>\n",
       "      <th>X1</th>\n",
       "      <th>X3</th>\n",
       "    </tr>\n",
       "  </thead>\n",
       "  <tbody>\n",
       "    <tr>\n",
       "      <th>B</th>\n",
       "      <td>4</td>\n",
       "      <td>6</td>\n",
       "    </tr>\n",
       "  </tbody>\n",
       "</table>\n",
       "</div>"
      ],
      "text/plain": [
       "   X1  X3\n",
       "B   4   6"
      ]
     },
     "execution_count": 70,
     "metadata": {
      "tags": []
     },
     "output_type": "execute_result"
    }
   ],
   "source": [
    "# loc을 사용하여 DataFrame df에서 행은 'X1'열의 값이 짝수인 것, 열은 ['X1', 'X3']에 대해 추출\n",
    "\n",
    "# code here"
   ]
  },
  {
   "attachments": {},
   "cell_type": "markdown",
   "metadata": {
    "id": "DnBQOcA-xRmh"
   },
   "source": [
    "### iloc 인덱서\n",
    "- iloc 인덱서의 행 또는 열 인덱스 형식\n",
    "   - 위치(정수)\n",
    "   - 위치(정수)의 리스트나 슬라이싱\n",
    "   - boolean 리스트, 1차원 배열 (시리즈 불가)\n",
    "- iloc 인덱서 사용 방법\n",
    "   - dataframe.iloc[행 인덱스, 열 인덱스]\n",
    "   - 예) df.loc[:, 1:3]"
   ]
  },
  {
   "cell_type": "code",
   "execution_count": null,
   "metadata": {
    "colab": {
     "base_uri": "https://localhost:8080/"
    },
    "executionInfo": {
     "elapsed": 605,
     "status": "ok",
     "timestamp": 1612250173696,
     "user": {
      "displayName": "hj Kim",
      "photoUrl": "",
      "userId": "02263672027550517756"
     },
     "user_tz": -540
    },
    "id": "2jnChx0COFYE",
    "outputId": "6105f92b-640a-4e11-c1fc-d88bc7fae394"
   },
   "outputs": [
    {
     "data": {
      "text/plain": [
       "X1    1\n",
       "X2    2\n",
       "X3    3\n",
       "Name: A, dtype: int64"
      ]
     },
     "execution_count": 71,
     "metadata": {
      "tags": []
     },
     "output_type": "execute_result"
    }
   ],
   "source": [
    "# iloc을 사용하여 DataFrame df에서 0번 행, 모든 열에 대해 추출 => Series\n",
    "\n",
    "# code here"
   ]
  },
  {
   "cell_type": "code",
   "execution_count": null,
   "metadata": {
    "id": "04UAcnC4OFYF"
   },
   "outputs": [],
   "source": [
    "# iloc을 사용하여 DataFrame df에서 모든 행, 0번 열에 대해 추출 => Series\n",
    "\n",
    "# code here"
   ]
  },
  {
   "cell_type": "code",
   "execution_count": null,
   "metadata": {
    "colab": {
     "base_uri": "https://localhost:8080/",
     "height": 111
    },
    "executionInfo": {
     "elapsed": 662,
     "status": "ok",
     "timestamp": 1612250361426,
     "user": {
      "displayName": "hj Kim",
      "photoUrl": "",
      "userId": "02263672027550517756"
     },
     "user_tz": -540
    },
    "id": "zxV4l5LAOFYF",
    "outputId": "91e3b2c4-2ca8-4b54-8d94-26c691c76879"
   },
   "outputs": [
    {
     "data": {
      "text/html": [
       "<div>\n",
       "<style scoped>\n",
       "    .dataframe tbody tr th:only-of-type {\n",
       "        vertical-align: middle;\n",
       "    }\n",
       "\n",
       "    .dataframe tbody tr th {\n",
       "        vertical-align: top;\n",
       "    }\n",
       "\n",
       "    .dataframe thead th {\n",
       "        text-align: right;\n",
       "    }\n",
       "</style>\n",
       "<table border=\"1\" class=\"dataframe\">\n",
       "  <thead>\n",
       "    <tr style=\"text-align: right;\">\n",
       "      <th></th>\n",
       "      <th>X1</th>\n",
       "      <th>X2</th>\n",
       "    </tr>\n",
       "  </thead>\n",
       "  <tbody>\n",
       "    <tr>\n",
       "      <th>A</th>\n",
       "      <td>1</td>\n",
       "      <td>2</td>\n",
       "    </tr>\n",
       "    <tr>\n",
       "      <th>C</th>\n",
       "      <td>7</td>\n",
       "      <td>8</td>\n",
       "    </tr>\n",
       "  </tbody>\n",
       "</table>\n",
       "</div>"
      ],
      "text/plain": [
       "   X1  X2\n",
       "A   1   2\n",
       "C   7   8"
      ]
     },
     "execution_count": 72,
     "metadata": {
      "tags": []
     },
     "output_type": "execute_result"
    }
   ],
   "source": [
    "# iloc을 사용하여 DataFrame df에서 [0, 2]번 행, [0, 1]번 열에 대해 추출 \n",
    "df.iloc[[0, 2], [0, 1]]"
   ]
  },
  {
   "cell_type": "code",
   "execution_count": null,
   "metadata": {
    "colab": {
     "base_uri": "https://localhost:8080/",
     "height": 80
    },
    "executionInfo": {
     "elapsed": 597,
     "status": "ok",
     "timestamp": 1612250498839,
     "user": {
      "displayName": "hj Kim",
      "photoUrl": "",
      "userId": "02263672027550517756"
     },
     "user_tz": -540
    },
    "id": "x_mU19n_OFYF",
    "outputId": "df3dade5-d0f8-44c4-e233-d19718c77a1b"
   },
   "outputs": [
    {
     "data": {
      "text/html": [
       "<div>\n",
       "<style scoped>\n",
       "    .dataframe tbody tr th:only-of-type {\n",
       "        vertical-align: middle;\n",
       "    }\n",
       "\n",
       "    .dataframe tbody tr th {\n",
       "        vertical-align: top;\n",
       "    }\n",
       "\n",
       "    .dataframe thead th {\n",
       "        text-align: right;\n",
       "    }\n",
       "</style>\n",
       "<table border=\"1\" class=\"dataframe\">\n",
       "  <thead>\n",
       "    <tr style=\"text-align: right;\">\n",
       "      <th></th>\n",
       "      <th>X1</th>\n",
       "      <th>X3</th>\n",
       "    </tr>\n",
       "  </thead>\n",
       "  <tbody>\n",
       "    <tr>\n",
       "      <th>B</th>\n",
       "      <td>4</td>\n",
       "      <td>6</td>\n",
       "    </tr>\n",
       "  </tbody>\n",
       "</table>\n",
       "</div>"
      ],
      "text/plain": [
       "   X1  X3\n",
       "B   4   6"
      ]
     },
     "execution_count": 73,
     "metadata": {
      "tags": []
     },
     "output_type": "execute_result"
    }
   ],
   "source": [
    "# iloc을 사용하여 DataFrame df에서 행의 경우 [False, True, False] boolean list사용\n",
    "# [0, -1] 열에 대해 추출 \n",
    "blist = [False, True, False]\n",
    "df.iloc[blist,[0, -1]]"
   ]
  },
  {
   "attachments": {},
   "cell_type": "markdown",
   "metadata": {
    "id": "ccTL7ryPyLSu"
   },
   "source": [
    "### at, iat의 성능\n",
    "- at, iat 인덱서는 loc, iloc 인덱서와 비슷하지만 하나의 값만 가져옴\n",
    "- 빠른 인덱싱 속도가 요구되는 경우 사용\n",
    "- loc, iloc보다 at, iat이 소모 시간이 적음"
   ]
  },
  {
   "cell_type": "code",
   "execution_count": null,
   "metadata": {
    "colab": {
     "base_uri": "https://localhost:8080/"
    },
    "executionInfo": {
     "elapsed": 3738,
     "status": "ok",
     "timestamp": 1611984888605,
     "user": {
      "displayName": "soyoung yoon",
      "photoUrl": "",
      "userId": "10805103917170170851"
     },
     "user_tz": -540
    },
    "id": "1YLD65GyOFYF",
    "outputId": "75edcdfb-384b-4e69-a1d0-807329c02eb5"
   },
   "outputs": [
    {
     "name": "stdout",
     "output_type": "stream",
     "text": [
      "The slowest run took 23.81 times longer than the fastest. This could mean that an intermediate result is being cached.\n",
      "100000 loops, best of 3: 7.15 µs per loop\n"
     ]
    }
   ],
   "source": [
    "%timeit df.loc[\"A\", \"X1\"]"
   ]
  },
  {
   "cell_type": "code",
   "execution_count": null,
   "metadata": {
    "colab": {
     "base_uri": "https://localhost:8080/"
    },
    "executionInfo": {
     "elapsed": 2484,
     "status": "ok",
     "timestamp": 1611984892719,
     "user": {
      "displayName": "soyoung yoon",
      "photoUrl": "",
      "userId": "10805103917170170851"
     },
     "user_tz": -540
    },
    "id": "kk7Z2yqMOFYG",
    "outputId": "436779b8-077a-497b-fce7-510c7c6b8dc9"
   },
   "outputs": [
    {
     "name": "stdout",
     "output_type": "stream",
     "text": [
      "The slowest run took 21.12 times longer than the fastest. This could mean that an intermediate result is being cached.\n",
      "100000 loops, best of 3: 4.08 µs per loop\n"
     ]
    }
   ],
   "source": [
    "%timeit df.at[\"A\", \"X1\"]"
   ]
  },
  {
   "cell_type": "code",
   "execution_count": null,
   "metadata": {
    "colab": {
     "base_uri": "https://localhost:8080/"
    },
    "executionInfo": {
     "elapsed": 8865,
     "status": "ok",
     "timestamp": 1611984911308,
     "user": {
      "displayName": "soyoung yoon",
      "photoUrl": "",
      "userId": "10805103917170170851"
     },
     "user_tz": -540
    },
    "id": "zp92X2FuOFYG",
    "outputId": "10388418-00cc-44fc-d60a-c68d8bfa9ffa"
   },
   "outputs": [
    {
     "name": "stdout",
     "output_type": "stream",
     "text": [
      "The slowest run took 10.18 times longer than the fastest. This could mean that an intermediate result is being cached.\n",
      "100000 loops, best of 3: 19.6 µs per loop\n"
     ]
    }
   ],
   "source": [
    "%timeit df.iloc[0, 0]"
   ]
  },
  {
   "cell_type": "code",
   "execution_count": null,
   "metadata": {
    "colab": {
     "base_uri": "https://localhost:8080/"
    },
    "executionInfo": {
     "elapsed": 8354,
     "status": "ok",
     "timestamp": 1611984925517,
     "user": {
      "displayName": "soyoung yoon",
      "photoUrl": "",
      "userId": "10805103917170170851"
     },
     "user_tz": -540
    },
    "id": "byA27M8COFYG",
    "outputId": "5b48d578-81ec-48be-838a-065fb582486e"
   },
   "outputs": [
    {
     "name": "stdout",
     "output_type": "stream",
     "text": [
      "The slowest run took 7.52 times longer than the fastest. This could mean that an intermediate result is being cached.\n",
      "100000 loops, best of 3: 18.4 µs per loop\n"
     ]
    }
   ],
   "source": [
    "%timeit df.iat[0, 0]"
   ]
  },
  {
   "attachments": {},
   "cell_type": "markdown",
   "metadata": {
    "id": "I2tfaYyoydt5"
   },
   "source": [
    "## Pandas Function"
   ]
  },
  {
   "attachments": {},
   "cell_type": "markdown",
   "metadata": {
    "id": "3wvoNv77y5I9"
   },
   "source": [
    "### 데이터 조회\n",
    "- head(N)\n",
    "    - Series 또는 DataFrame에서 사용 가능\n",
    "    - 첫 행부터 아래로 N개(기본 값 5)의 데이터를 조회\n",
    "- tail(N)\n",
    "    - Series 또는 DataFrame에서 사용 가능\n",
    "    - 마지막 행부터 위로 N개(기본 값 5)의 데이터를 조회\n"
   ]
  },
  {
   "cell_type": "code",
   "execution_count": null,
   "metadata": {
    "colab": {
     "base_uri": "https://localhost:8080/",
     "height": 142
    },
    "executionInfo": {
     "elapsed": 638,
     "status": "ok",
     "timestamp": 1612250699137,
     "user": {
      "displayName": "hj Kim",
      "photoUrl": "",
      "userId": "02263672027550517756"
     },
     "user_tz": -540
    },
    "id": "cNfY_ZKAzKVp",
    "outputId": "ba4c7cc8-0d74-42b9-f2e7-f8b0d4d1e0b1"
   },
   "outputs": [
    {
     "data": {
      "text/html": [
       "<div>\n",
       "<style scoped>\n",
       "    .dataframe tbody tr th:only-of-type {\n",
       "        vertical-align: middle;\n",
       "    }\n",
       "\n",
       "    .dataframe tbody tr th {\n",
       "        vertical-align: top;\n",
       "    }\n",
       "\n",
       "    .dataframe thead th {\n",
       "        text-align: right;\n",
       "    }\n",
       "</style>\n",
       "<table border=\"1\" class=\"dataframe\">\n",
       "  <thead>\n",
       "    <tr style=\"text-align: right;\">\n",
       "      <th></th>\n",
       "      <th>X1</th>\n",
       "      <th>X2</th>\n",
       "      <th>X3</th>\n",
       "    </tr>\n",
       "  </thead>\n",
       "  <tbody>\n",
       "    <tr>\n",
       "      <th>A</th>\n",
       "      <td>1</td>\n",
       "      <td>2</td>\n",
       "      <td>3</td>\n",
       "    </tr>\n",
       "    <tr>\n",
       "      <th>B</th>\n",
       "      <td>4</td>\n",
       "      <td>5</td>\n",
       "      <td>6</td>\n",
       "    </tr>\n",
       "    <tr>\n",
       "      <th>C</th>\n",
       "      <td>7</td>\n",
       "      <td>8</td>\n",
       "      <td>9</td>\n",
       "    </tr>\n",
       "  </tbody>\n",
       "</table>\n",
       "</div>"
      ],
      "text/plain": [
       "   X1  X2  X3\n",
       "A   1   2   3\n",
       "B   4   5   6\n",
       "C   7   8   9"
      ]
     },
     "execution_count": 74,
     "metadata": {
      "tags": []
     },
     "output_type": "execute_result"
    }
   ],
   "source": [
    "df = pd.DataFrame([[1, 2, 3], \n",
    "                   [4, 5, 6], \n",
    "                   [7, 8, 9]],\n",
    "                  index=['A', 'B', 'C'], columns=['X1', 'X2', 'X3'])\n",
    "df"
   ]
  },
  {
   "cell_type": "code",
   "execution_count": null,
   "metadata": {
    "colab": {
     "base_uri": "https://localhost:8080/",
     "height": 80
    },
    "executionInfo": {
     "elapsed": 597,
     "status": "ok",
     "timestamp": 1612250744650,
     "user": {
      "displayName": "hj Kim",
      "photoUrl": "",
      "userId": "02263672027550517756"
     },
     "user_tz": -540
    },
    "id": "hKMal9MYOFYH",
    "outputId": "91e4f864-3062-47f4-a90d-906f76f0006c"
   },
   "outputs": [
    {
     "data": {
      "text/html": [
       "<div>\n",
       "<style scoped>\n",
       "    .dataframe tbody tr th:only-of-type {\n",
       "        vertical-align: middle;\n",
       "    }\n",
       "\n",
       "    .dataframe tbody tr th {\n",
       "        vertical-align: top;\n",
       "    }\n",
       "\n",
       "    .dataframe thead th {\n",
       "        text-align: right;\n",
       "    }\n",
       "</style>\n",
       "<table border=\"1\" class=\"dataframe\">\n",
       "  <thead>\n",
       "    <tr style=\"text-align: right;\">\n",
       "      <th></th>\n",
       "      <th>X1</th>\n",
       "      <th>X2</th>\n",
       "      <th>X3</th>\n",
       "    </tr>\n",
       "  </thead>\n",
       "  <tbody>\n",
       "    <tr>\n",
       "      <th>A</th>\n",
       "      <td>1</td>\n",
       "      <td>2</td>\n",
       "      <td>3</td>\n",
       "    </tr>\n",
       "  </tbody>\n",
       "</table>\n",
       "</div>"
      ],
      "text/plain": [
       "   X1  X2  X3\n",
       "A   1   2   3"
      ]
     },
     "execution_count": 78,
     "metadata": {
      "tags": []
     },
     "output_type": "execute_result"
    }
   ],
   "source": [
    "# DataFrame df에서 첫 행부터 1개의 데이터 조회: head()사용\n",
    "# code here"
   ]
  },
  {
   "cell_type": "code",
   "execution_count": null,
   "metadata": {
    "colab": {
     "base_uri": "https://localhost:8080/",
     "height": 80
    },
    "executionInfo": {
     "elapsed": 627,
     "status": "ok",
     "timestamp": 1612250765885,
     "user": {
      "displayName": "hj Kim",
      "photoUrl": "",
      "userId": "02263672027550517756"
     },
     "user_tz": -540
    },
    "id": "MTnvYnCROFYH",
    "outputId": "596b50c5-6b05-4ae9-90ad-9985b6c9d3eb"
   },
   "outputs": [
    {
     "data": {
      "text/html": [
       "<div>\n",
       "<style scoped>\n",
       "    .dataframe tbody tr th:only-of-type {\n",
       "        vertical-align: middle;\n",
       "    }\n",
       "\n",
       "    .dataframe tbody tr th {\n",
       "        vertical-align: top;\n",
       "    }\n",
       "\n",
       "    .dataframe thead th {\n",
       "        text-align: right;\n",
       "    }\n",
       "</style>\n",
       "<table border=\"1\" class=\"dataframe\">\n",
       "  <thead>\n",
       "    <tr style=\"text-align: right;\">\n",
       "      <th></th>\n",
       "      <th>X1</th>\n",
       "      <th>X2</th>\n",
       "      <th>X3</th>\n",
       "    </tr>\n",
       "  </thead>\n",
       "  <tbody>\n",
       "    <tr>\n",
       "      <th>C</th>\n",
       "      <td>7</td>\n",
       "      <td>8</td>\n",
       "      <td>9</td>\n",
       "    </tr>\n",
       "  </tbody>\n",
       "</table>\n",
       "</div>"
      ],
      "text/plain": [
       "   X1  X2  X3\n",
       "C   7   8   9"
      ]
     },
     "execution_count": 79,
     "metadata": {
      "tags": []
     },
     "output_type": "execute_result"
    }
   ],
   "source": [
    "# DataFrame df에서 마지막 행부터 1개의 데이터 조회: tail() 사용\n",
    "# code here"
   ]
  },
  {
   "attachments": {},
   "cell_type": "markdown",
   "metadata": {
    "id": "xs5MHZxrzbtF"
   },
   "source": [
    "### 데이터 빈도 조회\n",
    "- value_counts(sort, ascending, normalize)\n",
    "    - 값의 개수를 계산하여 **내림차순**으로 정렬 후 결과 반환\n",
    "    - sort를 False로 지정하면 결과를 정렬하지 않음\n",
    "    - ascending을 True로 지정하면 오름차순, False로 지정하면 내림차순 정렬\n",
    "    - normalize를 True로 지정하면 비율 반환"
   ]
  },
  {
   "cell_type": "code",
   "execution_count": null,
   "metadata": {
    "colab": {
     "base_uri": "https://localhost:8080/"
    },
    "executionInfo": {
     "elapsed": 914,
     "status": "ok",
     "timestamp": 1612250846832,
     "user": {
      "displayName": "hj Kim",
      "photoUrl": "",
      "userId": "02263672027550517756"
     },
     "user_tz": -540
    },
    "id": "tnyQEWHhz8ke",
    "outputId": "aac22e58-cf33-4836-d01a-76f4b6abe8c8"
   },
   "outputs": [
    {
     "data": {
      "text/plain": [
       "A    3\n",
       "C    1\n",
       "B    1\n",
       "dtype: int64"
      ]
     },
     "execution_count": 80,
     "metadata": {
      "tags": []
     },
     "output_type": "execute_result"
    }
   ],
   "source": [
    "# Series s의 값 개수를 계산하여 내림차순으로 정렬 후 결과 반환 : value_counts()\n",
    "s = pd.Series(['A', 'B', 'A', 'C', 'A'])\n",
    "# code here"
   ]
  },
  {
   "cell_type": "code",
   "execution_count": null,
   "metadata": {
    "colab": {
     "base_uri": "https://localhost:8080/"
    },
    "executionInfo": {
     "elapsed": 620,
     "status": "ok",
     "timestamp": 1612250887585,
     "user": {
      "displayName": "hj Kim",
      "photoUrl": "",
      "userId": "02263672027550517756"
     },
     "user_tz": -540
    },
    "id": "HYf1-CcnIrsA",
    "outputId": "c21ffaa2-01c3-413e-f836-6bed37d7d87d"
   },
   "outputs": [
    {
     "data": {
      "text/plain": [
       "A    0.6\n",
       "C    0.2\n",
       "B    0.2\n",
       "dtype: float64"
      ]
     },
     "execution_count": 81,
     "metadata": {
      "tags": []
     },
     "output_type": "execute_result"
    }
   ],
   "source": [
    "s = pd.Series(['A', 'B', 'A', 'C', 'A'])\n",
    "# Series s의 값 개수를 계산하여 결과를 비율로 반환 (normalize=True 사용)\n",
    "s.value_counts(normalize=True)"
   ]
  },
  {
   "attachments": {},
   "cell_type": "markdown",
   "metadata": {
    "id": "L5sQI5O4JAmX"
   },
   "source": [
    "### 데이터 정렬\n"
   ]
  },
  {
   "attachments": {},
   "cell_type": "markdown",
   "metadata": {
    "id": "hD-YhAdiJ-rC"
   },
   "source": [
    "sort_index(axis=0 or 1, ascending=True or False)\n",
    "- 행(aixs=0) 또는 열(axis=1) 인덱스를 오름차순(ascending=True) 또는 내림차순\n",
    "(ascending=False)로 정렬 가능\n",
    "- DataFrame에서만 열(axis=1) 지정 가능"
   ]
  },
  {
   "cell_type": "code",
   "execution_count": null,
   "metadata": {
    "colab": {
     "base_uri": "https://localhost:8080/",
     "height": 142
    },
    "executionInfo": {
     "elapsed": 673,
     "status": "ok",
     "timestamp": 1612251171775,
     "user": {
      "displayName": "hj Kim",
      "photoUrl": "",
      "userId": "02263672027550517756"
     },
     "user_tz": -540
    },
    "id": "jfRJNzz2JXYF",
    "outputId": "8cde759f-ae1b-4750-fdd1-160c48eadb4c"
   },
   "outputs": [
    {
     "data": {
      "text/html": [
       "<div>\n",
       "<style scoped>\n",
       "    .dataframe tbody tr th:only-of-type {\n",
       "        vertical-align: middle;\n",
       "    }\n",
       "\n",
       "    .dataframe tbody tr th {\n",
       "        vertical-align: top;\n",
       "    }\n",
       "\n",
       "    .dataframe thead th {\n",
       "        text-align: right;\n",
       "    }\n",
       "</style>\n",
       "<table border=\"1\" class=\"dataframe\">\n",
       "  <thead>\n",
       "    <tr style=\"text-align: right;\">\n",
       "      <th></th>\n",
       "      <th>X1</th>\n",
       "      <th>X2</th>\n",
       "      <th>X3</th>\n",
       "    </tr>\n",
       "  </thead>\n",
       "  <tbody>\n",
       "    <tr>\n",
       "      <th>A</th>\n",
       "      <td>1</td>\n",
       "      <td>2</td>\n",
       "      <td>3</td>\n",
       "    </tr>\n",
       "    <tr>\n",
       "      <th>B</th>\n",
       "      <td>4</td>\n",
       "      <td>5</td>\n",
       "      <td>6</td>\n",
       "    </tr>\n",
       "    <tr>\n",
       "      <th>C</th>\n",
       "      <td>7</td>\n",
       "      <td>8</td>\n",
       "      <td>9</td>\n",
       "    </tr>\n",
       "  </tbody>\n",
       "</table>\n",
       "</div>"
      ],
      "text/plain": [
       "   X1  X2  X3\n",
       "A   1   2   3\n",
       "B   4   5   6\n",
       "C   7   8   9"
      ]
     },
     "execution_count": 82,
     "metadata": {
      "tags": []
     },
     "output_type": "execute_result"
    }
   ],
   "source": [
    "df"
   ]
  },
  {
   "cell_type": "code",
   "execution_count": null,
   "metadata": {
    "colab": {
     "base_uri": "https://localhost:8080/",
     "height": 142
    },
    "executionInfo": {
     "elapsed": 833,
     "status": "ok",
     "timestamp": 1612251214244,
     "user": {
      "displayName": "hj Kim",
      "photoUrl": "",
      "userId": "02263672027550517756"
     },
     "user_tz": -540
    },
    "id": "NxtpjsGTOFYH",
    "outputId": "6ae53d8c-e01f-4ae0-e26a-7b223e66a8a0"
   },
   "outputs": [
    {
     "data": {
      "text/html": [
       "<div>\n",
       "<style scoped>\n",
       "    .dataframe tbody tr th:only-of-type {\n",
       "        vertical-align: middle;\n",
       "    }\n",
       "\n",
       "    .dataframe tbody tr th {\n",
       "        vertical-align: top;\n",
       "    }\n",
       "\n",
       "    .dataframe thead th {\n",
       "        text-align: right;\n",
       "    }\n",
       "</style>\n",
       "<table border=\"1\" class=\"dataframe\">\n",
       "  <thead>\n",
       "    <tr style=\"text-align: right;\">\n",
       "      <th></th>\n",
       "      <th>X1</th>\n",
       "      <th>X2</th>\n",
       "      <th>X3</th>\n",
       "    </tr>\n",
       "  </thead>\n",
       "  <tbody>\n",
       "    <tr>\n",
       "      <th>C</th>\n",
       "      <td>7</td>\n",
       "      <td>8</td>\n",
       "      <td>9</td>\n",
       "    </tr>\n",
       "    <tr>\n",
       "      <th>B</th>\n",
       "      <td>4</td>\n",
       "      <td>5</td>\n",
       "      <td>6</td>\n",
       "    </tr>\n",
       "    <tr>\n",
       "      <th>A</th>\n",
       "      <td>1</td>\n",
       "      <td>2</td>\n",
       "      <td>3</td>\n",
       "    </tr>\n",
       "  </tbody>\n",
       "</table>\n",
       "</div>"
      ],
      "text/plain": [
       "   X1  X2  X3\n",
       "C   7   8   9\n",
       "B   4   5   6\n",
       "A   1   2   3"
      ]
     },
     "execution_count": 83,
     "metadata": {
      "tags": []
     },
     "output_type": "execute_result"
    }
   ],
   "source": [
    "# 행 인덱스 기준 내림차순 정렬\n",
    "df.sort_index(ascending=False)"
   ]
  },
  {
   "cell_type": "code",
   "execution_count": null,
   "metadata": {
    "colab": {
     "base_uri": "https://localhost:8080/",
     "height": 142
    },
    "executionInfo": {
     "elapsed": 615,
     "status": "ok",
     "timestamp": 1612251288087,
     "user": {
      "displayName": "hj Kim",
      "photoUrl": "",
      "userId": "02263672027550517756"
     },
     "user_tz": -540
    },
    "id": "1EskXwwLOFYH",
    "outputId": "f6a6981c-0b43-4034-f180-81bfe726c551"
   },
   "outputs": [
    {
     "data": {
      "text/html": [
       "<div>\n",
       "<style scoped>\n",
       "    .dataframe tbody tr th:only-of-type {\n",
       "        vertical-align: middle;\n",
       "    }\n",
       "\n",
       "    .dataframe tbody tr th {\n",
       "        vertical-align: top;\n",
       "    }\n",
       "\n",
       "    .dataframe thead th {\n",
       "        text-align: right;\n",
       "    }\n",
       "</style>\n",
       "<table border=\"1\" class=\"dataframe\">\n",
       "  <thead>\n",
       "    <tr style=\"text-align: right;\">\n",
       "      <th></th>\n",
       "      <th>X3</th>\n",
       "      <th>X2</th>\n",
       "      <th>X1</th>\n",
       "    </tr>\n",
       "  </thead>\n",
       "  <tbody>\n",
       "    <tr>\n",
       "      <th>A</th>\n",
       "      <td>3</td>\n",
       "      <td>2</td>\n",
       "      <td>1</td>\n",
       "    </tr>\n",
       "    <tr>\n",
       "      <th>B</th>\n",
       "      <td>6</td>\n",
       "      <td>5</td>\n",
       "      <td>4</td>\n",
       "    </tr>\n",
       "    <tr>\n",
       "      <th>C</th>\n",
       "      <td>9</td>\n",
       "      <td>8</td>\n",
       "      <td>7</td>\n",
       "    </tr>\n",
       "  </tbody>\n",
       "</table>\n",
       "</div>"
      ],
      "text/plain": [
       "   X3  X2  X1\n",
       "A   3   2   1\n",
       "B   6   5   4\n",
       "C   9   8   7"
      ]
     },
     "execution_count": 84,
     "metadata": {
      "tags": []
     },
     "output_type": "execute_result"
    }
   ],
   "source": [
    "# 열 인덱스 기준 내림차순 정렬\n",
    "df.sort_index(ascending=False, axis=1)"
   ]
  },
  {
   "attachments": {},
   "cell_type": "markdown",
   "metadata": {
    "id": "iNkmQhmDJ2t-"
   },
   "source": [
    "sort_values(by, ascending=True or False)\n",
    "- 특정 컬럼을 기준으로 데이터를 정렬\n",
    "- DataFrame에서는정렬 기준(by) 지정 필수\n",
    "- 정렬 기준과 방식을 [ ]로 묶어서 여러 개 설정 가능"
   ]
  },
  {
   "cell_type": "code",
   "execution_count": null,
   "metadata": {
    "colab": {
     "base_uri": "https://localhost:8080/"
    },
    "executionInfo": {
     "elapsed": 638,
     "status": "ok",
     "timestamp": 1612251344783,
     "user": {
      "displayName": "hj Kim",
      "photoUrl": "",
      "userId": "02263672027550517756"
     },
     "user_tz": -540
    },
    "id": "c_iOZZIbLB8L",
    "outputId": "2a025962-282c-4742-d479-9ed36de4b5bd"
   },
   "outputs": [
    {
     "data": {
      "text/plain": [
       "A    1\n",
       "B    2\n",
       "C    3\n",
       "D    4\n",
       "E    5\n",
       "dtype: int64"
      ]
     },
     "execution_count": 85,
     "metadata": {
      "tags": []
     },
     "output_type": "execute_result"
    }
   ],
   "source": [
    "s = pd.Series([1,2,3,4,5], index=list(\"ABCDE\"))\n",
    "s"
   ]
  },
  {
   "cell_type": "code",
   "execution_count": null,
   "metadata": {
    "colab": {
     "base_uri": "https://localhost:8080/"
    },
    "executionInfo": {
     "elapsed": 689,
     "status": "ok",
     "timestamp": 1612251391544,
     "user": {
      "displayName": "hj Kim",
      "photoUrl": "",
      "userId": "02263672027550517756"
     },
     "user_tz": -540
    },
    "id": "jebsBh02LnH4",
    "outputId": "62b19442-32d5-436f-9d56-ac3a8e9e39fb"
   },
   "outputs": [
    {
     "data": {
      "text/plain": [
       "E    5\n",
       "D    4\n",
       "C    3\n",
       "B    2\n",
       "A    1\n",
       "dtype: int64"
      ]
     },
     "execution_count": 86,
     "metadata": {
      "tags": []
     },
     "output_type": "execute_result"
    }
   ],
   "source": [
    "# Series s를 내림차순 정렬\n",
    "s.sort_values(ascending=False)"
   ]
  },
  {
   "cell_type": "code",
   "execution_count": null,
   "metadata": {
    "colab": {
     "base_uri": "https://localhost:8080/"
    },
    "executionInfo": {
     "elapsed": 589,
     "status": "ok",
     "timestamp": 1612251435800,
     "user": {
      "displayName": "hj Kim",
      "photoUrl": "",
      "userId": "02263672027550517756"
     },
     "user_tz": -540
    },
    "id": "tqi1abYarG8T",
    "outputId": "7898301c-5500-4fad-eb73-b2b69c5b708f"
   },
   "outputs": [
    {
     "data": {
      "text/plain": [
       "E    5\n",
       "D    4\n",
       "C    3\n",
       "dtype: int64"
      ]
     },
     "execution_count": 87,
     "metadata": {
      "tags": []
     },
     "output_type": "execute_result"
    }
   ],
   "source": [
    "# Series s를 내림차순 정렬 top3\n",
    "# code here \n"
   ]
  },
  {
   "cell_type": "code",
   "execution_count": null,
   "metadata": {
    "colab": {
     "base_uri": "https://localhost:8080/",
     "height": 142
    },
    "executionInfo": {
     "elapsed": 870,
     "status": "ok",
     "timestamp": 1612251634648,
     "user": {
      "displayName": "hj Kim",
      "photoUrl": "",
      "userId": "02263672027550517756"
     },
     "user_tz": -540
    },
    "id": "yqR1TZT1OFYI",
    "outputId": "95712ddb-7201-4903-c9c3-2217980751c9"
   },
   "outputs": [
    {
     "data": {
      "text/html": [
       "<div>\n",
       "<style scoped>\n",
       "    .dataframe tbody tr th:only-of-type {\n",
       "        vertical-align: middle;\n",
       "    }\n",
       "\n",
       "    .dataframe tbody tr th {\n",
       "        vertical-align: top;\n",
       "    }\n",
       "\n",
       "    .dataframe thead th {\n",
       "        text-align: right;\n",
       "    }\n",
       "</style>\n",
       "<table border=\"1\" class=\"dataframe\">\n",
       "  <thead>\n",
       "    <tr style=\"text-align: right;\">\n",
       "      <th></th>\n",
       "      <th>X1</th>\n",
       "      <th>X2</th>\n",
       "      <th>X3</th>\n",
       "    </tr>\n",
       "  </thead>\n",
       "  <tbody>\n",
       "    <tr>\n",
       "      <th>C</th>\n",
       "      <td>7</td>\n",
       "      <td>8</td>\n",
       "      <td>9</td>\n",
       "    </tr>\n",
       "    <tr>\n",
       "      <th>B</th>\n",
       "      <td>4</td>\n",
       "      <td>5</td>\n",
       "      <td>6</td>\n",
       "    </tr>\n",
       "    <tr>\n",
       "      <th>A</th>\n",
       "      <td>1</td>\n",
       "      <td>2</td>\n",
       "      <td>3</td>\n",
       "    </tr>\n",
       "  </tbody>\n",
       "</table>\n",
       "</div>"
      ],
      "text/plain": [
       "   X1  X2  X3\n",
       "C   7   8   9\n",
       "B   4   5   6\n",
       "A   1   2   3"
      ]
     },
     "execution_count": 96,
     "metadata": {
      "tags": []
     },
     "output_type": "execute_result"
    }
   ],
   "source": [
    "# DataFrame df를 정렬 기준을 'X3'열로 하여 내림차순 정렬\n",
    "df.sort_values(by='X3', ascending=False)"
   ]
  },
  {
   "cell_type": "code",
   "execution_count": null,
   "metadata": {
    "colab": {
     "base_uri": "https://localhost:8080/"
    },
    "executionInfo": {
     "elapsed": 637,
     "status": "ok",
     "timestamp": 1612251649370,
     "user": {
      "displayName": "hj Kim",
      "photoUrl": "",
      "userId": "02263672027550517756"
     },
     "user_tz": -540
    },
    "id": "K8RY7fmtr1u5",
    "outputId": "4060f2e2-c416-47e8-de7c-11dba7681e4d"
   },
   "outputs": [
    {
     "data": {
      "text/plain": [
       "C    9\n",
       "B    6\n",
       "Name: X3, dtype: int64"
      ]
     },
     "execution_count": 97,
     "metadata": {
      "tags": []
     },
     "output_type": "execute_result"
    }
   ],
   "source": [
    "df.sort_values(by='X3', ascending=False)['X3'].head(2)"
   ]
  },
  {
   "cell_type": "code",
   "execution_count": null,
   "metadata": {
    "colab": {
     "base_uri": "https://localhost:8080/",
     "height": 142
    },
    "executionInfo": {
     "elapsed": 440,
     "status": "ok",
     "timestamp": 1612251781169,
     "user": {
      "displayName": "hj Kim",
      "photoUrl": "",
      "userId": "02263672027550517756"
     },
     "user_tz": -540
    },
    "id": "48I8UqHrsT63",
    "outputId": "12556660-c111-4efb-8f5a-07dd143e30f4"
   },
   "outputs": [
    {
     "data": {
      "text/html": [
       "<div>\n",
       "<style scoped>\n",
       "    .dataframe tbody tr th:only-of-type {\n",
       "        vertical-align: middle;\n",
       "    }\n",
       "\n",
       "    .dataframe tbody tr th {\n",
       "        vertical-align: top;\n",
       "    }\n",
       "\n",
       "    .dataframe thead th {\n",
       "        text-align: right;\n",
       "    }\n",
       "</style>\n",
       "<table border=\"1\" class=\"dataframe\">\n",
       "  <thead>\n",
       "    <tr style=\"text-align: right;\">\n",
       "      <th></th>\n",
       "      <th>X1</th>\n",
       "      <th>X2</th>\n",
       "      <th>X3</th>\n",
       "      <th>X4</th>\n",
       "    </tr>\n",
       "  </thead>\n",
       "  <tbody>\n",
       "    <tr>\n",
       "      <th>A</th>\n",
       "      <td>1</td>\n",
       "      <td>2</td>\n",
       "      <td>3</td>\n",
       "      <td>10</td>\n",
       "    </tr>\n",
       "    <tr>\n",
       "      <th>B</th>\n",
       "      <td>4</td>\n",
       "      <td>5</td>\n",
       "      <td>6</td>\n",
       "      <td>10</td>\n",
       "    </tr>\n",
       "    <tr>\n",
       "      <th>C</th>\n",
       "      <td>7</td>\n",
       "      <td>8</td>\n",
       "      <td>9</td>\n",
       "      <td>10</td>\n",
       "    </tr>\n",
       "  </tbody>\n",
       "</table>\n",
       "</div>"
      ],
      "text/plain": [
       "   X1  X2  X3  X4\n",
       "A   1   2   3  10\n",
       "B   4   5   6  10\n",
       "C   7   8   9  10"
      ]
     },
     "execution_count": 101,
     "metadata": {
      "tags": []
     },
     "output_type": "execute_result"
    }
   ],
   "source": [
    "#열추가 \n",
    "df['X4'] = #code here \n",
    "df"
   ]
  },
  {
   "cell_type": "code",
   "execution_count": null,
   "metadata": {
    "colab": {
     "base_uri": "https://localhost:8080/",
     "height": 142
    },
    "executionInfo": {
     "elapsed": 676,
     "status": "ok",
     "timestamp": 1612251844730,
     "user": {
      "displayName": "hj Kim",
      "photoUrl": "",
      "userId": "02263672027550517756"
     },
     "user_tz": -540
    },
    "id": "Pl-9hLedsiT6",
    "outputId": "b029733a-66a2-439c-cfab-354f1279f3cf"
   },
   "outputs": [
    {
     "data": {
      "text/html": [
       "<div>\n",
       "<style scoped>\n",
       "    .dataframe tbody tr th:only-of-type {\n",
       "        vertical-align: middle;\n",
       "    }\n",
       "\n",
       "    .dataframe tbody tr th {\n",
       "        vertical-align: top;\n",
       "    }\n",
       "\n",
       "    .dataframe thead th {\n",
       "        text-align: right;\n",
       "    }\n",
       "</style>\n",
       "<table border=\"1\" class=\"dataframe\">\n",
       "  <thead>\n",
       "    <tr style=\"text-align: right;\">\n",
       "      <th></th>\n",
       "      <th>X1</th>\n",
       "      <th>X2</th>\n",
       "      <th>X3</th>\n",
       "      <th>X4</th>\n",
       "      <th>X5</th>\n",
       "    </tr>\n",
       "  </thead>\n",
       "  <tbody>\n",
       "    <tr>\n",
       "      <th>A</th>\n",
       "      <td>1</td>\n",
       "      <td>2</td>\n",
       "      <td>3</td>\n",
       "      <td>10</td>\n",
       "      <td>5</td>\n",
       "    </tr>\n",
       "    <tr>\n",
       "      <th>B</th>\n",
       "      <td>4</td>\n",
       "      <td>5</td>\n",
       "      <td>6</td>\n",
       "      <td>10</td>\n",
       "      <td>11</td>\n",
       "    </tr>\n",
       "    <tr>\n",
       "      <th>C</th>\n",
       "      <td>7</td>\n",
       "      <td>8</td>\n",
       "      <td>9</td>\n",
       "      <td>10</td>\n",
       "      <td>17</td>\n",
       "    </tr>\n",
       "  </tbody>\n",
       "</table>\n",
       "</div>"
      ],
      "text/plain": [
       "   X1  X2  X3  X4  X5\n",
       "A   1   2   3  10   5\n",
       "B   4   5   6  10  11\n",
       "C   7   8   9  10  17"
      ]
     },
     "execution_count": 102,
     "metadata": {
      "tags": []
     },
     "output_type": "execute_result"
    }
   ],
   "source": [
    "#열추가 (X2열과 X3열을 더해서 X5열을 추가)\n",
    "df['X5'] =  #code here\n",
    "df"
   ]
  },
  {
   "cell_type": "code",
   "execution_count": null,
   "metadata": {
    "colab": {
     "base_uri": "https://localhost:8080/",
     "height": 173
    },
    "executionInfo": {
     "elapsed": 602,
     "status": "ok",
     "timestamp": 1612252068925,
     "user": {
      "displayName": "hj Kim",
      "photoUrl": "",
      "userId": "02263672027550517756"
     },
     "user_tz": -540
    },
    "id": "UXxw43wxtH6E",
    "outputId": "d4c13247-6ed7-45c8-be14-1138ac854832"
   },
   "outputs": [
    {
     "data": {
      "text/html": [
       "<div>\n",
       "<style scoped>\n",
       "    .dataframe tbody tr th:only-of-type {\n",
       "        vertical-align: middle;\n",
       "    }\n",
       "\n",
       "    .dataframe tbody tr th {\n",
       "        vertical-align: top;\n",
       "    }\n",
       "\n",
       "    .dataframe thead th {\n",
       "        text-align: right;\n",
       "    }\n",
       "</style>\n",
       "<table border=\"1\" class=\"dataframe\">\n",
       "  <thead>\n",
       "    <tr style=\"text-align: right;\">\n",
       "      <th></th>\n",
       "      <th>X1</th>\n",
       "      <th>X2</th>\n",
       "      <th>X3</th>\n",
       "      <th>X4</th>\n",
       "      <th>X5</th>\n",
       "    </tr>\n",
       "  </thead>\n",
       "  <tbody>\n",
       "    <tr>\n",
       "      <th>A</th>\n",
       "      <td>1</td>\n",
       "      <td>2</td>\n",
       "      <td>3</td>\n",
       "      <td>10.0</td>\n",
       "      <td>5.0</td>\n",
       "    </tr>\n",
       "    <tr>\n",
       "      <th>B</th>\n",
       "      <td>4</td>\n",
       "      <td>5</td>\n",
       "      <td>6</td>\n",
       "      <td>10.0</td>\n",
       "      <td>11.0</td>\n",
       "    </tr>\n",
       "    <tr>\n",
       "      <th>C</th>\n",
       "      <td>7</td>\n",
       "      <td>8</td>\n",
       "      <td>9</td>\n",
       "      <td>10.0</td>\n",
       "      <td>17.0</td>\n",
       "    </tr>\n",
       "    <tr>\n",
       "      <th>0</th>\n",
       "      <td>0</td>\n",
       "      <td>0</td>\n",
       "      <td>0</td>\n",
       "      <td>NaN</td>\n",
       "      <td>NaN</td>\n",
       "    </tr>\n",
       "  </tbody>\n",
       "</table>\n",
       "</div>"
      ],
      "text/plain": [
       "   X1  X2  X3    X4    X5\n",
       "A   1   2   3  10.0   5.0\n",
       "B   4   5   6  10.0  11.0\n",
       "C   7   8   9  10.0  17.0\n",
       "0   0   0   0   NaN   NaN"
      ]
     },
     "execution_count": 108,
     "metadata": {
      "tags": []
     },
     "output_type": "execute_result"
    }
   ],
   "source": [
    "# 행추가\n",
    "df.append(pd.DataFrame({'X1':[0], 'X2':[0], 'X3':[0]})) "
   ]
  },
  {
   "attachments": {},
   "cell_type": "markdown",
   "metadata": {
    "id": "uZO_WcuCMB2M"
   },
   "source": [
    "### 데이터 타입 변경\n"
   ]
  },
  {
   "attachments": {},
   "cell_type": "markdown",
   "metadata": {
    "id": "8iu28WKQMUwo"
   },
   "source": [
    "#### astype(str or dict)\n",
    "- DataFrame의 전체 데이터 유형을 변환하거나 특정 컬럼(Series)만 변경 가능\n",
    "- 전체 데이터 유형을 변환하기 위해서는 변환하고자 하는 데이터 유형을 문자열로 지정\n",
    "- 특정 컬럼의 데이터 유형만 변경하고 싶은 경우 딕셔너리 형태로 지정\n",
    "    - { ‘컬럼명’ : ‘데이터 유형‘}"
   ]
  },
  {
   "cell_type": "code",
   "execution_count": 7,
   "metadata": {
    "colab": {
     "base_uri": "https://localhost:8080/",
     "height": 142
    },
    "executionInfo": {
     "elapsed": 584,
     "status": "ok",
     "timestamp": 1612314436835,
     "user": {
      "displayName": "hj Kim",
      "photoUrl": "",
      "userId": "02263672027550517756"
     },
     "user_tz": -540
    },
    "id": "jQrD1UGiOFYJ",
    "outputId": "ad205673-b0fd-421b-e75c-cb9812d4363a"
   },
   "outputs": [
    {
     "data": {
      "text/html": [
       "<div>\n",
       "<style scoped>\n",
       "    .dataframe tbody tr th:only-of-type {\n",
       "        vertical-align: middle;\n",
       "    }\n",
       "\n",
       "    .dataframe tbody tr th {\n",
       "        vertical-align: top;\n",
       "    }\n",
       "\n",
       "    .dataframe thead th {\n",
       "        text-align: right;\n",
       "    }\n",
       "</style>\n",
       "<table border=\"1\" class=\"dataframe\">\n",
       "  <thead>\n",
       "    <tr style=\"text-align: right;\">\n",
       "      <th></th>\n",
       "      <th>X1</th>\n",
       "      <th>X2</th>\n",
       "      <th>X3</th>\n",
       "    </tr>\n",
       "  </thead>\n",
       "  <tbody>\n",
       "    <tr>\n",
       "      <th>A</th>\n",
       "      <td>1.0</td>\n",
       "      <td>2.0</td>\n",
       "      <td>3.0</td>\n",
       "    </tr>\n",
       "    <tr>\n",
       "      <th>B</th>\n",
       "      <td>4.0</td>\n",
       "      <td>5.0</td>\n",
       "      <td>6.0</td>\n",
       "    </tr>\n",
       "    <tr>\n",
       "      <th>C</th>\n",
       "      <td>7.0</td>\n",
       "      <td>8.0</td>\n",
       "      <td>9.0</td>\n",
       "    </tr>\n",
       "  </tbody>\n",
       "</table>\n",
       "</div>"
      ],
      "text/plain": [
       "    X1   X2   X3\n",
       "A  1.0  2.0  3.0\n",
       "B  4.0  5.0  6.0\n",
       "C  7.0  8.0  9.0"
      ]
     },
     "execution_count": 7,
     "metadata": {
      "tags": []
     },
     "output_type": "execute_result"
    }
   ],
   "source": [
    "# DataFrame df의 dtype을 'float'로 변경\n",
    "# df.dtypes\n",
    "df = df.astype('float')\n",
    "df"
   ]
  },
  {
   "cell_type": "code",
   "execution_count": 8,
   "metadata": {
    "colab": {
     "base_uri": "https://localhost:8080/",
     "height": 142
    },
    "executionInfo": {
     "elapsed": 640,
     "status": "ok",
     "timestamp": 1612314662210,
     "user": {
      "displayName": "hj Kim",
      "photoUrl": "",
      "userId": "02263672027550517756"
     },
     "user_tz": -540
    },
    "id": "B1Dcv9eIOFYJ",
    "outputId": "c5436dd2-316a-48a9-cce0-0bcc4c15d53b"
   },
   "outputs": [
    {
     "data": {
      "text/html": [
       "<div>\n",
       "<style scoped>\n",
       "    .dataframe tbody tr th:only-of-type {\n",
       "        vertical-align: middle;\n",
       "    }\n",
       "\n",
       "    .dataframe tbody tr th {\n",
       "        vertical-align: top;\n",
       "    }\n",
       "\n",
       "    .dataframe thead th {\n",
       "        text-align: right;\n",
       "    }\n",
       "</style>\n",
       "<table border=\"1\" class=\"dataframe\">\n",
       "  <thead>\n",
       "    <tr style=\"text-align: right;\">\n",
       "      <th></th>\n",
       "      <th>X1</th>\n",
       "      <th>X2</th>\n",
       "      <th>X3</th>\n",
       "    </tr>\n",
       "  </thead>\n",
       "  <tbody>\n",
       "    <tr>\n",
       "      <th>A</th>\n",
       "      <td>1.0</td>\n",
       "      <td>2.0</td>\n",
       "      <td>3.0</td>\n",
       "    </tr>\n",
       "    <tr>\n",
       "      <th>B</th>\n",
       "      <td>4.0</td>\n",
       "      <td>5.0</td>\n",
       "      <td>6.0</td>\n",
       "    </tr>\n",
       "    <tr>\n",
       "      <th>C</th>\n",
       "      <td>7.0</td>\n",
       "      <td>8.0</td>\n",
       "      <td>9.0</td>\n",
       "    </tr>\n",
       "  </tbody>\n",
       "</table>\n",
       "</div>"
      ],
      "text/plain": [
       "    X1   X2   X3\n",
       "A  1.0  2.0  3.0\n",
       "B  4.0  5.0  6.0\n",
       "C  7.0  8.0  9.0"
      ]
     },
     "execution_count": 8,
     "metadata": {
      "tags": []
     },
     "output_type": "execute_result"
    }
   ],
   "source": [
    "# DataFrame df의 'X1', 'X3'열에 대한 dtype을 'float'로 변경\n",
    "# dict 객체를 사용함\n",
    "df.astype({'X1':'float', 'X3':'float'})"
   ]
  },
  {
   "attachments": {},
   "cell_type": "markdown",
   "metadata": {
    "id": "oKLCKE6zMZGt"
   },
   "source": [
    "####  pd.to_numeric\n",
    "- pd.to_numeric(1d array or series, errors='ignore', 'raise', 'coerce')\n",
    "- astype을 이용하여 숫자형으로변경하고자하는 경우 에러가 발생할 수 있음\n",
    "    - 숫자형으로 변경이 불가능한 데이터가 존재하는 경우 발생하며 주로 문자열에서 많이\n",
    "발생함\n",
    "- to_numeric 함수를 이용하면 에러 유형에 따라 변환 방법을 지정 가능\n",
    "    - erros를 ignore로 설정하는 경우 에러가 발생하지 않고 변경이 안됨\n",
    "    - erros를 raise로 설정하는 경우 에러를 발생시킴 (기본 값)\n",
    "    - erros를 coerce로 설정하는 경우 에러가 발생한 데이터는 NaN으로 변환"
   ]
  },
  {
   "cell_type": "code",
   "execution_count": 10,
   "metadata": {
    "colab": {
     "base_uri": "https://localhost:8080/"
    },
    "executionInfo": {
     "elapsed": 775,
     "status": "ok",
     "timestamp": 1612314862549,
     "user": {
      "displayName": "hj Kim",
      "photoUrl": "",
      "userId": "02263672027550517756"
     },
     "user_tz": -540
    },
    "id": "KQA_r6cKOFYK",
    "outputId": "82231db8-c52b-470b-9860-39ccbfa9b1f9"
   },
   "outputs": [
    {
     "data": {
      "text/plain": [
       "0    1\n",
       "1    2\n",
       "2    3\n",
       "3    4\n",
       "4    a\n",
       "dtype: object"
      ]
     },
     "execution_count": 10,
     "metadata": {
      "tags": []
     },
     "output_type": "execute_result"
    }
   ],
   "source": [
    "# 문자열 값을 갖는 Series 생성\n",
    "str_series = pd.Series(['1', '2', '3', '4', 'a'])\n",
    "str_series"
   ]
  },
  {
   "cell_type": "code",
   "execution_count": null,
   "metadata": {
    "id": "WCah_9LhQBOF"
   },
   "outputs": [],
   "source": [
    "# 숫자로 변경할 수 없는 'a'가 있어 Error 발생\n",
    "pd.to_numeric(str_series, errors='raise') # Error "
   ]
  },
  {
   "cell_type": "code",
   "execution_count": 12,
   "metadata": {
    "colab": {
     "base_uri": "https://localhost:8080/"
    },
    "executionInfo": {
     "elapsed": 633,
     "status": "ok",
     "timestamp": 1612314892413,
     "user": {
      "displayName": "hj Kim",
      "photoUrl": "",
      "userId": "02263672027550517756"
     },
     "user_tz": -540
    },
    "id": "S8p0xKRBOFYK",
    "outputId": "a82a066c-c00c-4cdf-da76-d89071dc2333"
   },
   "outputs": [
    {
     "data": {
      "text/plain": [
       "0    1\n",
       "1    2\n",
       "2    3\n",
       "3    4\n",
       "4    a\n",
       "dtype: object"
      ]
     },
     "execution_count": 12,
     "metadata": {
      "tags": []
     },
     "output_type": "execute_result"
    }
   ],
   "source": [
    "# 숫자로 변경할 수 없는 'a'가 있어 numeric으로 변환하지 않음\n",
    "pd.to_numeric(str_series, errors='ignore')"
   ]
  },
  {
   "cell_type": "code",
   "execution_count": 13,
   "metadata": {
    "colab": {
     "base_uri": "https://localhost:8080/"
    },
    "executionInfo": {
     "elapsed": 652,
     "status": "ok",
     "timestamp": 1612314931926,
     "user": {
      "displayName": "hj Kim",
      "photoUrl": "",
      "userId": "02263672027550517756"
     },
     "user_tz": -540
    },
    "id": "8bb00H7ROFYK",
    "outputId": "9aefdb16-5a22-4393-db80-1f3f4425a84f"
   },
   "outputs": [
    {
     "data": {
      "text/plain": [
       "0    1.0\n",
       "1    2.0\n",
       "2    3.0\n",
       "3    4.0\n",
       "4    NaN\n",
       "dtype: float64"
      ]
     },
     "execution_count": 13,
     "metadata": {
      "tags": []
     },
     "output_type": "execute_result"
    }
   ],
   "source": [
    "# 숫자로 변경할 수 없는 'a'에 대해 NaN 으로 대체하고 float64로 변경\n",
    "pd.to_numeric(str_series, errors='coerce')    ####"
   ]
  },
  {
   "attachments": {},
   "cell_type": "markdown",
   "metadata": {
    "id": "z8px0r7ZQdS1"
   },
   "source": [
    "#### pd.to_datetime\n",
    "- pd.to_datetime(dataframe)\n",
    "   - DataFrame의 컬럼명이 ‘year’, ‘month’, ‘day’, ‘hour’, ‘minute’, ‘second’, ‘ms’, ‘us’,\n",
    "‘ns’과 같다면 날짜 형식 데이터 반환\n",
    "- pd.to_datetime(1d array or series, format)\n",
    "   - 문자열 또는 숫자로 지정된 데이터를 날짜 형식으로 변환\n",
    "   - format을 지정하면 변환 속도가 빨라짐\n"
   ]
  },
  {
   "cell_type": "code",
   "execution_count": 14,
   "metadata": {
    "colab": {
     "base_uri": "https://localhost:8080/",
     "height": 142
    },
    "executionInfo": {
     "elapsed": 643,
     "status": "ok",
     "timestamp": 1612315060184,
     "user": {
      "displayName": "hj Kim",
      "photoUrl": "",
      "userId": "02263672027550517756"
     },
     "user_tz": -540
    },
    "id": "rV11Uxv3OFYK",
    "outputId": "17851a30-8a0a-4e1e-caef-abd28b83cf1e"
   },
   "outputs": [
    {
     "data": {
      "text/html": [
       "<div>\n",
       "<style scoped>\n",
       "    .dataframe tbody tr th:only-of-type {\n",
       "        vertical-align: middle;\n",
       "    }\n",
       "\n",
       "    .dataframe tbody tr th {\n",
       "        vertical-align: top;\n",
       "    }\n",
       "\n",
       "    .dataframe thead th {\n",
       "        text-align: right;\n",
       "    }\n",
       "</style>\n",
       "<table border=\"1\" class=\"dataframe\">\n",
       "  <thead>\n",
       "    <tr style=\"text-align: right;\">\n",
       "      <th></th>\n",
       "      <th>year</th>\n",
       "      <th>month</th>\n",
       "      <th>day</th>\n",
       "    </tr>\n",
       "  </thead>\n",
       "  <tbody>\n",
       "    <tr>\n",
       "      <th>0</th>\n",
       "      <td>2020</td>\n",
       "      <td>1</td>\n",
       "      <td>1</td>\n",
       "    </tr>\n",
       "    <tr>\n",
       "      <th>1</th>\n",
       "      <td>2019</td>\n",
       "      <td>1</td>\n",
       "      <td>1</td>\n",
       "    </tr>\n",
       "    <tr>\n",
       "      <th>2</th>\n",
       "      <td>2018</td>\n",
       "      <td>1</td>\n",
       "      <td>1</td>\n",
       "    </tr>\n",
       "  </tbody>\n",
       "</table>\n",
       "</div>"
      ],
      "text/plain": [
       "   year  month  day\n",
       "0  2020      1    1\n",
       "1  2019      1    1\n",
       "2  2018      1    1"
      ]
     },
     "execution_count": 14,
     "metadata": {
      "tags": []
     },
     "output_type": "execute_result"
    }
   ],
   "source": [
    "# 특정 열이름(year, month, day)을 갖는 DataFrame 생성\n",
    "date = pd.DataFrame({\n",
    "    'year' : [2020, 2019, 2018],\n",
    "    'month': [1, 1, 1],\n",
    "    'day' : [1, 1, 1]\n",
    "})\n",
    "date"
   ]
  },
  {
   "cell_type": "code",
   "execution_count": 15,
   "metadata": {
    "colab": {
     "base_uri": "https://localhost:8080/"
    },
    "executionInfo": {
     "elapsed": 680,
     "status": "ok",
     "timestamp": 1612315117764,
     "user": {
      "displayName": "hj Kim",
      "photoUrl": "",
      "userId": "02263672027550517756"
     },
     "user_tz": -540
    },
    "id": "9Q0CL8jjOFYL",
    "outputId": "6f877e98-efdc-43ff-ed56-ff3132ed1d58"
   },
   "outputs": [
    {
     "data": {
      "text/plain": [
       "0   2020-01-01\n",
       "1   2019-01-01\n",
       "2   2018-01-01\n",
       "dtype: datetime64[ns]"
      ]
     },
     "execution_count": 15,
     "metadata": {
      "tags": []
     },
     "output_type": "execute_result"
    }
   ],
   "source": [
    "# 특정 열이름(year, month, day)를 갖는 DataFrame을 사용하여 \n",
    "# dtype이 datetime인 Series 생성\n",
    "pd.to_datetime(date)"
   ]
  },
  {
   "cell_type": "code",
   "execution_count": 18,
   "metadata": {
    "colab": {
     "base_uri": "https://localhost:8080/"
    },
    "executionInfo": {
     "elapsed": 659,
     "status": "ok",
     "timestamp": 1612315475603,
     "user": {
      "displayName": "hj Kim",
      "photoUrl": "",
      "userId": "02263672027550517756"
     },
     "user_tz": -540
    },
    "id": "Xk_Thxi6OFYL",
    "outputId": "5e387cb2-f8a9-494c-d76b-7d025aaef37e"
   },
   "outputs": [
    {
     "data": {
      "text/plain": [
       "DatetimeIndex(['2020-01-01', '2019-01-01', '2018-01-01'], dtype='datetime64[ns]', freq=None)"
      ]
     },
     "execution_count": 18,
     "metadata": {
      "tags": []
     },
     "output_type": "execute_result"
    }
   ],
   "source": [
    "# 날짜 형식의 문자열을 item으로 하는 list를 사용하여 \n",
    "# dtype이 datatime인 DatetimeIndex 생성\n",
    "datelist = ['2020-01-01', '2019-01-01', '2018-01-01']\n",
    "pd.to_datetime(datelist, format='%Y-%m-%d')"
   ]
  },
  {
   "cell_type": "code",
   "execution_count": null,
   "metadata": {
    "id": "sLzeF7-bOFYL"
   },
   "outputs": [],
   "source": [
    "# 날짜 형식의 문자열을 item으로 하는 list를 사용하여 \n",
    "# format 지정하여, dtype이 datatime인 DatetimeIndex 생성 \n",
    "date = ['01012020', '01012019', '01012018']\n",
    "#pd.to_datetime(date)  # 자동으로 날짜 형식 인지가 안됨\n",
    "pd.to_datetime(date, format=\"%m%d%Y\")  # 형식을 알려줌"
   ]
  },
  {
   "attachments": {},
   "cell_type": "markdown",
   "metadata": {
    "id": "52bBBACBRYbe"
   },
   "source": [
    "![image.png](data:image/png;base64,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)"
   ]
  },
  {
   "attachments": {},
   "cell_type": "markdown",
   "metadata": {
    "id": "HPu_0Bu2RjNF"
   },
   "source": [
    "#### 날짜 범위 생성\n",
    "- pd.date_range(start, end, periods, freq)\n",
    "   - 특정 날짜/시간 범위의 데이터 생성 가능\n",
    "   - periods(데이터의 개수), freq(생성 주기)"
   ]
  },
  {
   "cell_type": "code",
   "execution_count": 19,
   "metadata": {
    "colab": {
     "base_uri": "https://localhost:8080/"
    },
    "executionInfo": {
     "elapsed": 637,
     "status": "ok",
     "timestamp": 1612315655246,
     "user": {
      "displayName": "hj Kim",
      "photoUrl": "",
      "userId": "02263672027550517756"
     },
     "user_tz": -540
    },
    "id": "f8J5EOUhOFYM",
    "outputId": "1bd7478a-81d9-41a9-cb9c-c23ee9eee621"
   },
   "outputs": [
    {
     "data": {
      "text/plain": [
       "DatetimeIndex(['2020-01-01', '2020-01-02', '2020-01-03', '2020-01-04',\n",
       "               '2020-01-05', '2020-01-06', '2020-01-07', '2020-01-08',\n",
       "               '2020-01-09', '2020-01-10'],\n",
       "              dtype='datetime64[ns]', freq='D')"
      ]
     },
     "execution_count": 19,
     "metadata": {
      "tags": []
     },
     "output_type": "execute_result"
    }
   ],
   "source": [
    "# date_range(start, periods)를 사용하여 \n",
    "# 2020년 1월 1일 ~ 10일까지의 날짜를 갖는 dtype이 datatime인 DatetimeIndex 생성\n",
    "pd.date_range('20200101', periods=10)"
   ]
  },
  {
   "cell_type": "code",
   "execution_count": 22,
   "metadata": {
    "colab": {
     "base_uri": "https://localhost:8080/"
    },
    "executionInfo": {
     "elapsed": 1336,
     "status": "ok",
     "timestamp": 1612315878194,
     "user": {
      "displayName": "hj Kim",
      "photoUrl": "",
      "userId": "02263672027550517756"
     },
     "user_tz": -540
    },
    "id": "JktAhLiUOFYM",
    "outputId": "fa3d8369-1d48-49b4-8795-4079727d4915"
   },
   "outputs": [
    {
     "data": {
      "text/plain": [
       "DatetimeIndex(['2020-01-01 00:00:00', '2020-01-01 00:00:01',\n",
       "               '2020-01-01 00:00:02', '2020-01-01 00:00:03',\n",
       "               '2020-01-01 00:00:04', '2020-01-01 00:00:05',\n",
       "               '2020-01-01 00:00:06', '2020-01-01 00:00:07',\n",
       "               '2020-01-01 00:00:08', '2020-01-01 00:00:09',\n",
       "               ...\n",
       "               '2020-12-30 23:59:51', '2020-12-30 23:59:52',\n",
       "               '2020-12-30 23:59:53', '2020-12-30 23:59:54',\n",
       "               '2020-12-30 23:59:55', '2020-12-30 23:59:56',\n",
       "               '2020-12-30 23:59:57', '2020-12-30 23:59:58',\n",
       "               '2020-12-30 23:59:59', '2020-12-31 00:00:00'],\n",
       "              dtype='datetime64[ns]', length=31536001, freq='S')"
      ]
     },
     "execution_count": 22,
     "metadata": {
      "tags": []
     },
     "output_type": "execute_result"
    }
   ],
   "source": [
    "# date_range(start, end, freq='S')를 사용하여 \n",
    "# 2020-01-01 00:00:00  ~ 2020-12-31 00:00:00 까지의 데이터를 갖는 \n",
    "# dtype이 datatime인 DatetimeIndex 생성\n",
    "index = pd.date_range('2020-01-01','2020-12-31', freq='S')\n",
    "index\n",
    "#pd.DataFrame(값, index = pd.date_range('2020-01-01','2020-12-31', freq='S') )"
   ]
  },
  {
   "attachments": {},
   "cell_type": "markdown",
   "metadata": {
    "id": "fHKMUsSBSdrA"
   },
   "source": [
    "###  데이터 삭제\n",
    "- drop(labels, axis, inplace)\n",
    "   - labels로 지정된 행(axis=0) 또는 열(axis=1)이 삭제된 결과 반환\n",
    "   - 삭제 대상이 여러 개인 경우 행 또는 **열 인덱스를 [ ]로 묶어서 설정**\n",
    "   - 결과를 반환하지 않고 원본에 바로 적용하고자 하는 경우 inplace를 True로 설정"
   ]
  },
  {
   "cell_type": "code",
   "execution_count": 23,
   "metadata": {
    "colab": {
     "base_uri": "https://localhost:8080/",
     "height": 142
    },
    "executionInfo": {
     "elapsed": 669,
     "status": "ok",
     "timestamp": 1612316098070,
     "user": {
      "displayName": "hj Kim",
      "photoUrl": "",
      "userId": "02263672027550517756"
     },
     "user_tz": -540
    },
    "id": "z6Zp1bKhatrw",
    "outputId": "8f6c7cb4-7e23-4ef1-ffb4-33290d700ea2"
   },
   "outputs": [
    {
     "data": {
      "text/html": [
       "<div>\n",
       "<style scoped>\n",
       "    .dataframe tbody tr th:only-of-type {\n",
       "        vertical-align: middle;\n",
       "    }\n",
       "\n",
       "    .dataframe tbody tr th {\n",
       "        vertical-align: top;\n",
       "    }\n",
       "\n",
       "    .dataframe thead th {\n",
       "        text-align: right;\n",
       "    }\n",
       "</style>\n",
       "<table border=\"1\" class=\"dataframe\">\n",
       "  <thead>\n",
       "    <tr style=\"text-align: right;\">\n",
       "      <th></th>\n",
       "      <th>X1</th>\n",
       "      <th>X2</th>\n",
       "      <th>X3</th>\n",
       "    </tr>\n",
       "  </thead>\n",
       "  <tbody>\n",
       "    <tr>\n",
       "      <th>A</th>\n",
       "      <td>1.0</td>\n",
       "      <td>2.0</td>\n",
       "      <td>3.0</td>\n",
       "    </tr>\n",
       "    <tr>\n",
       "      <th>B</th>\n",
       "      <td>4.0</td>\n",
       "      <td>5.0</td>\n",
       "      <td>6.0</td>\n",
       "    </tr>\n",
       "    <tr>\n",
       "      <th>C</th>\n",
       "      <td>7.0</td>\n",
       "      <td>8.0</td>\n",
       "      <td>9.0</td>\n",
       "    </tr>\n",
       "  </tbody>\n",
       "</table>\n",
       "</div>"
      ],
      "text/plain": [
       "    X1   X2   X3\n",
       "A  1.0  2.0  3.0\n",
       "B  4.0  5.0  6.0\n",
       "C  7.0  8.0  9.0"
      ]
     },
     "execution_count": 23,
     "metadata": {
      "tags": []
     },
     "output_type": "execute_result"
    }
   ],
   "source": [
    "df"
   ]
  },
  {
   "cell_type": "code",
   "execution_count": 26,
   "metadata": {
    "executionInfo": {
     "elapsed": 719,
     "status": "ok",
     "timestamp": 1612316250130,
     "user": {
      "displayName": "hj Kim",
      "photoUrl": "",
      "userId": "02263672027550517756"
     },
     "user_tz": -540
    },
    "id": "PLQ6IZisOFYM"
   },
   "outputs": [],
   "source": [
    "# DataFrame에서 행 인덱스가 'A'인 행 삭제 : drop()\n",
    " #code here "
   ]
  },
  {
   "cell_type": "code",
   "execution_count": 27,
   "metadata": {
    "colab": {
     "base_uri": "https://localhost:8080/",
     "height": 111
    },
    "executionInfo": {
     "elapsed": 633,
     "status": "ok",
     "timestamp": 1612316254092,
     "user": {
      "displayName": "hj Kim",
      "photoUrl": "",
      "userId": "02263672027550517756"
     },
     "user_tz": -540
    },
    "id": "j0Xf9hDCiNxB",
    "outputId": "829c7dbe-0e98-45c9-a6f2-86a97a8ab287"
   },
   "outputs": [
    {
     "data": {
      "text/html": [
       "<div>\n",
       "<style scoped>\n",
       "    .dataframe tbody tr th:only-of-type {\n",
       "        vertical-align: middle;\n",
       "    }\n",
       "\n",
       "    .dataframe tbody tr th {\n",
       "        vertical-align: top;\n",
       "    }\n",
       "\n",
       "    .dataframe thead th {\n",
       "        text-align: right;\n",
       "    }\n",
       "</style>\n",
       "<table border=\"1\" class=\"dataframe\">\n",
       "  <thead>\n",
       "    <tr style=\"text-align: right;\">\n",
       "      <th></th>\n",
       "      <th>X1</th>\n",
       "      <th>X2</th>\n",
       "      <th>X3</th>\n",
       "    </tr>\n",
       "  </thead>\n",
       "  <tbody>\n",
       "    <tr>\n",
       "      <th>B</th>\n",
       "      <td>4.0</td>\n",
       "      <td>5.0</td>\n",
       "      <td>6.0</td>\n",
       "    </tr>\n",
       "    <tr>\n",
       "      <th>C</th>\n",
       "      <td>7.0</td>\n",
       "      <td>8.0</td>\n",
       "      <td>9.0</td>\n",
       "    </tr>\n",
       "  </tbody>\n",
       "</table>\n",
       "</div>"
      ],
      "text/plain": [
       "    X1   X2   X3\n",
       "B  4.0  5.0  6.0\n",
       "C  7.0  8.0  9.0"
      ]
     },
     "execution_count": 27,
     "metadata": {
      "tags": []
     },
     "output_type": "execute_result"
    }
   ],
   "source": [
    "df"
   ]
  },
  {
   "cell_type": "code",
   "execution_count": 28,
   "metadata": {
    "colab": {
     "base_uri": "https://localhost:8080/",
     "height": 111
    },
    "executionInfo": {
     "elapsed": 927,
     "status": "ok",
     "timestamp": 1612316373791,
     "user": {
      "displayName": "hj Kim",
      "photoUrl": "",
      "userId": "02263672027550517756"
     },
     "user_tz": -540
    },
    "id": "5zutQgrNOFYM",
    "outputId": "a809d2d5-3e1b-4ad9-acc8-8a0365cc09fc"
   },
   "outputs": [
    {
     "data": {
      "text/html": [
       "<div>\n",
       "<style scoped>\n",
       "    .dataframe tbody tr th:only-of-type {\n",
       "        vertical-align: middle;\n",
       "    }\n",
       "\n",
       "    .dataframe tbody tr th {\n",
       "        vertical-align: top;\n",
       "    }\n",
       "\n",
       "    .dataframe thead th {\n",
       "        text-align: right;\n",
       "    }\n",
       "</style>\n",
       "<table border=\"1\" class=\"dataframe\">\n",
       "  <thead>\n",
       "    <tr style=\"text-align: right;\">\n",
       "      <th></th>\n",
       "      <th>X2</th>\n",
       "    </tr>\n",
       "  </thead>\n",
       "  <tbody>\n",
       "    <tr>\n",
       "      <th>B</th>\n",
       "      <td>5.0</td>\n",
       "    </tr>\n",
       "    <tr>\n",
       "      <th>C</th>\n",
       "      <td>8.0</td>\n",
       "    </tr>\n",
       "  </tbody>\n",
       "</table>\n",
       "</div>"
      ],
      "text/plain": [
       "    X2\n",
       "B  5.0\n",
       "C  8.0"
      ]
     },
     "execution_count": 28,
     "metadata": {
      "tags": []
     },
     "output_type": "execute_result"
    }
   ],
   "source": [
    "# DataFrame에서 열 인덱스가 ['X1', 'X3']인 열 삭제 \n",
    "df.drop(['X1', 'X3'], axis=1)  \n"
   ]
  },
  {
   "attachments": {},
   "cell_type": "markdown",
   "metadata": {
    "id": "YvggFROwS0Wn"
   },
   "source": [
    "### 데이터 구간별 범주화\n",
    "- pd.cut(x, bins, right, labels, …)\n",
    "- 연속 데이터를 구간별 범주화"
   ]
  },
  {
   "cell_type": "code",
   "execution_count": 12,
   "metadata": {
    "colab": {
     "base_uri": "https://localhost:8080/"
    },
    "executionInfo": {
     "elapsed": 646,
     "status": "ok",
     "timestamp": 1612316998724,
     "user": {
      "displayName": "hj Kim",
      "photoUrl": "",
      "userId": "02263672027550517756"
     },
     "user_tz": -540
    },
    "id": "DfJ13FtYOFYN",
    "outputId": "6be7ef43-ac4b-4bd3-93f6-08207431438c"
   },
   "outputs": [
    {
     "data": {
      "text/plain": [
       "['어린이', '청년', '어린이', '청년', '청년', ..., '노년', '청년', '중년', '장년', NaN]\n",
       "Length: 12\n",
       "Categories (5, object): ['어린이' < '청년' < '장년' < '중년' < '노년']"
      ]
     },
     "execution_count": 12,
     "metadata": {},
     "output_type": "execute_result"
    }
   ],
   "source": [
    "import pandas as pd\n",
    "ages = [0, 15, 10, 21, 23, 37, 31, 61, 20, 41, 32, 100]\n",
    "bins = [0, 15, 25, 35, 60, 100]\n",
    "labels = ['어린이', '청년', '장년', '중년', '노년']\n",
    "cuts = pd.cut(ages, bins, right=False, labels=labels)\n",
    "cuts"
   ]
  },
  {
   "cell_type": "code",
   "execution_count": 14,
   "metadata": {},
   "outputs": [
    {
     "data": {
      "text/plain": [
       "['어린이', '어린이', '어린이', '청년', '청년', ..., '노년', '청년', '중년', '장년', '노년']\n",
       "Length: 12\n",
       "Categories (5, object): ['어린이' < '청년' < '장년' < '중년' < '노년']"
      ]
     },
     "execution_count": 14,
     "metadata": {},
     "output_type": "execute_result"
    }
   ],
   "source": [
    "pd.cut(ages, bins, labels=labels, include_lowest=True)\n"
   ]
  },
  {
   "cell_type": "code",
   "execution_count": 32,
   "metadata": {
    "colab": {
     "base_uri": "https://localhost:8080/"
    },
    "executionInfo": {
     "elapsed": 609,
     "status": "ok",
     "timestamp": 1612317000856,
     "user": {
      "displayName": "hj Kim",
      "photoUrl": "",
      "userId": "02263672027550517756"
     },
     "user_tz": -540
    },
    "id": "QfeUJmtLlLAQ",
    "outputId": "d5d87bd4-a921-4ea2-ed17-8f2d3b594c4e"
   },
   "outputs": [
    {
     "data": {
      "text/plain": [
       "어린이    2\n",
       "청년     4\n",
       "장년     2\n",
       "중년     2\n",
       "노년     1\n",
       "dtype: int64"
      ]
     },
     "execution_count": 32,
     "metadata": {
      "tags": []
     },
     "output_type": "execute_result"
    }
   ],
   "source": [
    "cuts.value_counts()"
   ]
  },
  {
   "cell_type": "code",
   "execution_count": 10,
   "metadata": {},
   "outputs": [
    {
     "data": {
      "text/plain": [
       "X1    int64\n",
       "X2    int64\n",
       "X3    int64\n",
       "dtype: object"
      ]
     },
     "execution_count": 10,
     "metadata": {},
     "output_type": "execute_result"
    }
   ],
   "source": [
    "# dtypes : 판다스에서 여러열의 데이터 타입리턴  (모든 Pandas 개체에있는 속성)\n",
    "# dtype : 데이터의 타입리턴 (모든 NumPy 배열에있는 속성)\n",
    "\n",
    "df.dtypes"
   ]
  },
  {
   "attachments": {},
   "cell_type": "markdown",
   "metadata": {
    "id": "3eZdb7UOS9xM"
   },
   "source": [
    "## 통계함수\n",
    "- Pandas는 배열의 주어진 요소로 부터 최소, 최대, 백분위수, 표준 편차, 분산 등을 찾\n",
    "는데 유용한 통계 함수가 존재\n",
    "- 통계 함수는 배열에서 요소별로 작동하며axis 옵션을 통해 연산 방향을 지정할 수 있\n",
    "음\n",
    "    - axis이 0으로 지정 된 경우 행과 행의 연산 결과 반환 (기본 값)\n",
    "    - axis이 1로 지정 된 경우 열과 열의 연산 결과 반환\n",
    "- min, max, sum, mean, median, quantile, std, var, corrcoef, argmin, argmax,\n",
    "cumsum, cumprod 등"
   ]
  },
  {
   "cell_type": "code",
   "execution_count": 2,
   "metadata": {},
   "outputs": [
    {
     "data": {
      "text/html": [
       "<div>\n",
       "<style scoped>\n",
       "    .dataframe tbody tr th:only-of-type {\n",
       "        vertical-align: middle;\n",
       "    }\n",
       "\n",
       "    .dataframe tbody tr th {\n",
       "        vertical-align: top;\n",
       "    }\n",
       "\n",
       "    .dataframe thead th {\n",
       "        text-align: right;\n",
       "    }\n",
       "</style>\n",
       "<table border=\"1\" class=\"dataframe\">\n",
       "  <thead>\n",
       "    <tr style=\"text-align: right;\">\n",
       "      <th></th>\n",
       "      <th>X1</th>\n",
       "      <th>X2</th>\n",
       "      <th>X3</th>\n",
       "    </tr>\n",
       "  </thead>\n",
       "  <tbody>\n",
       "    <tr>\n",
       "      <th>A</th>\n",
       "      <td>1</td>\n",
       "      <td>2</td>\n",
       "      <td>3</td>\n",
       "    </tr>\n",
       "    <tr>\n",
       "      <th>B</th>\n",
       "      <td>4</td>\n",
       "      <td>5</td>\n",
       "      <td>6</td>\n",
       "    </tr>\n",
       "    <tr>\n",
       "      <th>C</th>\n",
       "      <td>7</td>\n",
       "      <td>8</td>\n",
       "      <td>9</td>\n",
       "    </tr>\n",
       "  </tbody>\n",
       "</table>\n",
       "</div>"
      ],
      "text/plain": [
       "   X1  X2  X3\n",
       "A   1   2   3\n",
       "B   4   5   6\n",
       "C   7   8   9"
      ]
     },
     "execution_count": 2,
     "metadata": {},
     "output_type": "execute_result"
    }
   ],
   "source": [
    "import pandas as pd \n",
    "df = pd.DataFrame([[1, 2, 3], \n",
    "                   [4, 5, 6], \n",
    "                   [7, 8, 9]],\n",
    "                  index=['A', 'B', 'C'], columns=['X1', 'X2', 'X3'])\n",
    "df"
   ]
  },
  {
   "cell_type": "code",
   "execution_count": 3,
   "metadata": {
    "colab": {
     "base_uri": "https://localhost:8080/"
    },
    "executionInfo": {
     "elapsed": 602,
     "status": "ok",
     "timestamp": 1612318276858,
     "user": {
      "displayName": "hj Kim",
      "photoUrl": "",
      "userId": "02263672027550517756"
     },
     "user_tz": -540
    },
    "id": "JW0O0M84OFYN",
    "outputId": "11bd4785-c3a0-4e8d-ba72-5b7804dad7b4"
   },
   "outputs": [
    {
     "data": {
      "text/plain": [
       "X1    12\n",
       "X2    15\n",
       "X3    18\n",
       "dtype: int64"
      ]
     },
     "execution_count": 3,
     "metadata": {},
     "output_type": "execute_result"
    }
   ],
   "source": [
    "# DataFrame df의 행과 행의 합(sum)결과 반환\n",
    " #code here"
   ]
  },
  {
   "cell_type": "code",
   "execution_count": 4,
   "metadata": {
    "colab": {
     "base_uri": "https://localhost:8080/"
    },
    "executionInfo": {
     "elapsed": 634,
     "status": "ok",
     "timestamp": 1612318314724,
     "user": {
      "displayName": "hj Kim",
      "photoUrl": "",
      "userId": "02263672027550517756"
     },
     "user_tz": -540
    },
    "id": "RICXz-5kOFYO",
    "outputId": "b925947b-0324-4cbc-ea4f-8428223e1949"
   },
   "outputs": [
    {
     "data": {
      "text/plain": [
       "A     6\n",
       "B    15\n",
       "C    24\n",
       "dtype: int64"
      ]
     },
     "execution_count": 4,
     "metadata": {},
     "output_type": "execute_result"
    }
   ],
   "source": [
    "# DataFrame df의 열과 열의 합(sum)결과 반환 axis=1 \n",
    " #code here"
   ]
  },
  {
   "cell_type": "code",
   "execution_count": 5,
   "metadata": {
    "colab": {
     "base_uri": "https://localhost:8080/",
     "height": 297
    },
    "executionInfo": {
     "elapsed": 727,
     "status": "ok",
     "timestamp": 1612318376793,
     "user": {
      "displayName": "hj Kim",
      "photoUrl": "",
      "userId": "02263672027550517756"
     },
     "user_tz": -540
    },
    "id": "N-pxZ0bUOFYO",
    "outputId": "8dc7e69b-545e-4fe0-8804-5cae3c8d0ece"
   },
   "outputs": [
    {
     "data": {
      "text/html": [
       "<div>\n",
       "<style scoped>\n",
       "    .dataframe tbody tr th:only-of-type {\n",
       "        vertical-align: middle;\n",
       "    }\n",
       "\n",
       "    .dataframe tbody tr th {\n",
       "        vertical-align: top;\n",
       "    }\n",
       "\n",
       "    .dataframe thead th {\n",
       "        text-align: right;\n",
       "    }\n",
       "</style>\n",
       "<table border=\"1\" class=\"dataframe\">\n",
       "  <thead>\n",
       "    <tr style=\"text-align: right;\">\n",
       "      <th></th>\n",
       "      <th>X1</th>\n",
       "      <th>X2</th>\n",
       "      <th>X3</th>\n",
       "    </tr>\n",
       "  </thead>\n",
       "  <tbody>\n",
       "    <tr>\n",
       "      <th>count</th>\n",
       "      <td>3.0</td>\n",
       "      <td>3.0</td>\n",
       "      <td>3.0</td>\n",
       "    </tr>\n",
       "    <tr>\n",
       "      <th>mean</th>\n",
       "      <td>4.0</td>\n",
       "      <td>5.0</td>\n",
       "      <td>6.0</td>\n",
       "    </tr>\n",
       "    <tr>\n",
       "      <th>std</th>\n",
       "      <td>3.0</td>\n",
       "      <td>3.0</td>\n",
       "      <td>3.0</td>\n",
       "    </tr>\n",
       "    <tr>\n",
       "      <th>min</th>\n",
       "      <td>1.0</td>\n",
       "      <td>2.0</td>\n",
       "      <td>3.0</td>\n",
       "    </tr>\n",
       "    <tr>\n",
       "      <th>25%</th>\n",
       "      <td>2.5</td>\n",
       "      <td>3.5</td>\n",
       "      <td>4.5</td>\n",
       "    </tr>\n",
       "    <tr>\n",
       "      <th>50%</th>\n",
       "      <td>4.0</td>\n",
       "      <td>5.0</td>\n",
       "      <td>6.0</td>\n",
       "    </tr>\n",
       "    <tr>\n",
       "      <th>75%</th>\n",
       "      <td>5.5</td>\n",
       "      <td>6.5</td>\n",
       "      <td>7.5</td>\n",
       "    </tr>\n",
       "    <tr>\n",
       "      <th>max</th>\n",
       "      <td>7.0</td>\n",
       "      <td>8.0</td>\n",
       "      <td>9.0</td>\n",
       "    </tr>\n",
       "  </tbody>\n",
       "</table>\n",
       "</div>"
      ],
      "text/plain": [
       "        X1   X2   X3\n",
       "count  3.0  3.0  3.0\n",
       "mean   4.0  5.0  6.0\n",
       "std    3.0  3.0  3.0\n",
       "min    1.0  2.0  3.0\n",
       "25%    2.5  3.5  4.5\n",
       "50%    4.0  5.0  6.0\n",
       "75%    5.5  6.5  7.5\n",
       "max    7.0  8.0  9.0"
      ]
     },
     "execution_count": 5,
     "metadata": {},
     "output_type": "execute_result"
    }
   ],
   "source": [
    "# DataFrame df의 열별 통계 값 출력\n",
    "# count, mean, std, min, 25%, 50%, 75%, max\n",
    "df.describe()"
   ]
  },
  {
   "cell_type": "code",
   "execution_count": 6,
   "metadata": {},
   "outputs": [
    {
     "data": {
      "text/plain": [
       "X1    3\n",
       "X2    3\n",
       "X3    3\n",
       "dtype: int64"
      ]
     },
     "execution_count": 6,
     "metadata": {},
     "output_type": "execute_result"
    }
   ],
   "source": [
    "#DataFrame 전체의 개수를 구하는 경우: count()\n",
    "#code here"
   ]
  },
  {
   "cell_type": "code",
   "execution_count": 8,
   "metadata": {},
   "outputs": [
    {
     "data": {
      "text/plain": [
       "3"
      ]
     },
     "execution_count": 8,
     "metadata": {},
     "output_type": "execute_result"
    }
   ],
   "source": [
    "#단일 column의 데이터 개수를 구하는 경우 \n",
    "# X1 컬럼만 뽑아 count 함수를 적용해보세요.\n",
    "#code here"
   ]
  },
  {
   "cell_type": "code",
   "execution_count": 9,
   "metadata": {},
   "outputs": [
    {
     "data": {
      "text/plain": [
       "X1    4.0\n",
       "X2    5.0\n",
       "X3    6.0\n",
       "dtype: float64"
      ]
     },
     "execution_count": 9,
     "metadata": {},
     "output_type": "execute_result"
    }
   ],
   "source": [
    "#DataFrame 평균 \n",
    "df.mean()"
   ]
  },
  {
   "cell_type": "code",
   "execution_count": 10,
   "metadata": {},
   "outputs": [
    {
     "data": {
      "text/plain": [
       "4.0"
      ]
     },
     "execution_count": 10,
     "metadata": {},
     "output_type": "execute_result"
    }
   ],
   "source": [
    "#Column 평균 \n",
    "df['X1'].mean()"
   ]
  },
  {
   "cell_type": "code",
   "execution_count": 12,
   "metadata": {},
   "outputs": [
    {
     "data": {
      "text/plain": [
       "5.5"
      ]
     },
     "execution_count": 12,
     "metadata": {},
     "output_type": "execute_result"
    }
   ],
   "source": [
    "# 조건별 평균도 계산 가능 \n",
    "condition = (df['X1'] > 3)\n",
    "df.loc[condition, 'X1'].mean()"
   ]
  },
  {
   "attachments": {},
   "cell_type": "markdown",
   "metadata": {},
   "source": [
    "#### skipna=True 옵션 \n",
    "- 기술통계 함수에서는 skipna=True 가 기본으로 설정 \n",
    "    - 만약, skipna=False로 설정하게 된다면 NaN값이 있는 column은 NaN값으로 출력 "
   ]
  },
  {
   "cell_type": "code",
   "execution_count": 41,
   "metadata": {
    "colab": {
     "base_uri": "https://localhost:8080/",
     "height": 142
    },
    "executionInfo": {
     "elapsed": 657,
     "status": "ok",
     "timestamp": 1612318473912,
     "user": {
      "displayName": "hj Kim",
      "photoUrl": "",
      "userId": "02263672027550517756"
     },
     "user_tz": -540
    },
    "id": "sVLueV2HqgBE",
    "outputId": "bd739c26-a915-418f-f475-835d32971ad1"
   },
   "outputs": [
    {
     "data": {
      "text/html": [
       "<div>\n",
       "<style scoped>\n",
       "    .dataframe tbody tr th:only-of-type {\n",
       "        vertical-align: middle;\n",
       "    }\n",
       "\n",
       "    .dataframe tbody tr th {\n",
       "        vertical-align: top;\n",
       "    }\n",
       "\n",
       "    .dataframe thead th {\n",
       "        text-align: right;\n",
       "    }\n",
       "</style>\n",
       "<table border=\"1\" class=\"dataframe\">\n",
       "  <thead>\n",
       "    <tr style=\"text-align: right;\">\n",
       "      <th></th>\n",
       "      <th>X1</th>\n",
       "      <th>X2</th>\n",
       "      <th>X3</th>\n",
       "    </tr>\n",
       "  </thead>\n",
       "  <tbody>\n",
       "    <tr>\n",
       "      <th>A</th>\n",
       "      <td>1</td>\n",
       "      <td>2</td>\n",
       "      <td>3</td>\n",
       "    </tr>\n",
       "    <tr>\n",
       "      <th>B</th>\n",
       "      <td>4</td>\n",
       "      <td>5</td>\n",
       "      <td>6</td>\n",
       "    </tr>\n",
       "    <tr>\n",
       "      <th>C</th>\n",
       "      <td>7</td>\n",
       "      <td>8</td>\n",
       "      <td>9</td>\n",
       "    </tr>\n",
       "  </tbody>\n",
       "</table>\n",
       "</div>"
      ],
      "text/plain": [
       "   X1  X2  X3\n",
       "A   1   2   3\n",
       "B   4   5   6\n",
       "C   7   8   9"
      ]
     },
     "execution_count": 41,
     "metadata": {
      "tags": []
     },
     "output_type": "execute_result"
    }
   ],
   "source": [
    "df"
   ]
  },
  {
   "cell_type": "code",
   "execution_count": 16,
   "metadata": {
    "id": "aGMUGCLqq3le"
   },
   "outputs": [
    {
     "data": {
      "text/html": [
       "<div>\n",
       "<style scoped>\n",
       "    .dataframe tbody tr th:only-of-type {\n",
       "        vertical-align: middle;\n",
       "    }\n",
       "\n",
       "    .dataframe tbody tr th {\n",
       "        vertical-align: top;\n",
       "    }\n",
       "\n",
       "    .dataframe thead th {\n",
       "        text-align: right;\n",
       "    }\n",
       "</style>\n",
       "<table border=\"1\" class=\"dataframe\">\n",
       "  <thead>\n",
       "    <tr style=\"text-align: right;\">\n",
       "      <th></th>\n",
       "      <th>X1</th>\n",
       "      <th>X2</th>\n",
       "      <th>X3</th>\n",
       "    </tr>\n",
       "  </thead>\n",
       "  <tbody>\n",
       "    <tr>\n",
       "      <th>A</th>\n",
       "      <td>NaN</td>\n",
       "      <td>2</td>\n",
       "      <td>3</td>\n",
       "    </tr>\n",
       "    <tr>\n",
       "      <th>B</th>\n",
       "      <td>4.0</td>\n",
       "      <td>5</td>\n",
       "      <td>6</td>\n",
       "    </tr>\n",
       "    <tr>\n",
       "      <th>C</th>\n",
       "      <td>7.0</td>\n",
       "      <td>8</td>\n",
       "      <td>9</td>\n",
       "    </tr>\n",
       "  </tbody>\n",
       "</table>\n",
       "</div>"
      ],
      "text/plain": [
       "    X1  X2  X3\n",
       "A  NaN   2   3\n",
       "B  4.0   5   6\n",
       "C  7.0   8   9"
      ]
     },
     "execution_count": 16,
     "metadata": {},
     "output_type": "execute_result"
    }
   ],
   "source": [
    "#NaN이 있는 경우 \n",
    "import numpy as np \n",
    "df.loc['A', 'X1'] = np.NaN\n",
    "df"
   ]
  },
  {
   "cell_type": "code",
   "execution_count": 17,
   "metadata": {},
   "outputs": [
    {
     "data": {
      "text/plain": [
       "X1    NaN\n",
       "X2    5.0\n",
       "X3    6.0\n",
       "dtype: float64"
      ]
     },
     "execution_count": 17,
     "metadata": {},
     "output_type": "execute_result"
    }
   ],
   "source": [
    "df.mean(skipna=False)    "
   ]
  },
  {
   "cell_type": "code",
   "execution_count": 18,
   "metadata": {},
   "outputs": [
    {
     "data": {
      "text/plain": [
       "X1    5.5\n",
       "X2    5.0\n",
       "X3    6.0\n",
       "dtype: float64"
      ]
     },
     "execution_count": 18,
     "metadata": {},
     "output_type": "execute_result"
    }
   ],
   "source": [
    "df.mean(skipna=True)"
   ]
  },
  {
   "attachments": {},
   "cell_type": "markdown",
   "metadata": {},
   "source": [
    "#### median() 중앙값\n",
    "- 데이터의 중앙값을 출력 \n",
    "    - 중앙값: 데이터를 오름차순으로 정렬하여 중앙에 위치한 값 \n",
    "- 이상치(Outlier)가 존재하는 경우, 평균보다 중앙값을 대표값으로 더 선호 "
   ]
  },
  {
   "cell_type": "code",
   "execution_count": 19,
   "metadata": {},
   "outputs": [
    {
     "data": {
      "text/plain": [
       "3.0"
      ]
     },
     "execution_count": 19,
     "metadata": {},
     "output_type": "execute_result"
    }
   ],
   "source": [
    "pd.Series([1,2,3,4,5]).median()"
   ]
  },
  {
   "cell_type": "code",
   "execution_count": 20,
   "metadata": {},
   "outputs": [
    {
     "data": {
      "text/plain": [
       "3.0"
      ]
     },
     "execution_count": 20,
     "metadata": {},
     "output_type": "execute_result"
    }
   ],
   "source": [
    "pd.Series([4,5,1,2,3]).median()"
   ]
  },
  {
   "cell_type": "code",
   "execution_count": 22,
   "metadata": {},
   "outputs": [
    {
     "data": {
      "text/plain": [
       "3.5"
      ]
     },
     "execution_count": 22,
     "metadata": {},
     "output_type": "execute_result"
    }
   ],
   "source": [
    "# 짝수개의 데이터가 있는 경우, 가운데 2개 중앙 데이터의 평균값을 출력 \n",
    "pd.Series([1,2,3,4,5,6]).median()"
   ]
  },
  {
   "cell_type": "code",
   "execution_count": 32,
   "metadata": {},
   "outputs": [
    {
     "name": "stdout",
     "output_type": "stream",
     "text": [
      "평균: 4.16667\n",
      "중앙값: 3.50000\n",
      "차이: 0.66667 \n"
     ]
    }
   ],
   "source": [
    "# 평균과 중앙값은 약간의 차이 있음 \n",
    "s = pd.Series([1,2,3,4,5,10])\n",
    "print(f'''평균: {s.mean():.5f}\n",
    "중앙값: {s.median():.5f}\n",
    "차이: {s.mean() - s.median():.5f} ''')"
   ]
  },
  {
   "attachments": {},
   "cell_type": "markdown",
   "metadata": {},
   "source": [
    "#### sum() 합계\n",
    "- NaN을 제외한 데이터 합계 \n",
    "    - 문자열 column은 모든 데이터가 붙어서 출력될수 있음 "
   ]
  },
  {
   "cell_type": "code",
   "execution_count": 33,
   "metadata": {},
   "outputs": [
    {
     "data": {
      "text/plain": [
       "X1    11.0\n",
       "X2    15.0\n",
       "X3    18.0\n",
       "dtype: float64"
      ]
     },
     "execution_count": 33,
     "metadata": {},
     "output_type": "execute_result"
    }
   ],
   "source": [
    "df.sum()"
   ]
  },
  {
   "cell_type": "code",
   "execution_count": 36,
   "metadata": {},
   "outputs": [
    {
     "data": {
      "text/plain": [
       "11.0"
      ]
     },
     "execution_count": 36,
     "metadata": {},
     "output_type": "execute_result"
    }
   ],
   "source": [
    "df['X1'].sum()"
   ]
  },
  {
   "attachments": {},
   "cell_type": "markdown",
   "metadata": {},
   "source": [
    "#### var() - 분산 \n",
    "- 어떤 대상의 흩어진 정도나 상태로 편차 제곱의 평균값으로 계산 가능 \n"
   ]
  },
  {
   "cell_type": "code",
   "execution_count": 51,
   "metadata": {},
   "outputs": [
    {
     "data": {
      "text/plain": [
       "9.0"
      ]
     },
     "execution_count": 51,
     "metadata": {},
     "output_type": "execute_result"
    }
   ],
   "source": [
    "# 평균 \n",
    "m = df['X2'].values.mean()\n",
    "\n",
    "#분산 \n",
    "v = ((df['X2'].values - m)**2).sum() /\\\n",
    "    (df['X2'].count() - 1)\n",
    "\n",
    "v"
   ]
  },
  {
   "cell_type": "code",
   "execution_count": 52,
   "metadata": {},
   "outputs": [
    {
     "data": {
      "text/plain": [
       "9.0"
      ]
     },
     "execution_count": 52,
     "metadata": {},
     "output_type": "execute_result"
    }
   ],
   "source": [
    "df['X2'].var()"
   ]
  },
  {
   "attachments": {},
   "cell_type": "markdown",
   "metadata": {},
   "source": [
    "#### std() 표준편차 \n",
    "- 표준편차는 자료의 산포도를 나타내는 수치로 분산의 양의 제곱근으로 정의 "
   ]
  },
  {
   "cell_type": "code",
   "execution_count": 53,
   "metadata": {},
   "outputs": [
    {
     "data": {
      "text/plain": [
       "3.0"
      ]
     },
     "execution_count": 53,
     "metadata": {},
     "output_type": "execute_result"
    }
   ],
   "source": [
    "np.sqrt(df['X2'].var())"
   ]
  },
  {
   "cell_type": "code",
   "execution_count": 54,
   "metadata": {},
   "outputs": [
    {
     "data": {
      "text/plain": [
       "3.0"
      ]
     },
     "execution_count": 54,
     "metadata": {},
     "output_type": "execute_result"
    }
   ],
   "source": [
    "np.sqrt(v)"
   ]
  },
  {
   "cell_type": "code",
   "execution_count": 55,
   "metadata": {},
   "outputs": [
    {
     "data": {
      "text/plain": [
       "3.0"
      ]
     },
     "execution_count": 55,
     "metadata": {},
     "output_type": "execute_result"
    }
   ],
   "source": [
    "df['X2'].std()"
   ]
  },
  {
   "attachments": {},
   "cell_type": "markdown",
   "metadata": {},
   "source": [
    "#### min() - 최소값, max() - 최대값"
   ]
  },
  {
   "cell_type": "code",
   "execution_count": 58,
   "metadata": {},
   "outputs": [
    {
     "data": {
      "text/plain": [
       "2"
      ]
     },
     "execution_count": 58,
     "metadata": {},
     "output_type": "execute_result"
    }
   ],
   "source": [
    "df[\"X2\"].min()"
   ]
  },
  {
   "cell_type": "code",
   "execution_count": 59,
   "metadata": {},
   "outputs": [
    {
     "data": {
      "text/plain": [
       "8"
      ]
     },
     "execution_count": 59,
     "metadata": {},
     "output_type": "execute_result"
    }
   ],
   "source": [
    "df[\"X2\"].max()"
   ]
  },
  {
   "attachments": {},
   "cell_type": "markdown",
   "metadata": {},
   "source": [
    "#### unique() -고유값, nuniqe() - 고유값 개수 \n",
    "- 고유값과 고유값의 개수를 구하고자 할때 사용 "
   ]
  },
  {
   "cell_type": "code",
   "execution_count": 61,
   "metadata": {},
   "outputs": [
    {
     "data": {
      "text/html": [
       "<div>\n",
       "<style scoped>\n",
       "    .dataframe tbody tr th:only-of-type {\n",
       "        vertical-align: middle;\n",
       "    }\n",
       "\n",
       "    .dataframe tbody tr th {\n",
       "        vertical-align: top;\n",
       "    }\n",
       "\n",
       "    .dataframe thead th {\n",
       "        text-align: right;\n",
       "    }\n",
       "</style>\n",
       "<table border=\"1\" class=\"dataframe\">\n",
       "  <thead>\n",
       "    <tr style=\"text-align: right;\">\n",
       "      <th></th>\n",
       "      <th>X1</th>\n",
       "      <th>X2</th>\n",
       "      <th>X3</th>\n",
       "      <th>X4</th>\n",
       "    </tr>\n",
       "  </thead>\n",
       "  <tbody>\n",
       "    <tr>\n",
       "      <th>A</th>\n",
       "      <td>NaN</td>\n",
       "      <td>2</td>\n",
       "      <td>3</td>\n",
       "      <td>man</td>\n",
       "    </tr>\n",
       "    <tr>\n",
       "      <th>B</th>\n",
       "      <td>4.0</td>\n",
       "      <td>5</td>\n",
       "      <td>6</td>\n",
       "      <td>man</td>\n",
       "    </tr>\n",
       "    <tr>\n",
       "      <th>C</th>\n",
       "      <td>7.0</td>\n",
       "      <td>8</td>\n",
       "      <td>9</td>\n",
       "      <td>woman</td>\n",
       "    </tr>\n",
       "  </tbody>\n",
       "</table>\n",
       "</div>"
      ],
      "text/plain": [
       "    X1  X2  X3     X4\n",
       "A  NaN   2   3    man\n",
       "B  4.0   5   6    man\n",
       "C  7.0   8   9  woman"
      ]
     },
     "execution_count": 61,
     "metadata": {},
     "output_type": "execute_result"
    }
   ],
   "source": [
    "df['X4'] = ['man', 'man', 'woman']\n",
    "df"
   ]
  },
  {
   "cell_type": "code",
   "execution_count": 62,
   "metadata": {},
   "outputs": [
    {
     "data": {
      "text/plain": [
       "array(['man', 'woman'], dtype=object)"
      ]
     },
     "execution_count": 62,
     "metadata": {},
     "output_type": "execute_result"
    }
   ],
   "source": [
    "# X4열의 고유한 값을 출력해보세요. unique()함수 \n",
    "#code here"
   ]
  },
  {
   "cell_type": "code",
   "execution_count": 63,
   "metadata": {},
   "outputs": [
    {
     "data": {
      "text/plain": [
       "2"
      ]
     },
     "execution_count": 63,
     "metadata": {},
     "output_type": "execute_result"
    }
   ],
   "source": [
    "# X4열의 고유값의 개수를 출력해보세요. nunique() 함수 \n",
    "#code here"
   ]
  },
  {
   "attachments": {},
   "cell_type": "markdown",
   "metadata": {},
   "source": [
    "#### quantile() - 분위 \n",
    "- Quantile이란 주어진 데이터를 동등한 크기로 분할하는 지점 \n",
    "- 10%의 경우 0.1을, 80%의 경우 0.8을 대입하여 값을 계산 "
   ]
  },
  {
   "cell_type": "code",
   "execution_count": 65,
   "metadata": {},
   "outputs": [
    {
     "data": {
      "text/plain": [
       "2.6"
      ]
     },
     "execution_count": 65,
     "metadata": {},
     "output_type": "execute_result"
    }
   ],
   "source": [
    "df['X2'].quantile(0.1)"
   ]
  },
  {
   "cell_type": "code",
   "execution_count": 66,
   "metadata": {},
   "outputs": [
    {
     "data": {
      "text/plain": [
       "6.800000000000001"
      ]
     },
     "execution_count": 66,
     "metadata": {},
     "output_type": "execute_result"
    }
   ],
   "source": [
    "df['X2'].quantile(0.8)"
   ]
  },
  {
   "attachments": {},
   "cell_type": "markdown",
   "metadata": {},
   "source": [
    "#### mode() - 최빈값\n",
    "- 최빈값은 가장 많이 출여한 데이터를 의미"
   ]
  },
  {
   "cell_type": "code",
   "execution_count": 69,
   "metadata": {},
   "outputs": [
    {
     "data": {
      "text/plain": [
       "0    man\n",
       "dtype: object"
      ]
     },
     "execution_count": 69,
     "metadata": {},
     "output_type": "execute_result"
    }
   ],
   "source": [
    "df['X4'].mode()"
   ]
  },
  {
   "attachments": {},
   "cell_type": "markdown",
   "metadata": {},
   "source": [
    "#### corr() - 상관관계\n",
    "- corr()로 컬럼(column)별 상관 관계를 확인할수 있음 \n",
    "- -1에 가까울수록 반비례 관계, 1에 가까울수록 정비례 관계를 의미"
   ]
  },
  {
   "cell_type": "code",
   "execution_count": 70,
   "metadata": {},
   "outputs": [
    {
     "data": {
      "text/html": [
       "<div>\n",
       "<style scoped>\n",
       "    .dataframe tbody tr th:only-of-type {\n",
       "        vertical-align: middle;\n",
       "    }\n",
       "\n",
       "    .dataframe tbody tr th {\n",
       "        vertical-align: top;\n",
       "    }\n",
       "\n",
       "    .dataframe thead th {\n",
       "        text-align: right;\n",
       "    }\n",
       "</style>\n",
       "<table border=\"1\" class=\"dataframe\">\n",
       "  <thead>\n",
       "    <tr style=\"text-align: right;\">\n",
       "      <th></th>\n",
       "      <th>X1</th>\n",
       "      <th>X2</th>\n",
       "      <th>X3</th>\n",
       "    </tr>\n",
       "  </thead>\n",
       "  <tbody>\n",
       "    <tr>\n",
       "      <th>X1</th>\n",
       "      <td>1.0</td>\n",
       "      <td>1.0</td>\n",
       "      <td>1.0</td>\n",
       "    </tr>\n",
       "    <tr>\n",
       "      <th>X2</th>\n",
       "      <td>1.0</td>\n",
       "      <td>1.0</td>\n",
       "      <td>1.0</td>\n",
       "    </tr>\n",
       "    <tr>\n",
       "      <th>X3</th>\n",
       "      <td>1.0</td>\n",
       "      <td>1.0</td>\n",
       "      <td>1.0</td>\n",
       "    </tr>\n",
       "  </tbody>\n",
       "</table>\n",
       "</div>"
      ],
      "text/plain": [
       "     X1   X2   X3\n",
       "X1  1.0  1.0  1.0\n",
       "X2  1.0  1.0  1.0\n",
       "X3  1.0  1.0  1.0"
      ]
     },
     "execution_count": 70,
     "metadata": {},
     "output_type": "execute_result"
    }
   ],
   "source": [
    "df.corr()"
   ]
  },
  {
   "attachments": {
    "image.png": {
     "image/png": "[encoded data removed]"
    }
   },
   "cell_type": "markdown",
   "metadata": {},
   "source": [
    "### 연습문제 \n",
    "- 아래 데이터프레임에 대한 특정 통계 함수를 이용하여 연산하였을때 \n",
    "- 수행 결과가 오른쪽과 같이 나오도록 코드를 작성하세요. \n",
    "\n",
    " ![image.png](attachment:image.png)"
   ]
  },
  {
   "cell_type": "code",
   "execution_count": 8,
   "metadata": {},
   "outputs": [
    {
     "data": {
      "text/html": [
       "<div>\n",
       "<style scoped>\n",
       "    .dataframe tbody tr th:only-of-type {\n",
       "        vertical-align: middle;\n",
       "    }\n",
       "\n",
       "    .dataframe tbody tr th {\n",
       "        vertical-align: top;\n",
       "    }\n",
       "\n",
       "    .dataframe thead th {\n",
       "        text-align: right;\n",
       "    }\n",
       "</style>\n",
       "<table border=\"1\" class=\"dataframe\">\n",
       "  <thead>\n",
       "    <tr style=\"text-align: right;\">\n",
       "      <th></th>\n",
       "      <th>A</th>\n",
       "      <th>B</th>\n",
       "      <th>C</th>\n",
       "      <th>D</th>\n",
       "    </tr>\n",
       "  </thead>\n",
       "  <tbody>\n",
       "    <tr>\n",
       "      <th>0</th>\n",
       "      <td>5</td>\n",
       "      <td>1</td>\n",
       "      <td>2</td>\n",
       "      <td>4.0</td>\n",
       "    </tr>\n",
       "    <tr>\n",
       "      <th>1</th>\n",
       "      <td>1</td>\n",
       "      <td>2</td>\n",
       "      <td>0</td>\n",
       "      <td>NaN</td>\n",
       "    </tr>\n",
       "    <tr>\n",
       "      <th>2</th>\n",
       "      <td>1</td>\n",
       "      <td>3</td>\n",
       "      <td>2</td>\n",
       "      <td>NaN</td>\n",
       "    </tr>\n",
       "  </tbody>\n",
       "</table>\n",
       "</div>"
      ],
      "text/plain": [
       "   A  B  C    D\n",
       "0  5  1  2  4.0\n",
       "1  1  2  0  NaN\n",
       "2  1  3  2  NaN"
      ]
     },
     "execution_count": 8,
     "metadata": {},
     "output_type": "execute_result"
    }
   ],
   "source": [
    "import numpy as np \n",
    "import pandas as pd \n",
    "\n",
    "df0 = pd.DataFrame([[5,1,2,4.0], [1,2,0, np.nan], [1,3,2, np.nan]], columns=list('ABCD'))\n",
    "df0"
   ]
  },
  {
   "cell_type": "code",
   "execution_count": 7,
   "metadata": {},
   "outputs": [
    {
     "data": {
      "text/plain": [
       "A    7.0\n",
       "B    6.0\n",
       "C    4.0\n",
       "D    NaN\n",
       "dtype: float64"
      ]
     },
     "execution_count": 7,
     "metadata": {},
     "output_type": "execute_result"
    }
   ],
   "source": [
    "# code here \n"
   ]
  },
  {
   "cell_type": "code",
   "execution_count": null,
   "metadata": {},
   "outputs": [],
   "source": []
  }
 ],
 "metadata": {
  "colab": {
   "collapsed_sections": [],
   "name": "SKI PART4_pandas01 LAB.ipynb",
   "provenance": [
    {
     "file_id": "1zCZRt1dLd-ODKVmUQbXk6BKSxZolU7kR",
     "timestamp": 1612180217067
    },
    {
     "file_id": "1pxfKL8b_q3fVDhmjffKvrlITz7uYkZbq",
     "timestamp": 1611841178308
    }
   ]
  },
  "kernelspec": {
   "display_name": "Python 3 (ipykernel)",
   "language": "python",
   "name": "python3"
  },
  "language_info": {
   "codemirror_mode": {
    "name": "ipython",
    "version": 3
   },
   "file_extension": ".py",
   "mimetype": "text/x-python",
   "name": "python",
   "nbconvert_exporter": "python",
   "pygments_lexer": "ipython3",
   "version": "3.10.5"
  }
 },
 "nbformat": 4,
 "nbformat_minor": 1
}
