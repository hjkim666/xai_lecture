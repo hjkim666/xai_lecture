{
 "cells": [
  {
   "attachments": {},
   "cell_type": "markdown",
   "metadata": {
    "id": "JaSI1pMNCGME"
   },
   "source": [
    "## pandas 03\n",
    "- https://pandas.pydata.org/docs/reference/index.html"
   ]
  },
  {
   "attachments": {},
   "cell_type": "markdown",
   "metadata": {
    "id": "6aDSouvfkgm4"
   },
   "source": [
    "## 8.결측치(NA, NaN) 처리\n",
    "- 결측치 처리 방법\n",
    "    - 결측치 제거\n",
    "    - 평균값, 중앙값, 빈도값, 0 대체\n",
    "    - 예측 모델을 이용해 대체\n",
    "- 가장 쉽고 좋은 방법은 결측치가 포함된 행 또는 열을 삭제하는 것\n",
    "    - 데이터가 많은 경우에만 사용 가능하며 데이터의 수가 충분하지 않는 경우 잘 사용하지 않음\n",
    "- 결측치는 사전에 발생하지 않도록 조치하는 것이 좋음\n",
    "- 결측치를 처리할 경우에도 도메인 지식은 필수적이며 결측치를 0 또는 평균 또는 중앙\n",
    "값으로 대체하는 것이 맞는지에 대한 적절한 의사결정이 필요함"
   ]
  },
  {
   "attachments": {},
   "cell_type": "markdown",
   "metadata": {
    "id": "t542qkEgl1eb"
   },
   "source": [
    "- Pandas의 경우 누락된 데이터를 나타내기 위해 np.nan이라는 값을 사용하며 **계산에 포함되지 않음**\n",
    "- Pandas의 경우 Null과 NA를 모두 NaN 형식으로 처리\n",
    "- 데이터가 NaN인 경우 **isna 또는 notna 함수를 통해서만 비교** 가능\n",
    "- 결측치 확인 : df.isna, df.notna, df.isnull, df.notnull 함수 이용\n",
    "- 결측치 삭제 : df.dropna 함수 이용\n",
    "- 결측치 치환 : df.fillna 함수 이용"
   ]
  },
  {
   "cell_type": "code",
   "execution_count": 1,
   "metadata": {
    "colab": {
     "base_uri": "https://localhost:8080/",
     "height": 203
    },
    "executionInfo": {
     "elapsed": 1902,
     "status": "ok",
     "timestamp": 1612262231834,
     "user": {
      "displayName": "hj Kim",
      "photoUrl": "",
      "userId": "02263672027550517756"
     },
     "user_tz": -540
    },
    "id": "Q1On2wnjOFYO",
    "outputId": "453bef49-1629-4d99-d92e-0ff58956982e"
   },
   "outputs": [
    {
     "data": {
      "text/html": [
       "<div>\n",
       "<style scoped>\n",
       "    .dataframe tbody tr th:only-of-type {\n",
       "        vertical-align: middle;\n",
       "    }\n",
       "\n",
       "    .dataframe tbody tr th {\n",
       "        vertical-align: top;\n",
       "    }\n",
       "\n",
       "    .dataframe thead th {\n",
       "        text-align: right;\n",
       "    }\n",
       "</style>\n",
       "<table border=\"1\" class=\"dataframe\">\n",
       "  <thead>\n",
       "    <tr style=\"text-align: right;\">\n",
       "      <th></th>\n",
       "      <th>A</th>\n",
       "      <th>B</th>\n",
       "      <th>C</th>\n",
       "      <th>D</th>\n",
       "      <th>E</th>\n",
       "    </tr>\n",
       "  </thead>\n",
       "  <tbody>\n",
       "    <tr>\n",
       "      <th>0</th>\n",
       "      <td>1.764052</td>\n",
       "      <td>0.400157</td>\n",
       "      <td>0.978738</td>\n",
       "      <td>2.240893</td>\n",
       "      <td>1.867558</td>\n",
       "    </tr>\n",
       "    <tr>\n",
       "      <th>1</th>\n",
       "      <td>NaN</td>\n",
       "      <td>0.950088</td>\n",
       "      <td>NaN</td>\n",
       "      <td>NaN</td>\n",
       "      <td>0.410599</td>\n",
       "    </tr>\n",
       "    <tr>\n",
       "      <th>2</th>\n",
       "      <td>0.144044</td>\n",
       "      <td>1.454274</td>\n",
       "      <td>0.761038</td>\n",
       "      <td>0.121675</td>\n",
       "      <td>0.443863</td>\n",
       "    </tr>\n",
       "    <tr>\n",
       "      <th>3</th>\n",
       "      <td>0.333674</td>\n",
       "      <td>1.494079</td>\n",
       "      <td>NaN</td>\n",
       "      <td>0.313068</td>\n",
       "      <td>NaN</td>\n",
       "    </tr>\n",
       "    <tr>\n",
       "      <th>4</th>\n",
       "      <td>NaN</td>\n",
       "      <td>0.653619</td>\n",
       "      <td>0.864436</td>\n",
       "      <td>NaN</td>\n",
       "      <td>2.269755</td>\n",
       "    </tr>\n",
       "  </tbody>\n",
       "</table>\n",
       "</div>"
      ],
      "text/plain": [
       "          A         B         C         D         E\n",
       "0  1.764052  0.400157  0.978738  2.240893  1.867558\n",
       "1       NaN  0.950088       NaN       NaN  0.410599\n",
       "2  0.144044  1.454274  0.761038  0.121675  0.443863\n",
       "3  0.333674  1.494079       NaN  0.313068       NaN\n",
       "4       NaN  0.653619  0.864436       NaN  2.269755"
      ]
     },
     "execution_count": 1,
     "metadata": {},
     "output_type": "execute_result"
    }
   ],
   "source": [
    "import numpy as np\n",
    "import pandas as pd\n",
    "\n",
    "np.random.seed(0)\n",
    "df = pd.DataFrame(np.random.randn(5, 5), \n",
    "                  columns=['A','B','C','D','E'])\n",
    "\n",
    "# df에서 값이 0보다 작거나 같은 것을 NaN으로 하는 DataFrame 생성\n",
    "df = df[df > 0]\n",
    "df"
   ]
  },
  {
   "attachments": {},
   "cell_type": "markdown",
   "metadata": {
    "id": "RBPVNBAT0YPj"
   },
   "source": [
    "### 8-01 결측치 조회"
   ]
  },
  {
   "attachments": {},
   "cell_type": "markdown",
   "metadata": {
    "id": "WcIgu2LS0H89"
   },
   "source": [
    "- isna(), isnull()\n",
    "- Series 또는 DataFrame의 요소가 NaN과 같으면 True 다르면 False 결과를 반환"
   ]
  },
  {
   "cell_type": "code",
   "execution_count": 2,
   "metadata": {
    "colab": {
     "base_uri": "https://localhost:8080/",
     "height": 203
    },
    "executionInfo": {
     "elapsed": 1200,
     "status": "ok",
     "timestamp": 1612262353254,
     "user": {
      "displayName": "hj Kim",
      "photoUrl": "",
      "userId": "02263672027550517756"
     },
     "user_tz": -540
    },
    "id": "zuEwWOrFOFYP",
    "outputId": "66658638-bcc7-49f5-cc90-c4e5b82646de"
   },
   "outputs": [
    {
     "data": {
      "text/html": [
       "<div>\n",
       "<style scoped>\n",
       "    .dataframe tbody tr th:only-of-type {\n",
       "        vertical-align: middle;\n",
       "    }\n",
       "\n",
       "    .dataframe tbody tr th {\n",
       "        vertical-align: top;\n",
       "    }\n",
       "\n",
       "    .dataframe thead th {\n",
       "        text-align: right;\n",
       "    }\n",
       "</style>\n",
       "<table border=\"1\" class=\"dataframe\">\n",
       "  <thead>\n",
       "    <tr style=\"text-align: right;\">\n",
       "      <th></th>\n",
       "      <th>A</th>\n",
       "      <th>B</th>\n",
       "      <th>C</th>\n",
       "      <th>D</th>\n",
       "      <th>E</th>\n",
       "    </tr>\n",
       "  </thead>\n",
       "  <tbody>\n",
       "    <tr>\n",
       "      <th>0</th>\n",
       "      <td>False</td>\n",
       "      <td>False</td>\n",
       "      <td>False</td>\n",
       "      <td>False</td>\n",
       "      <td>False</td>\n",
       "    </tr>\n",
       "    <tr>\n",
       "      <th>1</th>\n",
       "      <td>True</td>\n",
       "      <td>False</td>\n",
       "      <td>True</td>\n",
       "      <td>True</td>\n",
       "      <td>False</td>\n",
       "    </tr>\n",
       "    <tr>\n",
       "      <th>2</th>\n",
       "      <td>False</td>\n",
       "      <td>False</td>\n",
       "      <td>False</td>\n",
       "      <td>False</td>\n",
       "      <td>False</td>\n",
       "    </tr>\n",
       "    <tr>\n",
       "      <th>3</th>\n",
       "      <td>False</td>\n",
       "      <td>False</td>\n",
       "      <td>True</td>\n",
       "      <td>False</td>\n",
       "      <td>True</td>\n",
       "    </tr>\n",
       "    <tr>\n",
       "      <th>4</th>\n",
       "      <td>True</td>\n",
       "      <td>False</td>\n",
       "      <td>False</td>\n",
       "      <td>True</td>\n",
       "      <td>False</td>\n",
       "    </tr>\n",
       "  </tbody>\n",
       "</table>\n",
       "</div>"
      ],
      "text/plain": [
       "       A      B      C      D      E\n",
       "0  False  False  False  False  False\n",
       "1   True  False   True   True  False\n",
       "2  False  False  False  False  False\n",
       "3  False  False   True  False   True\n",
       "4   True  False  False   True  False"
      ]
     },
     "execution_count": 2,
     "metadata": {},
     "output_type": "execute_result"
    }
   ],
   "source": [
    "# isna 함수를 사용하여 DataFrame df의 결측치 확인\n",
    "# NaN인 경우 True 아니면 False\n",
    "\n",
    "df.isna()"
   ]
  },
  {
   "cell_type": "code",
   "execution_count": 3,
   "metadata": {
    "colab": {
     "base_uri": "https://localhost:8080/",
     "height": 203
    },
    "executionInfo": {
     "elapsed": 811,
     "status": "ok",
     "timestamp": 1612262423304,
     "user": {
      "displayName": "hj Kim",
      "photoUrl": "",
      "userId": "02263672027550517756"
     },
     "user_tz": -540
    },
    "id": "CUIdsJzcOFYP",
    "outputId": "029e5783-3da3-423d-8500-c9ab411e6ca1"
   },
   "outputs": [
    {
     "data": {
      "text/html": [
       "<div>\n",
       "<style scoped>\n",
       "    .dataframe tbody tr th:only-of-type {\n",
       "        vertical-align: middle;\n",
       "    }\n",
       "\n",
       "    .dataframe tbody tr th {\n",
       "        vertical-align: top;\n",
       "    }\n",
       "\n",
       "    .dataframe thead th {\n",
       "        text-align: right;\n",
       "    }\n",
       "</style>\n",
       "<table border=\"1\" class=\"dataframe\">\n",
       "  <thead>\n",
       "    <tr style=\"text-align: right;\">\n",
       "      <th></th>\n",
       "      <th>A</th>\n",
       "      <th>B</th>\n",
       "      <th>C</th>\n",
       "      <th>D</th>\n",
       "      <th>E</th>\n",
       "    </tr>\n",
       "  </thead>\n",
       "  <tbody>\n",
       "    <tr>\n",
       "      <th>0</th>\n",
       "      <td>False</td>\n",
       "      <td>False</td>\n",
       "      <td>False</td>\n",
       "      <td>False</td>\n",
       "      <td>False</td>\n",
       "    </tr>\n",
       "    <tr>\n",
       "      <th>1</th>\n",
       "      <td>True</td>\n",
       "      <td>False</td>\n",
       "      <td>True</td>\n",
       "      <td>True</td>\n",
       "      <td>False</td>\n",
       "    </tr>\n",
       "    <tr>\n",
       "      <th>2</th>\n",
       "      <td>False</td>\n",
       "      <td>False</td>\n",
       "      <td>False</td>\n",
       "      <td>False</td>\n",
       "      <td>False</td>\n",
       "    </tr>\n",
       "    <tr>\n",
       "      <th>3</th>\n",
       "      <td>False</td>\n",
       "      <td>False</td>\n",
       "      <td>True</td>\n",
       "      <td>False</td>\n",
       "      <td>True</td>\n",
       "    </tr>\n",
       "    <tr>\n",
       "      <th>4</th>\n",
       "      <td>True</td>\n",
       "      <td>False</td>\n",
       "      <td>False</td>\n",
       "      <td>True</td>\n",
       "      <td>False</td>\n",
       "    </tr>\n",
       "  </tbody>\n",
       "</table>\n",
       "</div>"
      ],
      "text/plain": [
       "       A      B      C      D      E\n",
       "0  False  False  False  False  False\n",
       "1   True  False   True   True  False\n",
       "2  False  False  False  False  False\n",
       "3  False  False   True  False   True\n",
       "4   True  False  False   True  False"
      ]
     },
     "execution_count": 3,
     "metadata": {},
     "output_type": "execute_result"
    }
   ],
   "source": [
    "# isnull 함수를 사용하여 DataFrame df의 결측치 확인\n",
    "# NaN인 경우 True 아니면 False\n",
    "df.isnull()"
   ]
  },
  {
   "attachments": {},
   "cell_type": "markdown",
   "metadata": {
    "id": "illBNARw0CKb"
   },
   "source": [
    "- notna(), notnull()\n",
    "- Series 또는 DataFrame의 요소가 NaN과 같지 않으면 True 같으면 False를 반환"
   ]
  },
  {
   "cell_type": "code",
   "execution_count": 4,
   "metadata": {
    "colab": {
     "base_uri": "https://localhost:8080/",
     "height": 203
    },
    "executionInfo": {
     "elapsed": 708,
     "status": "ok",
     "timestamp": 1612262431297,
     "user": {
      "displayName": "hj Kim",
      "photoUrl": "",
      "userId": "02263672027550517756"
     },
     "user_tz": -540
    },
    "id": "N7qoB-ZwOFYP",
    "outputId": "4de3d994-64d8-4e85-cdf8-c5e421a4ebc1"
   },
   "outputs": [
    {
     "data": {
      "text/html": [
       "<div>\n",
       "<style scoped>\n",
       "    .dataframe tbody tr th:only-of-type {\n",
       "        vertical-align: middle;\n",
       "    }\n",
       "\n",
       "    .dataframe tbody tr th {\n",
       "        vertical-align: top;\n",
       "    }\n",
       "\n",
       "    .dataframe thead th {\n",
       "        text-align: right;\n",
       "    }\n",
       "</style>\n",
       "<table border=\"1\" class=\"dataframe\">\n",
       "  <thead>\n",
       "    <tr style=\"text-align: right;\">\n",
       "      <th></th>\n",
       "      <th>A</th>\n",
       "      <th>B</th>\n",
       "      <th>C</th>\n",
       "      <th>D</th>\n",
       "      <th>E</th>\n",
       "    </tr>\n",
       "  </thead>\n",
       "  <tbody>\n",
       "    <tr>\n",
       "      <th>0</th>\n",
       "      <td>True</td>\n",
       "      <td>True</td>\n",
       "      <td>True</td>\n",
       "      <td>True</td>\n",
       "      <td>True</td>\n",
       "    </tr>\n",
       "    <tr>\n",
       "      <th>1</th>\n",
       "      <td>False</td>\n",
       "      <td>True</td>\n",
       "      <td>False</td>\n",
       "      <td>False</td>\n",
       "      <td>True</td>\n",
       "    </tr>\n",
       "    <tr>\n",
       "      <th>2</th>\n",
       "      <td>True</td>\n",
       "      <td>True</td>\n",
       "      <td>True</td>\n",
       "      <td>True</td>\n",
       "      <td>True</td>\n",
       "    </tr>\n",
       "    <tr>\n",
       "      <th>3</th>\n",
       "      <td>True</td>\n",
       "      <td>True</td>\n",
       "      <td>False</td>\n",
       "      <td>True</td>\n",
       "      <td>False</td>\n",
       "    </tr>\n",
       "    <tr>\n",
       "      <th>4</th>\n",
       "      <td>False</td>\n",
       "      <td>True</td>\n",
       "      <td>True</td>\n",
       "      <td>False</td>\n",
       "      <td>True</td>\n",
       "    </tr>\n",
       "  </tbody>\n",
       "</table>\n",
       "</div>"
      ],
      "text/plain": [
       "       A     B      C      D      E\n",
       "0   True  True   True   True   True\n",
       "1  False  True  False  False   True\n",
       "2   True  True   True   True   True\n",
       "3   True  True  False   True  False\n",
       "4  False  True   True  False   True"
      ]
     },
     "execution_count": 4,
     "metadata": {},
     "output_type": "execute_result"
    }
   ],
   "source": [
    "# notna 함수를 사용하여 DataFrame df의 결측치 확인\n",
    "df.notna()"
   ]
  },
  {
   "cell_type": "code",
   "execution_count": 5,
   "metadata": {
    "colab": {
     "base_uri": "https://localhost:8080/",
     "height": 203
    },
    "executionInfo": {
     "elapsed": 1143,
     "status": "ok",
     "timestamp": 1612262439763,
     "user": {
      "displayName": "hj Kim",
      "photoUrl": "",
      "userId": "02263672027550517756"
     },
     "user_tz": -540
    },
    "id": "-pSw5GcGOFYQ",
    "outputId": "17358bc5-db13-4d4a-8ce2-02dd9e79732c"
   },
   "outputs": [
    {
     "data": {
      "text/html": [
       "<div>\n",
       "<style scoped>\n",
       "    .dataframe tbody tr th:only-of-type {\n",
       "        vertical-align: middle;\n",
       "    }\n",
       "\n",
       "    .dataframe tbody tr th {\n",
       "        vertical-align: top;\n",
       "    }\n",
       "\n",
       "    .dataframe thead th {\n",
       "        text-align: right;\n",
       "    }\n",
       "</style>\n",
       "<table border=\"1\" class=\"dataframe\">\n",
       "  <thead>\n",
       "    <tr style=\"text-align: right;\">\n",
       "      <th></th>\n",
       "      <th>A</th>\n",
       "      <th>B</th>\n",
       "      <th>C</th>\n",
       "      <th>D</th>\n",
       "      <th>E</th>\n",
       "    </tr>\n",
       "  </thead>\n",
       "  <tbody>\n",
       "    <tr>\n",
       "      <th>0</th>\n",
       "      <td>True</td>\n",
       "      <td>True</td>\n",
       "      <td>True</td>\n",
       "      <td>True</td>\n",
       "      <td>True</td>\n",
       "    </tr>\n",
       "    <tr>\n",
       "      <th>1</th>\n",
       "      <td>False</td>\n",
       "      <td>True</td>\n",
       "      <td>False</td>\n",
       "      <td>False</td>\n",
       "      <td>True</td>\n",
       "    </tr>\n",
       "    <tr>\n",
       "      <th>2</th>\n",
       "      <td>True</td>\n",
       "      <td>True</td>\n",
       "      <td>True</td>\n",
       "      <td>True</td>\n",
       "      <td>True</td>\n",
       "    </tr>\n",
       "    <tr>\n",
       "      <th>3</th>\n",
       "      <td>True</td>\n",
       "      <td>True</td>\n",
       "      <td>False</td>\n",
       "      <td>True</td>\n",
       "      <td>False</td>\n",
       "    </tr>\n",
       "    <tr>\n",
       "      <th>4</th>\n",
       "      <td>False</td>\n",
       "      <td>True</td>\n",
       "      <td>True</td>\n",
       "      <td>False</td>\n",
       "      <td>True</td>\n",
       "    </tr>\n",
       "  </tbody>\n",
       "</table>\n",
       "</div>"
      ],
      "text/plain": [
       "       A     B      C      D      E\n",
       "0   True  True   True   True   True\n",
       "1  False  True  False  False   True\n",
       "2   True  True   True   True   True\n",
       "3   True  True  False   True  False\n",
       "4  False  True   True  False   True"
      ]
     },
     "execution_count": 5,
     "metadata": {},
     "output_type": "execute_result"
    }
   ],
   "source": [
    "# notnull 함수를 사용하여 DataFrame df의 결측치 확인\n",
    "df.notnull()"
   ]
  },
  {
   "attachments": {},
   "cell_type": "markdown",
   "metadata": {
    "id": "wj09VpPMzrWf"
   },
   "source": [
    "- NaN을 비교하는 isna 함수와 합을 계산하는 sum 함수사용으로 결측치의 개수 계산\n",
    "    - 행별 (axis=1) 또는 열별(axis=0) "
   ]
  },
  {
   "cell_type": "code",
   "execution_count": 8,
   "metadata": {
    "colab": {
     "base_uri": "https://localhost:8080/"
    },
    "executionInfo": {
     "elapsed": 635,
     "status": "ok",
     "timestamp": 1612262448767,
     "user": {
      "displayName": "hj Kim",
      "photoUrl": "",
      "userId": "02263672027550517756"
     },
     "user_tz": -540
    },
    "id": "TL7KiNjSOFYQ",
    "outputId": "51bb24fc-823e-4301-ab9b-ff5b2c7199fb"
   },
   "outputs": [
    {
     "data": {
      "text/plain": [
       "A    2\n",
       "B    0\n",
       "C    2\n",
       "D    2\n",
       "E    1\n",
       "dtype: int64"
      ]
     },
     "execution_count": 8,
     "metadata": {
      "tags": []
     },
     "output_type": "execute_result"
    }
   ],
   "source": [
    "# isna()의 결과를 행방향으로 합한 결과 Series 생성\n",
    "# sum()함수 사용\n",
    "df.isna().sum()"
   ]
  },
  {
   "cell_type": "code",
   "execution_count": 6,
   "metadata": {},
   "outputs": [
    {
     "data": {
      "text/plain": [
       "7"
      ]
     },
     "execution_count": 6,
     "metadata": {},
     "output_type": "execute_result"
    }
   ],
   "source": [
    "df.isna().sum().sum()  #검산용"
   ]
  },
  {
   "cell_type": "code",
   "execution_count": 9,
   "metadata": {
    "colab": {
     "base_uri": "https://localhost:8080/"
    },
    "executionInfo": {
     "elapsed": 724,
     "status": "ok",
     "timestamp": 1612262470943,
     "user": {
      "displayName": "hj Kim",
      "photoUrl": "",
      "userId": "02263672027550517756"
     },
     "user_tz": -540
    },
    "id": "qWqKzaqROFYQ",
    "outputId": "71b99964-e102-48e1-b6c4-47d8e8d216fd"
   },
   "outputs": [
    {
     "data": {
      "text/plain": [
       "0    0\n",
       "1    3\n",
       "2    0\n",
       "3    2\n",
       "4    2\n",
       "dtype: int64"
      ]
     },
     "execution_count": 9,
     "metadata": {
      "tags": []
     },
     "output_type": "execute_result"
    }
   ],
   "source": [
    "# isna()의 결과를 열방향으로 합한 결과 Series 생성\n",
    "# sum()함수 사용\n",
    "df.isna().sum(axis=1)"
   ]
  },
  {
   "attachments": {
    "image.png": {
     "image/png": "[encoded data removed]"
    }
   },
   "cell_type": "markdown",
   "metadata": {},
   "source": [
    "### 연습문제 \n",
    "- 다음 데이터 프레임에서 na가 포함된 행만 출력하세요.\n",
    "\n",
    "![image.png](attachment:image.png)"
   ]
  },
  {
   "cell_type": "code",
   "execution_count": 7,
   "metadata": {},
   "outputs": [
    {
     "data": {
      "text/html": [
       "<div>\n",
       "<style scoped>\n",
       "    .dataframe tbody tr th:only-of-type {\n",
       "        vertical-align: middle;\n",
       "    }\n",
       "\n",
       "    .dataframe tbody tr th {\n",
       "        vertical-align: top;\n",
       "    }\n",
       "\n",
       "    .dataframe thead th {\n",
       "        text-align: right;\n",
       "    }\n",
       "</style>\n",
       "<table border=\"1\" class=\"dataframe\">\n",
       "  <thead>\n",
       "    <tr style=\"text-align: right;\">\n",
       "      <th></th>\n",
       "      <th>A</th>\n",
       "      <th>B</th>\n",
       "      <th>C</th>\n",
       "      <th>D</th>\n",
       "    </tr>\n",
       "  </thead>\n",
       "  <tbody>\n",
       "    <tr>\n",
       "      <th>0</th>\n",
       "      <td>0.957020</td>\n",
       "      <td>-2.144985</td>\n",
       "      <td>NaN</td>\n",
       "      <td>-1.382330</td>\n",
       "    </tr>\n",
       "    <tr>\n",
       "      <th>1</th>\n",
       "      <td>1.777482</td>\n",
       "      <td>-0.001711</td>\n",
       "      <td>-0.022629</td>\n",
       "      <td>NaN</td>\n",
       "    </tr>\n",
       "    <tr>\n",
       "      <th>2</th>\n",
       "      <td>0.351685</td>\n",
       "      <td>-0.187660</td>\n",
       "      <td>-0.135021</td>\n",
       "      <td>0.516950</td>\n",
       "    </tr>\n",
       "    <tr>\n",
       "      <th>3</th>\n",
       "      <td>-0.427096</td>\n",
       "      <td>1.806922</td>\n",
       "      <td>0.403471</td>\n",
       "      <td>-1.349055</td>\n",
       "    </tr>\n",
       "    <tr>\n",
       "      <th>4</th>\n",
       "      <td>NaN</td>\n",
       "      <td>-0.099703</td>\n",
       "      <td>-1.356922</td>\n",
       "      <td>0.037559</td>\n",
       "    </tr>\n",
       "  </tbody>\n",
       "</table>\n",
       "</div>"
      ],
      "text/plain": [
       "          A         B         C         D\n",
       "0  0.957020 -2.144985       NaN -1.382330\n",
       "1  1.777482 -0.001711 -0.022629       NaN\n",
       "2  0.351685 -0.187660 -0.135021  0.516950\n",
       "3 -0.427096  1.806922  0.403471 -1.349055\n",
       "4       NaN -0.099703 -1.356922  0.037559"
      ]
     },
     "execution_count": 7,
     "metadata": {},
     "output_type": "execute_result"
    }
   ],
   "source": [
    "import pandas as pd \n",
    "import numpy as np \n",
    "\n",
    "df0 = pd.DataFrame(np.random.randn(5, 4), columns=list('ABCD'))\n",
    "df0.iloc[0,2] = np.nan\n",
    "df0.iloc[1,3] = np.nan\n",
    "df0.iloc[4,0] = np.nan\n",
    "df0"
   ]
  },
  {
   "cell_type": "code",
   "execution_count": 9,
   "metadata": {},
   "outputs": [
    {
     "data": {
      "text/html": [
       "<div>\n",
       "<style scoped>\n",
       "    .dataframe tbody tr th:only-of-type {\n",
       "        vertical-align: middle;\n",
       "    }\n",
       "\n",
       "    .dataframe tbody tr th {\n",
       "        vertical-align: top;\n",
       "    }\n",
       "\n",
       "    .dataframe thead th {\n",
       "        text-align: right;\n",
       "    }\n",
       "</style>\n",
       "<table border=\"1\" class=\"dataframe\">\n",
       "  <thead>\n",
       "    <tr style=\"text-align: right;\">\n",
       "      <th></th>\n",
       "      <th>A</th>\n",
       "      <th>B</th>\n",
       "      <th>C</th>\n",
       "      <th>D</th>\n",
       "    </tr>\n",
       "  </thead>\n",
       "  <tbody>\n",
       "    <tr>\n",
       "      <th>0</th>\n",
       "      <td>0.957020</td>\n",
       "      <td>-2.144985</td>\n",
       "      <td>NaN</td>\n",
       "      <td>-1.382330</td>\n",
       "    </tr>\n",
       "    <tr>\n",
       "      <th>1</th>\n",
       "      <td>1.777482</td>\n",
       "      <td>-0.001711</td>\n",
       "      <td>-0.022629</td>\n",
       "      <td>NaN</td>\n",
       "    </tr>\n",
       "    <tr>\n",
       "      <th>4</th>\n",
       "      <td>NaN</td>\n",
       "      <td>-0.099703</td>\n",
       "      <td>-1.356922</td>\n",
       "      <td>0.037559</td>\n",
       "    </tr>\n",
       "  </tbody>\n",
       "</table>\n",
       "</div>"
      ],
      "text/plain": [
       "          A         B         C         D\n",
       "0  0.957020 -2.144985       NaN -1.382330\n",
       "1  1.777482 -0.001711 -0.022629       NaN\n",
       "4       NaN -0.099703 -1.356922  0.037559"
      ]
     },
     "execution_count": 9,
     "metadata": {},
     "output_type": "execute_result"
    }
   ],
   "source": [
    "# code here\n",
    "df0.loc[df0.isna().any(axis=1), :]"
   ]
  },
  {
   "attachments": {},
   "cell_type": "markdown",
   "metadata": {
    "id": "ylF1jOln0cZ9"
   },
   "source": [
    "### 8-02 결측치 삭제\n",
    "- dropna(axis, how, thresh)\n",
    "- axis을 통해 행(axis=0) 또는 열(axis=1)을 지정\n",
    "- how을 통해 삭제 방법 설정\n",
    "    - 'any' 로 지정된 경우 1개라도 NaN이 존재하는 행 또는 열 삭제\n",
    "    - 'all' 로 지정된 경우 모두 NaN인 행 또는 열 삭제\n",
    "- thresh를 통해 삭제 기준을 지정할 수 있음\n",
    "    - NA가 아닌 데이터의 최소 개수 지정\n",
    "- df.dropna(axis=1, how=‘all’) : 열의 모든 값이 NA값으로 구성된 열 제거\n",
    "- df.dropna(axis=0, thresh=3) : NA가 아닌 데이터가 3개 미만인 행 제거"
   ]
  },
  {
   "cell_type": "code",
   "execution_count": 7,
   "metadata": {
    "colab": {
     "base_uri": "https://localhost:8080/",
     "height": 203
    },
    "executionInfo": {
     "elapsed": 726,
     "status": "ok",
     "timestamp": 1612262547942,
     "user": {
      "displayName": "hj Kim",
      "photoUrl": "",
      "userId": "02263672027550517756"
     },
     "user_tz": -540
    },
    "id": "J1Tv0nGi2qie",
    "outputId": "de452453-bdd2-49b1-80b8-d39156c385e0"
   },
   "outputs": [
    {
     "data": {
      "text/html": [
       "<div>\n",
       "<style scoped>\n",
       "    .dataframe tbody tr th:only-of-type {\n",
       "        vertical-align: middle;\n",
       "    }\n",
       "\n",
       "    .dataframe tbody tr th {\n",
       "        vertical-align: top;\n",
       "    }\n",
       "\n",
       "    .dataframe thead th {\n",
       "        text-align: right;\n",
       "    }\n",
       "</style>\n",
       "<table border=\"1\" class=\"dataframe\">\n",
       "  <thead>\n",
       "    <tr style=\"text-align: right;\">\n",
       "      <th></th>\n",
       "      <th>A</th>\n",
       "      <th>B</th>\n",
       "      <th>C</th>\n",
       "      <th>D</th>\n",
       "      <th>E</th>\n",
       "    </tr>\n",
       "  </thead>\n",
       "  <tbody>\n",
       "    <tr>\n",
       "      <th>0</th>\n",
       "      <td>1.764052</td>\n",
       "      <td>0.400157</td>\n",
       "      <td>0.978738</td>\n",
       "      <td>2.240893</td>\n",
       "      <td>1.867558</td>\n",
       "    </tr>\n",
       "    <tr>\n",
       "      <th>1</th>\n",
       "      <td>NaN</td>\n",
       "      <td>0.950088</td>\n",
       "      <td>NaN</td>\n",
       "      <td>NaN</td>\n",
       "      <td>0.410599</td>\n",
       "    </tr>\n",
       "    <tr>\n",
       "      <th>2</th>\n",
       "      <td>0.144044</td>\n",
       "      <td>1.454274</td>\n",
       "      <td>0.761038</td>\n",
       "      <td>0.121675</td>\n",
       "      <td>0.443863</td>\n",
       "    </tr>\n",
       "    <tr>\n",
       "      <th>3</th>\n",
       "      <td>0.333674</td>\n",
       "      <td>1.494079</td>\n",
       "      <td>NaN</td>\n",
       "      <td>0.313068</td>\n",
       "      <td>NaN</td>\n",
       "    </tr>\n",
       "    <tr>\n",
       "      <th>4</th>\n",
       "      <td>NaN</td>\n",
       "      <td>0.653619</td>\n",
       "      <td>0.864436</td>\n",
       "      <td>NaN</td>\n",
       "      <td>2.269755</td>\n",
       "    </tr>\n",
       "  </tbody>\n",
       "</table>\n",
       "</div>"
      ],
      "text/plain": [
       "          A         B         C         D         E\n",
       "0  1.764052  0.400157  0.978738  2.240893  1.867558\n",
       "1       NaN  0.950088       NaN       NaN  0.410599\n",
       "2  0.144044  1.454274  0.761038  0.121675  0.443863\n",
       "3  0.333674  1.494079       NaN  0.313068       NaN\n",
       "4       NaN  0.653619  0.864436       NaN  2.269755"
      ]
     },
     "execution_count": 7,
     "metadata": {},
     "output_type": "execute_result"
    }
   ],
   "source": [
    "np.random.seed(0)\n",
    "df =  pd.DataFrame(np.random.randn(5, 5), \n",
    "                  columns=['A','B','C','D','E'])\n",
    "df = df[df > 0]\n",
    "df"
   ]
  },
  {
   "cell_type": "code",
   "execution_count": 8,
   "metadata": {
    "colab": {
     "base_uri": "https://localhost:8080/",
     "height": 110
    },
    "executionInfo": {
     "elapsed": 692,
     "status": "ok",
     "timestamp": 1612262557617,
     "user": {
      "displayName": "hj Kim",
      "photoUrl": "",
      "userId": "02263672027550517756"
     },
     "user_tz": -540
    },
    "id": "vt83nV_gOFYQ",
    "outputId": "f5921957-ec29-4ac4-989e-ec78726e4acf"
   },
   "outputs": [
    {
     "data": {
      "text/html": [
       "<div>\n",
       "<style scoped>\n",
       "    .dataframe tbody tr th:only-of-type {\n",
       "        vertical-align: middle;\n",
       "    }\n",
       "\n",
       "    .dataframe tbody tr th {\n",
       "        vertical-align: top;\n",
       "    }\n",
       "\n",
       "    .dataframe thead th {\n",
       "        text-align: right;\n",
       "    }\n",
       "</style>\n",
       "<table border=\"1\" class=\"dataframe\">\n",
       "  <thead>\n",
       "    <tr style=\"text-align: right;\">\n",
       "      <th></th>\n",
       "      <th>A</th>\n",
       "      <th>B</th>\n",
       "      <th>C</th>\n",
       "      <th>D</th>\n",
       "      <th>E</th>\n",
       "    </tr>\n",
       "  </thead>\n",
       "  <tbody>\n",
       "    <tr>\n",
       "      <th>0</th>\n",
       "      <td>1.764052</td>\n",
       "      <td>0.400157</td>\n",
       "      <td>0.978738</td>\n",
       "      <td>2.240893</td>\n",
       "      <td>1.867558</td>\n",
       "    </tr>\n",
       "    <tr>\n",
       "      <th>2</th>\n",
       "      <td>0.144044</td>\n",
       "      <td>1.454274</td>\n",
       "      <td>0.761038</td>\n",
       "      <td>0.121675</td>\n",
       "      <td>0.443863</td>\n",
       "    </tr>\n",
       "  </tbody>\n",
       "</table>\n",
       "</div>"
      ],
      "text/plain": [
       "          A         B         C         D         E\n",
       "0  1.764052  0.400157  0.978738  2.240893  1.867558\n",
       "2  0.144044  1.454274  0.761038  0.121675  0.443863"
      ]
     },
     "execution_count": 8,
     "metadata": {},
     "output_type": "execute_result"
    }
   ],
   "source": [
    "# 행의 값 중 하나라도 NaN인 행을 제거\n",
    "df.dropna(axis=0, how='any')"
   ]
  },
  {
   "cell_type": "code",
   "execution_count": 9,
   "metadata": {},
   "outputs": [
    {
     "data": {
      "text/html": [
       "<div>\n",
       "<style scoped>\n",
       "    .dataframe tbody tr th:only-of-type {\n",
       "        vertical-align: middle;\n",
       "    }\n",
       "\n",
       "    .dataframe tbody tr th {\n",
       "        vertical-align: top;\n",
       "    }\n",
       "\n",
       "    .dataframe thead th {\n",
       "        text-align: right;\n",
       "    }\n",
       "</style>\n",
       "<table border=\"1\" class=\"dataframe\">\n",
       "  <thead>\n",
       "    <tr style=\"text-align: right;\">\n",
       "      <th></th>\n",
       "      <th>A</th>\n",
       "      <th>B</th>\n",
       "      <th>C</th>\n",
       "      <th>D</th>\n",
       "      <th>E</th>\n",
       "    </tr>\n",
       "  </thead>\n",
       "  <tbody>\n",
       "    <tr>\n",
       "      <th>0</th>\n",
       "      <td>1.764052</td>\n",
       "      <td>0.400157</td>\n",
       "      <td>0.978738</td>\n",
       "      <td>2.240893</td>\n",
       "      <td>1.867558</td>\n",
       "    </tr>\n",
       "    <tr>\n",
       "      <th>2</th>\n",
       "      <td>0.144044</td>\n",
       "      <td>1.454274</td>\n",
       "      <td>0.761038</td>\n",
       "      <td>0.121675</td>\n",
       "      <td>0.443863</td>\n",
       "    </tr>\n",
       "  </tbody>\n",
       "</table>\n",
       "</div>"
      ],
      "text/plain": [
       "          A         B         C         D         E\n",
       "0  1.764052  0.400157  0.978738  2.240893  1.867558\n",
       "2  0.144044  1.454274  0.761038  0.121675  0.443863"
      ]
     },
     "execution_count": 9,
     "metadata": {},
     "output_type": "execute_result"
    }
   ],
   "source": [
    "df.dropna()  #axis=0 기본값, how='any' 기본값 "
   ]
  },
  {
   "cell_type": "code",
   "execution_count": 10,
   "metadata": {
    "colab": {
     "base_uri": "https://localhost:8080/",
     "height": 203
    },
    "executionInfo": {
     "elapsed": 1001,
     "status": "ok",
     "timestamp": 1612262564738,
     "user": {
      "displayName": "hj Kim",
      "photoUrl": "",
      "userId": "02263672027550517756"
     },
     "user_tz": -540
    },
    "id": "4FnN28ohOFYQ",
    "outputId": "aa237483-04bd-4958-877d-89cc5722c0fc"
   },
   "outputs": [
    {
     "data": {
      "text/html": [
       "<div>\n",
       "<style scoped>\n",
       "    .dataframe tbody tr th:only-of-type {\n",
       "        vertical-align: middle;\n",
       "    }\n",
       "\n",
       "    .dataframe tbody tr th {\n",
       "        vertical-align: top;\n",
       "    }\n",
       "\n",
       "    .dataframe thead th {\n",
       "        text-align: right;\n",
       "    }\n",
       "</style>\n",
       "<table border=\"1\" class=\"dataframe\">\n",
       "  <thead>\n",
       "    <tr style=\"text-align: right;\">\n",
       "      <th></th>\n",
       "      <th>B</th>\n",
       "    </tr>\n",
       "  </thead>\n",
       "  <tbody>\n",
       "    <tr>\n",
       "      <th>0</th>\n",
       "      <td>0.400157</td>\n",
       "    </tr>\n",
       "    <tr>\n",
       "      <th>1</th>\n",
       "      <td>0.950088</td>\n",
       "    </tr>\n",
       "    <tr>\n",
       "      <th>2</th>\n",
       "      <td>1.454274</td>\n",
       "    </tr>\n",
       "    <tr>\n",
       "      <th>3</th>\n",
       "      <td>1.494079</td>\n",
       "    </tr>\n",
       "    <tr>\n",
       "      <th>4</th>\n",
       "      <td>0.653619</td>\n",
       "    </tr>\n",
       "  </tbody>\n",
       "</table>\n",
       "</div>"
      ],
      "text/plain": [
       "          B\n",
       "0  0.400157\n",
       "1  0.950088\n",
       "2  1.454274\n",
       "3  1.494079\n",
       "4  0.653619"
      ]
     },
     "execution_count": 10,
     "metadata": {},
     "output_type": "execute_result"
    }
   ],
   "source": [
    "# 열의 값 중 하나라도 NaN인 열을 제거\n",
    "df.dropna(axis=1, how='any')"
   ]
  },
  {
   "cell_type": "code",
   "execution_count": 13,
   "metadata": {
    "colab": {
     "base_uri": "https://localhost:8080/",
     "height": 172
    },
    "executionInfo": {
     "elapsed": 985,
     "status": "ok",
     "timestamp": 1612262569824,
     "user": {
      "displayName": "hj Kim",
      "photoUrl": "",
      "userId": "02263672027550517756"
     },
     "user_tz": -540
    },
    "id": "zQZW5TZlOFYR",
    "outputId": "3013249c-b651-4f8d-cb68-4b6fcced4edc"
   },
   "outputs": [
    {
     "data": {
      "text/html": [
       "<div>\n",
       "<style scoped>\n",
       "    .dataframe tbody tr th:only-of-type {\n",
       "        vertical-align: middle;\n",
       "    }\n",
       "\n",
       "    .dataframe tbody tr th {\n",
       "        vertical-align: top;\n",
       "    }\n",
       "\n",
       "    .dataframe thead th {\n",
       "        text-align: right;\n",
       "    }\n",
       "</style>\n",
       "<table border=\"1\" class=\"dataframe\">\n",
       "  <thead>\n",
       "    <tr style=\"text-align: right;\">\n",
       "      <th></th>\n",
       "      <th>A</th>\n",
       "      <th>B</th>\n",
       "      <th>C</th>\n",
       "      <th>D</th>\n",
       "      <th>E</th>\n",
       "    </tr>\n",
       "  </thead>\n",
       "  <tbody>\n",
       "    <tr>\n",
       "      <th>0</th>\n",
       "      <td>1.764052</td>\n",
       "      <td>0.400157</td>\n",
       "      <td>0.978738</td>\n",
       "      <td>2.240893</td>\n",
       "      <td>1.867558</td>\n",
       "    </tr>\n",
       "    <tr>\n",
       "      <th>2</th>\n",
       "      <td>0.144044</td>\n",
       "      <td>1.454274</td>\n",
       "      <td>0.761038</td>\n",
       "      <td>0.121675</td>\n",
       "      <td>0.443863</td>\n",
       "    </tr>\n",
       "    <tr>\n",
       "      <th>3</th>\n",
       "      <td>0.333674</td>\n",
       "      <td>1.494079</td>\n",
       "      <td>NaN</td>\n",
       "      <td>0.313068</td>\n",
       "      <td>NaN</td>\n",
       "    </tr>\n",
       "    <tr>\n",
       "      <th>4</th>\n",
       "      <td>NaN</td>\n",
       "      <td>0.653619</td>\n",
       "      <td>0.864436</td>\n",
       "      <td>NaN</td>\n",
       "      <td>2.269755</td>\n",
       "    </tr>\n",
       "  </tbody>\n",
       "</table>\n",
       "</div>"
      ],
      "text/plain": [
       "          A         B         C         D         E\n",
       "0  1.764052  0.400157  0.978738  2.240893  1.867558\n",
       "2  0.144044  1.454274  0.761038  0.121675  0.443863\n",
       "3  0.333674  1.494079       NaN  0.313068       NaN\n",
       "4       NaN  0.653619  0.864436       NaN  2.269755"
      ]
     },
     "execution_count": 13,
     "metadata": {
      "tags": []
     },
     "output_type": "execute_result"
    }
   ],
   "source": [
    "# NA가 아닌 데이터가 3개 미만인 행 제거\n",
    "# how='any'를 포함시켜도 동일하게 동작함\n",
    "df.dropna(axis=0, thresh=3)"
   ]
  },
  {
   "attachments": {},
   "cell_type": "markdown",
   "metadata": {},
   "source": [
    "### 연습문제 \n",
    "- 아래 데이터프레임에서  결측치를 제거하세요. "
   ]
  },
  {
   "cell_type": "code",
   "execution_count": 1,
   "metadata": {},
   "outputs": [
    {
     "data": {
      "text/html": [
       "<div>\n",
       "<style scoped>\n",
       "    .dataframe tbody tr th:only-of-type {\n",
       "        vertical-align: middle;\n",
       "    }\n",
       "\n",
       "    .dataframe tbody tr th {\n",
       "        vertical-align: top;\n",
       "    }\n",
       "\n",
       "    .dataframe thead th {\n",
       "        text-align: right;\n",
       "    }\n",
       "</style>\n",
       "<table border=\"1\" class=\"dataframe\">\n",
       "  <thead>\n",
       "    <tr style=\"text-align: right;\">\n",
       "      <th></th>\n",
       "      <th>X1</th>\n",
       "      <th>X2</th>\n",
       "      <th>X3</th>\n",
       "    </tr>\n",
       "  </thead>\n",
       "  <tbody>\n",
       "    <tr>\n",
       "      <th>A</th>\n",
       "      <td>NaN</td>\n",
       "      <td>0.997345</td>\n",
       "      <td>0.282978</td>\n",
       "    </tr>\n",
       "    <tr>\n",
       "      <th>B</th>\n",
       "      <td>NaN</td>\n",
       "      <td>-0.578600</td>\n",
       "      <td>NaN</td>\n",
       "    </tr>\n",
       "    <tr>\n",
       "      <th>C</th>\n",
       "      <td>NaN</td>\n",
       "      <td>-0.428913</td>\n",
       "      <td>1.265936</td>\n",
       "    </tr>\n",
       "    <tr>\n",
       "      <th>D</th>\n",
       "      <td>NaN</td>\n",
       "      <td>NaN</td>\n",
       "      <td>-0.094709</td>\n",
       "    </tr>\n",
       "  </tbody>\n",
       "</table>\n",
       "</div>"
      ],
      "text/plain": [
       "   X1        X2        X3\n",
       "A NaN  0.997345  0.282978\n",
       "B NaN -0.578600       NaN\n",
       "C NaN -0.428913  1.265936\n",
       "D NaN       NaN -0.094709"
      ]
     },
     "execution_count": 1,
     "metadata": {},
     "output_type": "execute_result"
    }
   ],
   "source": [
    "import numpy as np \n",
    "import pandas as pd \n",
    "np.random.seed(123)\n",
    "ar = np.random.randn(4, 3)\n",
    "ar[:,0] = np.nan \n",
    "ar[3,1] = np.nan \n",
    "ar[1,2] = np.nan\n",
    "df0 = pd.DataFrame(ar, index=list('ABCD'), columns=['X1', 'X2', 'X3'])\n",
    "df0"
   ]
  },
  {
   "cell_type": "code",
   "execution_count": 2,
   "metadata": {},
   "outputs": [
    {
     "data": {
      "text/html": [
       "<div>\n",
       "<style scoped>\n",
       "    .dataframe tbody tr th:only-of-type {\n",
       "        vertical-align: middle;\n",
       "    }\n",
       "\n",
       "    .dataframe tbody tr th {\n",
       "        vertical-align: top;\n",
       "    }\n",
       "\n",
       "    .dataframe thead th {\n",
       "        text-align: right;\n",
       "    }\n",
       "</style>\n",
       "<table border=\"1\" class=\"dataframe\">\n",
       "  <thead>\n",
       "    <tr style=\"text-align: right;\">\n",
       "      <th></th>\n",
       "      <th>X1</th>\n",
       "      <th>X2</th>\n",
       "      <th>X3</th>\n",
       "    </tr>\n",
       "  </thead>\n",
       "  <tbody>\n",
       "    <tr>\n",
       "      <th>A</th>\n",
       "      <td>NaN</td>\n",
       "      <td>0.997345</td>\n",
       "      <td>0.282978</td>\n",
       "    </tr>\n",
       "    <tr>\n",
       "      <th>B</th>\n",
       "      <td>NaN</td>\n",
       "      <td>-0.578600</td>\n",
       "      <td>NaN</td>\n",
       "    </tr>\n",
       "    <tr>\n",
       "      <th>C</th>\n",
       "      <td>NaN</td>\n",
       "      <td>-0.428913</td>\n",
       "      <td>1.265936</td>\n",
       "    </tr>\n",
       "    <tr>\n",
       "      <th>D</th>\n",
       "      <td>NaN</td>\n",
       "      <td>NaN</td>\n",
       "      <td>-0.094709</td>\n",
       "    </tr>\n",
       "  </tbody>\n",
       "</table>\n",
       "</div>"
      ],
      "text/plain": [
       "   X1        X2        X3\n",
       "A NaN  0.997345  0.282978\n",
       "B NaN -0.578600       NaN\n",
       "C NaN -0.428913  1.265936\n",
       "D NaN       NaN -0.094709"
      ]
     },
     "execution_count": 2,
     "metadata": {},
     "output_type": "execute_result"
    }
   ],
   "source": [
    "# code here \n",
    "# df0.dropna(thresh=2, axis=1)\n",
    "df0.dropna(how='all', axis=1)"
   ]
  },
  {
   "attachments": {},
   "cell_type": "markdown",
   "metadata": {
    "id": "GB9t9Ff13ahJ"
   },
   "source": [
    "### 8-03 결측치 대체\n",
    "- fillna(value, method)\n",
    "- fillna 함수를 이용하여 결측치 값을 치환\n",
    "- 1개의 값이 지정된 경우 모든 결측치를 해당 값으로 치환\n",
    "- 인덱스가 DataFrame의 행 또는 열 인덱스와 동일한 Series 인 경우 각 행 인덱스별\n",
    "또는 열 인덱스별 값을 치환 가능\n",
    "    - 예) NA를 제외한 각 컬럼별 평균 값을 계산 후 각 컬럼별 평균 값으로 결측치 대체\n",
    "- 시계열 데이터인 경우 보간 방법(method)을 설정할 수 있음\n",
    "    - ffill 인 경우 결측치가 발생한 이전 값으로 대체\n",
    "    - bfill 인 경우 결측치가 발생한 이후 값으로 대체"
   ]
  },
  {
   "cell_type": "code",
   "execution_count": 11,
   "metadata": {
    "colab": {
     "base_uri": "https://localhost:8080/",
     "height": 203
    },
    "executionInfo": {
     "elapsed": 630,
     "status": "ok",
     "timestamp": 1612262575138,
     "user": {
      "displayName": "hj Kim",
      "photoUrl": "",
      "userId": "02263672027550517756"
     },
     "user_tz": -540
    },
    "id": "6IqnmeSFOFYR",
    "outputId": "5e599f6f-ae4f-4628-d9a3-43c54a448c0a"
   },
   "outputs": [
    {
     "data": {
      "text/html": [
       "<div>\n",
       "<style scoped>\n",
       "    .dataframe tbody tr th:only-of-type {\n",
       "        vertical-align: middle;\n",
       "    }\n",
       "\n",
       "    .dataframe tbody tr th {\n",
       "        vertical-align: top;\n",
       "    }\n",
       "\n",
       "    .dataframe thead th {\n",
       "        text-align: right;\n",
       "    }\n",
       "</style>\n",
       "<table border=\"1\" class=\"dataframe\">\n",
       "  <thead>\n",
       "    <tr style=\"text-align: right;\">\n",
       "      <th></th>\n",
       "      <th>A</th>\n",
       "      <th>B</th>\n",
       "      <th>C</th>\n",
       "      <th>D</th>\n",
       "      <th>E</th>\n",
       "    </tr>\n",
       "  </thead>\n",
       "  <tbody>\n",
       "    <tr>\n",
       "      <th>0</th>\n",
       "      <td>1.764052</td>\n",
       "      <td>0.400157</td>\n",
       "      <td>0.978738</td>\n",
       "      <td>2.240893</td>\n",
       "      <td>1.867558</td>\n",
       "    </tr>\n",
       "    <tr>\n",
       "      <th>1</th>\n",
       "      <td>0.000000</td>\n",
       "      <td>0.950088</td>\n",
       "      <td>0.000000</td>\n",
       "      <td>0.000000</td>\n",
       "      <td>0.410599</td>\n",
       "    </tr>\n",
       "    <tr>\n",
       "      <th>2</th>\n",
       "      <td>0.144044</td>\n",
       "      <td>1.454274</td>\n",
       "      <td>0.761038</td>\n",
       "      <td>0.121675</td>\n",
       "      <td>0.443863</td>\n",
       "    </tr>\n",
       "    <tr>\n",
       "      <th>3</th>\n",
       "      <td>0.333674</td>\n",
       "      <td>1.494079</td>\n",
       "      <td>0.000000</td>\n",
       "      <td>0.313068</td>\n",
       "      <td>0.000000</td>\n",
       "    </tr>\n",
       "    <tr>\n",
       "      <th>4</th>\n",
       "      <td>0.000000</td>\n",
       "      <td>0.653619</td>\n",
       "      <td>0.864436</td>\n",
       "      <td>0.000000</td>\n",
       "      <td>2.269755</td>\n",
       "    </tr>\n",
       "  </tbody>\n",
       "</table>\n",
       "</div>"
      ],
      "text/plain": [
       "          A         B         C         D         E\n",
       "0  1.764052  0.400157  0.978738  2.240893  1.867558\n",
       "1  0.000000  0.950088  0.000000  0.000000  0.410599\n",
       "2  0.144044  1.454274  0.761038  0.121675  0.443863\n",
       "3  0.333674  1.494079  0.000000  0.313068  0.000000\n",
       "4  0.000000  0.653619  0.864436  0.000000  2.269755"
      ]
     },
     "execution_count": 11,
     "metadata": {},
     "output_type": "execute_result"
    }
   ],
   "source": [
    "# DataFrame df의 결측치를 모두 0으로 대체\n",
    "df.fillna(0)"
   ]
  },
  {
   "cell_type": "code",
   "execution_count": 13,
   "metadata": {},
   "outputs": [
    {
     "data": {
      "text/plain": [
       "A    0.747257\n",
       "B    0.990443\n",
       "C    0.868071\n",
       "D    0.891879\n",
       "E    1.247944\n",
       "dtype: float64"
      ]
     },
     "execution_count": 13,
     "metadata": {},
     "output_type": "execute_result"
    }
   ],
   "source": [
    "df.mean()"
   ]
  },
  {
   "cell_type": "code",
   "execution_count": 12,
   "metadata": {
    "colab": {
     "base_uri": "https://localhost:8080/",
     "height": 203
    },
    "executionInfo": {
     "elapsed": 642,
     "status": "ok",
     "timestamp": 1612262579082,
     "user": {
      "displayName": "hj Kim",
      "photoUrl": "",
      "userId": "02263672027550517756"
     },
     "user_tz": -540
    },
    "id": "w3qT_cHKOFYR",
    "outputId": "43b24a7e-a94d-4a78-ee59-b2ed6e5e1b08"
   },
   "outputs": [
    {
     "data": {
      "text/html": [
       "<div>\n",
       "<style scoped>\n",
       "    .dataframe tbody tr th:only-of-type {\n",
       "        vertical-align: middle;\n",
       "    }\n",
       "\n",
       "    .dataframe tbody tr th {\n",
       "        vertical-align: top;\n",
       "    }\n",
       "\n",
       "    .dataframe thead th {\n",
       "        text-align: right;\n",
       "    }\n",
       "</style>\n",
       "<table border=\"1\" class=\"dataframe\">\n",
       "  <thead>\n",
       "    <tr style=\"text-align: right;\">\n",
       "      <th></th>\n",
       "      <th>A</th>\n",
       "      <th>B</th>\n",
       "      <th>C</th>\n",
       "      <th>D</th>\n",
       "      <th>E</th>\n",
       "    </tr>\n",
       "  </thead>\n",
       "  <tbody>\n",
       "    <tr>\n",
       "      <th>0</th>\n",
       "      <td>1.764052</td>\n",
       "      <td>0.400157</td>\n",
       "      <td>0.978738</td>\n",
       "      <td>2.240893</td>\n",
       "      <td>1.867558</td>\n",
       "    </tr>\n",
       "    <tr>\n",
       "      <th>1</th>\n",
       "      <td>0.747257</td>\n",
       "      <td>0.950088</td>\n",
       "      <td>0.868071</td>\n",
       "      <td>0.891879</td>\n",
       "      <td>0.410599</td>\n",
       "    </tr>\n",
       "    <tr>\n",
       "      <th>2</th>\n",
       "      <td>0.144044</td>\n",
       "      <td>1.454274</td>\n",
       "      <td>0.761038</td>\n",
       "      <td>0.121675</td>\n",
       "      <td>0.443863</td>\n",
       "    </tr>\n",
       "    <tr>\n",
       "      <th>3</th>\n",
       "      <td>0.333674</td>\n",
       "      <td>1.494079</td>\n",
       "      <td>0.868071</td>\n",
       "      <td>0.313068</td>\n",
       "      <td>1.247944</td>\n",
       "    </tr>\n",
       "    <tr>\n",
       "      <th>4</th>\n",
       "      <td>0.747257</td>\n",
       "      <td>0.653619</td>\n",
       "      <td>0.864436</td>\n",
       "      <td>0.891879</td>\n",
       "      <td>2.269755</td>\n",
       "    </tr>\n",
       "  </tbody>\n",
       "</table>\n",
       "</div>"
      ],
      "text/plain": [
       "          A         B         C         D         E\n",
       "0  1.764052  0.400157  0.978738  2.240893  1.867558\n",
       "1  0.747257  0.950088  0.868071  0.891879  0.410599\n",
       "2  0.144044  1.454274  0.761038  0.121675  0.443863\n",
       "3  0.333674  1.494079  0.868071  0.313068  1.247944\n",
       "4  0.747257  0.653619  0.864436  0.891879  2.269755"
      ]
     },
     "execution_count": 12,
     "metadata": {},
     "output_type": "execute_result"
    }
   ],
   "source": [
    "# DataFrame df의 결측치를 모두 df.mean()으로 대체\n",
    "df.fillna( df.mean() )"
   ]
  },
  {
   "cell_type": "code",
   "execution_count": 14,
   "metadata": {},
   "outputs": [
    {
     "data": {
      "text/html": [
       "<div>\n",
       "<style scoped>\n",
       "    .dataframe tbody tr th:only-of-type {\n",
       "        vertical-align: middle;\n",
       "    }\n",
       "\n",
       "    .dataframe tbody tr th {\n",
       "        vertical-align: top;\n",
       "    }\n",
       "\n",
       "    .dataframe thead th {\n",
       "        text-align: right;\n",
       "    }\n",
       "</style>\n",
       "<table border=\"1\" class=\"dataframe\">\n",
       "  <thead>\n",
       "    <tr style=\"text-align: right;\">\n",
       "      <th></th>\n",
       "      <th>A</th>\n",
       "      <th>B</th>\n",
       "      <th>C</th>\n",
       "      <th>D</th>\n",
       "      <th>E</th>\n",
       "    </tr>\n",
       "  </thead>\n",
       "  <tbody>\n",
       "    <tr>\n",
       "      <th>0</th>\n",
       "      <td>1.764052</td>\n",
       "      <td>0.400157</td>\n",
       "      <td>0.978738</td>\n",
       "      <td>2.240893</td>\n",
       "      <td>1.867558</td>\n",
       "    </tr>\n",
       "    <tr>\n",
       "      <th>1</th>\n",
       "      <td>0.333674</td>\n",
       "      <td>0.950088</td>\n",
       "      <td>0.864436</td>\n",
       "      <td>0.313068</td>\n",
       "      <td>0.410599</td>\n",
       "    </tr>\n",
       "    <tr>\n",
       "      <th>2</th>\n",
       "      <td>0.144044</td>\n",
       "      <td>1.454274</td>\n",
       "      <td>0.761038</td>\n",
       "      <td>0.121675</td>\n",
       "      <td>0.443863</td>\n",
       "    </tr>\n",
       "    <tr>\n",
       "      <th>3</th>\n",
       "      <td>0.333674</td>\n",
       "      <td>1.494079</td>\n",
       "      <td>0.864436</td>\n",
       "      <td>0.313068</td>\n",
       "      <td>1.155711</td>\n",
       "    </tr>\n",
       "    <tr>\n",
       "      <th>4</th>\n",
       "      <td>0.333674</td>\n",
       "      <td>0.653619</td>\n",
       "      <td>0.864436</td>\n",
       "      <td>0.313068</td>\n",
       "      <td>2.269755</td>\n",
       "    </tr>\n",
       "  </tbody>\n",
       "</table>\n",
       "</div>"
      ],
      "text/plain": [
       "          A         B         C         D         E\n",
       "0  1.764052  0.400157  0.978738  2.240893  1.867558\n",
       "1  0.333674  0.950088  0.864436  0.313068  0.410599\n",
       "2  0.144044  1.454274  0.761038  0.121675  0.443863\n",
       "3  0.333674  1.494079  0.864436  0.313068  1.155711\n",
       "4  0.333674  0.653619  0.864436  0.313068  2.269755"
      ]
     },
     "execution_count": 14,
     "metadata": {},
     "output_type": "execute_result"
    }
   ],
   "source": [
    "df.fillna( df.median() )"
   ]
  },
  {
   "cell_type": "code",
   "execution_count": 15,
   "metadata": {
    "colab": {
     "base_uri": "https://localhost:8080/",
     "height": 203
    },
    "executionInfo": {
     "elapsed": 903,
     "status": "ok",
     "timestamp": 1612262585055,
     "user": {
      "displayName": "hj Kim",
      "photoUrl": "",
      "userId": "02263672027550517756"
     },
     "user_tz": -540
    },
    "id": "6zaoCzfyOFYR",
    "outputId": "6d4244e9-51a0-4607-f73e-e2b0cd826ee6"
   },
   "outputs": [
    {
     "data": {
      "text/html": [
       "<div>\n",
       "<style scoped>\n",
       "    .dataframe tbody tr th:only-of-type {\n",
       "        vertical-align: middle;\n",
       "    }\n",
       "\n",
       "    .dataframe tbody tr th {\n",
       "        vertical-align: top;\n",
       "    }\n",
       "\n",
       "    .dataframe thead th {\n",
       "        text-align: right;\n",
       "    }\n",
       "</style>\n",
       "<table border=\"1\" class=\"dataframe\">\n",
       "  <thead>\n",
       "    <tr style=\"text-align: right;\">\n",
       "      <th></th>\n",
       "      <th>A</th>\n",
       "      <th>B</th>\n",
       "      <th>C</th>\n",
       "      <th>D</th>\n",
       "      <th>E</th>\n",
       "    </tr>\n",
       "  </thead>\n",
       "  <tbody>\n",
       "    <tr>\n",
       "      <th>0</th>\n",
       "      <td>1.764052</td>\n",
       "      <td>0.400157</td>\n",
       "      <td>0.978738</td>\n",
       "      <td>2.240893</td>\n",
       "      <td>1.867558</td>\n",
       "    </tr>\n",
       "    <tr>\n",
       "      <th>1</th>\n",
       "      <td>1.764052</td>\n",
       "      <td>0.950088</td>\n",
       "      <td>0.978738</td>\n",
       "      <td>2.240893</td>\n",
       "      <td>0.410599</td>\n",
       "    </tr>\n",
       "    <tr>\n",
       "      <th>2</th>\n",
       "      <td>0.144044</td>\n",
       "      <td>1.454274</td>\n",
       "      <td>0.761038</td>\n",
       "      <td>0.121675</td>\n",
       "      <td>0.443863</td>\n",
       "    </tr>\n",
       "    <tr>\n",
       "      <th>3</th>\n",
       "      <td>0.333674</td>\n",
       "      <td>1.494079</td>\n",
       "      <td>0.761038</td>\n",
       "      <td>0.313068</td>\n",
       "      <td>0.443863</td>\n",
       "    </tr>\n",
       "    <tr>\n",
       "      <th>4</th>\n",
       "      <td>0.333674</td>\n",
       "      <td>0.653619</td>\n",
       "      <td>0.864436</td>\n",
       "      <td>0.313068</td>\n",
       "      <td>2.269755</td>\n",
       "    </tr>\n",
       "  </tbody>\n",
       "</table>\n",
       "</div>"
      ],
      "text/plain": [
       "          A         B         C         D         E\n",
       "0  1.764052  0.400157  0.978738  2.240893  1.867558\n",
       "1  1.764052  0.950088  0.978738  2.240893  0.410599\n",
       "2  0.144044  1.454274  0.761038  0.121675  0.443863\n",
       "3  0.333674  1.494079  0.761038  0.313068  0.443863\n",
       "4  0.333674  0.653619  0.864436  0.313068  2.269755"
      ]
     },
     "execution_count": 15,
     "metadata": {},
     "output_type": "execute_result"
    }
   ],
   "source": [
    "# DataFrame df의 결측치를 '이전 값'으로 대체, axis = 0 방향\n",
    "df.fillna(method='ffill')"
   ]
  },
  {
   "cell_type": "code",
   "execution_count": 16,
   "metadata": {
    "colab": {
     "base_uri": "https://localhost:8080/",
     "height": 203
    },
    "executionInfo": {
     "elapsed": 1307,
     "status": "ok",
     "timestamp": 1612262593238,
     "user": {
      "displayName": "hj Kim",
      "photoUrl": "",
      "userId": "02263672027550517756"
     },
     "user_tz": -540
    },
    "id": "xQu2eodTOFYR",
    "outputId": "b288396d-afe3-4360-f297-a6c4e9f7fa7f"
   },
   "outputs": [
    {
     "data": {
      "text/html": [
       "<div>\n",
       "<style scoped>\n",
       "    .dataframe tbody tr th:only-of-type {\n",
       "        vertical-align: middle;\n",
       "    }\n",
       "\n",
       "    .dataframe tbody tr th {\n",
       "        vertical-align: top;\n",
       "    }\n",
       "\n",
       "    .dataframe thead th {\n",
       "        text-align: right;\n",
       "    }\n",
       "</style>\n",
       "<table border=\"1\" class=\"dataframe\">\n",
       "  <thead>\n",
       "    <tr style=\"text-align: right;\">\n",
       "      <th></th>\n",
       "      <th>A</th>\n",
       "      <th>B</th>\n",
       "      <th>C</th>\n",
       "      <th>D</th>\n",
       "      <th>E</th>\n",
       "    </tr>\n",
       "  </thead>\n",
       "  <tbody>\n",
       "    <tr>\n",
       "      <th>0</th>\n",
       "      <td>1.764052</td>\n",
       "      <td>0.400157</td>\n",
       "      <td>0.978738</td>\n",
       "      <td>2.240893</td>\n",
       "      <td>1.867558</td>\n",
       "    </tr>\n",
       "    <tr>\n",
       "      <th>1</th>\n",
       "      <td>0.144044</td>\n",
       "      <td>0.950088</td>\n",
       "      <td>0.761038</td>\n",
       "      <td>0.121675</td>\n",
       "      <td>0.410599</td>\n",
       "    </tr>\n",
       "    <tr>\n",
       "      <th>2</th>\n",
       "      <td>0.144044</td>\n",
       "      <td>1.454274</td>\n",
       "      <td>0.761038</td>\n",
       "      <td>0.121675</td>\n",
       "      <td>0.443863</td>\n",
       "    </tr>\n",
       "    <tr>\n",
       "      <th>3</th>\n",
       "      <td>0.333674</td>\n",
       "      <td>1.494079</td>\n",
       "      <td>0.864436</td>\n",
       "      <td>0.313068</td>\n",
       "      <td>2.269755</td>\n",
       "    </tr>\n",
       "    <tr>\n",
       "      <th>4</th>\n",
       "      <td>NaN</td>\n",
       "      <td>0.653619</td>\n",
       "      <td>0.864436</td>\n",
       "      <td>NaN</td>\n",
       "      <td>2.269755</td>\n",
       "    </tr>\n",
       "  </tbody>\n",
       "</table>\n",
       "</div>"
      ],
      "text/plain": [
       "          A         B         C         D         E\n",
       "0  1.764052  0.400157  0.978738  2.240893  1.867558\n",
       "1  0.144044  0.950088  0.761038  0.121675  0.410599\n",
       "2  0.144044  1.454274  0.761038  0.121675  0.443863\n",
       "3  0.333674  1.494079  0.864436  0.313068  2.269755\n",
       "4       NaN  0.653619  0.864436       NaN  2.269755"
      ]
     },
     "execution_count": 16,
     "metadata": {},
     "output_type": "execute_result"
    }
   ],
   "source": [
    "# DataFrame df의 결측치를 '다음 값'으로 대체, axis = 0 방향\n",
    "df.fillna(method='bfill')"
   ]
  },
  {
   "cell_type": "code",
   "execution_count": 17,
   "metadata": {
    "colab": {
     "base_uri": "https://localhost:8080/",
     "height": 203
    },
    "executionInfo": {
     "elapsed": 874,
     "status": "ok",
     "timestamp": 1612262605526,
     "user": {
      "displayName": "hj Kim",
      "photoUrl": "",
      "userId": "02263672027550517756"
     },
     "user_tz": -540
    },
    "id": "b7-Qt4vsVvfw",
    "outputId": "131118f2-5c0b-4950-c11e-eec221d2aa24"
   },
   "outputs": [
    {
     "data": {
      "text/html": [
       "<div>\n",
       "<style scoped>\n",
       "    .dataframe tbody tr th:only-of-type {\n",
       "        vertical-align: middle;\n",
       "    }\n",
       "\n",
       "    .dataframe tbody tr th {\n",
       "        vertical-align: top;\n",
       "    }\n",
       "\n",
       "    .dataframe thead th {\n",
       "        text-align: right;\n",
       "    }\n",
       "</style>\n",
       "<table border=\"1\" class=\"dataframe\">\n",
       "  <thead>\n",
       "    <tr style=\"text-align: right;\">\n",
       "      <th></th>\n",
       "      <th>A</th>\n",
       "      <th>B</th>\n",
       "      <th>C</th>\n",
       "      <th>D</th>\n",
       "      <th>E</th>\n",
       "    </tr>\n",
       "  </thead>\n",
       "  <tbody>\n",
       "    <tr>\n",
       "      <th>0</th>\n",
       "      <td>1.764052</td>\n",
       "      <td>0.400157</td>\n",
       "      <td>0.978738</td>\n",
       "      <td>2.240893</td>\n",
       "      <td>1.867558</td>\n",
       "    </tr>\n",
       "    <tr>\n",
       "      <th>1</th>\n",
       "      <td>NaN</td>\n",
       "      <td>0.950088</td>\n",
       "      <td>NaN</td>\n",
       "      <td>NaN</td>\n",
       "      <td>0.410599</td>\n",
       "    </tr>\n",
       "    <tr>\n",
       "      <th>2</th>\n",
       "      <td>0.144044</td>\n",
       "      <td>1.454274</td>\n",
       "      <td>0.761038</td>\n",
       "      <td>0.121675</td>\n",
       "      <td>0.443863</td>\n",
       "    </tr>\n",
       "    <tr>\n",
       "      <th>3</th>\n",
       "      <td>0.333674</td>\n",
       "      <td>1.494079</td>\n",
       "      <td>NaN</td>\n",
       "      <td>0.313068</td>\n",
       "      <td>NaN</td>\n",
       "    </tr>\n",
       "    <tr>\n",
       "      <th>4</th>\n",
       "      <td>NaN</td>\n",
       "      <td>0.653619</td>\n",
       "      <td>0.864436</td>\n",
       "      <td>NaN</td>\n",
       "      <td>2.269755</td>\n",
       "    </tr>\n",
       "  </tbody>\n",
       "</table>\n",
       "</div>"
      ],
      "text/plain": [
       "          A         B         C         D         E\n",
       "0  1.764052  0.400157  0.978738  2.240893  1.867558\n",
       "1       NaN  0.950088       NaN       NaN  0.410599\n",
       "2  0.144044  1.454274  0.761038  0.121675  0.443863\n",
       "3  0.333674  1.494079       NaN  0.313068       NaN\n",
       "4       NaN  0.653619  0.864436       NaN  2.269755"
      ]
     },
     "execution_count": 17,
     "metadata": {},
     "output_type": "execute_result"
    }
   ],
   "source": [
    "df"
   ]
  },
  {
   "attachments": {
    "image.png": {
     "image/png": "[encoded data removed]"
    }
   },
   "cell_type": "markdown",
   "metadata": {},
   "source": [
    "### 연습문제 \n",
    "- 왼쪽 데이터 프레임에서 오른쪽 데이터 프레임과 같이 'A'의 결측치를 'A' 의 최대값으로 채워보세요. \n",
    "- 전  ---> 후 \n",
    "\n",
    "![image.png](attachment:image.png)"
   ]
  },
  {
   "cell_type": "code",
   "execution_count": 3,
   "metadata": {},
   "outputs": [
    {
     "data": {
      "text/html": [
       "<div>\n",
       "<style scoped>\n",
       "    .dataframe tbody tr th:only-of-type {\n",
       "        vertical-align: middle;\n",
       "    }\n",
       "\n",
       "    .dataframe tbody tr th {\n",
       "        vertical-align: top;\n",
       "    }\n",
       "\n",
       "    .dataframe thead th {\n",
       "        text-align: right;\n",
       "    }\n",
       "</style>\n",
       "<table border=\"1\" class=\"dataframe\">\n",
       "  <thead>\n",
       "    <tr style=\"text-align: right;\">\n",
       "      <th></th>\n",
       "      <th>A</th>\n",
       "      <th>B</th>\n",
       "    </tr>\n",
       "  </thead>\n",
       "  <tbody>\n",
       "    <tr>\n",
       "      <th>0</th>\n",
       "      <td>NaN</td>\n",
       "      <td>a</td>\n",
       "    </tr>\n",
       "    <tr>\n",
       "      <th>1</th>\n",
       "      <td>NaN</td>\n",
       "      <td>b</td>\n",
       "    </tr>\n",
       "    <tr>\n",
       "      <th>2</th>\n",
       "      <td>1.0</td>\n",
       "      <td>b</td>\n",
       "    </tr>\n",
       "    <tr>\n",
       "      <th>3</th>\n",
       "      <td>2.0</td>\n",
       "      <td>b</td>\n",
       "    </tr>\n",
       "    <tr>\n",
       "      <th>4</th>\n",
       "      <td>3.0</td>\n",
       "      <td>b</td>\n",
       "    </tr>\n",
       "  </tbody>\n",
       "</table>\n",
       "</div>"
      ],
      "text/plain": [
       "     A  B\n",
       "0  NaN  a\n",
       "1  NaN  b\n",
       "2  1.0  b\n",
       "3  2.0  b\n",
       "4  3.0  b"
      ]
     },
     "execution_count": 3,
     "metadata": {},
     "output_type": "execute_result"
    }
   ],
   "source": [
    "# df1 생성코드. 그대로 수행하세요.\n",
    "df1 = pd.DataFrame([[np.nan, 'a'], [np.nan, 'b'], [1.0, 'b'], [2.0, 'b'], [3.0, 'b']], columns=['A', 'B'])\n",
    "df1"
   ]
  },
  {
   "cell_type": "code",
   "execution_count": 4,
   "metadata": {},
   "outputs": [
    {
     "data": {
      "text/html": [
       "<div>\n",
       "<style scoped>\n",
       "    .dataframe tbody tr th:only-of-type {\n",
       "        vertical-align: middle;\n",
       "    }\n",
       "\n",
       "    .dataframe tbody tr th {\n",
       "        vertical-align: top;\n",
       "    }\n",
       "\n",
       "    .dataframe thead th {\n",
       "        text-align: right;\n",
       "    }\n",
       "</style>\n",
       "<table border=\"1\" class=\"dataframe\">\n",
       "  <thead>\n",
       "    <tr style=\"text-align: right;\">\n",
       "      <th></th>\n",
       "      <th>A</th>\n",
       "      <th>B</th>\n",
       "    </tr>\n",
       "  </thead>\n",
       "  <tbody>\n",
       "    <tr>\n",
       "      <th>0</th>\n",
       "      <td>3.0</td>\n",
       "      <td>a</td>\n",
       "    </tr>\n",
       "    <tr>\n",
       "      <th>1</th>\n",
       "      <td>3.0</td>\n",
       "      <td>b</td>\n",
       "    </tr>\n",
       "    <tr>\n",
       "      <th>2</th>\n",
       "      <td>1.0</td>\n",
       "      <td>b</td>\n",
       "    </tr>\n",
       "    <tr>\n",
       "      <th>3</th>\n",
       "      <td>2.0</td>\n",
       "      <td>b</td>\n",
       "    </tr>\n",
       "    <tr>\n",
       "      <th>4</th>\n",
       "      <td>3.0</td>\n",
       "      <td>b</td>\n",
       "    </tr>\n",
       "  </tbody>\n",
       "</table>\n",
       "</div>"
      ],
      "text/plain": [
       "     A  B\n",
       "0  3.0  a\n",
       "1  3.0  b\n",
       "2  1.0  b\n",
       "3  2.0  b\n",
       "4  3.0  b"
      ]
     },
     "execution_count": 4,
     "metadata": {},
     "output_type": "execute_result"
    }
   ],
   "source": [
    "# code here \n",
    "df1['A'] = df1['A'].fillna(df1['A'].max())\n",
    "df1"
   ]
  },
  {
   "cell_type": "code",
   "execution_count": null,
   "metadata": {},
   "outputs": [],
   "source": []
  },
  {
   "cell_type": "code",
   "execution_count": null,
   "metadata": {},
   "outputs": [],
   "source": [
    "#질문 \n",
    "1.\n",
    "# df.fillna(df.mean()) 은 열의 평균을 NaN에 넣는 것 같은데, \n",
    "# 행의 평균은 df.fillna(df.mean(axis=1)) 로 하면 되나요?  \n",
    "# => df.fillna(df.mean()) 일반적임\n",
    "\n",
    "2.\n",
    "# concat은 df를 []로 묶어서 넣는데, merge는 ,로 구분해서 넣는건가요?\n",
    "# pd.concat([df1, df2, df3])   #한번에 여러개 \n",
    "# pd.merge(df1, df2, on='K')   #한번에 2개 \n",
    "\n",
    "3.\n",
    "# df.groupby('X').count()\n",
    "# df.groupby('X').size()  #편의상 \n",
    "# 이 두개는 같은 값을 출력하는 것 아닌가요?"
   ]
  },
  {
   "attachments": {},
   "cell_type": "markdown",
   "metadata": {},
   "source": []
  },
  {
   "cell_type": "code",
   "execution_count": null,
   "metadata": {},
   "outputs": [],
   "source": []
  },
  {
   "attachments": {},
   "cell_type": "markdown",
   "metadata": {
    "id": "jI51xDTM4P45"
   },
   "source": [
    "## 9.데이터 연결\n",
    "- 분석의 규모가 커지게 되면 여러 개의 데이터 테이블 이용\n",
    "    - 하나의 테이블에 모든 데이터를 기록하는 것은 좋지 않아 데이터가 여러 테이블로 분리 되어 있기 때문\n",
    "- 데이터 분석을 위해 분할된 여러 데이터 테이블을 하나로 만드는 것이 중요함\n",
    "- Pandas의 경우 DataFrame과 DataFrame을 연결 또는 병합할 수 있음\n",
    "    - concat 함수 : 단순히 DataFrame을 연결하는 용도\n",
    "    - merge 함수 : 특정 기준으로 DataFrame을 연결하는 용도"
   ]
  },
  {
   "attachments": {},
   "cell_type": "markdown",
   "metadata": {
    "id": "uF8c4yWL4wah"
   },
   "source": [
    "### 9-01 concat 함수\n",
    "- pd.concat([dataframe, …, dataframe], axis, join, ignore_index)\n",
    "- 단순히 여러 Series 또는 DataFrame을 연결(concatenate) 하기 때문에 Index 값이\n",
    "중복 될 수 있음\n",
    "- 기본적으로는 상하 연결(axis=0) 또는 좌우(axis=1) 연결\n",
    "- 동일한 이름을 갖는 인덱스가 없는 경우 NaN 값이 위치(join='outer')\n",
    "- 동일한 이름을 갖는 경우만 결합하고 싶은 경우 join='inner' 설정\n",
    "-ignore_index가 True로 설정된 경우 연결 시 기존의 인덱스를 무시함"
   ]
  },
  {
   "cell_type": "code",
   "execution_count": 22,
   "metadata": {
    "colab": {
     "base_uri": "https://localhost:8080/",
     "height": 141
    },
    "executionInfo": {
     "elapsed": 635,
     "status": "ok",
     "timestamp": 1612262639426,
     "user": {
      "displayName": "hj Kim",
      "photoUrl": "",
      "userId": "02263672027550517756"
     },
     "user_tz": -540
    },
    "id": "O9vThDSpOFYS",
    "outputId": "ae54d143-606e-4175-f154-7c0a5f4f2c99"
   },
   "outputs": [
    {
     "data": {
      "text/html": [
       "<div>\n",
       "<style scoped>\n",
       "    .dataframe tbody tr th:only-of-type {\n",
       "        vertical-align: middle;\n",
       "    }\n",
       "\n",
       "    .dataframe tbody tr th {\n",
       "        vertical-align: top;\n",
       "    }\n",
       "\n",
       "    .dataframe thead th {\n",
       "        text-align: right;\n",
       "    }\n",
       "</style>\n",
       "<table border=\"1\" class=\"dataframe\">\n",
       "  <thead>\n",
       "    <tr style=\"text-align: right;\">\n",
       "      <th></th>\n",
       "      <th>K</th>\n",
       "      <th>X2</th>\n",
       "      <th>X3</th>\n",
       "    </tr>\n",
       "  </thead>\n",
       "  <tbody>\n",
       "    <tr>\n",
       "      <th>0</th>\n",
       "      <td>K0</td>\n",
       "      <td>A</td>\n",
       "      <td>1</td>\n",
       "    </tr>\n",
       "    <tr>\n",
       "      <th>1</th>\n",
       "      <td>K1</td>\n",
       "      <td>B</td>\n",
       "      <td>2</td>\n",
       "    </tr>\n",
       "    <tr>\n",
       "      <th>2</th>\n",
       "      <td>K2</td>\n",
       "      <td>A</td>\n",
       "      <td>3</td>\n",
       "    </tr>\n",
       "  </tbody>\n",
       "</table>\n",
       "</div>"
      ],
      "text/plain": [
       "    K X2  X3\n",
       "0  K0  A   1\n",
       "1  K1  B   2\n",
       "2  K2  A   3"
      ]
     },
     "execution_count": 22,
     "metadata": {},
     "output_type": "execute_result"
    }
   ],
   "source": [
    "df1 = pd.DataFrame({\n",
    "    'K' : ['K0', 'K1', 'K2'],\n",
    "    'X2' : ['A', 'B', 'A'],\n",
    "    'X3' : [1, 2, 3]\n",
    "})\n",
    "df1"
   ]
  },
  {
   "cell_type": "code",
   "execution_count": 23,
   "metadata": {
    "colab": {
     "base_uri": "https://localhost:8080/",
     "height": 141
    },
    "executionInfo": {
     "elapsed": 736,
     "status": "ok",
     "timestamp": 1612262645229,
     "user": {
      "displayName": "hj Kim",
      "photoUrl": "",
      "userId": "02263672027550517756"
     },
     "user_tz": -540
    },
    "id": "HyJcB6cbOFYS",
    "outputId": "d8ef499b-32cb-49ce-b250-48374ee3470f"
   },
   "outputs": [
    {
     "data": {
      "text/html": [
       "<div>\n",
       "<style scoped>\n",
       "    .dataframe tbody tr th:only-of-type {\n",
       "        vertical-align: middle;\n",
       "    }\n",
       "\n",
       "    .dataframe tbody tr th {\n",
       "        vertical-align: top;\n",
       "    }\n",
       "\n",
       "    .dataframe thead th {\n",
       "        text-align: right;\n",
       "    }\n",
       "</style>\n",
       "<table border=\"1\" class=\"dataframe\">\n",
       "  <thead>\n",
       "    <tr style=\"text-align: right;\">\n",
       "      <th></th>\n",
       "      <th>K</th>\n",
       "      <th>X3</th>\n",
       "      <th>X4</th>\n",
       "    </tr>\n",
       "  </thead>\n",
       "  <tbody>\n",
       "    <tr>\n",
       "      <th>0</th>\n",
       "      <td>K1</td>\n",
       "      <td>B</td>\n",
       "      <td>4</td>\n",
       "    </tr>\n",
       "    <tr>\n",
       "      <th>1</th>\n",
       "      <td>K2</td>\n",
       "      <td>A</td>\n",
       "      <td>5</td>\n",
       "    </tr>\n",
       "    <tr>\n",
       "      <th>2</th>\n",
       "      <td>K3</td>\n",
       "      <td>B</td>\n",
       "      <td>6</td>\n",
       "    </tr>\n",
       "  </tbody>\n",
       "</table>\n",
       "</div>"
      ],
      "text/plain": [
       "    K X3  X4\n",
       "0  K1  B   4\n",
       "1  K2  A   5\n",
       "2  K3  B   6"
      ]
     },
     "execution_count": 23,
     "metadata": {},
     "output_type": "execute_result"
    }
   ],
   "source": [
    "df2 = pd.DataFrame({\n",
    "    'K' : ['K1', 'K2', 'K3'],\n",
    "    'X3' : ['B', 'A', 'B'],\n",
    "    'X4' : [4, 5, 6]\n",
    "})\n",
    "df2"
   ]
  },
  {
   "cell_type": "code",
   "execution_count": 21,
   "metadata": {
    "colab": {
     "base_uri": "https://localhost:8080/",
     "height": 234
    },
    "executionInfo": {
     "elapsed": 624,
     "status": "ok",
     "timestamp": 1612262668196,
     "user": {
      "displayName": "hj Kim",
      "photoUrl": "",
      "userId": "02263672027550517756"
     },
     "user_tz": -540
    },
    "id": "TJOi6uJIOFYS",
    "outputId": "8488cf58-748e-4751-89fd-37c6e93688ff"
   },
   "outputs": [
    {
     "data": {
      "text/html": [
       "<div>\n",
       "<style scoped>\n",
       "    .dataframe tbody tr th:only-of-type {\n",
       "        vertical-align: middle;\n",
       "    }\n",
       "\n",
       "    .dataframe tbody tr th {\n",
       "        vertical-align: top;\n",
       "    }\n",
       "\n",
       "    .dataframe thead th {\n",
       "        text-align: right;\n",
       "    }\n",
       "</style>\n",
       "<table border=\"1\" class=\"dataframe\">\n",
       "  <thead>\n",
       "    <tr style=\"text-align: right;\">\n",
       "      <th></th>\n",
       "      <th>K</th>\n",
       "      <th>X2</th>\n",
       "      <th>X3</th>\n",
       "      <th>X4</th>\n",
       "    </tr>\n",
       "  </thead>\n",
       "  <tbody>\n",
       "    <tr>\n",
       "      <th>0</th>\n",
       "      <td>K0</td>\n",
       "      <td>A</td>\n",
       "      <td>1</td>\n",
       "      <td>NaN</td>\n",
       "    </tr>\n",
       "    <tr>\n",
       "      <th>1</th>\n",
       "      <td>K1</td>\n",
       "      <td>B</td>\n",
       "      <td>2</td>\n",
       "      <td>NaN</td>\n",
       "    </tr>\n",
       "    <tr>\n",
       "      <th>2</th>\n",
       "      <td>K2</td>\n",
       "      <td>A</td>\n",
       "      <td>3</td>\n",
       "      <td>NaN</td>\n",
       "    </tr>\n",
       "    <tr>\n",
       "      <th>0</th>\n",
       "      <td>K1</td>\n",
       "      <td>NaN</td>\n",
       "      <td>B</td>\n",
       "      <td>4.0</td>\n",
       "    </tr>\n",
       "    <tr>\n",
       "      <th>1</th>\n",
       "      <td>K2</td>\n",
       "      <td>NaN</td>\n",
       "      <td>A</td>\n",
       "      <td>5.0</td>\n",
       "    </tr>\n",
       "    <tr>\n",
       "      <th>2</th>\n",
       "      <td>K3</td>\n",
       "      <td>NaN</td>\n",
       "      <td>B</td>\n",
       "      <td>6.0</td>\n",
       "    </tr>\n",
       "  </tbody>\n",
       "</table>\n",
       "</div>"
      ],
      "text/plain": [
       "    K   X2 X3   X4\n",
       "0  K0    A  1  NaN\n",
       "1  K1    B  2  NaN\n",
       "2  K2    A  3  NaN\n",
       "0  K1  NaN  B  4.0\n",
       "1  K2  NaN  A  5.0\n",
       "2  K3  NaN  B  6.0"
      ]
     },
     "execution_count": 21,
     "metadata": {
      "tags": []
     },
     "output_type": "execute_result"
    }
   ],
   "source": [
    "# concat을 사용하여 df1과 df2를 행방향으로 결합\n",
    "pd.concat([df1, df2], axis=0)"
   ]
  },
  {
   "cell_type": "code",
   "execution_count": 22,
   "metadata": {
    "colab": {
     "base_uri": "https://localhost:8080/",
     "height": 234
    },
    "executionInfo": {
     "elapsed": 627,
     "status": "ok",
     "timestamp": 1612262675716,
     "user": {
      "displayName": "hj Kim",
      "photoUrl": "",
      "userId": "02263672027550517756"
     },
     "user_tz": -540
    },
    "id": "QQAgOslhOFYS",
    "outputId": "5615905e-304b-4a08-a880-628168915596"
   },
   "outputs": [
    {
     "data": {
      "text/html": [
       "<div>\n",
       "<style scoped>\n",
       "    .dataframe tbody tr th:only-of-type {\n",
       "        vertical-align: middle;\n",
       "    }\n",
       "\n",
       "    .dataframe tbody tr th {\n",
       "        vertical-align: top;\n",
       "    }\n",
       "\n",
       "    .dataframe thead th {\n",
       "        text-align: right;\n",
       "    }\n",
       "</style>\n",
       "<table border=\"1\" class=\"dataframe\">\n",
       "  <thead>\n",
       "    <tr style=\"text-align: right;\">\n",
       "      <th></th>\n",
       "      <th>K</th>\n",
       "      <th>X3</th>\n",
       "    </tr>\n",
       "  </thead>\n",
       "  <tbody>\n",
       "    <tr>\n",
       "      <th>0</th>\n",
       "      <td>K0</td>\n",
       "      <td>1</td>\n",
       "    </tr>\n",
       "    <tr>\n",
       "      <th>1</th>\n",
       "      <td>K1</td>\n",
       "      <td>2</td>\n",
       "    </tr>\n",
       "    <tr>\n",
       "      <th>2</th>\n",
       "      <td>K2</td>\n",
       "      <td>3</td>\n",
       "    </tr>\n",
       "    <tr>\n",
       "      <th>0</th>\n",
       "      <td>K1</td>\n",
       "      <td>B</td>\n",
       "    </tr>\n",
       "    <tr>\n",
       "      <th>1</th>\n",
       "      <td>K2</td>\n",
       "      <td>A</td>\n",
       "    </tr>\n",
       "    <tr>\n",
       "      <th>2</th>\n",
       "      <td>K3</td>\n",
       "      <td>B</td>\n",
       "    </tr>\n",
       "  </tbody>\n",
       "</table>\n",
       "</div>"
      ],
      "text/plain": [
       "    K X3\n",
       "0  K0  1\n",
       "1  K1  2\n",
       "2  K2  3\n",
       "0  K1  B\n",
       "1  K2  A\n",
       "2  K3  B"
      ]
     },
     "execution_count": 22,
     "metadata": {
      "tags": []
     },
     "output_type": "execute_result"
    }
   ],
   "source": [
    "# concat을 사용하여 df1과 df2를 행방향으로 결합\n",
    "# join='inner'을 사용하여 동일한 열이름이 있는 경우만 결합하도록 함\n",
    "pd.concat([df1, df2], axis=0, join='inner')"
   ]
  },
  {
   "cell_type": "code",
   "execution_count": 20,
   "metadata": {
    "colab": {
     "base_uri": "https://localhost:8080/",
     "height": 141
    },
    "executionInfo": {
     "elapsed": 930,
     "status": "ok",
     "timestamp": 1612262679412,
     "user": {
      "displayName": "hj Kim",
      "photoUrl": "",
      "userId": "02263672027550517756"
     },
     "user_tz": -540
    },
    "id": "3-ylWWUpOFYT",
    "outputId": "74b2a562-82eb-4652-c2fc-1c0e3bfca2f4"
   },
   "outputs": [
    {
     "data": {
      "text/html": [
       "<div>\n",
       "<style scoped>\n",
       "    .dataframe tbody tr th:only-of-type {\n",
       "        vertical-align: middle;\n",
       "    }\n",
       "\n",
       "    .dataframe tbody tr th {\n",
       "        vertical-align: top;\n",
       "    }\n",
       "\n",
       "    .dataframe thead th {\n",
       "        text-align: right;\n",
       "    }\n",
       "</style>\n",
       "<table border=\"1\" class=\"dataframe\">\n",
       "  <thead>\n",
       "    <tr style=\"text-align: right;\">\n",
       "      <th></th>\n",
       "      <th>K</th>\n",
       "      <th>X2</th>\n",
       "      <th>X3</th>\n",
       "      <th>K</th>\n",
       "      <th>X3</th>\n",
       "      <th>X4</th>\n",
       "    </tr>\n",
       "  </thead>\n",
       "  <tbody>\n",
       "    <tr>\n",
       "      <th>0</th>\n",
       "      <td>K0</td>\n",
       "      <td>A</td>\n",
       "      <td>1</td>\n",
       "      <td>K1</td>\n",
       "      <td>B</td>\n",
       "      <td>4</td>\n",
       "    </tr>\n",
       "    <tr>\n",
       "      <th>1</th>\n",
       "      <td>K1</td>\n",
       "      <td>B</td>\n",
       "      <td>2</td>\n",
       "      <td>K2</td>\n",
       "      <td>A</td>\n",
       "      <td>5</td>\n",
       "    </tr>\n",
       "    <tr>\n",
       "      <th>2</th>\n",
       "      <td>K2</td>\n",
       "      <td>A</td>\n",
       "      <td>3</td>\n",
       "      <td>K3</td>\n",
       "      <td>B</td>\n",
       "      <td>6</td>\n",
       "    </tr>\n",
       "  </tbody>\n",
       "</table>\n",
       "</div>"
      ],
      "text/plain": [
       "    K X2 X3   K X3  X4\n",
       "0  K0  A  1  K1  B   4\n",
       "1  K1  B  2  K2  A   5\n",
       "2  K2  A  3  K3  B   6"
      ]
     },
     "execution_count": 20,
     "metadata": {},
     "output_type": "execute_result"
    }
   ],
   "source": [
    "# concat을 사용하여 df1과 df2를 열방향으로 결합\n",
    "df3 = pd.concat([df1, df2], axis=1)\n",
    "df3"
   ]
  },
  {
   "cell_type": "code",
   "execution_count": 21,
   "metadata": {},
   "outputs": [
    {
     "data": {
      "text/html": [
       "<div>\n",
       "<style scoped>\n",
       "    .dataframe tbody tr th:only-of-type {\n",
       "        vertical-align: middle;\n",
       "    }\n",
       "\n",
       "    .dataframe tbody tr th {\n",
       "        vertical-align: top;\n",
       "    }\n",
       "\n",
       "    .dataframe thead th {\n",
       "        text-align: right;\n",
       "    }\n",
       "</style>\n",
       "<table border=\"1\" class=\"dataframe\">\n",
       "  <thead>\n",
       "    <tr style=\"text-align: right;\">\n",
       "      <th></th>\n",
       "      <th>K</th>\n",
       "      <th>K</th>\n",
       "    </tr>\n",
       "  </thead>\n",
       "  <tbody>\n",
       "    <tr>\n",
       "      <th>0</th>\n",
       "      <td>K0</td>\n",
       "      <td>K1</td>\n",
       "    </tr>\n",
       "    <tr>\n",
       "      <th>1</th>\n",
       "      <td>K1</td>\n",
       "      <td>K2</td>\n",
       "    </tr>\n",
       "    <tr>\n",
       "      <th>2</th>\n",
       "      <td>K2</td>\n",
       "      <td>K3</td>\n",
       "    </tr>\n",
       "  </tbody>\n",
       "</table>\n",
       "</div>"
      ],
      "text/plain": [
       "    K   K\n",
       "0  K0  K1\n",
       "1  K1  K2\n",
       "2  K2  K3"
      ]
     },
     "execution_count": 21,
     "metadata": {},
     "output_type": "execute_result"
    }
   ],
   "source": [
    "df2['K']"
   ]
  },
  {
   "cell_type": "code",
   "execution_count": 24,
   "metadata": {
    "colab": {
     "base_uri": "https://localhost:8080/",
     "height": 141
    },
    "executionInfo": {
     "elapsed": 741,
     "status": "ok",
     "timestamp": 1612262686282,
     "user": {
      "displayName": "hj Kim",
      "photoUrl": "",
      "userId": "02263672027550517756"
     },
     "user_tz": -540
    },
    "id": "p77_T49POFYT",
    "outputId": "5b542d51-4ddf-4d52-ded2-b426ed634196"
   },
   "outputs": [
    {
     "data": {
      "text/html": [
       "<div>\n",
       "<style scoped>\n",
       "    .dataframe tbody tr th:only-of-type {\n",
       "        vertical-align: middle;\n",
       "    }\n",
       "\n",
       "    .dataframe tbody tr th {\n",
       "        vertical-align: top;\n",
       "    }\n",
       "\n",
       "    .dataframe thead th {\n",
       "        text-align: right;\n",
       "    }\n",
       "</style>\n",
       "<table border=\"1\" class=\"dataframe\">\n",
       "  <thead>\n",
       "    <tr style=\"text-align: right;\">\n",
       "      <th></th>\n",
       "      <th>0</th>\n",
       "      <th>1</th>\n",
       "      <th>2</th>\n",
       "      <th>3</th>\n",
       "      <th>4</th>\n",
       "      <th>5</th>\n",
       "    </tr>\n",
       "  </thead>\n",
       "  <tbody>\n",
       "    <tr>\n",
       "      <th>0</th>\n",
       "      <td>K0</td>\n",
       "      <td>A</td>\n",
       "      <td>1</td>\n",
       "      <td>K1</td>\n",
       "      <td>B</td>\n",
       "      <td>4</td>\n",
       "    </tr>\n",
       "    <tr>\n",
       "      <th>1</th>\n",
       "      <td>K1</td>\n",
       "      <td>B</td>\n",
       "      <td>2</td>\n",
       "      <td>K2</td>\n",
       "      <td>A</td>\n",
       "      <td>5</td>\n",
       "    </tr>\n",
       "    <tr>\n",
       "      <th>2</th>\n",
       "      <td>K2</td>\n",
       "      <td>A</td>\n",
       "      <td>3</td>\n",
       "      <td>K3</td>\n",
       "      <td>B</td>\n",
       "      <td>6</td>\n",
       "    </tr>\n",
       "  </tbody>\n",
       "</table>\n",
       "</div>"
      ],
      "text/plain": [
       "    0  1  2   3  4  5\n",
       "0  K0  A  1  K1  B  4\n",
       "1  K1  B  2  K2  A  5\n",
       "2  K2  A  3  K3  B  6"
      ]
     },
     "execution_count": 24,
     "metadata": {
      "tags": []
     },
     "output_type": "execute_result"
    }
   ],
   "source": [
    "# concat을 사용하여 df1과 df2를 열방향으로 결합\n",
    "# index를 무시하도록 한다\n",
    "pd.concat([df1, df2], axis=1, ignore_index=True)"
   ]
  },
  {
   "attachments": {
    "image.png": {
     "image/png": "[encoded data removed]"
    }
   },
   "cell_type": "markdown",
   "metadata": {},
   "source": [
    "### 연습문제 \n",
    "- 다음과 같이 left와 right라는 데이터 프레임 변수가 있을때 변경 후와 같은 데이터 프레임을 만들기 위한 코드를 작성하세요. \n",
    "\n",
    "![image.png](attachment:image.png)"
   ]
  },
  {
   "cell_type": "code",
   "execution_count": 1,
   "metadata": {},
   "outputs": [
    {
     "data": {
      "text/html": [
       "<div>\n",
       "<style scoped>\n",
       "    .dataframe tbody tr th:only-of-type {\n",
       "        vertical-align: middle;\n",
       "    }\n",
       "\n",
       "    .dataframe tbody tr th {\n",
       "        vertical-align: top;\n",
       "    }\n",
       "\n",
       "    .dataframe thead th {\n",
       "        text-align: right;\n",
       "    }\n",
       "</style>\n",
       "<table border=\"1\" class=\"dataframe\">\n",
       "  <thead>\n",
       "    <tr style=\"text-align: right;\">\n",
       "      <th></th>\n",
       "      <th>A</th>\n",
       "      <th>B</th>\n",
       "    </tr>\n",
       "  </thead>\n",
       "  <tbody>\n",
       "    <tr>\n",
       "      <th>0</th>\n",
       "      <td>a0</td>\n",
       "      <td>3</td>\n",
       "    </tr>\n",
       "    <tr>\n",
       "      <th>1</th>\n",
       "      <td>a2</td>\n",
       "      <td>4</td>\n",
       "    </tr>\n",
       "    <tr>\n",
       "      <th>2</th>\n",
       "      <td>a3</td>\n",
       "      <td>5</td>\n",
       "    </tr>\n",
       "  </tbody>\n",
       "</table>\n",
       "</div>"
      ],
      "text/plain": [
       "    A  B\n",
       "0  a0  3\n",
       "1  a2  4\n",
       "2  a3  5"
      ]
     },
     "execution_count": 1,
     "metadata": {},
     "output_type": "execute_result"
    }
   ],
   "source": [
    "import pandas as pd \n",
    "import numpy as np\n",
    "left = pd.DataFrame([['a0', 3],['a2',4],['a3',5]], columns=['A', 'B'])\n",
    "left"
   ]
  },
  {
   "cell_type": "code",
   "execution_count": 2,
   "metadata": {},
   "outputs": [
    {
     "data": {
      "text/html": [
       "<div>\n",
       "<style scoped>\n",
       "    .dataframe tbody tr th:only-of-type {\n",
       "        vertical-align: middle;\n",
       "    }\n",
       "\n",
       "    .dataframe tbody tr th {\n",
       "        vertical-align: top;\n",
       "    }\n",
       "\n",
       "    .dataframe thead th {\n",
       "        text-align: right;\n",
       "    }\n",
       "</style>\n",
       "<table border=\"1\" class=\"dataframe\">\n",
       "  <thead>\n",
       "    <tr style=\"text-align: right;\">\n",
       "      <th></th>\n",
       "      <th>A</th>\n",
       "      <th>B</th>\n",
       "    </tr>\n",
       "  </thead>\n",
       "  <tbody>\n",
       "    <tr>\n",
       "      <th>0</th>\n",
       "      <td>a0</td>\n",
       "      <td>4</td>\n",
       "    </tr>\n",
       "    <tr>\n",
       "      <th>1</th>\n",
       "      <td>NaN</td>\n",
       "      <td>5</td>\n",
       "    </tr>\n",
       "    <tr>\n",
       "      <th>2</th>\n",
       "      <td>a3</td>\n",
       "      <td>6</td>\n",
       "    </tr>\n",
       "  </tbody>\n",
       "</table>\n",
       "</div>"
      ],
      "text/plain": [
       "     A  B\n",
       "0   a0  4\n",
       "1  NaN  5\n",
       "2   a3  6"
      ]
     },
     "execution_count": 2,
     "metadata": {},
     "output_type": "execute_result"
    }
   ],
   "source": [
    "right = pd.DataFrame([['a0', 4],[np.nan,5],['a3',6]], columns=['A', 'B'])\n",
    "right"
   ]
  },
  {
   "cell_type": "code",
   "execution_count": 3,
   "metadata": {},
   "outputs": [
    {
     "data": {
      "text/html": [
       "<div>\n",
       "<style scoped>\n",
       "    .dataframe tbody tr th:only-of-type {\n",
       "        vertical-align: middle;\n",
       "    }\n",
       "\n",
       "    .dataframe tbody tr th {\n",
       "        vertical-align: top;\n",
       "    }\n",
       "\n",
       "    .dataframe thead th {\n",
       "        text-align: right;\n",
       "    }\n",
       "</style>\n",
       "<table border=\"1\" class=\"dataframe\">\n",
       "  <thead>\n",
       "    <tr style=\"text-align: right;\">\n",
       "      <th></th>\n",
       "      <th>A</th>\n",
       "      <th>B</th>\n",
       "    </tr>\n",
       "  </thead>\n",
       "  <tbody>\n",
       "    <tr>\n",
       "      <th>0</th>\n",
       "      <td>a0</td>\n",
       "      <td>3</td>\n",
       "    </tr>\n",
       "    <tr>\n",
       "      <th>1</th>\n",
       "      <td>a2</td>\n",
       "      <td>4</td>\n",
       "    </tr>\n",
       "    <tr>\n",
       "      <th>2</th>\n",
       "      <td>a3</td>\n",
       "      <td>5</td>\n",
       "    </tr>\n",
       "    <tr>\n",
       "      <th>0</th>\n",
       "      <td>a0</td>\n",
       "      <td>4</td>\n",
       "    </tr>\n",
       "    <tr>\n",
       "      <th>1</th>\n",
       "      <td>NaN</td>\n",
       "      <td>5</td>\n",
       "    </tr>\n",
       "    <tr>\n",
       "      <th>2</th>\n",
       "      <td>a3</td>\n",
       "      <td>6</td>\n",
       "    </tr>\n",
       "  </tbody>\n",
       "</table>\n",
       "</div>"
      ],
      "text/plain": [
       "     A  B\n",
       "0   a0  3\n",
       "1   a2  4\n",
       "2   a3  5\n",
       "0   a0  4\n",
       "1  NaN  5\n",
       "2   a3  6"
      ]
     },
     "execution_count": 3,
     "metadata": {},
     "output_type": "execute_result"
    }
   ],
   "source": [
    "# code here \n",
    "\n",
    "pd.concat([left, right])"
   ]
  },
  {
   "attachments": {},
   "cell_type": "markdown",
   "metadata": {
    "id": "1npf3F4Y8VKL"
   },
   "source": [
    "### 9-02 merge 함수\n",
    "- pd.merge(on, how)\n",
    "- **두 DataFrame**의 공통 열(Label) 혹은 인덱스를 기준으로 두 DataFrame 병합\n",
    "- 기준이 되는 열, 행의 데이터를 키(key)라고하며 병합 기준이 될 컬럼을 on으로 설정\n",
    "- 기본적인 결합 방법은 키가 중복되어 존재하는 경우(inner)만 결합\n",
    "- 결합 방법을 변경하고자 하는 경우 how를 outer, left, right로 변경 가능"
   ]
  },
  {
   "cell_type": "code",
   "execution_count": 25,
   "metadata": {},
   "outputs": [
    {
     "data": {
      "text/html": [
       "<div>\n",
       "<style scoped>\n",
       "    .dataframe tbody tr th:only-of-type {\n",
       "        vertical-align: middle;\n",
       "    }\n",
       "\n",
       "    .dataframe tbody tr th {\n",
       "        vertical-align: top;\n",
       "    }\n",
       "\n",
       "    .dataframe thead th {\n",
       "        text-align: right;\n",
       "    }\n",
       "</style>\n",
       "<table border=\"1\" class=\"dataframe\">\n",
       "  <thead>\n",
       "    <tr style=\"text-align: right;\">\n",
       "      <th></th>\n",
       "      <th>K</th>\n",
       "      <th>X2</th>\n",
       "      <th>X3</th>\n",
       "    </tr>\n",
       "  </thead>\n",
       "  <tbody>\n",
       "    <tr>\n",
       "      <th>0</th>\n",
       "      <td>K0</td>\n",
       "      <td>A</td>\n",
       "      <td>1</td>\n",
       "    </tr>\n",
       "    <tr>\n",
       "      <th>1</th>\n",
       "      <td>K1</td>\n",
       "      <td>B</td>\n",
       "      <td>2</td>\n",
       "    </tr>\n",
       "    <tr>\n",
       "      <th>2</th>\n",
       "      <td>K2</td>\n",
       "      <td>A</td>\n",
       "      <td>3</td>\n",
       "    </tr>\n",
       "  </tbody>\n",
       "</table>\n",
       "</div>"
      ],
      "text/plain": [
       "    K X2  X3\n",
       "0  K0  A   1\n",
       "1  K1  B   2\n",
       "2  K2  A   3"
      ]
     },
     "execution_count": 25,
     "metadata": {},
     "output_type": "execute_result"
    }
   ],
   "source": [
    "df1"
   ]
  },
  {
   "cell_type": "code",
   "execution_count": 26,
   "metadata": {},
   "outputs": [
    {
     "data": {
      "text/html": [
       "<div>\n",
       "<style scoped>\n",
       "    .dataframe tbody tr th:only-of-type {\n",
       "        vertical-align: middle;\n",
       "    }\n",
       "\n",
       "    .dataframe tbody tr th {\n",
       "        vertical-align: top;\n",
       "    }\n",
       "\n",
       "    .dataframe thead th {\n",
       "        text-align: right;\n",
       "    }\n",
       "</style>\n",
       "<table border=\"1\" class=\"dataframe\">\n",
       "  <thead>\n",
       "    <tr style=\"text-align: right;\">\n",
       "      <th></th>\n",
       "      <th>K</th>\n",
       "      <th>X3</th>\n",
       "      <th>X4</th>\n",
       "    </tr>\n",
       "  </thead>\n",
       "  <tbody>\n",
       "    <tr>\n",
       "      <th>0</th>\n",
       "      <td>K1</td>\n",
       "      <td>B</td>\n",
       "      <td>4</td>\n",
       "    </tr>\n",
       "    <tr>\n",
       "      <th>1</th>\n",
       "      <td>K2</td>\n",
       "      <td>A</td>\n",
       "      <td>5</td>\n",
       "    </tr>\n",
       "    <tr>\n",
       "      <th>2</th>\n",
       "      <td>K3</td>\n",
       "      <td>B</td>\n",
       "      <td>6</td>\n",
       "    </tr>\n",
       "  </tbody>\n",
       "</table>\n",
       "</div>"
      ],
      "text/plain": [
       "    K X3  X4\n",
       "0  K1  B   4\n",
       "1  K2  A   5\n",
       "2  K3  B   6"
      ]
     },
     "execution_count": 26,
     "metadata": {},
     "output_type": "execute_result"
    }
   ],
   "source": [
    "df2"
   ]
  },
  {
   "cell_type": "code",
   "execution_count": 25,
   "metadata": {
    "colab": {
     "base_uri": "https://localhost:8080/",
     "height": 110
    },
    "executionInfo": {
     "elapsed": 671,
     "status": "ok",
     "timestamp": 1612262753800,
     "user": {
      "displayName": "hj Kim",
      "photoUrl": "",
      "userId": "02263672027550517756"
     },
     "user_tz": -540
    },
    "id": "OHqqcKq_OFYT",
    "outputId": "0dfaac08-a740-4d7a-c849-9cddf7909bc0"
   },
   "outputs": [
    {
     "data": {
      "text/html": [
       "<div>\n",
       "<style scoped>\n",
       "    .dataframe tbody tr th:only-of-type {\n",
       "        vertical-align: middle;\n",
       "    }\n",
       "\n",
       "    .dataframe tbody tr th {\n",
       "        vertical-align: top;\n",
       "    }\n",
       "\n",
       "    .dataframe thead th {\n",
       "        text-align: right;\n",
       "    }\n",
       "</style>\n",
       "<table border=\"1\" class=\"dataframe\">\n",
       "  <thead>\n",
       "    <tr style=\"text-align: right;\">\n",
       "      <th></th>\n",
       "      <th>K</th>\n",
       "      <th>X2</th>\n",
       "      <th>X3_x</th>\n",
       "      <th>X3_y</th>\n",
       "      <th>X4</th>\n",
       "    </tr>\n",
       "  </thead>\n",
       "  <tbody>\n",
       "    <tr>\n",
       "      <th>0</th>\n",
       "      <td>K1</td>\n",
       "      <td>B</td>\n",
       "      <td>2</td>\n",
       "      <td>B</td>\n",
       "      <td>4</td>\n",
       "    </tr>\n",
       "    <tr>\n",
       "      <th>1</th>\n",
       "      <td>K2</td>\n",
       "      <td>A</td>\n",
       "      <td>3</td>\n",
       "      <td>A</td>\n",
       "      <td>5</td>\n",
       "    </tr>\n",
       "  </tbody>\n",
       "</table>\n",
       "</div>"
      ],
      "text/plain": [
       "    K X2  X3_x X3_y  X4\n",
       "0  K1  B     2    B   4\n",
       "1  K2  A     3    A   5"
      ]
     },
     "execution_count": 25,
     "metadata": {
      "tags": []
     },
     "output_type": "execute_result"
    }
   ],
   "source": [
    "# merge를 사용하여 df1, df2를 'K'를 key로 하여 'inner' 결합함\n",
    "# df1, df2의 'K'에 같은 값이 있는 경우에만 결합\n",
    "pd.merge(df1, df2, on='K', how='inner')"
   ]
  },
  {
   "cell_type": "code",
   "execution_count": 26,
   "metadata": {
    "colab": {
     "base_uri": "https://localhost:8080/",
     "height": 172
    },
    "executionInfo": {
     "elapsed": 620,
     "status": "ok",
     "timestamp": 1612262781041,
     "user": {
      "displayName": "hj Kim",
      "photoUrl": "",
      "userId": "02263672027550517756"
     },
     "user_tz": -540
    },
    "id": "bFfVUprDOFYT",
    "outputId": "ec463310-b92c-475e-9df1-0f34ee1f1942"
   },
   "outputs": [
    {
     "data": {
      "text/html": [
       "<div>\n",
       "<style scoped>\n",
       "    .dataframe tbody tr th:only-of-type {\n",
       "        vertical-align: middle;\n",
       "    }\n",
       "\n",
       "    .dataframe tbody tr th {\n",
       "        vertical-align: top;\n",
       "    }\n",
       "\n",
       "    .dataframe thead th {\n",
       "        text-align: right;\n",
       "    }\n",
       "</style>\n",
       "<table border=\"1\" class=\"dataframe\">\n",
       "  <thead>\n",
       "    <tr style=\"text-align: right;\">\n",
       "      <th></th>\n",
       "      <th>K</th>\n",
       "      <th>X2</th>\n",
       "      <th>X3_x</th>\n",
       "      <th>X3_y</th>\n",
       "      <th>X4</th>\n",
       "    </tr>\n",
       "  </thead>\n",
       "  <tbody>\n",
       "    <tr>\n",
       "      <th>0</th>\n",
       "      <td>K0</td>\n",
       "      <td>A</td>\n",
       "      <td>1.0</td>\n",
       "      <td>NaN</td>\n",
       "      <td>NaN</td>\n",
       "    </tr>\n",
       "    <tr>\n",
       "      <th>1</th>\n",
       "      <td>K1</td>\n",
       "      <td>B</td>\n",
       "      <td>2.0</td>\n",
       "      <td>B</td>\n",
       "      <td>4.0</td>\n",
       "    </tr>\n",
       "    <tr>\n",
       "      <th>2</th>\n",
       "      <td>K2</td>\n",
       "      <td>A</td>\n",
       "      <td>3.0</td>\n",
       "      <td>A</td>\n",
       "      <td>5.0</td>\n",
       "    </tr>\n",
       "    <tr>\n",
       "      <th>3</th>\n",
       "      <td>K3</td>\n",
       "      <td>NaN</td>\n",
       "      <td>NaN</td>\n",
       "      <td>B</td>\n",
       "      <td>6.0</td>\n",
       "    </tr>\n",
       "  </tbody>\n",
       "</table>\n",
       "</div>"
      ],
      "text/plain": [
       "    K   X2  X3_x X3_y   X4\n",
       "0  K0    A   1.0  NaN  NaN\n",
       "1  K1    B   2.0    B  4.0\n",
       "2  K2    A   3.0    A  5.0\n",
       "3  K3  NaN   NaN    B  6.0"
      ]
     },
     "execution_count": 26,
     "metadata": {
      "tags": []
     },
     "output_type": "execute_result"
    }
   ],
   "source": [
    "# merge를 사용하여 df1, df2를 'K'를 key로 하여 'outer' 결합함\n",
    "# df1, df2의 'K'의 모든 경우에 대해 결합, 대응되는 값이 없는 경우 NaN으로 채움\n",
    "pd.merge(df1, df2, on='K', how='outer')"
   ]
  },
  {
   "cell_type": "code",
   "execution_count": 27,
   "metadata": {
    "colab": {
     "base_uri": "https://localhost:8080/",
     "height": 141
    },
    "executionInfo": {
     "elapsed": 1406,
     "status": "ok",
     "timestamp": 1612262785110,
     "user": {
      "displayName": "hj Kim",
      "photoUrl": "",
      "userId": "02263672027550517756"
     },
     "user_tz": -540
    },
    "id": "zQSHSXdxOFYT",
    "outputId": "42c9397e-f6e8-4337-804f-0a893bb90a38"
   },
   "outputs": [
    {
     "data": {
      "text/html": [
       "<div>\n",
       "<style scoped>\n",
       "    .dataframe tbody tr th:only-of-type {\n",
       "        vertical-align: middle;\n",
       "    }\n",
       "\n",
       "    .dataframe tbody tr th {\n",
       "        vertical-align: top;\n",
       "    }\n",
       "\n",
       "    .dataframe thead th {\n",
       "        text-align: right;\n",
       "    }\n",
       "</style>\n",
       "<table border=\"1\" class=\"dataframe\">\n",
       "  <thead>\n",
       "    <tr style=\"text-align: right;\">\n",
       "      <th></th>\n",
       "      <th>K</th>\n",
       "      <th>X2</th>\n",
       "      <th>X3_x</th>\n",
       "      <th>X3_y</th>\n",
       "      <th>X4</th>\n",
       "    </tr>\n",
       "  </thead>\n",
       "  <tbody>\n",
       "    <tr>\n",
       "      <th>0</th>\n",
       "      <td>K0</td>\n",
       "      <td>A</td>\n",
       "      <td>1</td>\n",
       "      <td>NaN</td>\n",
       "      <td>NaN</td>\n",
       "    </tr>\n",
       "    <tr>\n",
       "      <th>1</th>\n",
       "      <td>K1</td>\n",
       "      <td>B</td>\n",
       "      <td>2</td>\n",
       "      <td>B</td>\n",
       "      <td>4.0</td>\n",
       "    </tr>\n",
       "    <tr>\n",
       "      <th>2</th>\n",
       "      <td>K2</td>\n",
       "      <td>A</td>\n",
       "      <td>3</td>\n",
       "      <td>A</td>\n",
       "      <td>5.0</td>\n",
       "    </tr>\n",
       "  </tbody>\n",
       "</table>\n",
       "</div>"
      ],
      "text/plain": [
       "    K X2  X3_x X3_y   X4\n",
       "0  K0  A     1  NaN  NaN\n",
       "1  K1  B     2    B  4.0\n",
       "2  K2  A     3    A  5.0"
      ]
     },
     "execution_count": 27,
     "metadata": {
      "tags": []
     },
     "output_type": "execute_result"
    }
   ],
   "source": [
    "# merge를 사용하여 df1, df2를 'K'를 key로 하여 'left' 결합\n",
    "# df1에 해당하는 모든 'K'에 해당하는 값 포함\n",
    "# df2는 df1과 같은 값이 있는 경우만 포함\n",
    "pd.merge(df1, df2, on='K', how='left')"
   ]
  },
  {
   "cell_type": "code",
   "execution_count": 27,
   "metadata": {
    "colab": {
     "base_uri": "https://localhost:8080/",
     "height": 141
    },
    "executionInfo": {
     "elapsed": 639,
     "status": "ok",
     "timestamp": 1612262791054,
     "user": {
      "displayName": "hj Kim",
      "photoUrl": "",
      "userId": "02263672027550517756"
     },
     "user_tz": -540
    },
    "id": "TExRDZ97OFYU",
    "outputId": "ec870f1d-e362-4974-c423-e3dfa4a5e9b8"
   },
   "outputs": [
    {
     "data": {
      "text/html": [
       "<div>\n",
       "<style scoped>\n",
       "    .dataframe tbody tr th:only-of-type {\n",
       "        vertical-align: middle;\n",
       "    }\n",
       "\n",
       "    .dataframe tbody tr th {\n",
       "        vertical-align: top;\n",
       "    }\n",
       "\n",
       "    .dataframe thead th {\n",
       "        text-align: right;\n",
       "    }\n",
       "</style>\n",
       "<table border=\"1\" class=\"dataframe\">\n",
       "  <thead>\n",
       "    <tr style=\"text-align: right;\">\n",
       "      <th></th>\n",
       "      <th>K</th>\n",
       "      <th>X2</th>\n",
       "      <th>X3_df1</th>\n",
       "      <th>X3_df2</th>\n",
       "      <th>X4</th>\n",
       "    </tr>\n",
       "  </thead>\n",
       "  <tbody>\n",
       "    <tr>\n",
       "      <th>0</th>\n",
       "      <td>K1</td>\n",
       "      <td>B</td>\n",
       "      <td>2.0</td>\n",
       "      <td>B</td>\n",
       "      <td>4</td>\n",
       "    </tr>\n",
       "    <tr>\n",
       "      <th>1</th>\n",
       "      <td>K2</td>\n",
       "      <td>A</td>\n",
       "      <td>3.0</td>\n",
       "      <td>A</td>\n",
       "      <td>5</td>\n",
       "    </tr>\n",
       "    <tr>\n",
       "      <th>2</th>\n",
       "      <td>K3</td>\n",
       "      <td>NaN</td>\n",
       "      <td>NaN</td>\n",
       "      <td>B</td>\n",
       "      <td>6</td>\n",
       "    </tr>\n",
       "  </tbody>\n",
       "</table>\n",
       "</div>"
      ],
      "text/plain": [
       "    K   X2  X3_df1 X3_df2  X4\n",
       "0  K1    B     2.0      B   4\n",
       "1  K2    A     3.0      A   5\n",
       "2  K3  NaN     NaN      B   6"
      ]
     },
     "execution_count": 27,
     "metadata": {},
     "output_type": "execute_result"
    }
   ],
   "source": [
    "# merge를 사용하여 df1, df2를 'K'를 key로 하여 'right' 결합\n",
    "# df2에 해당하는 모든 'K'에 해당하는 값 포함\n",
    "# df1은 df2와 같은 값이 있는 경우만 포함\n",
    "pd.merge(df1, df2, on='K', how='right',\n",
    "         suffixes=('_df1', '_df2'))"
   ]
  },
  {
   "attachments": {
    "image.png": {
     "image/png": "[encoded data removed]"
    }
   },
   "cell_type": "markdown",
   "metadata": {},
   "source": [
    "### 연습문제 \n",
    "- 다음과 같이 left, right 데이터 프레임변수가 있을때 병합을 통해 아래 데이터 프레임을 만들기 위한 코드를 .\n",
    "- left = pd.DataFrame([['a0', 3],['a2',4],['a3',5]], columns=['A', 'B'])\n",
    "- right = pd.DataFrame([['a0', 4],[np.nan,5],['a3',6]], columns=['A', 'B'])\n",
    "\n",
    "![image.png](attachment:image.png)"
   ]
  },
  {
   "cell_type": "code",
   "execution_count": 4,
   "metadata": {},
   "outputs": [
    {
     "data": {
      "text/html": [
       "<div>\n",
       "<style scoped>\n",
       "    .dataframe tbody tr th:only-of-type {\n",
       "        vertical-align: middle;\n",
       "    }\n",
       "\n",
       "    .dataframe tbody tr th {\n",
       "        vertical-align: top;\n",
       "    }\n",
       "\n",
       "    .dataframe thead th {\n",
       "        text-align: right;\n",
       "    }\n",
       "</style>\n",
       "<table border=\"1\" class=\"dataframe\">\n",
       "  <thead>\n",
       "    <tr style=\"text-align: right;\">\n",
       "      <th></th>\n",
       "      <th>A</th>\n",
       "      <th>B</th>\n",
       "    </tr>\n",
       "  </thead>\n",
       "  <tbody>\n",
       "    <tr>\n",
       "      <th>0</th>\n",
       "      <td>a0</td>\n",
       "      <td>3</td>\n",
       "    </tr>\n",
       "    <tr>\n",
       "      <th>1</th>\n",
       "      <td>a2</td>\n",
       "      <td>4</td>\n",
       "    </tr>\n",
       "    <tr>\n",
       "      <th>2</th>\n",
       "      <td>a3</td>\n",
       "      <td>5</td>\n",
       "    </tr>\n",
       "  </tbody>\n",
       "</table>\n",
       "</div>"
      ],
      "text/plain": [
       "    A  B\n",
       "0  a0  3\n",
       "1  a2  4\n",
       "2  a3  5"
      ]
     },
     "execution_count": 4,
     "metadata": {},
     "output_type": "execute_result"
    }
   ],
   "source": [
    "left = pd.DataFrame([['a0', 3],['a2',4],['a3',5]], columns=['A', 'B'])\n",
    "right = pd.DataFrame([['a0', 4],[np.nan,5],['a3',6]], columns=['A', 'B'])\n",
    "left"
   ]
  },
  {
   "cell_type": "code",
   "execution_count": 5,
   "metadata": {},
   "outputs": [
    {
     "data": {
      "text/html": [
       "<div>\n",
       "<style scoped>\n",
       "    .dataframe tbody tr th:only-of-type {\n",
       "        vertical-align: middle;\n",
       "    }\n",
       "\n",
       "    .dataframe tbody tr th {\n",
       "        vertical-align: top;\n",
       "    }\n",
       "\n",
       "    .dataframe thead th {\n",
       "        text-align: right;\n",
       "    }\n",
       "</style>\n",
       "<table border=\"1\" class=\"dataframe\">\n",
       "  <thead>\n",
       "    <tr style=\"text-align: right;\">\n",
       "      <th></th>\n",
       "      <th>A</th>\n",
       "      <th>B</th>\n",
       "    </tr>\n",
       "  </thead>\n",
       "  <tbody>\n",
       "    <tr>\n",
       "      <th>0</th>\n",
       "      <td>a0</td>\n",
       "      <td>4</td>\n",
       "    </tr>\n",
       "    <tr>\n",
       "      <th>1</th>\n",
       "      <td>NaN</td>\n",
       "      <td>5</td>\n",
       "    </tr>\n",
       "    <tr>\n",
       "      <th>2</th>\n",
       "      <td>a3</td>\n",
       "      <td>6</td>\n",
       "    </tr>\n",
       "  </tbody>\n",
       "</table>\n",
       "</div>"
      ],
      "text/plain": [
       "     A  B\n",
       "0   a0  4\n",
       "1  NaN  5\n",
       "2   a3  6"
      ]
     },
     "execution_count": 5,
     "metadata": {},
     "output_type": "execute_result"
    }
   ],
   "source": [
    "right"
   ]
  },
  {
   "cell_type": "code",
   "execution_count": 6,
   "metadata": {},
   "outputs": [
    {
     "data": {
      "text/html": [
       "<div>\n",
       "<style scoped>\n",
       "    .dataframe tbody tr th:only-of-type {\n",
       "        vertical-align: middle;\n",
       "    }\n",
       "\n",
       "    .dataframe tbody tr th {\n",
       "        vertical-align: top;\n",
       "    }\n",
       "\n",
       "    .dataframe thead th {\n",
       "        text-align: right;\n",
       "    }\n",
       "</style>\n",
       "<table border=\"1\" class=\"dataframe\">\n",
       "  <thead>\n",
       "    <tr style=\"text-align: right;\">\n",
       "      <th></th>\n",
       "      <th>A</th>\n",
       "      <th>B_x</th>\n",
       "      <th>B_y</th>\n",
       "    </tr>\n",
       "  </thead>\n",
       "  <tbody>\n",
       "    <tr>\n",
       "      <th>0</th>\n",
       "      <td>a0</td>\n",
       "      <td>3.0</td>\n",
       "      <td>4.0</td>\n",
       "    </tr>\n",
       "    <tr>\n",
       "      <th>1</th>\n",
       "      <td>a2</td>\n",
       "      <td>4.0</td>\n",
       "      <td>NaN</td>\n",
       "    </tr>\n",
       "    <tr>\n",
       "      <th>2</th>\n",
       "      <td>a3</td>\n",
       "      <td>5.0</td>\n",
       "      <td>6.0</td>\n",
       "    </tr>\n",
       "    <tr>\n",
       "      <th>3</th>\n",
       "      <td>NaN</td>\n",
       "      <td>NaN</td>\n",
       "      <td>5.0</td>\n",
       "    </tr>\n",
       "  </tbody>\n",
       "</table>\n",
       "</div>"
      ],
      "text/plain": [
       "     A  B_x  B_y\n",
       "0   a0  3.0  4.0\n",
       "1   a2  4.0  NaN\n",
       "2   a3  5.0  6.0\n",
       "3  NaN  NaN  5.0"
      ]
     },
     "execution_count": 6,
     "metadata": {},
     "output_type": "execute_result"
    }
   ],
   "source": [
    "# code here \n",
    "pd.merge(left, right, on='A', how='outer')"
   ]
  },
  {
   "attachments": {},
   "cell_type": "markdown",
   "metadata": {
    "id": "Gf-ZuJjf9Zl2"
   },
   "source": [
    "## 10.Grouping\n",
    "- 그룹 분석은 자료를 집단별로 나누어 그룹 함수를 적용한 분석 방법\n",
    "    - 빈도 분석은 그룹별 빈도만을 산출\n",
    "    - 그룹 분석은 빈도는 물론 그룹별 특정 값에 대한 합계, 평균, 표준편차, 중앙값, 최소값, 최대값과 같은 결과 산출\n",
    "- groupby 함수를 이용하여 그룹별 집계 결과를 계산\n",
    "    - groupby는 데이터를 그룹별로 분할하고(Splitting), 각 그룹별로 집계 함수를 적용\n",
    "    (Applying) 후 하나로 합친(Combining) 결과를 반환함\n",
    "    - 그룹 기준, 집계 대상, 집계 방법 지정\n"
   ]
  },
  {
   "cell_type": "code",
   "execution_count": 29,
   "metadata": {
    "colab": {
     "base_uri": "https://localhost:8080/",
     "height": 326
    },
    "executionInfo": {
     "elapsed": 1070,
     "status": "ok",
     "timestamp": 1612262797580,
     "user": {
      "displayName": "hj Kim",
      "photoUrl": "",
      "userId": "02263672027550517756"
     },
     "user_tz": -540
    },
    "id": "h5MSh5KVOFYU",
    "outputId": "803b85c0-e561-4bc3-91b7-c023d58f8d5a"
   },
   "outputs": [
    {
     "data": {
      "text/html": [
       "<div>\n",
       "<style scoped>\n",
       "    .dataframe tbody tr th:only-of-type {\n",
       "        vertical-align: middle;\n",
       "    }\n",
       "\n",
       "    .dataframe tbody tr th {\n",
       "        vertical-align: top;\n",
       "    }\n",
       "\n",
       "    .dataframe thead th {\n",
       "        text-align: right;\n",
       "    }\n",
       "</style>\n",
       "<table border=\"1\" class=\"dataframe\">\n",
       "  <thead>\n",
       "    <tr style=\"text-align: right;\">\n",
       "      <th></th>\n",
       "      <th>X</th>\n",
       "      <th>Y</th>\n",
       "      <th>Z</th>\n",
       "    </tr>\n",
       "  </thead>\n",
       "  <tbody>\n",
       "    <tr>\n",
       "      <th>0</th>\n",
       "      <td>A</td>\n",
       "      <td>3</td>\n",
       "      <td>1</td>\n",
       "    </tr>\n",
       "    <tr>\n",
       "      <th>1</th>\n",
       "      <td>A</td>\n",
       "      <td>1</td>\n",
       "      <td>2</td>\n",
       "    </tr>\n",
       "    <tr>\n",
       "      <th>2</th>\n",
       "      <td>A</td>\n",
       "      <td>0</td>\n",
       "      <td>5</td>\n",
       "    </tr>\n",
       "    <tr>\n",
       "      <th>3</th>\n",
       "      <td>B</td>\n",
       "      <td>1</td>\n",
       "      <td>6</td>\n",
       "    </tr>\n",
       "    <tr>\n",
       "      <th>4</th>\n",
       "      <td>B</td>\n",
       "      <td>7</td>\n",
       "      <td>2</td>\n",
       "    </tr>\n",
       "    <tr>\n",
       "      <th>5</th>\n",
       "      <td>B</td>\n",
       "      <td>3</td>\n",
       "      <td>3</td>\n",
       "    </tr>\n",
       "    <tr>\n",
       "      <th>6</th>\n",
       "      <td>C</td>\n",
       "      <td>2</td>\n",
       "      <td>4</td>\n",
       "    </tr>\n",
       "    <tr>\n",
       "      <th>7</th>\n",
       "      <td>C</td>\n",
       "      <td>1</td>\n",
       "      <td>1</td>\n",
       "    </tr>\n",
       "    <tr>\n",
       "      <th>8</th>\n",
       "      <td>C</td>\n",
       "      <td>3</td>\n",
       "      <td>2</td>\n",
       "    </tr>\n",
       "  </tbody>\n",
       "</table>\n",
       "</div>"
      ],
      "text/plain": [
       "   X  Y  Z\n",
       "0  A  3  1\n",
       "1  A  1  2\n",
       "2  A  0  5\n",
       "3  B  1  6\n",
       "4  B  7  2\n",
       "5  B  3  3\n",
       "6  C  2  4\n",
       "7  C  1  1\n",
       "8  C  3  2"
      ]
     },
     "execution_count": 29,
     "metadata": {},
     "output_type": "execute_result"
    }
   ],
   "source": [
    "df = pd.DataFrame({\n",
    "    'X' : ['A', 'A', 'A', 'B', 'B', 'B', 'C', 'C', 'C'],\n",
    "    'Y' : [3, 1, 0, 1, 7, 3, 2, 1, 3],\n",
    "    'Z' : [1, 2, 5, 6, 2, 3, 4, 1, 2]\n",
    "})\n",
    "df"
   ]
  },
  {
   "cell_type": "code",
   "execution_count": 34,
   "metadata": {
    "colab": {
     "base_uri": "https://localhost:8080/",
     "height": 172
    },
    "executionInfo": {
     "elapsed": 1030,
     "status": "ok",
     "timestamp": 1612262808077,
     "user": {
      "displayName": "hj Kim",
      "photoUrl": "",
      "userId": "02263672027550517756"
     },
     "user_tz": -540
    },
    "id": "mc93Mkp9OFYU",
    "outputId": "679d936c-3edf-4138-be9e-d093f78642cb"
   },
   "outputs": [
    {
     "data": {
      "text/plain": [
       "X\n",
       "A    3\n",
       "B    3\n",
       "C    3\n",
       "dtype: int64"
      ]
     },
     "execution_count": 34,
     "metadata": {},
     "output_type": "execute_result"
    }
   ],
   "source": [
    "# 교재 227 그림 확인\n",
    "# DataFrame df를 'A'열을 기준으로 그룹별 합계 구하기\n",
    "df.groupby('X').sum()\n",
    "df.groupby('X').mean()\n",
    "df.groupby('X').min()\n",
    "df.groupby('X').max()\n",
    "df.groupby('X').count()\n",
    "df.groupby('X').size()"
   ]
  },
  {
   "attachments": {},
   "cell_type": "markdown",
   "metadata": {
    "id": "7N2T3bPa-O9U"
   },
   "source": [
    "![image.png](data:image/png;base64,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)"
   ]
  },
  {
   "cell_type": "code",
   "execution_count": 36,
   "metadata": {
    "colab": {
     "base_uri": "https://localhost:8080/"
    },
    "executionInfo": {
     "elapsed": 651,
     "status": "ok",
     "timestamp": 1612263002216,
     "user": {
      "displayName": "hj Kim",
      "photoUrl": "",
      "userId": "02263672027550517756"
     },
     "user_tz": -540
    },
    "id": "jj9KcqVrOFYU",
    "outputId": "2e9a4101-6291-4dd7-b14f-e29648f06569"
   },
   "outputs": [
    {
     "data": {
      "text/plain": [
       "X\n",
       "A     4\n",
       "B    11\n",
       "C     6\n",
       "Name: Y, dtype: int64"
      ]
     },
     "execution_count": 36,
     "metadata": {},
     "output_type": "execute_result"
    }
   ],
   "source": [
    "# DataFrame df를 'X'열을 기준으로 'Y'열에 대해 그룹별 합계 구하기\n",
    "df.groupby('X')['Y'].sum()"
   ]
  },
  {
   "cell_type": "code",
   "execution_count": 37,
   "metadata": {
    "id": "Stl0eFGvOFYU"
   },
   "outputs": [
    {
     "data": {
      "text/html": [
       "<div>\n",
       "<style scoped>\n",
       "    .dataframe tbody tr th:only-of-type {\n",
       "        vertical-align: middle;\n",
       "    }\n",
       "\n",
       "    .dataframe tbody tr th {\n",
       "        vertical-align: top;\n",
       "    }\n",
       "\n",
       "    .dataframe thead th {\n",
       "        text-align: right;\n",
       "    }\n",
       "</style>\n",
       "<table border=\"1\" class=\"dataframe\">\n",
       "  <thead>\n",
       "    <tr style=\"text-align: right;\">\n",
       "      <th></th>\n",
       "      <th>Y</th>\n",
       "      <th>Z</th>\n",
       "    </tr>\n",
       "    <tr>\n",
       "      <th>X</th>\n",
       "      <th></th>\n",
       "      <th></th>\n",
       "    </tr>\n",
       "  </thead>\n",
       "  <tbody>\n",
       "    <tr>\n",
       "      <th>A</th>\n",
       "      <td>4</td>\n",
       "      <td>8</td>\n",
       "    </tr>\n",
       "    <tr>\n",
       "      <th>B</th>\n",
       "      <td>11</td>\n",
       "      <td>11</td>\n",
       "    </tr>\n",
       "    <tr>\n",
       "      <th>C</th>\n",
       "      <td>6</td>\n",
       "      <td>7</td>\n",
       "    </tr>\n",
       "  </tbody>\n",
       "</table>\n",
       "</div>"
      ],
      "text/plain": [
       "    Y   Z\n",
       "X        \n",
       "A   4   8\n",
       "B  11  11\n",
       "C   6   7"
      ]
     },
     "execution_count": 37,
     "metadata": {},
     "output_type": "execute_result"
    }
   ],
   "source": [
    "# DataFrame df를 'X'열을 기준으로 ['Y', 'Z']열에 대해 그룹별 합계 구하기\n",
    "df.groupby('X')[['Y','Z']].sum()"
   ]
  },
  {
   "cell_type": "code",
   "execution_count": 40,
   "metadata": {
    "colab": {
     "base_uri": "https://localhost:8080/",
     "height": 172
    },
    "executionInfo": {
     "elapsed": 843,
     "status": "ok",
     "timestamp": 1612263244197,
     "user": {
      "displayName": "hj Kim",
      "photoUrl": "",
      "userId": "02263672027550517756"
     },
     "user_tz": -540
    },
    "id": "426BFzIpOFYU",
    "outputId": "06cdc72a-7ab7-4675-d637-865d3123f7d5"
   },
   "outputs": [
    {
     "data": {
      "text/html": [
       "<div>\n",
       "<style scoped>\n",
       "    .dataframe tbody tr th:only-of-type {\n",
       "        vertical-align: middle;\n",
       "    }\n",
       "\n",
       "    .dataframe tbody tr th {\n",
       "        vertical-align: top;\n",
       "    }\n",
       "\n",
       "    .dataframe thead tr th {\n",
       "        text-align: left;\n",
       "    }\n",
       "\n",
       "    .dataframe thead tr:last-of-type th {\n",
       "        text-align: right;\n",
       "    }\n",
       "</style>\n",
       "<table border=\"1\" class=\"dataframe\">\n",
       "  <thead>\n",
       "    <tr>\n",
       "      <th></th>\n",
       "      <th colspan=\"2\" halign=\"left\">Y</th>\n",
       "      <th colspan=\"2\" halign=\"left\">Z</th>\n",
       "    </tr>\n",
       "    <tr>\n",
       "      <th></th>\n",
       "      <th>sum</th>\n",
       "      <th>mean</th>\n",
       "      <th>sum</th>\n",
       "      <th>mean</th>\n",
       "    </tr>\n",
       "    <tr>\n",
       "      <th>X</th>\n",
       "      <th></th>\n",
       "      <th></th>\n",
       "      <th></th>\n",
       "      <th></th>\n",
       "    </tr>\n",
       "  </thead>\n",
       "  <tbody>\n",
       "    <tr>\n",
       "      <th>A</th>\n",
       "      <td>4</td>\n",
       "      <td>1.333333</td>\n",
       "      <td>8</td>\n",
       "      <td>2.666667</td>\n",
       "    </tr>\n",
       "    <tr>\n",
       "      <th>B</th>\n",
       "      <td>11</td>\n",
       "      <td>3.666667</td>\n",
       "      <td>11</td>\n",
       "      <td>3.666667</td>\n",
       "    </tr>\n",
       "    <tr>\n",
       "      <th>C</th>\n",
       "      <td>6</td>\n",
       "      <td>2.000000</td>\n",
       "      <td>7</td>\n",
       "      <td>2.333333</td>\n",
       "    </tr>\n",
       "  </tbody>\n",
       "</table>\n",
       "</div>"
      ],
      "text/plain": [
       "    Y             Z          \n",
       "  sum      mean sum      mean\n",
       "X                            \n",
       "A   4  1.333333   8  2.666667\n",
       "B  11  3.666667  11  3.666667\n",
       "C   6  2.000000   7  2.333333"
      ]
     },
     "execution_count": 40,
     "metadata": {},
     "output_type": "execute_result"
    }
   ],
   "source": [
    "# DataFrame df를 'X'열을 기준으로 그룹별 합계 구하기\n",
    "# agg(np.sum) 을 사용하여 합계를 구함\n",
    "df.groupby('X').agg(np.sum)\n",
    "df.groupby('X').agg([np.sum, np.mean])"
   ]
  },
  {
   "cell_type": "code",
   "execution_count": 41,
   "metadata": {
    "colab": {
     "base_uri": "https://localhost:8080/",
     "height": 172
    },
    "executionInfo": {
     "elapsed": 663,
     "status": "ok",
     "timestamp": 1612263248378,
     "user": {
      "displayName": "hj Kim",
      "photoUrl": "",
      "userId": "02263672027550517756"
     },
     "user_tz": -540
    },
    "id": "j9YOEdExOFYV",
    "outputId": "646eb8d8-b469-41b9-ef70-85aec9980b52"
   },
   "outputs": [
    {
     "data": {
      "text/html": [
       "<div>\n",
       "<style scoped>\n",
       "    .dataframe tbody tr th:only-of-type {\n",
       "        vertical-align: middle;\n",
       "    }\n",
       "\n",
       "    .dataframe tbody tr th {\n",
       "        vertical-align: top;\n",
       "    }\n",
       "\n",
       "    .dataframe thead th {\n",
       "        text-align: right;\n",
       "    }\n",
       "</style>\n",
       "<table border=\"1\" class=\"dataframe\">\n",
       "  <thead>\n",
       "    <tr style=\"text-align: right;\">\n",
       "      <th></th>\n",
       "      <th>Y</th>\n",
       "      <th>Z</th>\n",
       "    </tr>\n",
       "    <tr>\n",
       "      <th>X</th>\n",
       "      <th></th>\n",
       "      <th></th>\n",
       "    </tr>\n",
       "  </thead>\n",
       "  <tbody>\n",
       "    <tr>\n",
       "      <th>A</th>\n",
       "      <td>4</td>\n",
       "      <td>8</td>\n",
       "    </tr>\n",
       "    <tr>\n",
       "      <th>B</th>\n",
       "      <td>11</td>\n",
       "      <td>11</td>\n",
       "    </tr>\n",
       "    <tr>\n",
       "      <th>C</th>\n",
       "      <td>6</td>\n",
       "      <td>7</td>\n",
       "    </tr>\n",
       "  </tbody>\n",
       "</table>\n",
       "</div>"
      ],
      "text/plain": [
       "    Y   Z\n",
       "X        \n",
       "A   4   8\n",
       "B  11  11\n",
       "C   6   7"
      ]
     },
     "execution_count": 41,
     "metadata": {},
     "output_type": "execute_result"
    }
   ],
   "source": [
    "# DataFrame df를 'A'열을 기준으로 그룹별 합계 구하기\n",
    "# agg('sum') 을 사용하여 합계를 구함\n",
    "df.groupby('X').agg('sum')"
   ]
  },
  {
   "cell_type": "code",
   "execution_count": 42,
   "metadata": {
    "colab": {
     "base_uri": "https://localhost:8080/",
     "height": 203
    },
    "executionInfo": {
     "elapsed": 657,
     "status": "ok",
     "timestamp": 1612263252754,
     "user": {
      "displayName": "hj Kim",
      "photoUrl": "",
      "userId": "02263672027550517756"
     },
     "user_tz": -540
    },
    "id": "oixYFDynOFYV",
    "outputId": "0ee55226-685b-4360-a493-a1e73ddc5faa"
   },
   "outputs": [
    {
     "data": {
      "text/html": [
       "<div>\n",
       "<style scoped>\n",
       "    .dataframe tbody tr th:only-of-type {\n",
       "        vertical-align: middle;\n",
       "    }\n",
       "\n",
       "    .dataframe tbody tr th {\n",
       "        vertical-align: top;\n",
       "    }\n",
       "\n",
       "    .dataframe thead tr th {\n",
       "        text-align: left;\n",
       "    }\n",
       "\n",
       "    .dataframe thead tr:last-of-type th {\n",
       "        text-align: right;\n",
       "    }\n",
       "</style>\n",
       "<table border=\"1\" class=\"dataframe\">\n",
       "  <thead>\n",
       "    <tr>\n",
       "      <th></th>\n",
       "      <th colspan=\"2\" halign=\"left\">Y</th>\n",
       "      <th colspan=\"2\" halign=\"left\">Z</th>\n",
       "    </tr>\n",
       "    <tr>\n",
       "      <th></th>\n",
       "      <th>sum</th>\n",
       "      <th>mean</th>\n",
       "      <th>sum</th>\n",
       "      <th>mean</th>\n",
       "    </tr>\n",
       "    <tr>\n",
       "      <th>X</th>\n",
       "      <th></th>\n",
       "      <th></th>\n",
       "      <th></th>\n",
       "      <th></th>\n",
       "    </tr>\n",
       "  </thead>\n",
       "  <tbody>\n",
       "    <tr>\n",
       "      <th>A</th>\n",
       "      <td>4</td>\n",
       "      <td>1.333333</td>\n",
       "      <td>8</td>\n",
       "      <td>2.666667</td>\n",
       "    </tr>\n",
       "    <tr>\n",
       "      <th>B</th>\n",
       "      <td>11</td>\n",
       "      <td>3.666667</td>\n",
       "      <td>11</td>\n",
       "      <td>3.666667</td>\n",
       "    </tr>\n",
       "    <tr>\n",
       "      <th>C</th>\n",
       "      <td>6</td>\n",
       "      <td>2.000000</td>\n",
       "      <td>7</td>\n",
       "      <td>2.333333</td>\n",
       "    </tr>\n",
       "  </tbody>\n",
       "</table>\n",
       "</div>"
      ],
      "text/plain": [
       "    Y             Z          \n",
       "  sum      mean sum      mean\n",
       "X                            \n",
       "A   4  1.333333   8  2.666667\n",
       "B  11  3.666667  11  3.666667\n",
       "C   6  2.000000   7  2.333333"
      ]
     },
     "execution_count": 42,
     "metadata": {},
     "output_type": "execute_result"
    }
   ],
   "source": [
    "# DataFrame df를 'A'열을 기준으로 그룹별 합계와 평균 구하기\n",
    "# agg(['sum', 'mean']) 을 사용하여 합계와 평균을 구함\n",
    "df.groupby('X').agg(['sum', 'mean'])"
   ]
  },
  {
   "attachments": {},
   "cell_type": "markdown",
   "metadata": {},
   "source": [
    "### 연습문제 \n",
    "- 변수의 이름이 df0인 데이터 프레임을 생성하고, 컬럼명이 'A','B'  컬럼을 기준으로 평균을 계산하는 코드를 작성하세요. \n",
    "- data = {\n",
    "        'A' : ['foo', 'bar', 'foo', 'bar', 'foo', 'bar', 'foo', 'foo'],\n",
    "        'B' : ['one', 'one', 'two', 'three', 'two', 'two', 'one', 'three'],\n",
    "        'C' : [7, 2, 6, 0, 9, 9, 9, 7],\n",
    "        'D' : [8, 1, 5, 9, 1, 5, 7, 3],\n",
    " }\n"
   ]
  },
  {
   "cell_type": "code",
   "execution_count": 7,
   "metadata": {},
   "outputs": [
    {
     "data": {
      "text/html": [
       "<div>\n",
       "<style scoped>\n",
       "    .dataframe tbody tr th:only-of-type {\n",
       "        vertical-align: middle;\n",
       "    }\n",
       "\n",
       "    .dataframe tbody tr th {\n",
       "        vertical-align: top;\n",
       "    }\n",
       "\n",
       "    .dataframe thead th {\n",
       "        text-align: right;\n",
       "    }\n",
       "</style>\n",
       "<table border=\"1\" class=\"dataframe\">\n",
       "  <thead>\n",
       "    <tr style=\"text-align: right;\">\n",
       "      <th></th>\n",
       "      <th></th>\n",
       "      <th>C</th>\n",
       "      <th>D</th>\n",
       "    </tr>\n",
       "    <tr>\n",
       "      <th>A</th>\n",
       "      <th>B</th>\n",
       "      <th></th>\n",
       "      <th></th>\n",
       "    </tr>\n",
       "  </thead>\n",
       "  <tbody>\n",
       "    <tr>\n",
       "      <th rowspan=\"3\" valign=\"top\">bar</th>\n",
       "      <th>one</th>\n",
       "      <td>2.0</td>\n",
       "      <td>1.0</td>\n",
       "    </tr>\n",
       "    <tr>\n",
       "      <th>three</th>\n",
       "      <td>0.0</td>\n",
       "      <td>9.0</td>\n",
       "    </tr>\n",
       "    <tr>\n",
       "      <th>two</th>\n",
       "      <td>9.0</td>\n",
       "      <td>5.0</td>\n",
       "    </tr>\n",
       "    <tr>\n",
       "      <th rowspan=\"3\" valign=\"top\">foo</th>\n",
       "      <th>one</th>\n",
       "      <td>8.0</td>\n",
       "      <td>7.5</td>\n",
       "    </tr>\n",
       "    <tr>\n",
       "      <th>three</th>\n",
       "      <td>7.0</td>\n",
       "      <td>3.0</td>\n",
       "    </tr>\n",
       "    <tr>\n",
       "      <th>two</th>\n",
       "      <td>7.5</td>\n",
       "      <td>3.0</td>\n",
       "    </tr>\n",
       "  </tbody>\n",
       "</table>\n",
       "</div>"
      ],
      "text/plain": [
       "             C    D\n",
       "A   B              \n",
       "bar one    2.0  1.0\n",
       "    three  0.0  9.0\n",
       "    two    9.0  5.0\n",
       "foo one    8.0  7.5\n",
       "    three  7.0  3.0\n",
       "    two    7.5  3.0"
      ]
     },
     "execution_count": 7,
     "metadata": {},
     "output_type": "execute_result"
    }
   ],
   "source": [
    "data = {\n",
    "        'A' : ['foo', 'bar', 'foo', 'bar', 'foo', 'bar', 'foo', 'foo'],\n",
    "        'B' : ['one', 'one', 'two', 'three', 'two', 'two', 'one', 'three'],\n",
    "        'C' : [7, 2, 6, 0, 9, 9, 9, 7],\n",
    "        'D' : [8, 1, 5, 9, 1, 5, 7, 3],\n",
    " }\n",
    "\n",
    "# code here \n",
    "df0 = pd.DataFrame(data)\n",
    "df0.groupby(['A', 'B']).mean()"
   ]
  },
  {
   "attachments": {},
   "cell_type": "markdown",
   "metadata": {
    "id": "BbmCNLDA_j08"
   },
   "source": [
    "## 11.Pivoting\n",
    "- 데이터를 보다 빠르고 쉽게 분석 가능\n",
    "- 행, 열 방향으로 필드를 재배치해 한 눈에 데이터 보기가 용이함\n",
    "- Excel의 피벗 테이블 기능을 Pandas에서도 동일하게 사용 가능\n",
    "- 행으로만 지정 가능한 groupby와는 다르게 pivot_table의 경우 열로도 지정 가\n",
    "능\n",
    "- pivot_table(values, index, columns, aggfunc, fill_value)\n",
    "    - values : 집계하려는 열의 Label 혹은 Label의 리스트\n",
    "    - index : 피벗 테이블 행의 그룹으로 묶을 열의 Label이나 그룹 키\n",
    "    - columns : 피벗 테이블 열의 그룹으로 묶을 열의 Label 이름이나 그룹 키\n",
    "    - aggfunc : 집계 함수나 함수 리스트, 기본 값은 mean\n",
    "    - fill_value : 누락된 값의 대체 값"
   ]
  },
  {
   "cell_type": "code",
   "execution_count": 47,
   "metadata": {
    "colab": {
     "base_uri": "https://localhost:8080/",
     "height": 326
    },
    "executionInfo": {
     "elapsed": 642,
     "status": "ok",
     "timestamp": 1612263307122,
     "user": {
      "displayName": "hj Kim",
      "photoUrl": "",
      "userId": "02263672027550517756"
     },
     "user_tz": -540
    },
    "id": "spdBBC2cOFYV",
    "outputId": "7fdf7662-4df7-49f9-e1bc-db6eed661077"
   },
   "outputs": [
    {
     "data": {
      "text/html": [
       "<div>\n",
       "<style scoped>\n",
       "    .dataframe tbody tr th:only-of-type {\n",
       "        vertical-align: middle;\n",
       "    }\n",
       "\n",
       "    .dataframe tbody tr th {\n",
       "        vertical-align: top;\n",
       "    }\n",
       "\n",
       "    .dataframe thead th {\n",
       "        text-align: right;\n",
       "    }\n",
       "</style>\n",
       "<table border=\"1\" class=\"dataframe\">\n",
       "  <thead>\n",
       "    <tr style=\"text-align: right;\">\n",
       "      <th></th>\n",
       "      <th>A</th>\n",
       "      <th>B</th>\n",
       "      <th>C</th>\n",
       "      <th>D</th>\n",
       "    </tr>\n",
       "  </thead>\n",
       "  <tbody>\n",
       "    <tr>\n",
       "      <th>0</th>\n",
       "      <td>A</td>\n",
       "      <td>3</td>\n",
       "      <td>1</td>\n",
       "      <td>X</td>\n",
       "    </tr>\n",
       "    <tr>\n",
       "      <th>1</th>\n",
       "      <td>A</td>\n",
       "      <td>1</td>\n",
       "      <td>2</td>\n",
       "      <td>X</td>\n",
       "    </tr>\n",
       "    <tr>\n",
       "      <th>2</th>\n",
       "      <td>A</td>\n",
       "      <td>0</td>\n",
       "      <td>5</td>\n",
       "      <td>Y</td>\n",
       "    </tr>\n",
       "    <tr>\n",
       "      <th>3</th>\n",
       "      <td>B</td>\n",
       "      <td>1</td>\n",
       "      <td>6</td>\n",
       "      <td>X</td>\n",
       "    </tr>\n",
       "    <tr>\n",
       "      <th>4</th>\n",
       "      <td>B</td>\n",
       "      <td>7</td>\n",
       "      <td>2</td>\n",
       "      <td>Y</td>\n",
       "    </tr>\n",
       "    <tr>\n",
       "      <th>5</th>\n",
       "      <td>B</td>\n",
       "      <td>3</td>\n",
       "      <td>3</td>\n",
       "      <td>X</td>\n",
       "    </tr>\n",
       "    <tr>\n",
       "      <th>6</th>\n",
       "      <td>C</td>\n",
       "      <td>2</td>\n",
       "      <td>4</td>\n",
       "      <td>X</td>\n",
       "    </tr>\n",
       "    <tr>\n",
       "      <th>7</th>\n",
       "      <td>C</td>\n",
       "      <td>1</td>\n",
       "      <td>1</td>\n",
       "      <td>Y</td>\n",
       "    </tr>\n",
       "    <tr>\n",
       "      <th>8</th>\n",
       "      <td>C</td>\n",
       "      <td>3</td>\n",
       "      <td>2</td>\n",
       "      <td>X</td>\n",
       "    </tr>\n",
       "  </tbody>\n",
       "</table>\n",
       "</div>"
      ],
      "text/plain": [
       "   A  B  C  D\n",
       "0  A  3  1  X\n",
       "1  A  1  2  X\n",
       "2  A  0  5  Y\n",
       "3  B  1  6  X\n",
       "4  B  7  2  Y\n",
       "5  B  3  3  X\n",
       "6  C  2  4  X\n",
       "7  C  1  1  Y\n",
       "8  C  3  2  X"
      ]
     },
     "execution_count": 47,
     "metadata": {},
     "output_type": "execute_result"
    }
   ],
   "source": [
    "# DataFrame df에 'D'열을 추가함\n",
    "df = pd.DataFrame({\n",
    "    'A' : ['A', 'A', 'A', 'B', 'B', 'B', 'C', 'C', 'C'],\n",
    "    'B' : [3, 1, 0, 1, 7, 3, 2, 1, 3],\n",
    "    'C' : [1, 2, 5, 6, 2, 3, 4, 1, 2]\n",
    "})\n",
    " \n",
    "df['D'] = ['X', 'X', 'Y', 'X', 'Y', 'X', 'X', 'Y', 'X']\n",
    "df"
   ]
  },
  {
   "cell_type": "code",
   "execution_count": 2,
   "metadata": {},
   "outputs": [
    {
     "data": {
      "text/html": [
       "<div>\n",
       "<style scoped>\n",
       "    .dataframe tbody tr th:only-of-type {\n",
       "        vertical-align: middle;\n",
       "    }\n",
       "\n",
       "    .dataframe tbody tr th {\n",
       "        vertical-align: top;\n",
       "    }\n",
       "\n",
       "    .dataframe thead th {\n",
       "        text-align: right;\n",
       "    }\n",
       "</style>\n",
       "<table border=\"1\" class=\"dataframe\">\n",
       "  <thead>\n",
       "    <tr style=\"text-align: right;\">\n",
       "      <th></th>\n",
       "      <th>X1</th>\n",
       "      <th>X2</th>\n",
       "      <th>X3</th>\n",
       "    </tr>\n",
       "  </thead>\n",
       "  <tbody>\n",
       "    <tr>\n",
       "      <th>A</th>\n",
       "      <td>1</td>\n",
       "      <td>2</td>\n",
       "      <td>3</td>\n",
       "    </tr>\n",
       "    <tr>\n",
       "      <th>B</th>\n",
       "      <td>4</td>\n",
       "      <td>5</td>\n",
       "      <td>6</td>\n",
       "    </tr>\n",
       "    <tr>\n",
       "      <th>C</th>\n",
       "      <td>7</td>\n",
       "      <td>8</td>\n",
       "      <td>9</td>\n",
       "    </tr>\n",
       "  </tbody>\n",
       "</table>\n",
       "</div>"
      ],
      "text/plain": [
       "   X1  X2  X3\n",
       "A   1   2   3\n",
       "B   4   5   6\n",
       "C   7   8   9"
      ]
     },
     "execution_count": 2,
     "metadata": {},
     "output_type": "execute_result"
    }
   ],
   "source": [
    "import pandas as pd\n",
    "df = pd.DataFrame([[1, 2, 3], \n",
    "                                  [4, 5, 6],\n",
    "                                  [7, 8, 9]], index = ('A','B','C'), columns = ('X1','X2','X3'))\n",
    "\n",
    "df"
   ]
  },
  {
   "cell_type": "code",
   "execution_count": 65,
   "metadata": {},
   "outputs": [
    {
     "data": {
      "text/html": [
       "<div>\n",
       "<style scoped>\n",
       "    .dataframe tbody tr th:only-of-type {\n",
       "        vertical-align: middle;\n",
       "    }\n",
       "\n",
       "    .dataframe tbody tr th {\n",
       "        vertical-align: top;\n",
       "    }\n",
       "\n",
       "    .dataframe thead tr th {\n",
       "        text-align: left;\n",
       "    }\n",
       "\n",
       "    .dataframe thead tr:last-of-type th {\n",
       "        text-align: right;\n",
       "    }\n",
       "</style>\n",
       "<table border=\"1\" class=\"dataframe\">\n",
       "  <thead>\n",
       "    <tr>\n",
       "      <th></th>\n",
       "      <th colspan=\"2\" halign=\"left\">B</th>\n",
       "      <th colspan=\"2\" halign=\"left\">C</th>\n",
       "    </tr>\n",
       "    <tr>\n",
       "      <th>D</th>\n",
       "      <th>X</th>\n",
       "      <th>Y</th>\n",
       "      <th>X</th>\n",
       "      <th>Y</th>\n",
       "    </tr>\n",
       "    <tr>\n",
       "      <th>A</th>\n",
       "      <th></th>\n",
       "      <th></th>\n",
       "      <th></th>\n",
       "      <th></th>\n",
       "    </tr>\n",
       "  </thead>\n",
       "  <tbody>\n",
       "    <tr>\n",
       "      <th>A</th>\n",
       "      <td>4</td>\n",
       "      <td>0</td>\n",
       "      <td>3</td>\n",
       "      <td>5</td>\n",
       "    </tr>\n",
       "    <tr>\n",
       "      <th>B</th>\n",
       "      <td>4</td>\n",
       "      <td>7</td>\n",
       "      <td>9</td>\n",
       "      <td>2</td>\n",
       "    </tr>\n",
       "    <tr>\n",
       "      <th>C</th>\n",
       "      <td>5</td>\n",
       "      <td>1</td>\n",
       "      <td>6</td>\n",
       "      <td>1</td>\n",
       "    </tr>\n",
       "    <tr>\n",
       "      <th>D</th>\n",
       "      <td>1</td>\n",
       "      <td>0</td>\n",
       "      <td>1</td>\n",
       "      <td>0</td>\n",
       "    </tr>\n",
       "  </tbody>\n",
       "</table>\n",
       "</div>"
      ],
      "text/plain": [
       "   B     C   \n",
       "D  X  Y  X  Y\n",
       "A            \n",
       "A  4  0  3  5\n",
       "B  4  7  9  2\n",
       "C  5  1  6  1\n",
       "D  1  0  1  0"
      ]
     },
     "execution_count": 65,
     "metadata": {},
     "output_type": "execute_result"
    }
   ],
   "source": [
    "# fill_value 예제 \n",
    "df = pd.DataFrame({\n",
    "    'A' : ['A', 'A', 'A', 'B', 'B', 'B', 'C', 'C', 'C','D'],\n",
    "    'B' : [3, 1, 0, 1, 7, 3, 2, 1, 3,1],\n",
    "    'C' : [1, 2, 5, 6, 2, 3, 4, 1, 2,1]\n",
    "})\n",
    " \n",
    "df['D'] = ['X', 'X', 'Y', 'X', 'Y', 'X', 'X', 'Y', 'X','X']\n",
    "df\n",
    "df.pivot_table(index='A', columns='D', values=['B', 'C'], aggfunc='sum', fill_value=0)"
   ]
  },
  {
   "cell_type": "code",
   "execution_count": 48,
   "metadata": {
    "colab": {
     "base_uri": "https://localhost:8080/",
     "height": 203
    },
    "executionInfo": {
     "elapsed": 893,
     "status": "ok",
     "timestamp": 1612263314897,
     "user": {
      "displayName": "hj Kim",
      "photoUrl": "",
      "userId": "02263672027550517756"
     },
     "user_tz": -540
    },
    "id": "uCq8dGVXOFYW",
    "outputId": "82903990-af74-4c60-ab19-03e7adbc1760"
   },
   "outputs": [
    {
     "data": {
      "text/html": [
       "<div>\n",
       "<style scoped>\n",
       "    .dataframe tbody tr th:only-of-type {\n",
       "        vertical-align: middle;\n",
       "    }\n",
       "\n",
       "    .dataframe tbody tr th {\n",
       "        vertical-align: top;\n",
       "    }\n",
       "\n",
       "    .dataframe thead tr th {\n",
       "        text-align: left;\n",
       "    }\n",
       "\n",
       "    .dataframe thead tr:last-of-type th {\n",
       "        text-align: right;\n",
       "    }\n",
       "</style>\n",
       "<table border=\"1\" class=\"dataframe\">\n",
       "  <thead>\n",
       "    <tr>\n",
       "      <th></th>\n",
       "      <th colspan=\"2\" halign=\"left\">B</th>\n",
       "      <th colspan=\"2\" halign=\"left\">C</th>\n",
       "    </tr>\n",
       "    <tr>\n",
       "      <th>D</th>\n",
       "      <th>X</th>\n",
       "      <th>Y</th>\n",
       "      <th>X</th>\n",
       "      <th>Y</th>\n",
       "    </tr>\n",
       "    <tr>\n",
       "      <th>A</th>\n",
       "      <th></th>\n",
       "      <th></th>\n",
       "      <th></th>\n",
       "      <th></th>\n",
       "    </tr>\n",
       "  </thead>\n",
       "  <tbody>\n",
       "    <tr>\n",
       "      <th>A</th>\n",
       "      <td>4</td>\n",
       "      <td>0</td>\n",
       "      <td>3</td>\n",
       "      <td>5</td>\n",
       "    </tr>\n",
       "    <tr>\n",
       "      <th>B</th>\n",
       "      <td>4</td>\n",
       "      <td>7</td>\n",
       "      <td>9</td>\n",
       "      <td>2</td>\n",
       "    </tr>\n",
       "    <tr>\n",
       "      <th>C</th>\n",
       "      <td>5</td>\n",
       "      <td>1</td>\n",
       "      <td>6</td>\n",
       "      <td>1</td>\n",
       "    </tr>\n",
       "  </tbody>\n",
       "</table>\n",
       "</div>"
      ],
      "text/plain": [
       "   B     C   \n",
       "D  X  Y  X  Y\n",
       "A            \n",
       "A  4  0  3  5\n",
       "B  4  7  9  2\n",
       "C  5  1  6  1"
      ]
     },
     "execution_count": 48,
     "metadata": {},
     "output_type": "execute_result"
    }
   ],
   "source": [
    "# 피벗테이블의 행의 그룹을 'A'로 하고, 열의 그룹을 'D'로 하고\n",
    "# 집계하려는 열은 ['B', 'C']이며, 집계 함수는 'sum'인 피벗 테이블을 생성\n",
    "# index ='행그룹', columns = '열그룹', values='집계 대상', aggfunc='집계함수'\n",
    "\n",
    "df.pivot_table(index='A', columns='D', values=['B', 'C'], aggfunc='sum')"
   ]
  },
  {
   "cell_type": "code",
   "execution_count": 62,
   "metadata": {},
   "outputs": [
    {
     "data": {
      "text/html": [
       "<div>\n",
       "<style scoped>\n",
       "    .dataframe tbody tr th:only-of-type {\n",
       "        vertical-align: middle;\n",
       "    }\n",
       "\n",
       "    .dataframe tbody tr th {\n",
       "        vertical-align: top;\n",
       "    }\n",
       "\n",
       "    .dataframe thead th {\n",
       "        text-align: right;\n",
       "    }\n",
       "</style>\n",
       "<table border=\"1\" class=\"dataframe\">\n",
       "  <thead>\n",
       "    <tr style=\"text-align: right;\">\n",
       "      <th>D</th>\n",
       "      <th>X</th>\n",
       "      <th>Y</th>\n",
       "    </tr>\n",
       "    <tr>\n",
       "      <th>A</th>\n",
       "      <th></th>\n",
       "      <th></th>\n",
       "    </tr>\n",
       "  </thead>\n",
       "  <tbody>\n",
       "    <tr>\n",
       "      <th>A</th>\n",
       "      <td>2</td>\n",
       "      <td>1</td>\n",
       "    </tr>\n",
       "    <tr>\n",
       "      <th>B</th>\n",
       "      <td>2</td>\n",
       "      <td>1</td>\n",
       "    </tr>\n",
       "    <tr>\n",
       "      <th>C</th>\n",
       "      <td>2</td>\n",
       "      <td>1</td>\n",
       "    </tr>\n",
       "  </tbody>\n",
       "</table>\n",
       "</div>"
      ],
      "text/plain": [
       "D  X  Y\n",
       "A      \n",
       "A  2  1\n",
       "B  2  1\n",
       "C  2  1"
      ]
     },
     "execution_count": 62,
     "metadata": {},
     "output_type": "execute_result"
    }
   ],
   "source": [
    "df.pivot_table(index='A', columns='D', values='B', aggfunc='mean')\n",
    "df.pivot_table(index='A', columns='D', values='B', aggfunc='count', fill_value=0)"
   ]
  },
  {
   "attachments": {},
   "cell_type": "markdown",
   "metadata": {},
   "source": [
    "### 연습문제 \n",
    "- 사전자료형 변수(data)를 사용하여 df1 데이터 프레임을 생성하고, 해당 데이터 프레임변수를 이용하여 index를 'A', \n",
    "컬럼을 'B'로 하여 'C'와 'D' 컬럼의 평균을 계산하는 코드를 작성하세요. \n",
    "- data = {\n",
    "        'A' : ['foo', 'bar', 'foo', 'bar', 'foo', 'bar', 'foo', 'foo'],\n",
    "        'B' : ['one', 'one', 'two', 'three', 'two', 'two', 'one', 'three'],\n",
    "        'C' : [7, 2, 6, 0, 9, 9, 9, 7],\n",
    "        'D' : [8, 1, 5, 9, 1, 5, 7, 3],\n",
    "}"
   ]
  },
  {
   "cell_type": "code",
   "execution_count": 8,
   "metadata": {},
   "outputs": [
    {
     "data": {
      "text/html": [
       "<div>\n",
       "<style scoped>\n",
       "    .dataframe tbody tr th:only-of-type {\n",
       "        vertical-align: middle;\n",
       "    }\n",
       "\n",
       "    .dataframe tbody tr th {\n",
       "        vertical-align: top;\n",
       "    }\n",
       "\n",
       "    .dataframe thead tr th {\n",
       "        text-align: left;\n",
       "    }\n",
       "\n",
       "    .dataframe thead tr:last-of-type th {\n",
       "        text-align: right;\n",
       "    }\n",
       "</style>\n",
       "<table border=\"1\" class=\"dataframe\">\n",
       "  <thead>\n",
       "    <tr>\n",
       "      <th></th>\n",
       "      <th colspan=\"3\" halign=\"left\">C</th>\n",
       "      <th colspan=\"3\" halign=\"left\">D</th>\n",
       "    </tr>\n",
       "    <tr>\n",
       "      <th>B</th>\n",
       "      <th>one</th>\n",
       "      <th>three</th>\n",
       "      <th>two</th>\n",
       "      <th>one</th>\n",
       "      <th>three</th>\n",
       "      <th>two</th>\n",
       "    </tr>\n",
       "    <tr>\n",
       "      <th>A</th>\n",
       "      <th></th>\n",
       "      <th></th>\n",
       "      <th></th>\n",
       "      <th></th>\n",
       "      <th></th>\n",
       "      <th></th>\n",
       "    </tr>\n",
       "  </thead>\n",
       "  <tbody>\n",
       "    <tr>\n",
       "      <th>bar</th>\n",
       "      <td>2.0</td>\n",
       "      <td>0.0</td>\n",
       "      <td>9.0</td>\n",
       "      <td>1.0</td>\n",
       "      <td>9.0</td>\n",
       "      <td>5.0</td>\n",
       "    </tr>\n",
       "    <tr>\n",
       "      <th>foo</th>\n",
       "      <td>8.0</td>\n",
       "      <td>7.0</td>\n",
       "      <td>7.5</td>\n",
       "      <td>7.5</td>\n",
       "      <td>3.0</td>\n",
       "      <td>3.0</td>\n",
       "    </tr>\n",
       "  </tbody>\n",
       "</table>\n",
       "</div>"
      ],
      "text/plain": [
       "       C               D           \n",
       "B    one three  two  one three  two\n",
       "A                                  \n",
       "bar  2.0   0.0  9.0  1.0   9.0  5.0\n",
       "foo  8.0   7.0  7.5  7.5   3.0  3.0"
      ]
     },
     "execution_count": 8,
     "metadata": {},
     "output_type": "execute_result"
    }
   ],
   "source": [
    "import pandas as pd\n",
    "\n",
    "data = {\n",
    "        'A' : ['foo', 'bar', 'foo', 'bar', 'foo', 'bar', 'foo', 'foo'],\n",
    "        'B' : ['one', 'one', 'two', 'three', 'two', 'two', 'one', 'three'],\n",
    "        'C' : [7, 2, 6, 0, 9, 9, 9, 7],\n",
    "        'D' : [8, 1, 5, 9, 1, 5, 7, 3],\n",
    "}\n",
    "\n",
    "# code here \n",
    "df1 = pd.DataFrame(data) \n",
    "df1.pivot_table(index='A', columns='B')"
   ]
  },
  {
   "attachments": {},
   "cell_type": "markdown",
   "metadata": {},
   "source": [
    "# 그이외의 기능 \n",
    "- Pandas의 각 열은 datatype별 기능지원 \n",
    "  - 문자타입은 str \n",
    "  - 날짜타입은 dt"
   ]
  },
  {
   "cell_type": "code",
   "execution_count": 1,
   "metadata": {},
   "outputs": [],
   "source": [
    "import pandas as pd \n",
    "df = pd.DataFrame({'A':[' a','b ',' c ','\\td'], \n",
    "              'B': pd.Series(['20200101','20200102','20200103','20200104'],\n",
    "                             dtype='datetime64[ns]')})"
   ]
  },
  {
   "cell_type": "code",
   "execution_count": 2,
   "metadata": {},
   "outputs": [
    {
     "data": {
      "text/html": [
       "<div>\n",
       "<style scoped>\n",
       "    .dataframe tbody tr th:only-of-type {\n",
       "        vertical-align: middle;\n",
       "    }\n",
       "\n",
       "    .dataframe tbody tr th {\n",
       "        vertical-align: top;\n",
       "    }\n",
       "\n",
       "    .dataframe thead th {\n",
       "        text-align: right;\n",
       "    }\n",
       "</style>\n",
       "<table border=\"1\" class=\"dataframe\">\n",
       "  <thead>\n",
       "    <tr style=\"text-align: right;\">\n",
       "      <th></th>\n",
       "      <th>A</th>\n",
       "      <th>B</th>\n",
       "    </tr>\n",
       "  </thead>\n",
       "  <tbody>\n",
       "    <tr>\n",
       "      <th>0</th>\n",
       "      <td>a</td>\n",
       "      <td>2020-01-01</td>\n",
       "    </tr>\n",
       "    <tr>\n",
       "      <th>1</th>\n",
       "      <td>b</td>\n",
       "      <td>2020-01-02</td>\n",
       "    </tr>\n",
       "    <tr>\n",
       "      <th>2</th>\n",
       "      <td>c</td>\n",
       "      <td>2020-01-03</td>\n",
       "    </tr>\n",
       "    <tr>\n",
       "      <th>3</th>\n",
       "      <td>\\td</td>\n",
       "      <td>2020-01-04</td>\n",
       "    </tr>\n",
       "  </tbody>\n",
       "</table>\n",
       "</div>"
      ],
      "text/plain": [
       "     A          B\n",
       "0    a 2020-01-01\n",
       "1   b  2020-01-02\n",
       "2   c  2020-01-03\n",
       "3  \\td 2020-01-04"
      ]
     },
     "execution_count": 2,
     "metadata": {},
     "output_type": "execute_result"
    }
   ],
   "source": [
    "df"
   ]
  },
  {
   "cell_type": "code",
   "execution_count": 3,
   "metadata": {},
   "outputs": [],
   "source": [
    "df['C1']  = df['A'].str.strip()  # 앞 뒤 공백을 제거\n",
    "df['C2'] = df['A'].str.lstrip() # 앞 공백을 제거\n",
    "df['C3'] = df['A'].str.rstrip() # 뒤 공백을 제거\n",
    "df['C4'] = df['A'].str.upper() # 대문자"
   ]
  },
  {
   "cell_type": "code",
   "execution_count": 4,
   "metadata": {},
   "outputs": [
    {
     "data": {
      "text/html": [
       "<div>\n",
       "<style scoped>\n",
       "    .dataframe tbody tr th:only-of-type {\n",
       "        vertical-align: middle;\n",
       "    }\n",
       "\n",
       "    .dataframe tbody tr th {\n",
       "        vertical-align: top;\n",
       "    }\n",
       "\n",
       "    .dataframe thead th {\n",
       "        text-align: right;\n",
       "    }\n",
       "</style>\n",
       "<table border=\"1\" class=\"dataframe\">\n",
       "  <thead>\n",
       "    <tr style=\"text-align: right;\">\n",
       "      <th></th>\n",
       "      <th>A</th>\n",
       "      <th>B</th>\n",
       "      <th>C1</th>\n",
       "      <th>C2</th>\n",
       "      <th>C3</th>\n",
       "      <th>C4</th>\n",
       "    </tr>\n",
       "  </thead>\n",
       "  <tbody>\n",
       "    <tr>\n",
       "      <th>0</th>\n",
       "      <td>a</td>\n",
       "      <td>2020-01-01</td>\n",
       "      <td>a</td>\n",
       "      <td>a</td>\n",
       "      <td>a</td>\n",
       "      <td>A</td>\n",
       "    </tr>\n",
       "    <tr>\n",
       "      <th>1</th>\n",
       "      <td>b</td>\n",
       "      <td>2020-01-02</td>\n",
       "      <td>b</td>\n",
       "      <td>b</td>\n",
       "      <td>b</td>\n",
       "      <td>B</td>\n",
       "    </tr>\n",
       "    <tr>\n",
       "      <th>2</th>\n",
       "      <td>c</td>\n",
       "      <td>2020-01-03</td>\n",
       "      <td>c</td>\n",
       "      <td>c</td>\n",
       "      <td>c</td>\n",
       "      <td>C</td>\n",
       "    </tr>\n",
       "    <tr>\n",
       "      <th>3</th>\n",
       "      <td>\\td</td>\n",
       "      <td>2020-01-04</td>\n",
       "      <td>d</td>\n",
       "      <td>d</td>\n",
       "      <td>\\td</td>\n",
       "      <td>\\tD</td>\n",
       "    </tr>\n",
       "  </tbody>\n",
       "</table>\n",
       "</div>"
      ],
      "text/plain": [
       "     A          B C1  C2   C3   C4\n",
       "0    a 2020-01-01  a   a    a    A\n",
       "1   b  2020-01-02  b  b     b   B \n",
       "2   c  2020-01-03  c  c     c   C \n",
       "3  \\td 2020-01-04  d   d  \\td  \\tD"
      ]
     },
     "execution_count": 4,
     "metadata": {},
     "output_type": "execute_result"
    }
   ],
   "source": [
    "df"
   ]
  },
  {
   "cell_type": "code",
   "execution_count": 5,
   "metadata": {},
   "outputs": [
    {
     "data": {
      "text/plain": [
       "0    1\n",
       "1    2\n",
       "2    3\n",
       "3    4\n",
       "Name: B, dtype: int64"
      ]
     },
     "execution_count": 5,
     "metadata": {},
     "output_type": "execute_result"
    }
   ],
   "source": [
    "df['B'].dt.year\n",
    "df['B'].dt.month\n",
    "df['B'].dt.day"
   ]
  },
  {
   "attachments": {},
   "cell_type": "markdown",
   "metadata": {},
   "source": []
  }
 ],
 "metadata": {
  "colab": {
   "collapsed_sections": [],
   "name": "SKI PART4_pandas02 LAB_sol.ipynb",
   "provenance": [
    {
     "file_id": "11-48A7D2NPjTRtrct9Bw-ehbeZwg3eXq",
     "timestamp": 1612180225180
    },
    {
     "file_id": "1zCZRt1dLd-ODKVmUQbXk6BKSxZolU7kR",
     "timestamp": 1611993566584
    },
    {
     "file_id": "1pxfKL8b_q3fVDhmjffKvrlITz7uYkZbq",
     "timestamp": 1611841178308
    }
   ]
  },
  "kernelspec": {
   "display_name": "Python 3",
   "language": "python",
   "name": "python3"
  },
  "language_info": {
   "codemirror_mode": {
    "name": "ipython",
    "version": 3
   },
   "file_extension": ".py",
   "mimetype": "text/x-python",
   "name": "python",
   "nbconvert_exporter": "python",
   "pygments_lexer": "ipython3",
   "version": "3.10.5"
  }
 },
 "nbformat": 4,
 "nbformat_minor": 1
}
