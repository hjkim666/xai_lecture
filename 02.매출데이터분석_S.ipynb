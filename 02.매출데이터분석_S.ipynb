{
 "cells": [
  {
   "attachments": {},
   "cell_type": "markdown",
   "metadata": {},
   "source": [
    "### WORKSHOP 매출데이터 분석"
   ]
  },
  {
   "cell_type": "code",
   "execution_count": 70,
   "metadata": {
    "id": "TIjkxorVPFLP"
   },
   "outputs": [],
   "source": [
    "\n",
    "import pandas as pd                   # 데이터 분석을 위한 모듈\n",
    "import numpy as np                    #데이터 분석을 위한 모듈\n",
    "import matplotlib.pyplot as plt       # 데이터 시각화를 위한 기본 모듈\n",
    "import seaborn as sns                 # 데이터 시각화를 위한 추가 모듈\n",
    "plt.rcParams['font.family'] = 'Malgun Gothic'    # 시각화를 위한 한글 폰트 지정\n"
   ]
  },
  {
   "cell_type": "code",
   "execution_count": 71,
   "metadata": {
    "colab": {
     "base_uri": "https://localhost:8080/",
     "height": 240
    },
    "id": "KhaU83RVPFLQ",
    "outputId": "d52b2556-7a4b-4136-e87a-5d0acadb0c99"
   },
   "outputs": [
    {
     "data": {
      "text/html": [
       "<div>\n",
       "<style scoped>\n",
       "    .dataframe tbody tr th:only-of-type {\n",
       "        vertical-align: middle;\n",
       "    }\n",
       "\n",
       "    .dataframe tbody tr th {\n",
       "        vertical-align: top;\n",
       "    }\n",
       "\n",
       "    .dataframe thead th {\n",
       "        text-align: right;\n",
       "    }\n",
       "</style>\n",
       "<table border=\"1\" class=\"dataframe\">\n",
       "  <thead>\n",
       "    <tr style=\"text-align: right;\">\n",
       "      <th></th>\n",
       "      <th>주문번호</th>\n",
       "      <th>연도</th>\n",
       "      <th>월</th>\n",
       "      <th>일</th>\n",
       "      <th>시간</th>\n",
       "      <th>제품대분류</th>\n",
       "      <th>제품중분류</th>\n",
       "      <th>제품소분류</th>\n",
       "      <th>브랜드</th>\n",
       "      <th>금액</th>\n",
       "      <th>고객번호</th>\n",
       "    </tr>\n",
       "  </thead>\n",
       "  <tbody>\n",
       "    <tr>\n",
       "      <th>0</th>\n",
       "      <td>2294359932054536986</td>\n",
       "      <td>2020</td>\n",
       "      <td>4</td>\n",
       "      <td>Friday</td>\n",
       "      <td>20</td>\n",
       "      <td>electronics</td>\n",
       "      <td>tablet</td>\n",
       "      <td>NaN</td>\n",
       "      <td>samsung</td>\n",
       "      <td>162.01</td>\n",
       "      <td>25441993984</td>\n",
       "    </tr>\n",
       "    <tr>\n",
       "      <th>1</th>\n",
       "      <td>2294359932054536986</td>\n",
       "      <td>2020</td>\n",
       "      <td>4</td>\n",
       "      <td>Friday</td>\n",
       "      <td>20</td>\n",
       "      <td>electronics</td>\n",
       "      <td>tablet</td>\n",
       "      <td>NaN</td>\n",
       "      <td>samsung</td>\n",
       "      <td>162.01</td>\n",
       "      <td>25441993984</td>\n",
       "    </tr>\n",
       "    <tr>\n",
       "      <th>2</th>\n",
       "      <td>2294444024058086220</td>\n",
       "      <td>2020</td>\n",
       "      <td>4</td>\n",
       "      <td>Friday</td>\n",
       "      <td>23</td>\n",
       "      <td>electronics</td>\n",
       "      <td>audio</td>\n",
       "      <td>headphone</td>\n",
       "      <td>huawei</td>\n",
       "      <td>77.52</td>\n",
       "      <td>25447879424</td>\n",
       "    </tr>\n",
       "    <tr>\n",
       "      <th>3</th>\n",
       "      <td>2294444024058086220</td>\n",
       "      <td>2020</td>\n",
       "      <td>4</td>\n",
       "      <td>Friday</td>\n",
       "      <td>23</td>\n",
       "      <td>electronics</td>\n",
       "      <td>audio</td>\n",
       "      <td>headphone</td>\n",
       "      <td>huawei</td>\n",
       "      <td>77.52</td>\n",
       "      <td>25447879424</td>\n",
       "    </tr>\n",
       "    <tr>\n",
       "      <th>4</th>\n",
       "      <td>2295716521449619559</td>\n",
       "      <td>2020</td>\n",
       "      <td>4</td>\n",
       "      <td>Sunday</td>\n",
       "      <td>17</td>\n",
       "      <td>furniture</td>\n",
       "      <td>kitchen</td>\n",
       "      <td>table</td>\n",
       "      <td>maestro</td>\n",
       "      <td>39.33</td>\n",
       "      <td>25450382848</td>\n",
       "    </tr>\n",
       "  </tbody>\n",
       "</table>\n",
       "</div>"
      ],
      "text/plain": [
       "                  주문번호    연도  월       일  시간        제품대분류    제품중분류      제품소분류  \\\n",
       "0  2294359932054536986  2020  4  Friday  20  electronics   tablet        NaN   \n",
       "1  2294359932054536986  2020  4  Friday  20  electronics   tablet        NaN   \n",
       "2  2294444024058086220  2020  4  Friday  23  electronics    audio  headphone   \n",
       "3  2294444024058086220  2020  4  Friday  23  electronics    audio  headphone   \n",
       "4  2295716521449619559  2020  4  Sunday  17    furniture  kitchen      table   \n",
       "\n",
       "       브랜드      금액         고객번호  \n",
       "0  samsung  162.01  25441993984  \n",
       "1  samsung  162.01  25441993984  \n",
       "2   huawei   77.52  25447879424  \n",
       "3   huawei   77.52  25447879424  \n",
       "4  maestro   39.33  25450382848  "
      ]
     },
     "execution_count": 71,
     "metadata": {},
     "output_type": "execute_result"
    }
   ],
   "source": [
    "# 데이터를 메모리 읽어오기\n",
    "df = pd.read_csv('./dataset/purchase_history.csv', encoding='cp949', sep=';', low_memory=False)\n",
    "df.head()"
   ]
  },
  {
   "cell_type": "code",
   "execution_count": 3,
   "metadata": {},
   "outputs": [
    {
     "name": "stdout",
     "output_type": "stream",
     "text": [
      "<class 'pandas.core.frame.DataFrame'>\n",
      "RangeIndex: 1589365 entries, 0 to 1589364\n",
      "Data columns (total 11 columns):\n",
      " #   Column  Non-Null Count    Dtype  \n",
      "---  ------  --------------    -----  \n",
      " 0   주문번호    1589365 non-null  int64  \n",
      " 1   연도      1589365 non-null  int64  \n",
      " 2   월       1589365 non-null  int64  \n",
      " 3   일       1589365 non-null  object \n",
      " 4   시간      1589365 non-null  int64  \n",
      " 5   제품대분류   1589365 non-null  object \n",
      " 6   제품중분류   1589365 non-null  object \n",
      " 7   제품소분류   983269 non-null   object \n",
      " 8   브랜드     1589365 non-null  object \n",
      " 9   금액      1589365 non-null  float64\n",
      " 10  고객번호    1589365 non-null  object \n",
      "dtypes: float64(1), int64(4), object(6)\n",
      "memory usage: 133.4+ MB\n"
     ]
    }
   ],
   "source": [
    "# 데이터프레임의 정보를 출력하세요. \n",
    "df.info()"
   ]
  },
  {
   "cell_type": "code",
   "execution_count": 72,
   "metadata": {
    "colab": {
     "base_uri": "https://localhost:8080/",
     "height": 419
    },
    "id": "BJqi3lFzMBON",
    "outputId": "41b38505-56a4-4f2c-8f8d-a79cb42ca07e"
   },
   "outputs": [
    {
     "data": {
      "text/html": [
       "<div>\n",
       "<style scoped>\n",
       "    .dataframe tbody tr th:only-of-type {\n",
       "        vertical-align: middle;\n",
       "    }\n",
       "\n",
       "    .dataframe tbody tr th {\n",
       "        vertical-align: top;\n",
       "    }\n",
       "\n",
       "    .dataframe thead th {\n",
       "        text-align: right;\n",
       "    }\n",
       "</style>\n",
       "<table border=\"1\" class=\"dataframe\">\n",
       "  <thead>\n",
       "    <tr style=\"text-align: right;\">\n",
       "      <th></th>\n",
       "      <th>주문번호</th>\n",
       "      <th>연도</th>\n",
       "      <th>월</th>\n",
       "      <th>일</th>\n",
       "      <th>시간</th>\n",
       "      <th>제품대분류</th>\n",
       "      <th>제품중분류</th>\n",
       "      <th>제품소분류</th>\n",
       "      <th>브랜드</th>\n",
       "      <th>금액</th>\n",
       "      <th>고객번호</th>\n",
       "    </tr>\n",
       "  </thead>\n",
       "  <tbody>\n",
       "    <tr>\n",
       "      <th>0</th>\n",
       "      <td>2294359932054536986</td>\n",
       "      <td>2020</td>\n",
       "      <td>4</td>\n",
       "      <td>Friday</td>\n",
       "      <td>20</td>\n",
       "      <td>electronics</td>\n",
       "      <td>tablet</td>\n",
       "      <td>NaN</td>\n",
       "      <td>samsung</td>\n",
       "      <td>162</td>\n",
       "      <td>25441993984</td>\n",
       "    </tr>\n",
       "    <tr>\n",
       "      <th>1</th>\n",
       "      <td>2294359932054536986</td>\n",
       "      <td>2020</td>\n",
       "      <td>4</td>\n",
       "      <td>Friday</td>\n",
       "      <td>20</td>\n",
       "      <td>electronics</td>\n",
       "      <td>tablet</td>\n",
       "      <td>NaN</td>\n",
       "      <td>samsung</td>\n",
       "      <td>162</td>\n",
       "      <td>25441993984</td>\n",
       "    </tr>\n",
       "    <tr>\n",
       "      <th>2</th>\n",
       "      <td>2294444024058086220</td>\n",
       "      <td>2020</td>\n",
       "      <td>4</td>\n",
       "      <td>Friday</td>\n",
       "      <td>23</td>\n",
       "      <td>electronics</td>\n",
       "      <td>audio</td>\n",
       "      <td>headphone</td>\n",
       "      <td>huawei</td>\n",
       "      <td>77</td>\n",
       "      <td>25447879424</td>\n",
       "    </tr>\n",
       "    <tr>\n",
       "      <th>3</th>\n",
       "      <td>2294444024058086220</td>\n",
       "      <td>2020</td>\n",
       "      <td>4</td>\n",
       "      <td>Friday</td>\n",
       "      <td>23</td>\n",
       "      <td>electronics</td>\n",
       "      <td>audio</td>\n",
       "      <td>headphone</td>\n",
       "      <td>huawei</td>\n",
       "      <td>77</td>\n",
       "      <td>25447879424</td>\n",
       "    </tr>\n",
       "    <tr>\n",
       "      <th>4</th>\n",
       "      <td>2295716521449619559</td>\n",
       "      <td>2020</td>\n",
       "      <td>4</td>\n",
       "      <td>Sunday</td>\n",
       "      <td>17</td>\n",
       "      <td>furniture</td>\n",
       "      <td>kitchen</td>\n",
       "      <td>table</td>\n",
       "      <td>maestro</td>\n",
       "      <td>39</td>\n",
       "      <td>25450382848</td>\n",
       "    </tr>\n",
       "    <tr>\n",
       "      <th>...</th>\n",
       "      <td>...</td>\n",
       "      <td>...</td>\n",
       "      <td>...</td>\n",
       "      <td>...</td>\n",
       "      <td>...</td>\n",
       "      <td>...</td>\n",
       "      <td>...</td>\n",
       "      <td>...</td>\n",
       "      <td>...</td>\n",
       "      <td>...</td>\n",
       "      <td>...</td>\n",
       "    </tr>\n",
       "    <tr>\n",
       "      <th>1589360</th>\n",
       "      <td>2388440981134693941</td>\n",
       "      <td>2020</td>\n",
       "      <td>11</td>\n",
       "      <td>Saturday</td>\n",
       "      <td>19</td>\n",
       "      <td>electronics</td>\n",
       "      <td>video</td>\n",
       "      <td>tv</td>\n",
       "      <td>lg</td>\n",
       "      <td>370</td>\n",
       "      <td>25513809920</td>\n",
       "    </tr>\n",
       "    <tr>\n",
       "      <th>1589361</th>\n",
       "      <td>2388440981134693942</td>\n",
       "      <td>2020</td>\n",
       "      <td>11</td>\n",
       "      <td>Saturday</td>\n",
       "      <td>19</td>\n",
       "      <td>electronics</td>\n",
       "      <td>smartphone</td>\n",
       "      <td>NaN</td>\n",
       "      <td>oppo</td>\n",
       "      <td>138</td>\n",
       "      <td>25514888704</td>\n",
       "    </tr>\n",
       "    <tr>\n",
       "      <th>1589362</th>\n",
       "      <td>2388440981134693943</td>\n",
       "      <td>2020</td>\n",
       "      <td>11</td>\n",
       "      <td>Saturday</td>\n",
       "      <td>19</td>\n",
       "      <td>electronics</td>\n",
       "      <td>smartphone</td>\n",
       "      <td>NaN</td>\n",
       "      <td>apple</td>\n",
       "      <td>418</td>\n",
       "      <td>25514891264</td>\n",
       "    </tr>\n",
       "    <tr>\n",
       "      <th>1589363</th>\n",
       "      <td>2388440981134693944</td>\n",
       "      <td>2020</td>\n",
       "      <td>11</td>\n",
       "      <td>Saturday</td>\n",
       "      <td>19</td>\n",
       "      <td>appliances</td>\n",
       "      <td>personal</td>\n",
       "      <td>scales</td>\n",
       "      <td>vitek</td>\n",
       "      <td>12</td>\n",
       "      <td>25514834176</td>\n",
       "    </tr>\n",
       "    <tr>\n",
       "      <th>1589364</th>\n",
       "      <td>2388440981134693944</td>\n",
       "      <td>2020</td>\n",
       "      <td>11</td>\n",
       "      <td>Saturday</td>\n",
       "      <td>19</td>\n",
       "      <td>appliances</td>\n",
       "      <td>kitchen</td>\n",
       "      <td>blender</td>\n",
       "      <td>redmond</td>\n",
       "      <td>53</td>\n",
       "      <td>25514834176</td>\n",
       "    </tr>\n",
       "  </tbody>\n",
       "</table>\n",
       "<p>1589365 rows × 11 columns</p>\n",
       "</div>"
      ],
      "text/plain": [
       "                        주문번호    연도   월         일  시간        제품대분류       제품중분류  \\\n",
       "0        2294359932054536986  2020   4    Friday  20  electronics      tablet   \n",
       "1        2294359932054536986  2020   4    Friday  20  electronics      tablet   \n",
       "2        2294444024058086220  2020   4    Friday  23  electronics       audio   \n",
       "3        2294444024058086220  2020   4    Friday  23  electronics       audio   \n",
       "4        2295716521449619559  2020   4    Sunday  17    furniture     kitchen   \n",
       "...                      ...   ...  ..       ...  ..          ...         ...   \n",
       "1589360  2388440981134693941  2020  11  Saturday  19  electronics       video   \n",
       "1589361  2388440981134693942  2020  11  Saturday  19  electronics  smartphone   \n",
       "1589362  2388440981134693943  2020  11  Saturday  19  electronics  smartphone   \n",
       "1589363  2388440981134693944  2020  11  Saturday  19   appliances    personal   \n",
       "1589364  2388440981134693944  2020  11  Saturday  19   appliances     kitchen   \n",
       "\n",
       "             제품소분류      브랜드   금액         고객번호  \n",
       "0              NaN  samsung  162  25441993984  \n",
       "1              NaN  samsung  162  25441993984  \n",
       "2        headphone   huawei   77  25447879424  \n",
       "3        headphone   huawei   77  25447879424  \n",
       "4            table  maestro   39  25450382848  \n",
       "...            ...      ...  ...          ...  \n",
       "1589360         tv       lg  370  25513809920  \n",
       "1589361        NaN     oppo  138  25514888704  \n",
       "1589362        NaN    apple  418  25514891264  \n",
       "1589363     scales    vitek   12  25514834176  \n",
       "1589364    blender  redmond   53  25514834176  \n",
       "\n",
       "[1589365 rows x 11 columns]"
      ]
     },
     "execution_count": 72,
     "metadata": {},
     "output_type": "execute_result"
    }
   ],
   "source": [
    "# 데이터 전처리 : 금액을 정수형으로 변환한다.\n",
    "df['금액']=df['금액'].astype('int')\n",
    "df"
   ]
  },
  {
   "cell_type": "code",
   "execution_count": 8,
   "metadata": {},
   "outputs": [
    {
     "name": "stdout",
     "output_type": "stream",
     "text": [
      "<class 'pandas.core.frame.DataFrame'>\n",
      "RangeIndex: 1589365 entries, 0 to 1589364\n",
      "Data columns (total 11 columns):\n",
      " #   Column  Non-Null Count    Dtype \n",
      "---  ------  --------------    ----- \n",
      " 0   주문번호    1589365 non-null  int64 \n",
      " 1   연도      1589365 non-null  int64 \n",
      " 2   월       1589365 non-null  int64 \n",
      " 3   일       1589365 non-null  object\n",
      " 4   시간      1589365 non-null  int64 \n",
      " 5   제품대분류   1589365 non-null  object\n",
      " 6   제품중분류   1589365 non-null  object\n",
      " 7   제품소분류   983269 non-null   object\n",
      " 8   브랜드     1589365 non-null  object\n",
      " 9   금액      1589365 non-null  int32 \n",
      " 10  고객번호    1589365 non-null  object\n",
      "dtypes: int32(1), int64(4), object(6)\n",
      "memory usage: 127.3+ MB\n"
     ]
    }
   ],
   "source": [
    "# 다시한번 데이터 프레임의 정보를 출력하세요. \n",
    "df.info()"
   ]
  },
  {
   "cell_type": "code",
   "execution_count": 5,
   "metadata": {},
   "outputs": [
    {
     "data": {
      "text/plain": [
       "Index(['주문번호', '연도', '월', '일', '시간', '제품대분류', '제품중분류', '제품소분류', '브랜드', '금액',\n",
       "       '고객번호'],\n",
       "      dtype='object')"
      ]
     },
     "execution_count": 5,
     "metadata": {},
     "output_type": "execute_result"
    }
   ],
   "source": [
    "df.columns"
   ]
  },
  {
   "cell_type": "code",
   "execution_count": 6,
   "metadata": {},
   "outputs": [
    {
     "data": {
      "text/plain": [
       "RangeIndex(start=0, stop=1589365, step=1)"
      ]
     },
     "execution_count": 6,
     "metadata": {},
     "output_type": "execute_result"
    }
   ],
   "source": [
    "df.index"
   ]
  },
  {
   "cell_type": "code",
   "execution_count": 7,
   "metadata": {},
   "outputs": [
    {
     "data": {
      "text/plain": [
       "(1589365, 11)"
      ]
     },
     "execution_count": 7,
     "metadata": {},
     "output_type": "execute_result"
    }
   ],
   "source": [
    "df.shape"
   ]
  },
  {
   "attachments": {},
   "cell_type": "markdown",
   "metadata": {},
   "source": [
    "### 데이터탐색"
   ]
  },
  {
   "cell_type": "code",
   "execution_count": 9,
   "metadata": {
    "colab": {
     "base_uri": "https://localhost:8080/"
    },
    "id": "qZe-uIUYPFLR",
    "outputId": "f92ac9ad-fe8e-43d6-892b-289b7d9ba189",
    "scrolled": false
   },
   "outputs": [
    {
     "data": {
      "text/plain": [
       "주문번호\n",
       "2348807739909603922    36\n",
       "2353231151759360114    23\n",
       "2353253137906664153    22\n",
       "2348776417442922708    21\n",
       "2353292714990109332    21\n",
       "                       ..\n",
       "2348786266062979769     1\n",
       "2353258051416359778     1\n",
       "2353258051567354723     1\n",
       "2353258051684795236     1\n",
       "2353265093426282757     1\n",
       "Name: count, Length: 1168413, dtype: int64"
      ]
     },
     "execution_count": 9,
     "metadata": {},
     "output_type": "execute_result"
    }
   ],
   "source": [
    "# 주문별 상품 구매 건수를 계산합니다.\n",
    "df['주문번호'].value_counts()"
   ]
  },
  {
   "cell_type": "code",
   "execution_count": 10,
   "metadata": {},
   "outputs": [
    {
     "data": {
      "text/plain": [
       "0.027418387162758375"
      ]
     },
     "execution_count": 10,
     "metadata": {},
     "output_type": "execute_result"
    }
   ],
   "source": [
    "# 3건이상 동시에 주문하는 건수에 대해 전체건수대비(위에서 구한건수) 비율을 구하세요. \n",
    "# 3건이상 동시주문건수 / 전체건수 \n",
    "orderno = df['주문번호'].value_counts()\n",
    "orderno[orderno > 3].shape[0]/orderno.shape[0]"
   ]
  },
  {
   "cell_type": "code",
   "execution_count": 11,
   "metadata": {},
   "outputs": [
    {
     "data": {
      "text/plain": [
       "연도\n",
       "2020    1578791\n",
       "1970      10574\n",
       "Name: count, dtype: int64"
      ]
     },
     "execution_count": 11,
     "metadata": {},
     "output_type": "execute_result"
    }
   ],
   "source": [
    "# 연도별 상품 구매 건수를 계산합니다.\t\n",
    "df['연도'].value_counts()"
   ]
  },
  {
   "cell_type": "code",
   "execution_count": 12,
   "metadata": {},
   "outputs": [
    {
     "data": {
      "text/plain": [
       "Index([22750, 22751, 22752, 22753, 22754, 22755, 22756, 22757, 22758, 22759,\n",
       "       ...\n",
       "       39109, 39110, 39111, 39112, 39113, 39114, 39115, 39116, 39117, 39118],\n",
       "      dtype='int64', length=10574)"
      ]
     },
     "execution_count": 12,
     "metadata": {},
     "output_type": "execute_result"
    }
   ],
   "source": [
    "# 위에서 구한 연도별 상품구매건수를 보면 1970년이라는 비현실적인 데이터가 들어가 있습니다. \n",
    "# 1970년 데이터를 모두 지우려고 합니다. \n",
    "# 1970년도에 해당하는 데이터의 인덱스를 구하세요. \n",
    "\n",
    "idx1970 = df.loc[df.연도 == 1970].index\n",
    "idx1970"
   ]
  },
  {
   "cell_type": "code",
   "execution_count": 13,
   "metadata": {},
   "outputs": [
    {
     "data": {
      "text/html": [
       "<div>\n",
       "<style scoped>\n",
       "    .dataframe tbody tr th:only-of-type {\n",
       "        vertical-align: middle;\n",
       "    }\n",
       "\n",
       "    .dataframe tbody tr th {\n",
       "        vertical-align: top;\n",
       "    }\n",
       "\n",
       "    .dataframe thead th {\n",
       "        text-align: right;\n",
       "    }\n",
       "</style>\n",
       "<table border=\"1\" class=\"dataframe\">\n",
       "  <thead>\n",
       "    <tr style=\"text-align: right;\">\n",
       "      <th></th>\n",
       "      <th>주문번호</th>\n",
       "      <th>연도</th>\n",
       "      <th>월</th>\n",
       "      <th>일</th>\n",
       "      <th>시간</th>\n",
       "      <th>제품대분류</th>\n",
       "      <th>제품중분류</th>\n",
       "      <th>제품소분류</th>\n",
       "      <th>브랜드</th>\n",
       "      <th>금액</th>\n",
       "      <th>고객번호</th>\n",
       "    </tr>\n",
       "  </thead>\n",
       "  <tbody>\n",
       "    <tr>\n",
       "      <th>0</th>\n",
       "      <td>2294359932054536986</td>\n",
       "      <td>2020</td>\n",
       "      <td>4</td>\n",
       "      <td>Friday</td>\n",
       "      <td>20</td>\n",
       "      <td>electronics</td>\n",
       "      <td>tablet</td>\n",
       "      <td>NaN</td>\n",
       "      <td>samsung</td>\n",
       "      <td>162</td>\n",
       "      <td>25441993984</td>\n",
       "    </tr>\n",
       "    <tr>\n",
       "      <th>1</th>\n",
       "      <td>2294359932054536986</td>\n",
       "      <td>2020</td>\n",
       "      <td>4</td>\n",
       "      <td>Friday</td>\n",
       "      <td>20</td>\n",
       "      <td>electronics</td>\n",
       "      <td>tablet</td>\n",
       "      <td>NaN</td>\n",
       "      <td>samsung</td>\n",
       "      <td>162</td>\n",
       "      <td>25441993984</td>\n",
       "    </tr>\n",
       "    <tr>\n",
       "      <th>2</th>\n",
       "      <td>2294444024058086220</td>\n",
       "      <td>2020</td>\n",
       "      <td>4</td>\n",
       "      <td>Friday</td>\n",
       "      <td>23</td>\n",
       "      <td>electronics</td>\n",
       "      <td>audio</td>\n",
       "      <td>headphone</td>\n",
       "      <td>huawei</td>\n",
       "      <td>77</td>\n",
       "      <td>25447879424</td>\n",
       "    </tr>\n",
       "    <tr>\n",
       "      <th>3</th>\n",
       "      <td>2294444024058086220</td>\n",
       "      <td>2020</td>\n",
       "      <td>4</td>\n",
       "      <td>Friday</td>\n",
       "      <td>23</td>\n",
       "      <td>electronics</td>\n",
       "      <td>audio</td>\n",
       "      <td>headphone</td>\n",
       "      <td>huawei</td>\n",
       "      <td>77</td>\n",
       "      <td>25447879424</td>\n",
       "    </tr>\n",
       "    <tr>\n",
       "      <th>4</th>\n",
       "      <td>2295716521449619559</td>\n",
       "      <td>2020</td>\n",
       "      <td>4</td>\n",
       "      <td>Sunday</td>\n",
       "      <td>17</td>\n",
       "      <td>furniture</td>\n",
       "      <td>kitchen</td>\n",
       "      <td>table</td>\n",
       "      <td>maestro</td>\n",
       "      <td>39</td>\n",
       "      <td>25450382848</td>\n",
       "    </tr>\n",
       "    <tr>\n",
       "      <th>...</th>\n",
       "      <td>...</td>\n",
       "      <td>...</td>\n",
       "      <td>...</td>\n",
       "      <td>...</td>\n",
       "      <td>...</td>\n",
       "      <td>...</td>\n",
       "      <td>...</td>\n",
       "      <td>...</td>\n",
       "      <td>...</td>\n",
       "      <td>...</td>\n",
       "      <td>...</td>\n",
       "    </tr>\n",
       "    <tr>\n",
       "      <th>1589360</th>\n",
       "      <td>2388440981134693941</td>\n",
       "      <td>2020</td>\n",
       "      <td>11</td>\n",
       "      <td>Saturday</td>\n",
       "      <td>19</td>\n",
       "      <td>electronics</td>\n",
       "      <td>video</td>\n",
       "      <td>tv</td>\n",
       "      <td>lg</td>\n",
       "      <td>370</td>\n",
       "      <td>25513809920</td>\n",
       "    </tr>\n",
       "    <tr>\n",
       "      <th>1589361</th>\n",
       "      <td>2388440981134693942</td>\n",
       "      <td>2020</td>\n",
       "      <td>11</td>\n",
       "      <td>Saturday</td>\n",
       "      <td>19</td>\n",
       "      <td>electronics</td>\n",
       "      <td>smartphone</td>\n",
       "      <td>NaN</td>\n",
       "      <td>oppo</td>\n",
       "      <td>138</td>\n",
       "      <td>25514888704</td>\n",
       "    </tr>\n",
       "    <tr>\n",
       "      <th>1589362</th>\n",
       "      <td>2388440981134693943</td>\n",
       "      <td>2020</td>\n",
       "      <td>11</td>\n",
       "      <td>Saturday</td>\n",
       "      <td>19</td>\n",
       "      <td>electronics</td>\n",
       "      <td>smartphone</td>\n",
       "      <td>NaN</td>\n",
       "      <td>apple</td>\n",
       "      <td>418</td>\n",
       "      <td>25514891264</td>\n",
       "    </tr>\n",
       "    <tr>\n",
       "      <th>1589363</th>\n",
       "      <td>2388440981134693944</td>\n",
       "      <td>2020</td>\n",
       "      <td>11</td>\n",
       "      <td>Saturday</td>\n",
       "      <td>19</td>\n",
       "      <td>appliances</td>\n",
       "      <td>personal</td>\n",
       "      <td>scales</td>\n",
       "      <td>vitek</td>\n",
       "      <td>12</td>\n",
       "      <td>25514834176</td>\n",
       "    </tr>\n",
       "    <tr>\n",
       "      <th>1589364</th>\n",
       "      <td>2388440981134693944</td>\n",
       "      <td>2020</td>\n",
       "      <td>11</td>\n",
       "      <td>Saturday</td>\n",
       "      <td>19</td>\n",
       "      <td>appliances</td>\n",
       "      <td>kitchen</td>\n",
       "      <td>blender</td>\n",
       "      <td>redmond</td>\n",
       "      <td>53</td>\n",
       "      <td>25514834176</td>\n",
       "    </tr>\n",
       "  </tbody>\n",
       "</table>\n",
       "<p>1578791 rows × 11 columns</p>\n",
       "</div>"
      ],
      "text/plain": [
       "                        주문번호    연도   월         일  시간        제품대분류       제품중분류  \\\n",
       "0        2294359932054536986  2020   4    Friday  20  electronics      tablet   \n",
       "1        2294359932054536986  2020   4    Friday  20  electronics      tablet   \n",
       "2        2294444024058086220  2020   4    Friday  23  electronics       audio   \n",
       "3        2294444024058086220  2020   4    Friday  23  electronics       audio   \n",
       "4        2295716521449619559  2020   4    Sunday  17    furniture     kitchen   \n",
       "...                      ...   ...  ..       ...  ..          ...         ...   \n",
       "1589360  2388440981134693941  2020  11  Saturday  19  electronics       video   \n",
       "1589361  2388440981134693942  2020  11  Saturday  19  electronics  smartphone   \n",
       "1589362  2388440981134693943  2020  11  Saturday  19  electronics  smartphone   \n",
       "1589363  2388440981134693944  2020  11  Saturday  19   appliances    personal   \n",
       "1589364  2388440981134693944  2020  11  Saturday  19   appliances     kitchen   \n",
       "\n",
       "             제품소분류      브랜드   금액         고객번호  \n",
       "0              NaN  samsung  162  25441993984  \n",
       "1              NaN  samsung  162  25441993984  \n",
       "2        headphone   huawei   77  25447879424  \n",
       "3        headphone   huawei   77  25447879424  \n",
       "4            table  maestro   39  25450382848  \n",
       "...            ...      ...  ...          ...  \n",
       "1589360         tv       lg  370  25513809920  \n",
       "1589361        NaN     oppo  138  25514888704  \n",
       "1589362        NaN    apple  418  25514891264  \n",
       "1589363     scales    vitek   12  25514834176  \n",
       "1589364    blender  redmond   53  25514834176  \n",
       "\n",
       "[1578791 rows x 11 columns]"
      ]
     },
     "execution_count": 13,
     "metadata": {},
     "output_type": "execute_result"
    }
   ],
   "source": [
    "# 위에서 구한 idx1970 데이터를 삭제하세요. \n",
    "df.drop(idx1970, inplace=True)\n",
    "df"
   ]
  },
  {
   "cell_type": "code",
   "execution_count": 14,
   "metadata": {},
   "outputs": [
    {
     "data": {
      "text/plain": [
       "월\n",
       "1     139783\n",
       "2     171934\n",
       "3     178217\n",
       "4      42919\n",
       "5     138053\n",
       "6     234436\n",
       "7     116881\n",
       "8     208202\n",
       "9     222483\n",
       "10     77433\n",
       "11     48450\n",
       "Name: count, dtype: int64"
      ]
     },
     "execution_count": 14,
     "metadata": {},
     "output_type": "execute_result"
    }
   ],
   "source": [
    "# 월별 상품 구매 건수를 계산합니다.\t\n",
    "df['월'].value_counts().sort_index() "
   ]
  },
  {
   "cell_type": "code",
   "execution_count": 15,
   "metadata": {},
   "outputs": [
    {
     "data": {
      "image/png": "[encoded data removed]",
      "text/plain": [
       "<Figure size 640x480 with 1 Axes>"
      ]
     },
     "metadata": {},
     "output_type": "display_data"
    }
   ],
   "source": [
    "# 위에서 구한 월별 상품 구매 건수를 막대그래프로 시각화해보세요. \n",
    "# 판다스의 시각화 기능을 이용하세요. \n",
    "df['월'].value_counts().sort_index().plot.bar()\n",
    "plt.show()"
   ]
  },
  {
   "cell_type": "code",
   "execution_count": 16,
   "metadata": {},
   "outputs": [
    {
     "data": {
      "text/plain": [
       "일\n",
       "Saturday     240304\n",
       "Friday       232417\n",
       "Tuesday      230571\n",
       "Sunday       224254\n",
       "Monday       222162\n",
       "Wednesday    218808\n",
       "Thursday     210275\n",
       "Name: count, dtype: int64"
      ]
     },
     "execution_count": 16,
     "metadata": {},
     "output_type": "execute_result"
    }
   ],
   "source": [
    "#일별 상품 구매건수를 계산합니다. \n",
    "df['일'].value_counts()"
   ]
  },
  {
   "cell_type": "code",
   "execution_count": 17,
   "metadata": {},
   "outputs": [
    {
     "data": {
      "text/plain": [
       "<Axes: xlabel='일'>"
      ]
     },
     "execution_count": 17,
     "metadata": {},
     "output_type": "execute_result"
    },
    {
     "data": {
      "image/png": "[encoded data removed]",
      "text/plain": [
       "<Figure size 640x480 with 1 Axes>"
      ]
     },
     "metadata": {},
     "output_type": "display_data"
    }
   ],
   "source": [
    "#일별 상품 구매건수에 대해 막대그래프로 시각화하세요. \n",
    "\n",
    "df['일'].value_counts().plot.bar()"
   ]
  },
  {
   "cell_type": "code",
   "execution_count": 18,
   "metadata": {},
   "outputs": [
    {
     "data": {
      "text/plain": [
       "시간\n",
       "0      32081\n",
       "1      16082\n",
       "2       9764\n",
       "3       7465\n",
       "4       3943\n",
       "5       2678\n",
       "6       1930\n",
       "7       2228\n",
       "8       2586\n",
       "9       2896\n",
       "10      4240\n",
       "11      6765\n",
       "12     15349\n",
       "13     65270\n",
       "14    122532\n",
       "15    150183\n",
       "16    161493\n",
       "17    162514\n",
       "18    172519\n",
       "19    178700\n",
       "20    162915\n",
       "21    132606\n",
       "22    103803\n",
       "23     58249\n",
       "Name: count, dtype: int64"
      ]
     },
     "execution_count": 18,
     "metadata": {},
     "output_type": "execute_result"
    }
   ],
   "source": [
    "#시간별 구매건수를 계산합니다.\n",
    "df['시간'].value_counts().sort_index()\t"
   ]
  },
  {
   "cell_type": "code",
   "execution_count": 19,
   "metadata": {},
   "outputs": [
    {
     "data": {
      "text/plain": [
       "<Axes: xlabel='시간'>"
      ]
     },
     "execution_count": 19,
     "metadata": {},
     "output_type": "execute_result"
    },
    {
     "data": {
      "image/png": "[encoded data removed]",
      "text/plain": [
       "<Figure size 640x480 with 1 Axes>"
      ]
     },
     "metadata": {},
     "output_type": "display_data"
    }
   ],
   "source": [
    "# 위에서 구한 시간별 구매건수에 대해 시각화 하세요. \n",
    "\n",
    "df['시간'].value_counts().sort_index().plot.bar()"
   ]
  },
  {
   "cell_type": "code",
   "execution_count": 20,
   "metadata": {},
   "outputs": [
    {
     "data": {
      "text/plain": [
       "제품대분류\n",
       "appliances      605613\n",
       "electronics     544564\n",
       "computers       221388\n",
       "furniture       120477\n",
       "stationery       39280\n",
       "accessories      13520\n",
       "construction     12533\n",
       "apparel           7634\n",
       "kids              4981\n",
       "medicine          3363\n",
       "auto              3232\n",
       "sport             1891\n",
       "country_yard       315\n",
       "Name: count, dtype: int64"
      ]
     },
     "execution_count": 20,
     "metadata": {},
     "output_type": "execute_result"
    }
   ],
   "source": [
    "#제품대분류별로 구매건수를 계산합니다. \n",
    "\n",
    "df['제품대분류'].value_counts()"
   ]
  },
  {
   "cell_type": "code",
   "execution_count": 21,
   "metadata": {},
   "outputs": [
    {
     "data": {
      "image/png": "[encoded data removed]",
      "text/plain": [
       "<Figure size 640x480 with 1 Axes>"
      ]
     },
     "metadata": {},
     "output_type": "display_data"
    }
   ],
   "source": [
    "# 제품별대분류별 구매건수에 대해 막대그래프로 시각화하세요. \n",
    "df['제품대분류'].value_counts().plot.bar()\n",
    "plt.show()"
   ]
  },
  {
   "cell_type": "code",
   "execution_count": 22,
   "metadata": {},
   "outputs": [
    {
     "data": {
      "text/plain": [
       "제품중분류\n",
       "kitchen            440478\n",
       "smartphone         354848\n",
       "environment        128287\n",
       "peripherals         79277\n",
       "video               71266\n",
       "notebook            71103\n",
       "audio               70404\n",
       "personal            50000\n",
       "components          43630\n",
       "iron                39928\n",
       "living_room         33264\n",
       "battery             24725\n",
       "network             23786\n",
       "tablet              19492\n",
       "bedroom             16214\n",
       "clocks              15809\n",
       "tools               15761\n",
       "bag                 13486\n",
       "telephone           11969\n",
       "cartrige            10685\n",
       "ironing_board        9462\n",
       "sewing_machine       7505\n",
       "glove                4606\n",
       "paper                3679\n",
       "accessories          3232\n",
       "desktop              2480\n",
       "skates               2359\n",
       "tshirt               1740\n",
       "toys                 1738\n",
       "bicycle              1445\n",
       "shirt                 961\n",
       "ebooks                878\n",
       "bathroom              769\n",
       "dolls                 748\n",
       "camera                733\n",
       "gaming                369\n",
       "trousers              297\n",
       "trainer               219\n",
       "tennis                197\n",
       "stapler               191\n",
       "lawn_mower            170\n",
       "steam_cleaner         161\n",
       "weather_station       101\n",
       "bottles                76\n",
       "calculator             43\n",
       "carriage               41\n",
       "cultivator             39\n",
       "umbrella               34\n",
       "sock                   26\n",
       "universal              22\n",
       "ski                    17\n",
       "fmcg                   11\n",
       "diving                 10\n",
       "swing                   8\n",
       "watering                5\n",
       "snowboard               3\n",
       "costume                 2\n",
       "shoes                   2\n",
       "Name: count, dtype: int64"
      ]
     },
     "execution_count": 22,
     "metadata": {},
     "output_type": "execute_result"
    }
   ],
   "source": [
    "# 제품중분류별로 구매 건수를 계산합니다. \n",
    "df['제품중분류'].value_counts()\t"
   ]
  },
  {
   "cell_type": "code",
   "execution_count": 23,
   "metadata": {},
   "outputs": [
    {
     "data": {
      "text/plain": [
       "<Axes: xlabel='제품중분류'>"
      ]
     },
     "execution_count": 23,
     "metadata": {},
     "output_type": "execute_result"
    },
    {
     "data": {
      "image/png": "[encoded data removed]",
      "text/plain": [
       "<Figure size 640x480 with 1 Axes>"
      ]
     },
     "metadata": {},
     "output_type": "display_data"
    }
   ],
   "source": [
    "# 제품중분류별로 구매 건수를 계산한 결과를 막대그래프로 시각화하세요. \n",
    "\n",
    "df['제품중분류'].value_counts().plot.bar()"
   ]
  },
  {
   "cell_type": "code",
   "execution_count": 24,
   "metadata": {},
   "outputs": [
    {
     "data": {
      "text/plain": [
       "<Axes: xlabel='제품중분류'>"
      ]
     },
     "execution_count": 24,
     "metadata": {},
     "output_type": "execute_result"
    },
    {
     "data": {
      "image/png": "[encoded data removed]",
      "text/plain": [
       "<Figure size 640x480 with 1 Axes>"
      ]
     },
     "metadata": {},
     "output_type": "display_data"
    }
   ],
   "source": [
    "#위에서 구한 제품중분류별 그래프의 x축값이 너무 많습니다. \n",
    "# 가장 구매가 많은 상위 15개 품목만 시각화 하세요. \n",
    "# rot=60 옵션을 이용하여 x축 눈금을 회전시키세요. \n",
    "\n",
    "df['제품중분류'].value_counts().head(15).plot.bar(rot=60)"
   ]
  },
  {
   "cell_type": "code",
   "execution_count": 25,
   "metadata": {},
   "outputs": [
    {
     "data": {
      "text/plain": [
       "제품소분류\n",
       "refrigerators    77023\n",
       "tv               70995\n",
       "vacuum           65983\n",
       "headphone        65650\n",
       "kettle           62309\n",
       "                 ...  \n",
       "toilet              54\n",
       "sound_card          43\n",
       "dictaphone          43\n",
       "light               33\n",
       "diapers             11\n",
       "Name: count, Length: 79, dtype: int64"
      ]
     },
     "execution_count": 25,
     "metadata": {},
     "output_type": "execute_result"
    }
   ],
   "source": [
    "# 제품소분류별로 구매건수를 계산합니다.\n",
    "df['제품소분류'].value_counts()\n"
   ]
  },
  {
   "cell_type": "code",
   "execution_count": 26,
   "metadata": {},
   "outputs": [
    {
     "data": {
      "image/png": "[encoded data removed]",
      "text/plain": [
       "<Figure size 1600x500 with 1 Axes>"
      ]
     },
     "metadata": {},
     "output_type": "display_data"
    }
   ],
   "source": [
    "#위에서 구한 제품소분류별 구매건수에 대해 막대그래프로 시각화하세요. \n",
    "# 그래프 영역의 크기를 (16, 5) 로 설정하세요. \n",
    "df['제품소분류'].value_counts().plot.bar(figsize=(16,5))\n",
    "plt.show()"
   ]
  },
  {
   "cell_type": "code",
   "execution_count": 27,
   "metadata": {},
   "outputs": [
    {
     "data": {
      "text/plain": [
       "브랜드\n",
       "samsung    326751\n",
       "ava         82154\n",
       "apple       70034\n",
       "tefal       63385\n",
       "NONAME      56872\n",
       "            ...  \n",
       "billna          1\n",
       "millet          1\n",
       "orion           1\n",
       "evere           1\n",
       "zevs            1\n",
       "Name: count, Length: 590, dtype: int64"
      ]
     },
     "execution_count": 27,
     "metadata": {},
     "output_type": "execute_result"
    }
   ],
   "source": [
    "#브랜드별로 구매건수를 계산합니다. \n",
    "df['브랜드'].value_counts()"
   ]
  },
  {
   "cell_type": "code",
   "execution_count": 28,
   "metadata": {},
   "outputs": [
    {
     "data": {
      "text/plain": [
       "<Axes: xlabel='브랜드'>"
      ]
     },
     "execution_count": 28,
     "metadata": {},
     "output_type": "execute_result"
    },
    {
     "data": {
      "image/png": "[encoded data removed]",
      "text/plain": [
       "<Figure size 640x480 with 1 Axes>"
      ]
     },
     "metadata": {},
     "output_type": "display_data"
    }
   ],
   "source": [
    "# 위에서 구한 브랜드별 구매건수를 막대그래프로 시각화 하세요. \n",
    "# 브랜드가 너무 많으니, 상위 30개만 뽑아 시각화 하세요. \n",
    "\n",
    "df['브랜드'].value_counts().head(30).plot.bar()"
   ]
  },
  {
   "attachments": {},
   "cell_type": "markdown",
   "metadata": {},
   "source": [
    "### 고객분석"
   ]
  },
  {
   "cell_type": "code",
   "execution_count": 29,
   "metadata": {
    "colab": {
     "base_uri": "https://localhost:8080/"
    },
    "id": "2-QnYEW8PFLS",
    "outputId": "a14af9f3-dee0-473b-d257-8cef3e3e180c",
    "scrolled": false
   },
   "outputs": [
    {
     "data": {
      "text/plain": [
       "고객번호\n",
       "NONAME         1144853\n",
       "25512763648        478\n",
       "25512763904        430\n",
       "25512817152        429\n",
       "25512422656        427\n",
       "                ...   \n",
       "25501795072          1\n",
       "25503706368          1\n",
       "25452319488          1\n",
       "25501298944          1\n",
       "25506494464          1\n",
       "Name: count, Length: 91607, dtype: int64"
      ]
     },
     "execution_count": 29,
     "metadata": {},
     "output_type": "execute_result"
    }
   ],
   "source": [
    "# 고객별(고객번호별) 주문 건수를 계산합니다.\n",
    "df['고객번호'].value_counts()"
   ]
  },
  {
   "cell_type": "code",
   "execution_count": 30,
   "metadata": {},
   "outputs": [
    {
     "data": {
      "text/plain": [
       "<Axes: xlabel='고객번호'>"
      ]
     },
     "execution_count": 30,
     "metadata": {},
     "output_type": "execute_result"
    },
    {
     "data": {
      "image/png": "[encoded data removed]",
      "text/plain": [
       "<Figure size 640x480 with 1 Axes>"
      ]
     },
     "metadata": {},
     "output_type": "display_data"
    }
   ],
   "source": [
    "# 위의 고객번호별 주문건수에 대해 상위 10명만 추려 막대그래프로 시각화하세요. \n",
    "df['고객번호'].value_counts().head(10).plot.bar()"
   ]
  },
  {
   "cell_type": "code",
   "execution_count": 31,
   "metadata": {},
   "outputs": [
    {
     "data": {
      "image/png": "[encoded data removed]",
      "text/plain": [
       "<Figure size 640x480 with 1 Axes>"
      ]
     },
     "metadata": {},
     "output_type": "display_data"
    }
   ],
   "source": [
    "# 위의 결과에서 NONAME 정보가 너무 많습니다. NONAME을 제외하고 나머지 고객에 대해서, 고객번호변 주문건수의 상위 10명의 그래프를 그리세요.\n",
    "df[df['고객번호'] != 'NONAME']['고객번호'].value_counts().head(10).plot.bar(rot=60)\n",
    "plt.show()"
   ]
  },
  {
   "cell_type": "code",
   "execution_count": 32,
   "metadata": {},
   "outputs": [
    {
     "data": {
      "text/html": [
       "<div>\n",
       "<style scoped>\n",
       "    .dataframe tbody tr th:only-of-type {\n",
       "        vertical-align: middle;\n",
       "    }\n",
       "\n",
       "    .dataframe tbody tr th {\n",
       "        vertical-align: top;\n",
       "    }\n",
       "\n",
       "    .dataframe thead th {\n",
       "        text-align: right;\n",
       "    }\n",
       "</style>\n",
       "<table border=\"1\" class=\"dataframe\">\n",
       "  <thead>\n",
       "    <tr style=\"text-align: right;\">\n",
       "      <th></th>\n",
       "      <th>고객번호</th>\n",
       "      <th>금액</th>\n",
       "    </tr>\n",
       "  </thead>\n",
       "  <tbody>\n",
       "    <tr>\n",
       "      <th>0</th>\n",
       "      <td>25441993984</td>\n",
       "      <td>162</td>\n",
       "    </tr>\n",
       "    <tr>\n",
       "      <th>1</th>\n",
       "      <td>25441993984</td>\n",
       "      <td>162</td>\n",
       "    </tr>\n",
       "    <tr>\n",
       "      <th>2</th>\n",
       "      <td>25447879424</td>\n",
       "      <td>77</td>\n",
       "    </tr>\n",
       "    <tr>\n",
       "      <th>3</th>\n",
       "      <td>25447879424</td>\n",
       "      <td>77</td>\n",
       "    </tr>\n",
       "    <tr>\n",
       "      <th>4</th>\n",
       "      <td>25450382848</td>\n",
       "      <td>39</td>\n",
       "    </tr>\n",
       "    <tr>\n",
       "      <th>...</th>\n",
       "      <td>...</td>\n",
       "      <td>...</td>\n",
       "    </tr>\n",
       "    <tr>\n",
       "      <th>1589360</th>\n",
       "      <td>25513809920</td>\n",
       "      <td>370</td>\n",
       "    </tr>\n",
       "    <tr>\n",
       "      <th>1589361</th>\n",
       "      <td>25514888704</td>\n",
       "      <td>138</td>\n",
       "    </tr>\n",
       "    <tr>\n",
       "      <th>1589362</th>\n",
       "      <td>25514891264</td>\n",
       "      <td>418</td>\n",
       "    </tr>\n",
       "    <tr>\n",
       "      <th>1589363</th>\n",
       "      <td>25514834176</td>\n",
       "      <td>12</td>\n",
       "    </tr>\n",
       "    <tr>\n",
       "      <th>1589364</th>\n",
       "      <td>25514834176</td>\n",
       "      <td>53</td>\n",
       "    </tr>\n",
       "  </tbody>\n",
       "</table>\n",
       "<p>433938 rows × 2 columns</p>\n",
       "</div>"
      ],
      "text/plain": [
       "                고객번호   금액\n",
       "0        25441993984  162\n",
       "1        25441993984  162\n",
       "2        25447879424   77\n",
       "3        25447879424   77\n",
       "4        25450382848   39\n",
       "...              ...  ...\n",
       "1589360  25513809920  370\n",
       "1589361  25514888704  138\n",
       "1589362  25514891264  418\n",
       "1589363  25514834176   12\n",
       "1589364  25514834176   53\n",
       "\n",
       "[433938 rows x 2 columns]"
      ]
     },
     "execution_count": 32,
     "metadata": {},
     "output_type": "execute_result"
    }
   ],
   "source": [
    "# 고객번호중 NONAME을 제외한 고객을 추려서,  고객번호열과 금액열을 가지고 오세요.\n",
    " \n",
    "customer_df = df[df['고객번호'] != 'NONAME'].loc[:, ['고객번호', '금액']]\n",
    "customer_df"
   ]
  },
  {
   "cell_type": "code",
   "execution_count": 33,
   "metadata": {},
   "outputs": [
    {
     "data": {
      "text/html": [
       "<div>\n",
       "<style scoped>\n",
       "    .dataframe tbody tr th:only-of-type {\n",
       "        vertical-align: middle;\n",
       "    }\n",
       "\n",
       "    .dataframe tbody tr th {\n",
       "        vertical-align: top;\n",
       "    }\n",
       "\n",
       "    .dataframe thead th {\n",
       "        text-align: right;\n",
       "    }\n",
       "</style>\n",
       "<table border=\"1\" class=\"dataframe\">\n",
       "  <thead>\n",
       "    <tr style=\"text-align: right;\">\n",
       "      <th></th>\n",
       "      <th>금액</th>\n",
       "    </tr>\n",
       "    <tr>\n",
       "      <th>고객번호</th>\n",
       "      <th></th>\n",
       "    </tr>\n",
       "  </thead>\n",
       "  <tbody>\n",
       "    <tr>\n",
       "      <th>25512763648</th>\n",
       "      <td>111831</td>\n",
       "    </tr>\n",
       "    <tr>\n",
       "      <th>25512817152</th>\n",
       "      <td>95266</td>\n",
       "    </tr>\n",
       "    <tr>\n",
       "      <th>25512763904</th>\n",
       "      <td>91209</td>\n",
       "    </tr>\n",
       "    <tr>\n",
       "      <th>25512817408</th>\n",
       "      <td>85467</td>\n",
       "    </tr>\n",
       "    <tr>\n",
       "      <th>25513695744</th>\n",
       "      <td>83491</td>\n",
       "    </tr>\n",
       "    <tr>\n",
       "      <th>25512422656</th>\n",
       "      <td>79657</td>\n",
       "    </tr>\n",
       "    <tr>\n",
       "      <th>25512084480</th>\n",
       "      <td>75227</td>\n",
       "    </tr>\n",
       "    <tr>\n",
       "      <th>25512118016</th>\n",
       "      <td>73782</td>\n",
       "    </tr>\n",
       "    <tr>\n",
       "      <th>25513284864</th>\n",
       "      <td>71856</td>\n",
       "    </tr>\n",
       "    <tr>\n",
       "      <th>25512084736</th>\n",
       "      <td>71613</td>\n",
       "    </tr>\n",
       "  </tbody>\n",
       "</table>\n",
       "</div>"
      ],
      "text/plain": [
       "                 금액\n",
       "고객번호               \n",
       "25512763648  111831\n",
       "25512817152   95266\n",
       "25512763904   91209\n",
       "25512817408   85467\n",
       "25513695744   83491\n",
       "25512422656   79657\n",
       "25512084480   75227\n",
       "25512118016   73782\n",
       "25513284864   71856\n",
       "25512084736   71613"
      ]
     },
     "execution_count": 33,
     "metadata": {},
     "output_type": "execute_result"
    }
   ],
   "source": [
    "# VIP 고객을 추려봅시다. 고객별 합산금액이 큰 상위 10명을 추리세요. \n",
    "vip = customer_df.groupby('고객번호').sum().sort_values('금액', ascending=False).head(10)\n",
    "vip"
   ]
  },
  {
   "cell_type": "code",
   "execution_count": 34,
   "metadata": {},
   "outputs": [
    {
     "data": {
      "text/plain": [
       "['25512763648',\n",
       " '25512817152',\n",
       " '25512763904',\n",
       " '25512817408',\n",
       " '25513695744',\n",
       " '25512422656',\n",
       " '25512084480',\n",
       " '25512118016',\n",
       " '25513284864',\n",
       " '25512084736']"
      ]
     },
     "execution_count": 34,
     "metadata": {},
     "output_type": "execute_result"
    }
   ],
   "source": [
    "#vip 데이터의 인덱스를 리스트형으로 바꾸어 출력하세요. 힌트: tolist 함수\n",
    "viplist = vip.index.tolist()\n",
    "viplist"
   ]
  },
  {
   "cell_type": "code",
   "execution_count": 35,
   "metadata": {},
   "outputs": [
    {
     "data": {
      "text/html": [
       "<div>\n",
       "<style scoped>\n",
       "    .dataframe tbody tr th:only-of-type {\n",
       "        vertical-align: middle;\n",
       "    }\n",
       "\n",
       "    .dataframe tbody tr th {\n",
       "        vertical-align: top;\n",
       "    }\n",
       "\n",
       "    .dataframe thead th {\n",
       "        text-align: right;\n",
       "    }\n",
       "</style>\n",
       "<table border=\"1\" class=\"dataframe\">\n",
       "  <thead>\n",
       "    <tr style=\"text-align: right;\">\n",
       "      <th></th>\n",
       "      <th>고객번호</th>\n",
       "      <th>금액</th>\n",
       "    </tr>\n",
       "  </thead>\n",
       "  <tbody>\n",
       "    <tr>\n",
       "      <th>1469166</th>\n",
       "      <td>25512084480</td>\n",
       "      <td>173</td>\n",
       "    </tr>\n",
       "    <tr>\n",
       "      <th>1469168</th>\n",
       "      <td>25512084480</td>\n",
       "      <td>11</td>\n",
       "    </tr>\n",
       "    <tr>\n",
       "      <th>1469169</th>\n",
       "      <td>25512084480</td>\n",
       "      <td>57</td>\n",
       "    </tr>\n",
       "    <tr>\n",
       "      <th>1469170</th>\n",
       "      <td>25512084480</td>\n",
       "      <td>4</td>\n",
       "    </tr>\n",
       "    <tr>\n",
       "      <th>1469171</th>\n",
       "      <td>25512084480</td>\n",
       "      <td>9</td>\n",
       "    </tr>\n",
       "    <tr>\n",
       "      <th>...</th>\n",
       "      <td>...</td>\n",
       "      <td>...</td>\n",
       "    </tr>\n",
       "    <tr>\n",
       "      <th>1587171</th>\n",
       "      <td>25512817408</td>\n",
       "      <td>28</td>\n",
       "    </tr>\n",
       "    <tr>\n",
       "      <th>1588098</th>\n",
       "      <td>25512763648</td>\n",
       "      <td>87</td>\n",
       "    </tr>\n",
       "    <tr>\n",
       "      <th>1588218</th>\n",
       "      <td>25512817152</td>\n",
       "      <td>46</td>\n",
       "    </tr>\n",
       "    <tr>\n",
       "      <th>1588424</th>\n",
       "      <td>25512763648</td>\n",
       "      <td>219</td>\n",
       "    </tr>\n",
       "    <tr>\n",
       "      <th>1589100</th>\n",
       "      <td>25512817408</td>\n",
       "      <td>694</td>\n",
       "    </tr>\n",
       "  </tbody>\n",
       "</table>\n",
       "<p>4100 rows × 2 columns</p>\n",
       "</div>"
      ],
      "text/plain": [
       "                고객번호   금액\n",
       "1469166  25512084480  173\n",
       "1469168  25512084480   11\n",
       "1469169  25512084480   57\n",
       "1469170  25512084480    4\n",
       "1469171  25512084480    9\n",
       "...              ...  ...\n",
       "1587171  25512817408   28\n",
       "1588098  25512763648   87\n",
       "1588218  25512817152   46\n",
       "1588424  25512763648  219\n",
       "1589100  25512817408  694\n",
       "\n",
       "[4100 rows x 2 columns]"
      ]
     },
     "execution_count": 35,
     "metadata": {},
     "output_type": "execute_result"
    }
   ],
   "source": [
    "# 원본 df 에서 viplist만 추려서, 고객번호, 금액을 출력하세요.   힌트: isin 함수 \n",
    "vipdf = df.loc[df['고객번호'].isin(viplist), ['고객번호', '금액']]\n",
    "vipdf "
   ]
  },
  {
   "cell_type": "code",
   "execution_count": 36,
   "metadata": {},
   "outputs": [
    {
     "data": {
      "text/html": [
       "<div>\n",
       "<style scoped>\n",
       "    .dataframe tbody tr th:only-of-type {\n",
       "        vertical-align: middle;\n",
       "    }\n",
       "\n",
       "    .dataframe tbody tr th {\n",
       "        vertical-align: top;\n",
       "    }\n",
       "\n",
       "    .dataframe thead tr th {\n",
       "        text-align: left;\n",
       "    }\n",
       "\n",
       "    .dataframe thead tr:last-of-type th {\n",
       "        text-align: right;\n",
       "    }\n",
       "</style>\n",
       "<table border=\"1\" class=\"dataframe\">\n",
       "  <thead>\n",
       "    <tr>\n",
       "      <th></th>\n",
       "      <th colspan=\"3\" halign=\"left\">금액</th>\n",
       "    </tr>\n",
       "    <tr>\n",
       "      <th></th>\n",
       "      <th>sum</th>\n",
       "      <th>mean</th>\n",
       "      <th>std</th>\n",
       "    </tr>\n",
       "    <tr>\n",
       "      <th>고객번호</th>\n",
       "      <th></th>\n",
       "      <th></th>\n",
       "      <th></th>\n",
       "    </tr>\n",
       "  </thead>\n",
       "  <tbody>\n",
       "    <tr>\n",
       "      <th>25512084480</th>\n",
       "      <td>75227</td>\n",
       "      <td>183.034063</td>\n",
       "      <td>290.905959</td>\n",
       "    </tr>\n",
       "    <tr>\n",
       "      <th>25512084736</th>\n",
       "      <td>71613</td>\n",
       "      <td>193.026954</td>\n",
       "      <td>313.108442</td>\n",
       "    </tr>\n",
       "    <tr>\n",
       "      <th>25512118016</th>\n",
       "      <td>73782</td>\n",
       "      <td>174.425532</td>\n",
       "      <td>226.958696</td>\n",
       "    </tr>\n",
       "    <tr>\n",
       "      <th>25512422656</th>\n",
       "      <td>79657</td>\n",
       "      <td>186.550351</td>\n",
       "      <td>227.117132</td>\n",
       "    </tr>\n",
       "    <tr>\n",
       "      <th>25512763648</th>\n",
       "      <td>111831</td>\n",
       "      <td>233.956067</td>\n",
       "      <td>239.675978</td>\n",
       "    </tr>\n",
       "    <tr>\n",
       "      <th>25512763904</th>\n",
       "      <td>91209</td>\n",
       "      <td>212.113953</td>\n",
       "      <td>270.409874</td>\n",
       "    </tr>\n",
       "    <tr>\n",
       "      <th>25512817152</th>\n",
       "      <td>95266</td>\n",
       "      <td>222.065268</td>\n",
       "      <td>320.162518</td>\n",
       "    </tr>\n",
       "    <tr>\n",
       "      <th>25512817408</th>\n",
       "      <td>85467</td>\n",
       "      <td>216.372152</td>\n",
       "      <td>301.913266</td>\n",
       "    </tr>\n",
       "    <tr>\n",
       "      <th>25513284864</th>\n",
       "      <td>71856</td>\n",
       "      <td>190.095238</td>\n",
       "      <td>252.368350</td>\n",
       "    </tr>\n",
       "    <tr>\n",
       "      <th>25513695744</th>\n",
       "      <td>83491</td>\n",
       "      <td>233.215084</td>\n",
       "      <td>302.718544</td>\n",
       "    </tr>\n",
       "  </tbody>\n",
       "</table>\n",
       "</div>"
      ],
      "text/plain": [
       "                 금액                        \n",
       "                sum        mean         std\n",
       "고객번호                                       \n",
       "25512084480   75227  183.034063  290.905959\n",
       "25512084736   71613  193.026954  313.108442\n",
       "25512118016   73782  174.425532  226.958696\n",
       "25512422656   79657  186.550351  227.117132\n",
       "25512763648  111831  233.956067  239.675978\n",
       "25512763904   91209  212.113953  270.409874\n",
       "25512817152   95266  222.065268  320.162518\n",
       "25512817408   85467  216.372152  301.913266\n",
       "25513284864   71856  190.095238  252.368350\n",
       "25513695744   83491  233.215084  302.718544"
      ]
     },
     "execution_count": 36,
     "metadata": {},
     "output_type": "execute_result"
    }
   ],
   "source": [
    "# 고객번호별 합산, 평균, 표준편차를 출력하세요. \n",
    "cvdf = vipdf.groupby('고객번호').agg([np.sum, np.mean, np.std])\n",
    "cvdf"
   ]
  },
  {
   "cell_type": "code",
   "execution_count": 37,
   "metadata": {},
   "outputs": [
    {
     "data": {
      "text/plain": [
       "MultiIndex([('금액',  'sum'),\n",
       "            ('금액', 'mean'),\n",
       "            ('금액',  'std')],\n",
       "           )"
      ]
     },
     "execution_count": 37,
     "metadata": {},
     "output_type": "execute_result"
    }
   ],
   "source": [
    "# cvdf의 컬럼을 출력하세요. \n",
    "cvdf.columns"
   ]
  },
  {
   "cell_type": "code",
   "execution_count": 38,
   "metadata": {},
   "outputs": [
    {
     "data": {
      "text/plain": [
       "Index(['sum', 'mean', 'std'], dtype='object')"
      ]
     },
     "execution_count": 38,
     "metadata": {},
     "output_type": "execute_result"
    }
   ],
   "source": [
    "# 그룹바이 결과로 멀티인덱스로 잡혀있는 컬럼을 싱글컬럼인덱스로 변경하세요. 힌트 : droplevel 함수이용\n",
    "cvdf.columns = cvdf.columns.droplevel()\n",
    "cvdf.columns"
   ]
  },
  {
   "cell_type": "code",
   "execution_count": 39,
   "metadata": {},
   "outputs": [
    {
     "data": {
      "text/html": [
       "<div>\n",
       "<style scoped>\n",
       "    .dataframe tbody tr th:only-of-type {\n",
       "        vertical-align: middle;\n",
       "    }\n",
       "\n",
       "    .dataframe tbody tr th {\n",
       "        vertical-align: top;\n",
       "    }\n",
       "\n",
       "    .dataframe thead th {\n",
       "        text-align: right;\n",
       "    }\n",
       "</style>\n",
       "<table border=\"1\" class=\"dataframe\">\n",
       "  <thead>\n",
       "    <tr style=\"text-align: right;\">\n",
       "      <th></th>\n",
       "      <th>sum</th>\n",
       "      <th>mean</th>\n",
       "      <th>std</th>\n",
       "      <th>cv</th>\n",
       "    </tr>\n",
       "    <tr>\n",
       "      <th>고객번호</th>\n",
       "      <th></th>\n",
       "      <th></th>\n",
       "      <th></th>\n",
       "      <th></th>\n",
       "    </tr>\n",
       "  </thead>\n",
       "  <tbody>\n",
       "    <tr>\n",
       "      <th>25512084480</th>\n",
       "      <td>75227</td>\n",
       "      <td>183.034063</td>\n",
       "      <td>290.905959</td>\n",
       "      <td>1.589354</td>\n",
       "    </tr>\n",
       "    <tr>\n",
       "      <th>25512084736</th>\n",
       "      <td>71613</td>\n",
       "      <td>193.026954</td>\n",
       "      <td>313.108442</td>\n",
       "      <td>1.622097</td>\n",
       "    </tr>\n",
       "    <tr>\n",
       "      <th>25512118016</th>\n",
       "      <td>73782</td>\n",
       "      <td>174.425532</td>\n",
       "      <td>226.958696</td>\n",
       "      <td>1.301178</td>\n",
       "    </tr>\n",
       "    <tr>\n",
       "      <th>25512422656</th>\n",
       "      <td>79657</td>\n",
       "      <td>186.550351</td>\n",
       "      <td>227.117132</td>\n",
       "      <td>1.217458</td>\n",
       "    </tr>\n",
       "    <tr>\n",
       "      <th>25512763648</th>\n",
       "      <td>111831</td>\n",
       "      <td>233.956067</td>\n",
       "      <td>239.675978</td>\n",
       "      <td>1.024449</td>\n",
       "    </tr>\n",
       "    <tr>\n",
       "      <th>25512763904</th>\n",
       "      <td>91209</td>\n",
       "      <td>212.113953</td>\n",
       "      <td>270.409874</td>\n",
       "      <td>1.274833</td>\n",
       "    </tr>\n",
       "    <tr>\n",
       "      <th>25512817152</th>\n",
       "      <td>95266</td>\n",
       "      <td>222.065268</td>\n",
       "      <td>320.162518</td>\n",
       "      <td>1.441750</td>\n",
       "    </tr>\n",
       "    <tr>\n",
       "      <th>25512817408</th>\n",
       "      <td>85467</td>\n",
       "      <td>216.372152</td>\n",
       "      <td>301.913266</td>\n",
       "      <td>1.395343</td>\n",
       "    </tr>\n",
       "    <tr>\n",
       "      <th>25513284864</th>\n",
       "      <td>71856</td>\n",
       "      <td>190.095238</td>\n",
       "      <td>252.368350</td>\n",
       "      <td>1.327589</td>\n",
       "    </tr>\n",
       "    <tr>\n",
       "      <th>25513695744</th>\n",
       "      <td>83491</td>\n",
       "      <td>233.215084</td>\n",
       "      <td>302.718544</td>\n",
       "      <td>1.298023</td>\n",
       "    </tr>\n",
       "  </tbody>\n",
       "</table>\n",
       "</div>"
      ],
      "text/plain": [
       "                sum        mean         std        cv\n",
       "고객번호                                                 \n",
       "25512084480   75227  183.034063  290.905959  1.589354\n",
       "25512084736   71613  193.026954  313.108442  1.622097\n",
       "25512118016   73782  174.425532  226.958696  1.301178\n",
       "25512422656   79657  186.550351  227.117132  1.217458\n",
       "25512763648  111831  233.956067  239.675978  1.024449\n",
       "25512763904   91209  212.113953  270.409874  1.274833\n",
       "25512817152   95266  222.065268  320.162518  1.441750\n",
       "25512817408   85467  216.372152  301.913266  1.395343\n",
       "25513284864   71856  190.095238  252.368350  1.327589\n",
       "25513695744   83491  233.215084  302.718544  1.298023"
      ]
     },
     "execution_count": 39,
     "metadata": {},
     "output_type": "execute_result"
    }
   ],
   "source": [
    "# 고객마다 cv(coefficient of variation)를 구해서 'cv'라는 컬럼에 추가하세요. \n",
    "# cv는 표준편차 / 평균 으로 계산합니다. \n",
    "cvdf['cv'] =  cvdf['std'] / cvdf['mean']\n",
    "cvdf"
   ]
  },
  {
   "cell_type": "code",
   "execution_count": 40,
   "metadata": {},
   "outputs": [
    {
     "data": {
      "text/html": [
       "<div>\n",
       "<style scoped>\n",
       "    .dataframe tbody tr th:only-of-type {\n",
       "        vertical-align: middle;\n",
       "    }\n",
       "\n",
       "    .dataframe tbody tr th {\n",
       "        vertical-align: top;\n",
       "    }\n",
       "\n",
       "    .dataframe thead th {\n",
       "        text-align: right;\n",
       "    }\n",
       "</style>\n",
       "<table border=\"1\" class=\"dataframe\">\n",
       "  <thead>\n",
       "    <tr style=\"text-align: right;\">\n",
       "      <th></th>\n",
       "      <th>sum</th>\n",
       "      <th>mean</th>\n",
       "      <th>std</th>\n",
       "      <th>cv</th>\n",
       "    </tr>\n",
       "    <tr>\n",
       "      <th>고객번호</th>\n",
       "      <th></th>\n",
       "      <th></th>\n",
       "      <th></th>\n",
       "      <th></th>\n",
       "    </tr>\n",
       "  </thead>\n",
       "  <tbody>\n",
       "    <tr>\n",
       "      <th>25512763648</th>\n",
       "      <td>111831</td>\n",
       "      <td>233.956067</td>\n",
       "      <td>239.675978</td>\n",
       "      <td>1.024449</td>\n",
       "    </tr>\n",
       "    <tr>\n",
       "      <th>25512422656</th>\n",
       "      <td>79657</td>\n",
       "      <td>186.550351</td>\n",
       "      <td>227.117132</td>\n",
       "      <td>1.217458</td>\n",
       "    </tr>\n",
       "    <tr>\n",
       "      <th>25512763904</th>\n",
       "      <td>91209</td>\n",
       "      <td>212.113953</td>\n",
       "      <td>270.409874</td>\n",
       "      <td>1.274833</td>\n",
       "    </tr>\n",
       "    <tr>\n",
       "      <th>25513695744</th>\n",
       "      <td>83491</td>\n",
       "      <td>233.215084</td>\n",
       "      <td>302.718544</td>\n",
       "      <td>1.298023</td>\n",
       "    </tr>\n",
       "    <tr>\n",
       "      <th>25512118016</th>\n",
       "      <td>73782</td>\n",
       "      <td>174.425532</td>\n",
       "      <td>226.958696</td>\n",
       "      <td>1.301178</td>\n",
       "    </tr>\n",
       "    <tr>\n",
       "      <th>25513284864</th>\n",
       "      <td>71856</td>\n",
       "      <td>190.095238</td>\n",
       "      <td>252.368350</td>\n",
       "      <td>1.327589</td>\n",
       "    </tr>\n",
       "    <tr>\n",
       "      <th>25512817408</th>\n",
       "      <td>85467</td>\n",
       "      <td>216.372152</td>\n",
       "      <td>301.913266</td>\n",
       "      <td>1.395343</td>\n",
       "    </tr>\n",
       "    <tr>\n",
       "      <th>25512817152</th>\n",
       "      <td>95266</td>\n",
       "      <td>222.065268</td>\n",
       "      <td>320.162518</td>\n",
       "      <td>1.441750</td>\n",
       "    </tr>\n",
       "    <tr>\n",
       "      <th>25512084480</th>\n",
       "      <td>75227</td>\n",
       "      <td>183.034063</td>\n",
       "      <td>290.905959</td>\n",
       "      <td>1.589354</td>\n",
       "    </tr>\n",
       "    <tr>\n",
       "      <th>25512084736</th>\n",
       "      <td>71613</td>\n",
       "      <td>193.026954</td>\n",
       "      <td>313.108442</td>\n",
       "      <td>1.622097</td>\n",
       "    </tr>\n",
       "  </tbody>\n",
       "</table>\n",
       "</div>"
      ],
      "text/plain": [
       "                sum        mean         std        cv\n",
       "고객번호                                                 \n",
       "25512763648  111831  233.956067  239.675978  1.024449\n",
       "25512422656   79657  186.550351  227.117132  1.217458\n",
       "25512763904   91209  212.113953  270.409874  1.274833\n",
       "25513695744   83491  233.215084  302.718544  1.298023\n",
       "25512118016   73782  174.425532  226.958696  1.301178\n",
       "25513284864   71856  190.095238  252.368350  1.327589\n",
       "25512817408   85467  216.372152  301.913266  1.395343\n",
       "25512817152   95266  222.065268  320.162518  1.441750\n",
       "25512084480   75227  183.034063  290.905959  1.589354\n",
       "25512084736   71613  193.026954  313.108442  1.622097"
      ]
     },
     "execution_count": 40,
     "metadata": {},
     "output_type": "execute_result"
    }
   ],
   "source": [
    "# 위의 데이터프레임에서 cv값을 오름차순으로 정렬하세요.  \n",
    "cvdf.sort_values('cv')"
   ]
  },
  {
   "attachments": {},
   "cell_type": "markdown",
   "metadata": {},
   "source": [
    "### 브랜드분석"
   ]
  },
  {
   "cell_type": "code",
   "execution_count": 41,
   "metadata": {
    "colab": {
     "base_uri": "https://localhost:8080/",
     "height": 419
    },
    "id": "-RYFJl7cMgbV",
    "outputId": "7eea5ffb-239d-4af2-dc9f-601d16587a16"
   },
   "outputs": [
    {
     "data": {
      "text/html": [
       "<div>\n",
       "<style scoped>\n",
       "    .dataframe tbody tr th:only-of-type {\n",
       "        vertical-align: middle;\n",
       "    }\n",
       "\n",
       "    .dataframe tbody tr th {\n",
       "        vertical-align: top;\n",
       "    }\n",
       "\n",
       "    .dataframe thead th {\n",
       "        text-align: right;\n",
       "    }\n",
       "</style>\n",
       "<table border=\"1\" class=\"dataframe\">\n",
       "  <thead>\n",
       "    <tr style=\"text-align: right;\">\n",
       "      <th></th>\n",
       "      <th>주문번호</th>\n",
       "      <th>연도</th>\n",
       "      <th>월</th>\n",
       "      <th>일</th>\n",
       "      <th>시간</th>\n",
       "      <th>제품대분류</th>\n",
       "      <th>제품중분류</th>\n",
       "      <th>제품소분류</th>\n",
       "      <th>브랜드</th>\n",
       "      <th>금액</th>\n",
       "      <th>고객번호</th>\n",
       "    </tr>\n",
       "  </thead>\n",
       "  <tbody>\n",
       "    <tr>\n",
       "      <th>647092</th>\n",
       "      <td>2353234364520727464</td>\n",
       "      <td>2020</td>\n",
       "      <td>5</td>\n",
       "      <td>Tuesday</td>\n",
       "      <td>17</td>\n",
       "      <td>electronics</td>\n",
       "      <td>video</td>\n",
       "      <td>tv</td>\n",
       "      <td>samsung</td>\n",
       "      <td>50925</td>\n",
       "      <td>NONAME</td>\n",
       "    </tr>\n",
       "    <tr>\n",
       "      <th>22280</th>\n",
       "      <td>2339244674033647628</td>\n",
       "      <td>2020</td>\n",
       "      <td>6</td>\n",
       "      <td>Thursday</td>\n",
       "      <td>19</td>\n",
       "      <td>electronics</td>\n",
       "      <td>video</td>\n",
       "      <td>tv</td>\n",
       "      <td>NONAME</td>\n",
       "      <td>18328</td>\n",
       "      <td>25465546752</td>\n",
       "    </tr>\n",
       "    <tr>\n",
       "      <th>22604</th>\n",
       "      <td>2339940319191106553</td>\n",
       "      <td>2020</td>\n",
       "      <td>6</td>\n",
       "      <td>Friday</td>\n",
       "      <td>18</td>\n",
       "      <td>electronics</td>\n",
       "      <td>video</td>\n",
       "      <td>tv</td>\n",
       "      <td>NONAME</td>\n",
       "      <td>13310</td>\n",
       "      <td>25465546752</td>\n",
       "    </tr>\n",
       "    <tr>\n",
       "      <th>920987</th>\n",
       "      <td>2353288509000777918</td>\n",
       "      <td>2020</td>\n",
       "      <td>7</td>\n",
       "      <td>Friday</td>\n",
       "      <td>20</td>\n",
       "      <td>electronics</td>\n",
       "      <td>video</td>\n",
       "      <td>tv</td>\n",
       "      <td>lg</td>\n",
       "      <td>11574</td>\n",
       "      <td>25484619008</td>\n",
       "    </tr>\n",
       "    <tr>\n",
       "      <th>652286</th>\n",
       "      <td>2353235498996073224</td>\n",
       "      <td>2020</td>\n",
       "      <td>5</td>\n",
       "      <td>Wednesday</td>\n",
       "      <td>15</td>\n",
       "      <td>electronics</td>\n",
       "      <td>video</td>\n",
       "      <td>tv</td>\n",
       "      <td>lg</td>\n",
       "      <td>11574</td>\n",
       "      <td>NONAME</td>\n",
       "    </tr>\n",
       "    <tr>\n",
       "      <th>...</th>\n",
       "      <td>...</td>\n",
       "      <td>...</td>\n",
       "      <td>...</td>\n",
       "      <td>...</td>\n",
       "      <td>...</td>\n",
       "      <td>...</td>\n",
       "      <td>...</td>\n",
       "      <td>...</td>\n",
       "      <td>...</td>\n",
       "      <td>...</td>\n",
       "      <td>...</td>\n",
       "    </tr>\n",
       "    <tr>\n",
       "      <th>136837</th>\n",
       "      <td>2348777215258264502</td>\n",
       "      <td>2020</td>\n",
       "      <td>1</td>\n",
       "      <td>Wednesday</td>\n",
       "      <td>21</td>\n",
       "      <td>stationery</td>\n",
       "      <td>battery</td>\n",
       "      <td>NaN</td>\n",
       "      <td>camelion</td>\n",
       "      <td>0</td>\n",
       "      <td>NONAME</td>\n",
       "    </tr>\n",
       "    <tr>\n",
       "      <th>816233</th>\n",
       "      <td>2353266124134548259</td>\n",
       "      <td>2020</td>\n",
       "      <td>6</td>\n",
       "      <td>Tuesday</td>\n",
       "      <td>19</td>\n",
       "      <td>stationery</td>\n",
       "      <td>battery</td>\n",
       "      <td>NaN</td>\n",
       "      <td>varta</td>\n",
       "      <td>0</td>\n",
       "      <td>NONAME</td>\n",
       "    </tr>\n",
       "    <tr>\n",
       "      <th>254136</th>\n",
       "      <td>2348792681947202363</td>\n",
       "      <td>2020</td>\n",
       "      <td>2</td>\n",
       "      <td>Tuesday</td>\n",
       "      <td>19</td>\n",
       "      <td>appliances</td>\n",
       "      <td>kitchen</td>\n",
       "      <td>refrigerators</td>\n",
       "      <td>organ</td>\n",
       "      <td>0</td>\n",
       "      <td>NONAME</td>\n",
       "    </tr>\n",
       "    <tr>\n",
       "      <th>745679</th>\n",
       "      <td>2353253518732689865</td>\n",
       "      <td>2020</td>\n",
       "      <td>6</td>\n",
       "      <td>Sunday</td>\n",
       "      <td>16</td>\n",
       "      <td>appliances</td>\n",
       "      <td>kitchen</td>\n",
       "      <td>refrigerators</td>\n",
       "      <td>organ</td>\n",
       "      <td>0</td>\n",
       "      <td>NONAME</td>\n",
       "    </tr>\n",
       "    <tr>\n",
       "      <th>1112597</th>\n",
       "      <td>2378058613093564902</td>\n",
       "      <td>2020</td>\n",
       "      <td>8</td>\n",
       "      <td>Monday</td>\n",
       "      <td>19</td>\n",
       "      <td>appliances</td>\n",
       "      <td>kitchen</td>\n",
       "      <td>refrigerators</td>\n",
       "      <td>NONAME</td>\n",
       "      <td>0</td>\n",
       "      <td>NONAME</td>\n",
       "    </tr>\n",
       "  </tbody>\n",
       "</table>\n",
       "<p>1578791 rows × 11 columns</p>\n",
       "</div>"
      ],
      "text/plain": [
       "                        주문번호    연도  월          일  시간        제품대분류    제품중분류  \\\n",
       "647092   2353234364520727464  2020  5    Tuesday  17  electronics    video   \n",
       "22280    2339244674033647628  2020  6   Thursday  19  electronics    video   \n",
       "22604    2339940319191106553  2020  6     Friday  18  electronics    video   \n",
       "920987   2353288509000777918  2020  7     Friday  20  electronics    video   \n",
       "652286   2353235498996073224  2020  5  Wednesday  15  electronics    video   \n",
       "...                      ...   ... ..        ...  ..          ...      ...   \n",
       "136837   2348777215258264502  2020  1  Wednesday  21   stationery  battery   \n",
       "816233   2353266124134548259  2020  6    Tuesday  19   stationery  battery   \n",
       "254136   2348792681947202363  2020  2    Tuesday  19   appliances  kitchen   \n",
       "745679   2353253518732689865  2020  6     Sunday  16   appliances  kitchen   \n",
       "1112597  2378058613093564902  2020  8     Monday  19   appliances  kitchen   \n",
       "\n",
       "                 제품소분류       브랜드     금액         고객번호  \n",
       "647092              tv   samsung  50925       NONAME  \n",
       "22280               tv    NONAME  18328  25465546752  \n",
       "22604               tv    NONAME  13310  25465546752  \n",
       "920987              tv        lg  11574  25484619008  \n",
       "652286              tv        lg  11574       NONAME  \n",
       "...                ...       ...    ...          ...  \n",
       "136837             NaN  camelion      0       NONAME  \n",
       "816233             NaN     varta      0       NONAME  \n",
       "254136   refrigerators     organ      0       NONAME  \n",
       "745679   refrigerators     organ      0       NONAME  \n",
       "1112597  refrigerators    NONAME      0       NONAME  \n",
       "\n",
       "[1578791 rows x 11 columns]"
      ]
     },
     "execution_count": 41,
     "metadata": {},
     "output_type": "execute_result"
    }
   ],
   "source": [
    "# 금액이 가장 큰 데이터 6개를 출력하세요.\n",
    "df.sort_values('금액', ascending=False)"
   ]
  },
  {
   "cell_type": "code",
   "execution_count": 42,
   "metadata": {
    "colab": {
     "base_uri": "https://localhost:8080/"
    },
    "id": "7NOiO_5xPFLS",
    "outputId": "7290b6cb-68ff-42b8-95bb-4a3e2676b0af"
   },
   "outputs": [
    {
     "data": {
      "text/plain": [
       "브랜드\n",
       "samsung      88528729\n",
       "apple        47360965\n",
       "lg           25574717\n",
       "asus         10591072\n",
       "huawei       10463612\n",
       "               ...   \n",
       "rossija             0\n",
       "hoco                0\n",
       "chistotel           0\n",
       "att                 0\n",
       "pedigree            0\n",
       "Name: 금액, Length: 590, dtype: int32"
      ]
     },
     "execution_count": 42,
     "metadata": {},
     "output_type": "execute_result"
    }
   ],
   "source": [
    "# 브랜드별 매출을 계산합니다.\n",
    "result=df.groupby('브랜드')['금액'].sum().sort_values(ascending=False)\n",
    "result"
   ]
  },
  {
   "cell_type": "code",
   "execution_count": 43,
   "metadata": {
    "colab": {
     "base_uri": "https://localhost:8080/",
     "height": 321
    },
    "id": "FdrU0kHXPFLS",
    "outputId": "748483f7-2185-49e8-9205-13e05d392785"
   },
   "outputs": [
    {
     "data": {
      "image/png": "[encoded data removed]",
      "text/plain": [
       "<Figure size 640x480 with 1 Axes>"
      ]
     },
     "metadata": {},
     "output_type": "display_data"
    }
   ],
   "source": [
    "# 브랜드별 매출 상위 10위를 시각화합니다.\n",
    "\n",
    "result.head(10).plot(kind='bar')\n",
    "plt.show()\n",
    "\n"
   ]
  },
  {
   "cell_type": "code",
   "execution_count": 44,
   "metadata": {
    "colab": {
     "base_uri": "https://localhost:8080/"
    },
    "id": "fwBJqxKxPFLS",
    "outputId": "5a9cce0c-bbf6-43d2-9a6b-6e25c6e6d524"
   },
   "outputs": [
    {
     "data": {
      "text/plain": [
       "브랜드\n",
       "yamaguchi    6215.000000\n",
       "technogym    3674.333333\n",
       "gewa         3261.000000\n",
       "hitachi      2029.375000\n",
       "liebherr     1954.590909\n",
       "                ...     \n",
       "intex           0.000000\n",
       "pedigree        0.000000\n",
       "rossija         0.000000\n",
       "reno            0.000000\n",
       "chistotel       0.000000\n",
       "Name: 금액, Length: 590, dtype: float64"
      ]
     },
     "execution_count": 44,
     "metadata": {},
     "output_type": "execute_result"
    }
   ],
   "source": [
    "# 브랜드별 평균 매출을 계산합니다.\n",
    "result=df.groupby('브랜드')['금액'].mean().sort_values(ascending=False)\n",
    "result"
   ]
  },
  {
   "cell_type": "code",
   "execution_count": 45,
   "metadata": {
    "colab": {
     "base_uri": "https://localhost:8080/",
     "height": 323
    },
    "id": "gMuoSjRfPFLS",
    "outputId": "a839080d-3bf3-481f-d970-27d0a6d5e976"
   },
   "outputs": [
    {
     "data": {
      "image/png": "[encoded data removed]",
      "text/plain": [
       "<Figure size 640x480 with 1 Axes>"
      ]
     },
     "metadata": {},
     "output_type": "display_data"
    }
   ],
   "source": [
    "# 브랜드별 평균 매출 상위 10위를 시각화합니다.\n",
    "result.head(10).plot(kind='bar')\n",
    "plt.show()"
   ]
  },
  {
   "cell_type": "code",
   "execution_count": 46,
   "metadata": {},
   "outputs": [
    {
     "data": {
      "text/html": [
       "<div>\n",
       "<style scoped>\n",
       "    .dataframe tbody tr th:only-of-type {\n",
       "        vertical-align: middle;\n",
       "    }\n",
       "\n",
       "    .dataframe tbody tr th {\n",
       "        vertical-align: top;\n",
       "    }\n",
       "\n",
       "    .dataframe thead th {\n",
       "        text-align: right;\n",
       "    }\n",
       "</style>\n",
       "<table border=\"1\" class=\"dataframe\">\n",
       "  <thead>\n",
       "    <tr style=\"text-align: right;\">\n",
       "      <th></th>\n",
       "      <th></th>\n",
       "      <th>mean</th>\n",
       "      <th>std</th>\n",
       "    </tr>\n",
       "    <tr>\n",
       "      <th>브랜드</th>\n",
       "      <th>제품대분류</th>\n",
       "      <th></th>\n",
       "      <th></th>\n",
       "    </tr>\n",
       "  </thead>\n",
       "  <tbody>\n",
       "    <tr>\n",
       "      <th>yamaguchi</th>\n",
       "      <th>furniture</th>\n",
       "      <td>6215.000000</td>\n",
       "      <td>NaN</td>\n",
       "    </tr>\n",
       "    <tr>\n",
       "      <th>technogym</th>\n",
       "      <th>sport</th>\n",
       "      <td>4390.200000</td>\n",
       "      <td>232.103856</td>\n",
       "    </tr>\n",
       "    <tr>\n",
       "      <th>casada</th>\n",
       "      <th>computers</th>\n",
       "      <td>3893.133333</td>\n",
       "      <td>550.465500</td>\n",
       "    </tr>\n",
       "    <tr>\n",
       "      <th>gewa</th>\n",
       "      <th>electronics</th>\n",
       "      <td>3261.000000</td>\n",
       "      <td>0.000000</td>\n",
       "    </tr>\n",
       "    <tr>\n",
       "      <th>nvidia</th>\n",
       "      <th>computers</th>\n",
       "      <td>3246.000000</td>\n",
       "      <td>0.000000</td>\n",
       "    </tr>\n",
       "    <tr>\n",
       "      <th>samsung</th>\n",
       "      <th>furniture</th>\n",
       "      <td>2314.000000</td>\n",
       "      <td>0.000000</td>\n",
       "    </tr>\n",
       "    <tr>\n",
       "      <th>lg</th>\n",
       "      <th>furniture</th>\n",
       "      <td>2037.565217</td>\n",
       "      <td>83.638196</td>\n",
       "    </tr>\n",
       "    <tr>\n",
       "      <th>hitachi</th>\n",
       "      <th>appliances</th>\n",
       "      <td>2029.375000</td>\n",
       "      <td>372.069147</td>\n",
       "    </tr>\n",
       "    <tr>\n",
       "      <th>liebherr</th>\n",
       "      <th>appliances</th>\n",
       "      <td>1954.590909</td>\n",
       "      <td>440.274553</td>\n",
       "    </tr>\n",
       "    <tr>\n",
       "      <th>kona</th>\n",
       "      <th>sport</th>\n",
       "      <td>1835.333333</td>\n",
       "      <td>796.371145</td>\n",
       "    </tr>\n",
       "    <tr>\n",
       "      <th>loewe</th>\n",
       "      <th>electronics</th>\n",
       "      <td>1779.000000</td>\n",
       "      <td>1601.059899</td>\n",
       "    </tr>\n",
       "    <tr>\n",
       "      <th>waterrower</th>\n",
       "      <th>sport</th>\n",
       "      <td>1377.000000</td>\n",
       "      <td>0.000000</td>\n",
       "    </tr>\n",
       "    <tr>\n",
       "      <th>cube</th>\n",
       "      <th>sport</th>\n",
       "      <td>1314.500000</td>\n",
       "      <td>432.042243</td>\n",
       "    </tr>\n",
       "    <tr>\n",
       "      <th>laurastar</th>\n",
       "      <th>appliances</th>\n",
       "      <td>1258.618182</td>\n",
       "      <td>777.430109</td>\n",
       "    </tr>\n",
       "    <tr>\n",
       "      <th>cilek</th>\n",
       "      <th>furniture</th>\n",
       "      <td>1135.500000</td>\n",
       "      <td>847.571767</td>\n",
       "    </tr>\n",
       "    <tr>\n",
       "      <th>apple</th>\n",
       "      <th>computers</th>\n",
       "      <td>1118.013704</td>\n",
       "      <td>781.094305</td>\n",
       "    </tr>\n",
       "    <tr>\n",
       "      <th>daikin</th>\n",
       "      <th>appliances</th>\n",
       "      <td>1083.666667</td>\n",
       "      <td>267.750381</td>\n",
       "    </tr>\n",
       "    <tr>\n",
       "      <th>aeg</th>\n",
       "      <th>appliances</th>\n",
       "      <td>1031.466667</td>\n",
       "      <td>560.523633</td>\n",
       "    </tr>\n",
       "    <tr>\n",
       "      <th>wmf</th>\n",
       "      <th>computers</th>\n",
       "      <td>993.000000</td>\n",
       "      <td>NaN</td>\n",
       "    </tr>\n",
       "    <tr>\n",
       "      <th>rinnai</th>\n",
       "      <th>construction</th>\n",
       "      <td>889.375000</td>\n",
       "      <td>92.816159</td>\n",
       "    </tr>\n",
       "  </tbody>\n",
       "</table>\n",
       "</div>"
      ],
      "text/plain": [
       "                                mean          std\n",
       "브랜드        제품대분류                                 \n",
       "yamaguchi  furniture     6215.000000          NaN\n",
       "technogym  sport         4390.200000   232.103856\n",
       "casada     computers     3893.133333   550.465500\n",
       "gewa       electronics   3261.000000     0.000000\n",
       "nvidia     computers     3246.000000     0.000000\n",
       "samsung    furniture     2314.000000     0.000000\n",
       "lg         furniture     2037.565217    83.638196\n",
       "hitachi    appliances    2029.375000   372.069147\n",
       "liebherr   appliances    1954.590909   440.274553\n",
       "kona       sport         1835.333333   796.371145\n",
       "loewe      electronics   1779.000000  1601.059899\n",
       "waterrower sport         1377.000000     0.000000\n",
       "cube       sport         1314.500000   432.042243\n",
       "laurastar  appliances    1258.618182   777.430109\n",
       "cilek      furniture     1135.500000   847.571767\n",
       "apple      computers     1118.013704   781.094305\n",
       "daikin     appliances    1083.666667   267.750381\n",
       "aeg        appliances    1031.466667   560.523633\n",
       "wmf        computers      993.000000          NaN\n",
       "rinnai     construction   889.375000    92.816159"
      ]
     },
     "execution_count": 46,
     "metadata": {},
     "output_type": "execute_result"
    }
   ],
   "source": [
    "# 브랜드별, 제품대분류별 금액의 평균, 표준편차를 구하세요. \n",
    "# 평균으로 내림차순 정렬하여 상위 20개만 출력하세요. \n",
    "df.groupby(['브랜드', '제품대분류'])['금액'].agg([np.mean, np.std]).sort_values('mean',ascending=False).head(20)\n"
   ]
  },
  {
   "cell_type": "code",
   "execution_count": 47,
   "metadata": {},
   "outputs": [
    {
     "data": {
      "text/html": [
       "<div>\n",
       "<style scoped>\n",
       "    .dataframe tbody tr th:only-of-type {\n",
       "        vertical-align: middle;\n",
       "    }\n",
       "\n",
       "    .dataframe tbody tr th {\n",
       "        vertical-align: top;\n",
       "    }\n",
       "\n",
       "    .dataframe thead th {\n",
       "        text-align: right;\n",
       "    }\n",
       "</style>\n",
       "<table border=\"1\" class=\"dataframe\">\n",
       "  <thead>\n",
       "    <tr style=\"text-align: right;\">\n",
       "      <th></th>\n",
       "      <th>주문번호</th>\n",
       "      <th>연도</th>\n",
       "      <th>월</th>\n",
       "      <th>일</th>\n",
       "      <th>시간</th>\n",
       "      <th>제품대분류</th>\n",
       "      <th>제품중분류</th>\n",
       "      <th>제품소분류</th>\n",
       "      <th>브랜드</th>\n",
       "      <th>금액</th>\n",
       "      <th>고객번호</th>\n",
       "    </tr>\n",
       "  </thead>\n",
       "  <tbody>\n",
       "    <tr>\n",
       "      <th>9540</th>\n",
       "      <td>2313768631835558379</td>\n",
       "      <td>2020</td>\n",
       "      <td>5</td>\n",
       "      <td>Thursday</td>\n",
       "      <td>15</td>\n",
       "      <td>furniture</td>\n",
       "      <td>living_room</td>\n",
       "      <td>chair</td>\n",
       "      <td>yamaguchi</td>\n",
       "      <td>6215</td>\n",
       "      <td>25457453568</td>\n",
       "    </tr>\n",
       "  </tbody>\n",
       "</table>\n",
       "</div>"
      ],
      "text/plain": [
       "                     주문번호    연도  월         일  시간      제품대분류        제품중분류  \\\n",
       "9540  2313768631835558379  2020  5  Thursday  15  furniture  living_room   \n",
       "\n",
       "      제품소분류        브랜드    금액         고객번호  \n",
       "9540  chair  yamaguchi  6215  25457453568  "
      ]
     },
     "execution_count": 47,
     "metadata": {},
     "output_type": "execute_result"
    }
   ],
   "source": [
    "# 위의 결과에서 표준편차가 나오지 않은 yamaguchi 브랜드의 데이터를  df에서 찾아 출력하세요.  \n",
    "df.loc[df.브랜드 == 'yamaguchi']"
   ]
  },
  {
   "cell_type": "code",
   "execution_count": 48,
   "metadata": {},
   "outputs": [
    {
     "data": {
      "text/html": [
       "<div>\n",
       "<style scoped>\n",
       "    .dataframe tbody tr th:only-of-type {\n",
       "        vertical-align: middle;\n",
       "    }\n",
       "\n",
       "    .dataframe tbody tr th {\n",
       "        vertical-align: top;\n",
       "    }\n",
       "\n",
       "    .dataframe thead th {\n",
       "        text-align: right;\n",
       "    }\n",
       "</style>\n",
       "<table border=\"1\" class=\"dataframe\">\n",
       "  <thead>\n",
       "    <tr style=\"text-align: right;\">\n",
       "      <th></th>\n",
       "      <th></th>\n",
       "      <th>mean</th>\n",
       "      <th>std</th>\n",
       "    </tr>\n",
       "    <tr>\n",
       "      <th>브랜드</th>\n",
       "      <th>제품중분류</th>\n",
       "      <th></th>\n",
       "      <th></th>\n",
       "    </tr>\n",
       "  </thead>\n",
       "  <tbody>\n",
       "    <tr>\n",
       "      <th>NONAME</th>\n",
       "      <th>video</th>\n",
       "      <td>15819.000000</td>\n",
       "      <td>3548.261828</td>\n",
       "    </tr>\n",
       "    <tr>\n",
       "      <th>lg</th>\n",
       "      <th>smartphone</th>\n",
       "      <td>9606.000000</td>\n",
       "      <td>NaN</td>\n",
       "    </tr>\n",
       "    <tr>\n",
       "      <th>yamaguchi</th>\n",
       "      <th>living_room</th>\n",
       "      <td>6215.000000</td>\n",
       "      <td>NaN</td>\n",
       "    </tr>\n",
       "    <tr>\n",
       "      <th>technogym</th>\n",
       "      <th>trainer</th>\n",
       "      <td>4390.200000</td>\n",
       "      <td>232.103856</td>\n",
       "    </tr>\n",
       "    <tr>\n",
       "      <th>casada</th>\n",
       "      <th>peripherals</th>\n",
       "      <td>3893.133333</td>\n",
       "      <td>550.465500</td>\n",
       "    </tr>\n",
       "    <tr>\n",
       "      <th>gewa</th>\n",
       "      <th>camera</th>\n",
       "      <td>3261.000000</td>\n",
       "      <td>0.000000</td>\n",
       "    </tr>\n",
       "    <tr>\n",
       "      <th>nvidia</th>\n",
       "      <th>components</th>\n",
       "      <td>3246.000000</td>\n",
       "      <td>0.000000</td>\n",
       "    </tr>\n",
       "    <tr>\n",
       "      <th>samsung</th>\n",
       "      <th>living_room</th>\n",
       "      <td>2314.000000</td>\n",
       "      <td>0.000000</td>\n",
       "    </tr>\n",
       "    <tr>\n",
       "      <th>apple</th>\n",
       "      <th>desktop</th>\n",
       "      <td>2102.706897</td>\n",
       "      <td>915.260897</td>\n",
       "    </tr>\n",
       "    <tr>\n",
       "      <th>loewe</th>\n",
       "      <th>video</th>\n",
       "      <td>2064.800000</td>\n",
       "      <td>1609.853627</td>\n",
       "    </tr>\n",
       "    <tr>\n",
       "      <th>lg</th>\n",
       "      <th>living_room</th>\n",
       "      <td>2037.565217</td>\n",
       "      <td>83.638196</td>\n",
       "    </tr>\n",
       "    <tr>\n",
       "      <th>hitachi</th>\n",
       "      <th>kitchen</th>\n",
       "      <td>2029.375000</td>\n",
       "      <td>372.069147</td>\n",
       "    </tr>\n",
       "    <tr>\n",
       "      <th>msi</th>\n",
       "      <th>notebook</th>\n",
       "      <td>1960.200000</td>\n",
       "      <td>260.377994</td>\n",
       "    </tr>\n",
       "    <tr>\n",
       "      <th>liebherr</th>\n",
       "      <th>kitchen</th>\n",
       "      <td>1954.590909</td>\n",
       "      <td>440.274553</td>\n",
       "    </tr>\n",
       "    <tr>\n",
       "      <th>kona</th>\n",
       "      <th>bicycle</th>\n",
       "      <td>1835.333333</td>\n",
       "      <td>796.371145</td>\n",
       "    </tr>\n",
       "    <tr>\n",
       "      <th>samsung</th>\n",
       "      <th>notebook</th>\n",
       "      <td>1639.500000</td>\n",
       "      <td>309.005663</td>\n",
       "    </tr>\n",
       "    <tr>\n",
       "      <th>apple</th>\n",
       "      <th>notebook</th>\n",
       "      <td>1393.332565</td>\n",
       "      <td>618.322409</td>\n",
       "    </tr>\n",
       "    <tr>\n",
       "      <th>waterrower</th>\n",
       "      <th>trainer</th>\n",
       "      <td>1377.000000</td>\n",
       "      <td>0.000000</td>\n",
       "    </tr>\n",
       "    <tr>\n",
       "      <th>cube</th>\n",
       "      <th>bicycle</th>\n",
       "      <td>1314.500000</td>\n",
       "      <td>432.042243</td>\n",
       "    </tr>\n",
       "    <tr>\n",
       "      <th>alienware</th>\n",
       "      <th>notebook</th>\n",
       "      <td>1296.000000</td>\n",
       "      <td>NaN</td>\n",
       "    </tr>\n",
       "  </tbody>\n",
       "</table>\n",
       "</div>"
      ],
      "text/plain": [
       "                                mean          std\n",
       "브랜드        제품중분류                                 \n",
       "NONAME     video        15819.000000  3548.261828\n",
       "lg         smartphone    9606.000000          NaN\n",
       "yamaguchi  living_room   6215.000000          NaN\n",
       "technogym  trainer       4390.200000   232.103856\n",
       "casada     peripherals   3893.133333   550.465500\n",
       "gewa       camera        3261.000000     0.000000\n",
       "nvidia     components    3246.000000     0.000000\n",
       "samsung    living_room   2314.000000     0.000000\n",
       "apple      desktop       2102.706897   915.260897\n",
       "loewe      video         2064.800000  1609.853627\n",
       "lg         living_room   2037.565217    83.638196\n",
       "hitachi    kitchen       2029.375000   372.069147\n",
       "msi        notebook      1960.200000   260.377994\n",
       "liebherr   kitchen       1954.590909   440.274553\n",
       "kona       bicycle       1835.333333   796.371145\n",
       "samsung    notebook      1639.500000   309.005663\n",
       "apple      notebook      1393.332565   618.322409\n",
       "waterrower trainer       1377.000000     0.000000\n",
       "cube       bicycle       1314.500000   432.042243\n",
       "alienware  notebook      1296.000000          NaN"
      ]
     },
     "execution_count": 48,
     "metadata": {},
     "output_type": "execute_result"
    }
   ],
   "source": [
    "\n",
    "# 브랜드별, 제품중분류별 금액의 평균, 표준편차를 구하세요. \n",
    "# 평균으로 내림차순 정렬하여 상위 20개만 출력하세요. \n",
    "df.groupby(['브랜드', '제품중분류'])['금액'].agg([np.mean, np.std]).sort_values('mean',ascending=False).head(20)\n"
   ]
  },
  {
   "cell_type": "code",
   "execution_count": 49,
   "metadata": {},
   "outputs": [
    {
     "data": {
      "text/html": [
       "<div>\n",
       "<style scoped>\n",
       "    .dataframe tbody tr th:only-of-type {\n",
       "        vertical-align: middle;\n",
       "    }\n",
       "\n",
       "    .dataframe tbody tr th {\n",
       "        vertical-align: top;\n",
       "    }\n",
       "\n",
       "    .dataframe thead th {\n",
       "        text-align: right;\n",
       "    }\n",
       "</style>\n",
       "<table border=\"1\" class=\"dataframe\">\n",
       "  <thead>\n",
       "    <tr style=\"text-align: right;\">\n",
       "      <th></th>\n",
       "      <th></th>\n",
       "      <th></th>\n",
       "      <th>mean</th>\n",
       "      <th>std</th>\n",
       "    </tr>\n",
       "    <tr>\n",
       "      <th>브랜드</th>\n",
       "      <th>제품소분류</th>\n",
       "      <th>제품대분류</th>\n",
       "      <th></th>\n",
       "      <th></th>\n",
       "    </tr>\n",
       "  </thead>\n",
       "  <tbody>\n",
       "    <tr>\n",
       "      <th>NONAME</th>\n",
       "      <th>tv</th>\n",
       "      <th>electronics</th>\n",
       "      <td>15819.000000</td>\n",
       "      <td>3548.261828</td>\n",
       "    </tr>\n",
       "    <tr>\n",
       "      <th>yamaguchi</th>\n",
       "      <th>chair</th>\n",
       "      <th>furniture</th>\n",
       "      <td>6215.000000</td>\n",
       "      <td>NaN</td>\n",
       "    </tr>\n",
       "    <tr>\n",
       "      <th>casada</th>\n",
       "      <th>keyboard</th>\n",
       "      <th>computers</th>\n",
       "      <td>3893.133333</td>\n",
       "      <td>550.465500</td>\n",
       "    </tr>\n",
       "    <tr>\n",
       "      <th>gewa</th>\n",
       "      <th>video</th>\n",
       "      <th>electronics</th>\n",
       "      <td>3261.000000</td>\n",
       "      <td>0.000000</td>\n",
       "    </tr>\n",
       "    <tr>\n",
       "      <th>nvidia</th>\n",
       "      <th>videocards</th>\n",
       "      <th>computers</th>\n",
       "      <td>3246.000000</td>\n",
       "      <td>0.000000</td>\n",
       "    </tr>\n",
       "    <tr>\n",
       "      <th>smeg</th>\n",
       "      <th>refrigerators</th>\n",
       "      <th>appliances</th>\n",
       "      <td>2847.000000</td>\n",
       "      <td>NaN</td>\n",
       "    </tr>\n",
       "    <tr>\n",
       "      <th>samsung</th>\n",
       "      <th>cabinet</th>\n",
       "      <th>furniture</th>\n",
       "      <td>2314.000000</td>\n",
       "      <td>0.000000</td>\n",
       "    </tr>\n",
       "    <tr>\n",
       "      <th>aeg</th>\n",
       "      <th>washer</th>\n",
       "      <th>appliances</th>\n",
       "      <td>2080.846154</td>\n",
       "      <td>377.037541</td>\n",
       "    </tr>\n",
       "    <tr>\n",
       "      <th>loewe</th>\n",
       "      <th>tv</th>\n",
       "      <th>electronics</th>\n",
       "      <td>2064.800000</td>\n",
       "      <td>1609.853627</td>\n",
       "    </tr>\n",
       "    <tr>\n",
       "      <th>lg</th>\n",
       "      <th>cabinet</th>\n",
       "      <th>furniture</th>\n",
       "      <td>2037.565217</td>\n",
       "      <td>83.638196</td>\n",
       "    </tr>\n",
       "    <tr>\n",
       "      <th>hitachi</th>\n",
       "      <th>refrigerators</th>\n",
       "      <th>appliances</th>\n",
       "      <td>2029.375000</td>\n",
       "      <td>372.069147</td>\n",
       "    </tr>\n",
       "    <tr>\n",
       "      <th>liebherr</th>\n",
       "      <th>refrigerators</th>\n",
       "      <th>appliances</th>\n",
       "      <td>1954.590909</td>\n",
       "      <td>440.274553</td>\n",
       "    </tr>\n",
       "    <tr>\n",
       "      <th>kitchenaid</th>\n",
       "      <th>dishwasher</th>\n",
       "      <th>appliances</th>\n",
       "      <td>1851.000000</td>\n",
       "      <td>0.000000</td>\n",
       "    </tr>\n",
       "    <tr>\n",
       "      <th>cilek</th>\n",
       "      <th>cabinet</th>\n",
       "      <th>furniture</th>\n",
       "      <td>1444.000000</td>\n",
       "      <td>0.000000</td>\n",
       "    </tr>\n",
       "    <tr>\n",
       "      <th>NONAME</th>\n",
       "      <th>acoustic</th>\n",
       "      <th>electronics</th>\n",
       "      <td>1352.333333</td>\n",
       "      <td>1166.535612</td>\n",
       "    </tr>\n",
       "    <tr>\n",
       "      <th>aeg</th>\n",
       "      <th>oven</th>\n",
       "      <th>appliances</th>\n",
       "      <td>1351.076923</td>\n",
       "      <td>595.733694</td>\n",
       "    </tr>\n",
       "    <tr>\n",
       "      <th>kitchenaid</th>\n",
       "      <th>hood</th>\n",
       "      <th>appliances</th>\n",
       "      <td>1330.750000</td>\n",
       "      <td>752.495230</td>\n",
       "    </tr>\n",
       "    <tr>\n",
       "      <th>aeg</th>\n",
       "      <th>refrigerators</th>\n",
       "      <th>appliances</th>\n",
       "      <td>1319.000000</td>\n",
       "      <td>NaN</td>\n",
       "    </tr>\n",
       "    <tr>\n",
       "      <th>panasonic</th>\n",
       "      <th>photo</th>\n",
       "      <th>electronics</th>\n",
       "      <td>1284.000000</td>\n",
       "      <td>810.000000</td>\n",
       "    </tr>\n",
       "    <tr>\n",
       "      <th>electrolux</th>\n",
       "      <th>refrigerators</th>\n",
       "      <th>appliances</th>\n",
       "      <td>1202.600000</td>\n",
       "      <td>294.162087</td>\n",
       "    </tr>\n",
       "  </tbody>\n",
       "</table>\n",
       "</div>"
      ],
      "text/plain": [
       "                                              mean          std\n",
       "브랜드        제품소분류         제품대분류                                 \n",
       "NONAME     tv            electronics  15819.000000  3548.261828\n",
       "yamaguchi  chair         furniture     6215.000000          NaN\n",
       "casada     keyboard      computers     3893.133333   550.465500\n",
       "gewa       video         electronics   3261.000000     0.000000\n",
       "nvidia     videocards    computers     3246.000000     0.000000\n",
       "smeg       refrigerators appliances    2847.000000          NaN\n",
       "samsung    cabinet       furniture     2314.000000     0.000000\n",
       "aeg        washer        appliances    2080.846154   377.037541\n",
       "loewe      tv            electronics   2064.800000  1609.853627\n",
       "lg         cabinet       furniture     2037.565217    83.638196\n",
       "hitachi    refrigerators appliances    2029.375000   372.069147\n",
       "liebherr   refrigerators appliances    1954.590909   440.274553\n",
       "kitchenaid dishwasher    appliances    1851.000000     0.000000\n",
       "cilek      cabinet       furniture     1444.000000     0.000000\n",
       "NONAME     acoustic      electronics   1352.333333  1166.535612\n",
       "aeg        oven          appliances    1351.076923   595.733694\n",
       "kitchenaid hood          appliances    1330.750000   752.495230\n",
       "aeg        refrigerators appliances    1319.000000          NaN\n",
       "panasonic  photo         electronics   1284.000000   810.000000\n",
       "electrolux refrigerators appliances    1202.600000   294.162087"
      ]
     },
     "execution_count": 49,
     "metadata": {},
     "output_type": "execute_result"
    }
   ],
   "source": [
    "# 브랜드별, 제품중분류별, 제품대분류별 금액의 평균, 표준편차를 구하세요. \n",
    "# 평균으로 내림차순 정렬하여 상위 20개만 출력하세요. \n",
    "brandf = df.groupby(['브랜드', '제품소분류', '제품대분류'])['금액'].agg([np.mean, np.std]).sort_values('mean',ascending=False).head(20)\n",
    "brandf"
   ]
  },
  {
   "cell_type": "code",
   "execution_count": 50,
   "metadata": {},
   "outputs": [
    {
     "data": {
      "text/html": [
       "<div>\n",
       "<style scoped>\n",
       "    .dataframe tbody tr th:only-of-type {\n",
       "        vertical-align: middle;\n",
       "    }\n",
       "\n",
       "    .dataframe tbody tr th {\n",
       "        vertical-align: top;\n",
       "    }\n",
       "\n",
       "    .dataframe thead th {\n",
       "        text-align: right;\n",
       "    }\n",
       "</style>\n",
       "<table border=\"1\" class=\"dataframe\">\n",
       "  <thead>\n",
       "    <tr style=\"text-align: right;\">\n",
       "      <th></th>\n",
       "      <th></th>\n",
       "      <th></th>\n",
       "      <th>mean</th>\n",
       "      <th>std</th>\n",
       "      <th>cv</th>\n",
       "    </tr>\n",
       "    <tr>\n",
       "      <th>브랜드</th>\n",
       "      <th>제품소분류</th>\n",
       "      <th>제품대분류</th>\n",
       "      <th></th>\n",
       "      <th></th>\n",
       "      <th></th>\n",
       "    </tr>\n",
       "  </thead>\n",
       "  <tbody>\n",
       "    <tr>\n",
       "      <th>NONAME</th>\n",
       "      <th>tv</th>\n",
       "      <th>electronics</th>\n",
       "      <td>15819.000000</td>\n",
       "      <td>3548.261828</td>\n",
       "      <td>0.224304</td>\n",
       "    </tr>\n",
       "    <tr>\n",
       "      <th>yamaguchi</th>\n",
       "      <th>chair</th>\n",
       "      <th>furniture</th>\n",
       "      <td>6215.000000</td>\n",
       "      <td>NaN</td>\n",
       "      <td>NaN</td>\n",
       "    </tr>\n",
       "    <tr>\n",
       "      <th>casada</th>\n",
       "      <th>keyboard</th>\n",
       "      <th>computers</th>\n",
       "      <td>3893.133333</td>\n",
       "      <td>550.465500</td>\n",
       "      <td>0.141394</td>\n",
       "    </tr>\n",
       "    <tr>\n",
       "      <th>gewa</th>\n",
       "      <th>video</th>\n",
       "      <th>electronics</th>\n",
       "      <td>3261.000000</td>\n",
       "      <td>0.000000</td>\n",
       "      <td>0.000000</td>\n",
       "    </tr>\n",
       "    <tr>\n",
       "      <th>nvidia</th>\n",
       "      <th>videocards</th>\n",
       "      <th>computers</th>\n",
       "      <td>3246.000000</td>\n",
       "      <td>0.000000</td>\n",
       "      <td>0.000000</td>\n",
       "    </tr>\n",
       "    <tr>\n",
       "      <th>smeg</th>\n",
       "      <th>refrigerators</th>\n",
       "      <th>appliances</th>\n",
       "      <td>2847.000000</td>\n",
       "      <td>NaN</td>\n",
       "      <td>NaN</td>\n",
       "    </tr>\n",
       "    <tr>\n",
       "      <th>samsung</th>\n",
       "      <th>cabinet</th>\n",
       "      <th>furniture</th>\n",
       "      <td>2314.000000</td>\n",
       "      <td>0.000000</td>\n",
       "      <td>0.000000</td>\n",
       "    </tr>\n",
       "    <tr>\n",
       "      <th>aeg</th>\n",
       "      <th>washer</th>\n",
       "      <th>appliances</th>\n",
       "      <td>2080.846154</td>\n",
       "      <td>377.037541</td>\n",
       "      <td>0.181194</td>\n",
       "    </tr>\n",
       "    <tr>\n",
       "      <th>loewe</th>\n",
       "      <th>tv</th>\n",
       "      <th>electronics</th>\n",
       "      <td>2064.800000</td>\n",
       "      <td>1609.853627</td>\n",
       "      <td>0.779666</td>\n",
       "    </tr>\n",
       "    <tr>\n",
       "      <th>lg</th>\n",
       "      <th>cabinet</th>\n",
       "      <th>furniture</th>\n",
       "      <td>2037.565217</td>\n",
       "      <td>83.638196</td>\n",
       "      <td>0.041048</td>\n",
       "    </tr>\n",
       "    <tr>\n",
       "      <th>hitachi</th>\n",
       "      <th>refrigerators</th>\n",
       "      <th>appliances</th>\n",
       "      <td>2029.375000</td>\n",
       "      <td>372.069147</td>\n",
       "      <td>0.183342</td>\n",
       "    </tr>\n",
       "    <tr>\n",
       "      <th>liebherr</th>\n",
       "      <th>refrigerators</th>\n",
       "      <th>appliances</th>\n",
       "      <td>1954.590909</td>\n",
       "      <td>440.274553</td>\n",
       "      <td>0.225252</td>\n",
       "    </tr>\n",
       "    <tr>\n",
       "      <th>kitchenaid</th>\n",
       "      <th>dishwasher</th>\n",
       "      <th>appliances</th>\n",
       "      <td>1851.000000</td>\n",
       "      <td>0.000000</td>\n",
       "      <td>0.000000</td>\n",
       "    </tr>\n",
       "    <tr>\n",
       "      <th>cilek</th>\n",
       "      <th>cabinet</th>\n",
       "      <th>furniture</th>\n",
       "      <td>1444.000000</td>\n",
       "      <td>0.000000</td>\n",
       "      <td>0.000000</td>\n",
       "    </tr>\n",
       "    <tr>\n",
       "      <th>NONAME</th>\n",
       "      <th>acoustic</th>\n",
       "      <th>electronics</th>\n",
       "      <td>1352.333333</td>\n",
       "      <td>1166.535612</td>\n",
       "      <td>0.862610</td>\n",
       "    </tr>\n",
       "    <tr>\n",
       "      <th>aeg</th>\n",
       "      <th>oven</th>\n",
       "      <th>appliances</th>\n",
       "      <td>1351.076923</td>\n",
       "      <td>595.733694</td>\n",
       "      <td>0.440932</td>\n",
       "    </tr>\n",
       "    <tr>\n",
       "      <th>kitchenaid</th>\n",
       "      <th>hood</th>\n",
       "      <th>appliances</th>\n",
       "      <td>1330.750000</td>\n",
       "      <td>752.495230</td>\n",
       "      <td>0.565467</td>\n",
       "    </tr>\n",
       "    <tr>\n",
       "      <th>aeg</th>\n",
       "      <th>refrigerators</th>\n",
       "      <th>appliances</th>\n",
       "      <td>1319.000000</td>\n",
       "      <td>NaN</td>\n",
       "      <td>NaN</td>\n",
       "    </tr>\n",
       "    <tr>\n",
       "      <th>panasonic</th>\n",
       "      <th>photo</th>\n",
       "      <th>electronics</th>\n",
       "      <td>1284.000000</td>\n",
       "      <td>810.000000</td>\n",
       "      <td>0.630841</td>\n",
       "    </tr>\n",
       "    <tr>\n",
       "      <th>electrolux</th>\n",
       "      <th>refrigerators</th>\n",
       "      <th>appliances</th>\n",
       "      <td>1202.600000</td>\n",
       "      <td>294.162087</td>\n",
       "      <td>0.244605</td>\n",
       "    </tr>\n",
       "  </tbody>\n",
       "</table>\n",
       "</div>"
      ],
      "text/plain": [
       "                                              mean          std        cv\n",
       "브랜드        제품소분류         제품대분류                                           \n",
       "NONAME     tv            electronics  15819.000000  3548.261828  0.224304\n",
       "yamaguchi  chair         furniture     6215.000000          NaN       NaN\n",
       "casada     keyboard      computers     3893.133333   550.465500  0.141394\n",
       "gewa       video         electronics   3261.000000     0.000000  0.000000\n",
       "nvidia     videocards    computers     3246.000000     0.000000  0.000000\n",
       "smeg       refrigerators appliances    2847.000000          NaN       NaN\n",
       "samsung    cabinet       furniture     2314.000000     0.000000  0.000000\n",
       "aeg        washer        appliances    2080.846154   377.037541  0.181194\n",
       "loewe      tv            electronics   2064.800000  1609.853627  0.779666\n",
       "lg         cabinet       furniture     2037.565217    83.638196  0.041048\n",
       "hitachi    refrigerators appliances    2029.375000   372.069147  0.183342\n",
       "liebherr   refrigerators appliances    1954.590909   440.274553  0.225252\n",
       "kitchenaid dishwasher    appliances    1851.000000     0.000000  0.000000\n",
       "cilek      cabinet       furniture     1444.000000     0.000000  0.000000\n",
       "NONAME     acoustic      electronics   1352.333333  1166.535612  0.862610\n",
       "aeg        oven          appliances    1351.076923   595.733694  0.440932\n",
       "kitchenaid hood          appliances    1330.750000   752.495230  0.565467\n",
       "aeg        refrigerators appliances    1319.000000          NaN       NaN\n",
       "panasonic  photo         electronics   1284.000000   810.000000  0.630841\n",
       "electrolux refrigerators appliances    1202.600000   294.162087  0.244605"
      ]
     },
     "execution_count": 50,
     "metadata": {},
     "output_type": "execute_result"
    }
   ],
   "source": [
    "# brandf의 cv(변동계수) 컬럼을 새로 만들고 변동계수를 계산하여 추가하세요. \n",
    "brandf['cv'] = brandf['std']/brandf['mean']\n",
    "brandf"
   ]
  },
  {
   "cell_type": "code",
   "execution_count": 51,
   "metadata": {},
   "outputs": [
    {
     "data": {
      "text/html": [
       "<div>\n",
       "<style scoped>\n",
       "    .dataframe tbody tr th:only-of-type {\n",
       "        vertical-align: middle;\n",
       "    }\n",
       "\n",
       "    .dataframe tbody tr th {\n",
       "        vertical-align: top;\n",
       "    }\n",
       "\n",
       "    .dataframe thead th {\n",
       "        text-align: right;\n",
       "    }\n",
       "</style>\n",
       "<table border=\"1\" class=\"dataframe\">\n",
       "  <thead>\n",
       "    <tr style=\"text-align: right;\">\n",
       "      <th></th>\n",
       "      <th></th>\n",
       "      <th></th>\n",
       "      <th>mean</th>\n",
       "      <th>std</th>\n",
       "      <th>cv</th>\n",
       "    </tr>\n",
       "    <tr>\n",
       "      <th>브랜드</th>\n",
       "      <th>제품소분류</th>\n",
       "      <th>제품대분류</th>\n",
       "      <th></th>\n",
       "      <th></th>\n",
       "      <th></th>\n",
       "    </tr>\n",
       "  </thead>\n",
       "  <tbody>\n",
       "    <tr>\n",
       "      <th>gewa</th>\n",
       "      <th>video</th>\n",
       "      <th>electronics</th>\n",
       "      <td>3261.000000</td>\n",
       "      <td>0.000000</td>\n",
       "      <td>0.000000</td>\n",
       "    </tr>\n",
       "    <tr>\n",
       "      <th>nvidia</th>\n",
       "      <th>videocards</th>\n",
       "      <th>computers</th>\n",
       "      <td>3246.000000</td>\n",
       "      <td>0.000000</td>\n",
       "      <td>0.000000</td>\n",
       "    </tr>\n",
       "    <tr>\n",
       "      <th>samsung</th>\n",
       "      <th>cabinet</th>\n",
       "      <th>furniture</th>\n",
       "      <td>2314.000000</td>\n",
       "      <td>0.000000</td>\n",
       "      <td>0.000000</td>\n",
       "    </tr>\n",
       "    <tr>\n",
       "      <th>cilek</th>\n",
       "      <th>cabinet</th>\n",
       "      <th>furniture</th>\n",
       "      <td>1444.000000</td>\n",
       "      <td>0.000000</td>\n",
       "      <td>0.000000</td>\n",
       "    </tr>\n",
       "    <tr>\n",
       "      <th>kitchenaid</th>\n",
       "      <th>dishwasher</th>\n",
       "      <th>appliances</th>\n",
       "      <td>1851.000000</td>\n",
       "      <td>0.000000</td>\n",
       "      <td>0.000000</td>\n",
       "    </tr>\n",
       "    <tr>\n",
       "      <th>lg</th>\n",
       "      <th>cabinet</th>\n",
       "      <th>furniture</th>\n",
       "      <td>2037.565217</td>\n",
       "      <td>83.638196</td>\n",
       "      <td>0.041048</td>\n",
       "    </tr>\n",
       "    <tr>\n",
       "      <th>casada</th>\n",
       "      <th>keyboard</th>\n",
       "      <th>computers</th>\n",
       "      <td>3893.133333</td>\n",
       "      <td>550.465500</td>\n",
       "      <td>0.141394</td>\n",
       "    </tr>\n",
       "    <tr>\n",
       "      <th>aeg</th>\n",
       "      <th>washer</th>\n",
       "      <th>appliances</th>\n",
       "      <td>2080.846154</td>\n",
       "      <td>377.037541</td>\n",
       "      <td>0.181194</td>\n",
       "    </tr>\n",
       "    <tr>\n",
       "      <th>hitachi</th>\n",
       "      <th>refrigerators</th>\n",
       "      <th>appliances</th>\n",
       "      <td>2029.375000</td>\n",
       "      <td>372.069147</td>\n",
       "      <td>0.183342</td>\n",
       "    </tr>\n",
       "    <tr>\n",
       "      <th>NONAME</th>\n",
       "      <th>tv</th>\n",
       "      <th>electronics</th>\n",
       "      <td>15819.000000</td>\n",
       "      <td>3548.261828</td>\n",
       "      <td>0.224304</td>\n",
       "    </tr>\n",
       "    <tr>\n",
       "      <th>liebherr</th>\n",
       "      <th>refrigerators</th>\n",
       "      <th>appliances</th>\n",
       "      <td>1954.590909</td>\n",
       "      <td>440.274553</td>\n",
       "      <td>0.225252</td>\n",
       "    </tr>\n",
       "    <tr>\n",
       "      <th>electrolux</th>\n",
       "      <th>refrigerators</th>\n",
       "      <th>appliances</th>\n",
       "      <td>1202.600000</td>\n",
       "      <td>294.162087</td>\n",
       "      <td>0.244605</td>\n",
       "    </tr>\n",
       "    <tr>\n",
       "      <th>aeg</th>\n",
       "      <th>oven</th>\n",
       "      <th>appliances</th>\n",
       "      <td>1351.076923</td>\n",
       "      <td>595.733694</td>\n",
       "      <td>0.440932</td>\n",
       "    </tr>\n",
       "    <tr>\n",
       "      <th>kitchenaid</th>\n",
       "      <th>hood</th>\n",
       "      <th>appliances</th>\n",
       "      <td>1330.750000</td>\n",
       "      <td>752.495230</td>\n",
       "      <td>0.565467</td>\n",
       "    </tr>\n",
       "    <tr>\n",
       "      <th>panasonic</th>\n",
       "      <th>photo</th>\n",
       "      <th>electronics</th>\n",
       "      <td>1284.000000</td>\n",
       "      <td>810.000000</td>\n",
       "      <td>0.630841</td>\n",
       "    </tr>\n",
       "    <tr>\n",
       "      <th>loewe</th>\n",
       "      <th>tv</th>\n",
       "      <th>electronics</th>\n",
       "      <td>2064.800000</td>\n",
       "      <td>1609.853627</td>\n",
       "      <td>0.779666</td>\n",
       "    </tr>\n",
       "    <tr>\n",
       "      <th>NONAME</th>\n",
       "      <th>acoustic</th>\n",
       "      <th>electronics</th>\n",
       "      <td>1352.333333</td>\n",
       "      <td>1166.535612</td>\n",
       "      <td>0.862610</td>\n",
       "    </tr>\n",
       "    <tr>\n",
       "      <th>yamaguchi</th>\n",
       "      <th>chair</th>\n",
       "      <th>furniture</th>\n",
       "      <td>6215.000000</td>\n",
       "      <td>NaN</td>\n",
       "      <td>NaN</td>\n",
       "    </tr>\n",
       "    <tr>\n",
       "      <th>smeg</th>\n",
       "      <th>refrigerators</th>\n",
       "      <th>appliances</th>\n",
       "      <td>2847.000000</td>\n",
       "      <td>NaN</td>\n",
       "      <td>NaN</td>\n",
       "    </tr>\n",
       "    <tr>\n",
       "      <th>aeg</th>\n",
       "      <th>refrigerators</th>\n",
       "      <th>appliances</th>\n",
       "      <td>1319.000000</td>\n",
       "      <td>NaN</td>\n",
       "      <td>NaN</td>\n",
       "    </tr>\n",
       "  </tbody>\n",
       "</table>\n",
       "</div>"
      ],
      "text/plain": [
       "                                              mean          std        cv\n",
       "브랜드        제품소분류         제품대분류                                           \n",
       "gewa       video         electronics   3261.000000     0.000000  0.000000\n",
       "nvidia     videocards    computers     3246.000000     0.000000  0.000000\n",
       "samsung    cabinet       furniture     2314.000000     0.000000  0.000000\n",
       "cilek      cabinet       furniture     1444.000000     0.000000  0.000000\n",
       "kitchenaid dishwasher    appliances    1851.000000     0.000000  0.000000\n",
       "lg         cabinet       furniture     2037.565217    83.638196  0.041048\n",
       "casada     keyboard      computers     3893.133333   550.465500  0.141394\n",
       "aeg        washer        appliances    2080.846154   377.037541  0.181194\n",
       "hitachi    refrigerators appliances    2029.375000   372.069147  0.183342\n",
       "NONAME     tv            electronics  15819.000000  3548.261828  0.224304\n",
       "liebherr   refrigerators appliances    1954.590909   440.274553  0.225252\n",
       "electrolux refrigerators appliances    1202.600000   294.162087  0.244605\n",
       "aeg        oven          appliances    1351.076923   595.733694  0.440932\n",
       "kitchenaid hood          appliances    1330.750000   752.495230  0.565467\n",
       "panasonic  photo         electronics   1284.000000   810.000000  0.630841\n",
       "loewe      tv            electronics   2064.800000  1609.853627  0.779666\n",
       "NONAME     acoustic      electronics   1352.333333  1166.535612  0.862610\n",
       "yamaguchi  chair         furniture     6215.000000          NaN       NaN\n",
       "smeg       refrigerators appliances    2847.000000          NaN       NaN\n",
       "aeg        refrigerators appliances    1319.000000          NaN       NaN"
      ]
     },
     "execution_count": 51,
     "metadata": {},
     "output_type": "execute_result"
    }
   ],
   "source": [
    "# cv별로 오름차순으로 정렬하세요. \n",
    "brandf.sort_values('cv')"
   ]
  },
  {
   "attachments": {},
   "cell_type": "markdown",
   "metadata": {},
   "source": [
    "### 요일분석"
   ]
  },
  {
   "cell_type": "code",
   "execution_count": 52,
   "metadata": {
    "colab": {
     "base_uri": "https://localhost:8080/",
     "height": 297
    },
    "id": "D3lyn9XiPFLS",
    "outputId": "1dd7896d-7879-4b37-e86c-147cbbf4c63f"
   },
   "outputs": [
    {
     "data": {
      "text/html": [
       "<div>\n",
       "<style scoped>\n",
       "    .dataframe tbody tr th:only-of-type {\n",
       "        vertical-align: middle;\n",
       "    }\n",
       "\n",
       "    .dataframe tbody tr th {\n",
       "        vertical-align: top;\n",
       "    }\n",
       "\n",
       "    .dataframe thead th {\n",
       "        text-align: right;\n",
       "    }\n",
       "</style>\n",
       "<table border=\"1\" class=\"dataframe\">\n",
       "  <thead>\n",
       "    <tr style=\"text-align: right;\">\n",
       "      <th></th>\n",
       "      <th>count</th>\n",
       "      <th>sum</th>\n",
       "    </tr>\n",
       "    <tr>\n",
       "      <th>일</th>\n",
       "      <th></th>\n",
       "      <th></th>\n",
       "    </tr>\n",
       "  </thead>\n",
       "  <tbody>\n",
       "    <tr>\n",
       "      <th>Friday</th>\n",
       "      <td>232417</td>\n",
       "      <td>45015046</td>\n",
       "    </tr>\n",
       "    <tr>\n",
       "      <th>Monday</th>\n",
       "      <td>222162</td>\n",
       "      <td>42088127</td>\n",
       "    </tr>\n",
       "    <tr>\n",
       "      <th>Saturday</th>\n",
       "      <td>240304</td>\n",
       "      <td>46780097</td>\n",
       "    </tr>\n",
       "    <tr>\n",
       "      <th>Sunday</th>\n",
       "      <td>224254</td>\n",
       "      <td>43913407</td>\n",
       "    </tr>\n",
       "    <tr>\n",
       "      <th>Thursday</th>\n",
       "      <td>210275</td>\n",
       "      <td>39163548</td>\n",
       "    </tr>\n",
       "    <tr>\n",
       "      <th>Tuesday</th>\n",
       "      <td>230571</td>\n",
       "      <td>42787477</td>\n",
       "    </tr>\n",
       "    <tr>\n",
       "      <th>Wednesday</th>\n",
       "      <td>218808</td>\n",
       "      <td>40544623</td>\n",
       "    </tr>\n",
       "  </tbody>\n",
       "</table>\n",
       "</div>"
      ],
      "text/plain": [
       "            count       sum\n",
       "일                          \n",
       "Friday     232417  45015046\n",
       "Monday     222162  42088127\n",
       "Saturday   240304  46780097\n",
       "Sunday     224254  43913407\n",
       "Thursday   210275  39163548\n",
       "Tuesday    230571  42787477\n",
       "Wednesday  218808  40544623"
      ]
     },
     "execution_count": 52,
     "metadata": {},
     "output_type": "execute_result"
    }
   ],
   "source": [
    "# 요일별 평균 거래 건수와 금액 정보를 계산합니다.\n",
    "daily = df.groupby('일')['금액'].agg(['count', 'sum'])\n",
    "daily"
   ]
  },
  {
   "cell_type": "code",
   "execution_count": 53,
   "metadata": {
    "colab": {
     "base_uri": "https://localhost:8080/",
     "height": 333
    },
    "id": "guTsuz4nPFLS",
    "outputId": "183343c1-918f-4fdf-91c3-26f1bacf37d5"
   },
   "outputs": [
    {
     "data": {
      "image/png": "[encoded data removed]",
      "text/plain": [
       "<Figure size 640x480 with 3 Axes>"
      ]
     },
     "metadata": {},
     "output_type": "display_data"
    }
   ],
   "source": [
    "# 계산된 정보를 이용하여 데이터를 시각화 합니다.\n",
    "fig, axis_y1 = plt.subplots() # Figure 객체 정의 (Figure == 도화지)\n",
    "axis_y2 = axis_y1.twinx() # Figure 객체의 Y축을 복사 -> 이중 축 설정 -> 좌우 축 추가 \n",
    "daily['sum'].plot(kind='line', secondary_y=True, ax=axis_y2, c='red') # 라인 차트 시각화\n",
    "daily['count'].plot(kind='bar', stacked=True, ax=axis_y1)\n",
    "plt.show()"
   ]
  },
  {
   "cell_type": "code",
   "execution_count": 54,
   "metadata": {
    "colab": {
     "base_uri": "https://localhost:8080/",
     "height": 824
    },
    "id": "u5d0UOOaPFLS",
    "outputId": "e3b71593-34ed-4be0-e86e-edba48aea79a"
   },
   "outputs": [
    {
     "data": {
      "text/html": [
       "<div>\n",
       "<style scoped>\n",
       "    .dataframe tbody tr th:only-of-type {\n",
       "        vertical-align: middle;\n",
       "    }\n",
       "\n",
       "    .dataframe tbody tr th {\n",
       "        vertical-align: top;\n",
       "    }\n",
       "\n",
       "    .dataframe thead th {\n",
       "        text-align: right;\n",
       "    }\n",
       "</style>\n",
       "<table border=\"1\" class=\"dataframe\">\n",
       "  <thead>\n",
       "    <tr style=\"text-align: right;\">\n",
       "      <th></th>\n",
       "      <th>count</th>\n",
       "      <th>sum</th>\n",
       "    </tr>\n",
       "    <tr>\n",
       "      <th>시간</th>\n",
       "      <th></th>\n",
       "      <th></th>\n",
       "    </tr>\n",
       "  </thead>\n",
       "  <tbody>\n",
       "    <tr>\n",
       "      <th>0</th>\n",
       "      <td>32081</td>\n",
       "      <td>7935506</td>\n",
       "    </tr>\n",
       "    <tr>\n",
       "      <th>1</th>\n",
       "      <td>16082</td>\n",
       "      <td>4615736</td>\n",
       "    </tr>\n",
       "    <tr>\n",
       "      <th>2</th>\n",
       "      <td>9764</td>\n",
       "      <td>2934458</td>\n",
       "    </tr>\n",
       "    <tr>\n",
       "      <th>3</th>\n",
       "      <td>7465</td>\n",
       "      <td>2151117</td>\n",
       "    </tr>\n",
       "    <tr>\n",
       "      <th>4</th>\n",
       "      <td>3943</td>\n",
       "      <td>1222274</td>\n",
       "    </tr>\n",
       "    <tr>\n",
       "      <th>5</th>\n",
       "      <td>2678</td>\n",
       "      <td>823625</td>\n",
       "    </tr>\n",
       "    <tr>\n",
       "      <th>6</th>\n",
       "      <td>1930</td>\n",
       "      <td>628602</td>\n",
       "    </tr>\n",
       "    <tr>\n",
       "      <th>7</th>\n",
       "      <td>2228</td>\n",
       "      <td>662002</td>\n",
       "    </tr>\n",
       "    <tr>\n",
       "      <th>8</th>\n",
       "      <td>2586</td>\n",
       "      <td>755790</td>\n",
       "    </tr>\n",
       "    <tr>\n",
       "      <th>9</th>\n",
       "      <td>2896</td>\n",
       "      <td>880259</td>\n",
       "    </tr>\n",
       "    <tr>\n",
       "      <th>10</th>\n",
       "      <td>4240</td>\n",
       "      <td>1185860</td>\n",
       "    </tr>\n",
       "    <tr>\n",
       "      <th>11</th>\n",
       "      <td>6765</td>\n",
       "      <td>1932065</td>\n",
       "    </tr>\n",
       "    <tr>\n",
       "      <th>12</th>\n",
       "      <td>15349</td>\n",
       "      <td>3949554</td>\n",
       "    </tr>\n",
       "    <tr>\n",
       "      <th>13</th>\n",
       "      <td>65270</td>\n",
       "      <td>10523274</td>\n",
       "    </tr>\n",
       "    <tr>\n",
       "      <th>14</th>\n",
       "      <td>122532</td>\n",
       "      <td>20799352</td>\n",
       "    </tr>\n",
       "    <tr>\n",
       "      <th>15</th>\n",
       "      <td>150183</td>\n",
       "      <td>26257102</td>\n",
       "    </tr>\n",
       "    <tr>\n",
       "      <th>16</th>\n",
       "      <td>161493</td>\n",
       "      <td>28682467</td>\n",
       "    </tr>\n",
       "    <tr>\n",
       "      <th>17</th>\n",
       "      <td>162514</td>\n",
       "      <td>29521966</td>\n",
       "    </tr>\n",
       "    <tr>\n",
       "      <th>18</th>\n",
       "      <td>172519</td>\n",
       "      <td>31556369</td>\n",
       "    </tr>\n",
       "    <tr>\n",
       "      <th>19</th>\n",
       "      <td>178700</td>\n",
       "      <td>32952242</td>\n",
       "    </tr>\n",
       "    <tr>\n",
       "      <th>20</th>\n",
       "      <td>162915</td>\n",
       "      <td>30603496</td>\n",
       "    </tr>\n",
       "    <tr>\n",
       "      <th>21</th>\n",
       "      <td>132606</td>\n",
       "      <td>25511502</td>\n",
       "    </tr>\n",
       "    <tr>\n",
       "      <th>22</th>\n",
       "      <td>103803</td>\n",
       "      <td>20909369</td>\n",
       "    </tr>\n",
       "    <tr>\n",
       "      <th>23</th>\n",
       "      <td>58249</td>\n",
       "      <td>13298338</td>\n",
       "    </tr>\n",
       "  </tbody>\n",
       "</table>\n",
       "</div>"
      ],
      "text/plain": [
       "     count       sum\n",
       "시간                  \n",
       "0    32081   7935506\n",
       "1    16082   4615736\n",
       "2     9764   2934458\n",
       "3     7465   2151117\n",
       "4     3943   1222274\n",
       "5     2678    823625\n",
       "6     1930    628602\n",
       "7     2228    662002\n",
       "8     2586    755790\n",
       "9     2896    880259\n",
       "10    4240   1185860\n",
       "11    6765   1932065\n",
       "12   15349   3949554\n",
       "13   65270  10523274\n",
       "14  122532  20799352\n",
       "15  150183  26257102\n",
       "16  161493  28682467\n",
       "17  162514  29521966\n",
       "18  172519  31556369\n",
       "19  178700  32952242\n",
       "20  162915  30603496\n",
       "21  132606  25511502\n",
       "22  103803  20909369\n",
       "23   58249  13298338"
      ]
     },
     "execution_count": 54,
     "metadata": {},
     "output_type": "execute_result"
    }
   ],
   "source": [
    "# 시간별 평균 거래건수와 금액 정보를 계산합니다.\n",
    "hourly = df.groupby('시간')['금액'].agg(['count', 'sum'])\n",
    "hourly"
   ]
  },
  {
   "cell_type": "code",
   "execution_count": 55,
   "metadata": {
    "colab": {
     "base_uri": "https://localhost:8080/",
     "height": 291
    },
    "id": "8Lz_-cp9PFLS",
    "outputId": "e1bd4a53-55d1-48d0-8f0a-8982d3dcb2c9"
   },
   "outputs": [
    {
     "data": {
      "image/png": "[encoded data removed]",
      "text/plain": [
       "<Figure size 640x480 with 3 Axes>"
      ]
     },
     "metadata": {},
     "output_type": "display_data"
    }
   ],
   "source": [
    "# 두개의 겹쳐진그래프를 출력하세요. \n",
    "# hourly의 sum 은 라인그래프로 출력하세요. secondary_y=True, ax=ax1, c='red'\n",
    "# hourly의 count는 막대그래프로 출력하세요. stacked=True, ax=ax0\n",
    "\n",
    "fig, ax0 = plt.subplots()\n",
    "ax1 = ax0.twinx()\n",
    "hourly['sum'].plot(kind='line', secondary_y=True, ax=ax1, c='red')\n",
    "hourly['count'].plot(kind='bar', stacked=True, ax=ax0)\n",
    "plt.show()"
   ]
  },
  {
   "cell_type": "code",
   "execution_count": 56,
   "metadata": {
    "colab": {
     "base_uri": "https://localhost:8080/"
    },
    "id": "oALuDJUfPFLT",
    "outputId": "ef5f848f-ad8d-428d-dafa-106bec0f9563"
   },
   "outputs": [
    {
     "data": {
      "text/plain": [
       "제품대분류\n",
       "appliances     605613\n",
       "electronics    544564\n",
       "computers      221388\n",
       "furniture      120477\n",
       "stationery      39280\n",
       "Name: count, dtype: int64"
      ]
     },
     "execution_count": 56,
     "metadata": {},
     "output_type": "execute_result"
    }
   ],
   "source": [
    "# 제품대분류 유형별 개수를 계산하여 상위 5개를 출력하세요.\n",
    "df['제품대분류'].value_counts().head()\n",
    "# 가전제품, 전자제품(태블릿,핸드폰등), 컴퓨터, 가구, 문구류 등 순으로 매출 발생"
   ]
  },
  {
   "cell_type": "code",
   "execution_count": 57,
   "metadata": {
    "colab": {
     "base_uri": "https://localhost:8080/"
    },
    "id": "re-KtoXiPFLT",
    "outputId": "7b2a9ea8-593d-4a0f-9734-7aeba1b90334"
   },
   "outputs": [
    {
     "data": {
      "text/plain": [
       "제품중분류\n",
       "kitchen        440478\n",
       "smartphone     354848\n",
       "environment    128287\n",
       "peripherals     79277\n",
       "video           71266\n",
       "Name: count, dtype: int64"
      ]
     },
     "execution_count": 57,
     "metadata": {},
     "output_type": "execute_result"
    }
   ],
   "source": [
    "# 제품중분류 유형별 개수를 계산하여 상위 5개를 출력하세요.\n",
    "df['제품중분류'].value_counts().head()"
   ]
  },
  {
   "cell_type": "code",
   "execution_count": 58,
   "metadata": {
    "colab": {
     "base_uri": "https://localhost:8080/",
     "height": 419
    },
    "id": "HsF1eAeXSiUm",
    "outputId": "6a253c67-fbdc-4236-b6e6-650aadf8bc0f"
   },
   "outputs": [
    {
     "data": {
      "text/html": [
       "<div>\n",
       "<style scoped>\n",
       "    .dataframe tbody tr th:only-of-type {\n",
       "        vertical-align: middle;\n",
       "    }\n",
       "\n",
       "    .dataframe tbody tr th {\n",
       "        vertical-align: top;\n",
       "    }\n",
       "\n",
       "    .dataframe thead th {\n",
       "        text-align: right;\n",
       "    }\n",
       "</style>\n",
       "<table border=\"1\" class=\"dataframe\">\n",
       "  <thead>\n",
       "    <tr style=\"text-align: right;\">\n",
       "      <th></th>\n",
       "      <th>주문번호</th>\n",
       "      <th>연도</th>\n",
       "      <th>월</th>\n",
       "      <th>일</th>\n",
       "      <th>시간</th>\n",
       "      <th>제품대분류</th>\n",
       "      <th>제품중분류</th>\n",
       "      <th>제품소분류</th>\n",
       "      <th>브랜드</th>\n",
       "      <th>금액</th>\n",
       "      <th>고객번호</th>\n",
       "    </tr>\n",
       "  </thead>\n",
       "  <tbody>\n",
       "    <tr>\n",
       "      <th>64</th>\n",
       "      <td>2298030363735228851</td>\n",
       "      <td>2020</td>\n",
       "      <td>4</td>\n",
       "      <td>Wednesday</td>\n",
       "      <td>22</td>\n",
       "      <td>appliances</td>\n",
       "      <td>environment</td>\n",
       "      <td>air_heater</td>\n",
       "      <td>ava</td>\n",
       "      <td>11</td>\n",
       "      <td>25451561728</td>\n",
       "    </tr>\n",
       "    <tr>\n",
       "      <th>87</th>\n",
       "      <td>2298054179261776552</td>\n",
       "      <td>2020</td>\n",
       "      <td>4</td>\n",
       "      <td>Wednesday</td>\n",
       "      <td>23</td>\n",
       "      <td>appliances</td>\n",
       "      <td>environment</td>\n",
       "      <td>vacuum</td>\n",
       "      <td>thomas</td>\n",
       "      <td>15</td>\n",
       "      <td>25452247552</td>\n",
       "    </tr>\n",
       "    <tr>\n",
       "      <th>89</th>\n",
       "      <td>2298057884467986457</td>\n",
       "      <td>2020</td>\n",
       "      <td>4</td>\n",
       "      <td>Wednesday</td>\n",
       "      <td>23</td>\n",
       "      <td>appliances</td>\n",
       "      <td>environment</td>\n",
       "      <td>water_heater</td>\n",
       "      <td>ariston</td>\n",
       "      <td>118</td>\n",
       "      <td>25452244992</td>\n",
       "    </tr>\n",
       "    <tr>\n",
       "      <th>97</th>\n",
       "      <td>2298061556522418577</td>\n",
       "      <td>2020</td>\n",
       "      <td>4</td>\n",
       "      <td>Wednesday</td>\n",
       "      <td>23</td>\n",
       "      <td>appliances</td>\n",
       "      <td>environment</td>\n",
       "      <td>vacuum</td>\n",
       "      <td>samsung</td>\n",
       "      <td>69</td>\n",
       "      <td>25449335296</td>\n",
       "    </tr>\n",
       "    <tr>\n",
       "      <th>139</th>\n",
       "      <td>2298121410213577508</td>\n",
       "      <td>2020</td>\n",
       "      <td>4</td>\n",
       "      <td>Thursday</td>\n",
       "      <td>1</td>\n",
       "      <td>appliances</td>\n",
       "      <td>environment</td>\n",
       "      <td>water_heater</td>\n",
       "      <td>ariston</td>\n",
       "      <td>118</td>\n",
       "      <td>25452244992</td>\n",
       "    </tr>\n",
       "    <tr>\n",
       "      <th>...</th>\n",
       "      <td>...</td>\n",
       "      <td>...</td>\n",
       "      <td>...</td>\n",
       "      <td>...</td>\n",
       "      <td>...</td>\n",
       "      <td>...</td>\n",
       "      <td>...</td>\n",
       "      <td>...</td>\n",
       "      <td>...</td>\n",
       "      <td>...</td>\n",
       "      <td>...</td>\n",
       "    </tr>\n",
       "    <tr>\n",
       "      <th>1589317</th>\n",
       "      <td>2388440981134693900</td>\n",
       "      <td>2020</td>\n",
       "      <td>11</td>\n",
       "      <td>Saturday</td>\n",
       "      <td>17</td>\n",
       "      <td>appliances</td>\n",
       "      <td>environment</td>\n",
       "      <td>fan</td>\n",
       "      <td>ava</td>\n",
       "      <td>11</td>\n",
       "      <td>25514886656</td>\n",
       "    </tr>\n",
       "    <tr>\n",
       "      <th>1589332</th>\n",
       "      <td>2388440981134693912</td>\n",
       "      <td>2020</td>\n",
       "      <td>11</td>\n",
       "      <td>Saturday</td>\n",
       "      <td>18</td>\n",
       "      <td>appliances</td>\n",
       "      <td>environment</td>\n",
       "      <td>air_heater</td>\n",
       "      <td>ava</td>\n",
       "      <td>43</td>\n",
       "      <td>25486174720</td>\n",
       "    </tr>\n",
       "    <tr>\n",
       "      <th>1589342</th>\n",
       "      <td>2388440981134693922</td>\n",
       "      <td>2020</td>\n",
       "      <td>11</td>\n",
       "      <td>Saturday</td>\n",
       "      <td>18</td>\n",
       "      <td>appliances</td>\n",
       "      <td>environment</td>\n",
       "      <td>vacuum</td>\n",
       "      <td>samsung</td>\n",
       "      <td>69</td>\n",
       "      <td>25505554432</td>\n",
       "    </tr>\n",
       "    <tr>\n",
       "      <th>1589350</th>\n",
       "      <td>2388440981134693931</td>\n",
       "      <td>2020</td>\n",
       "      <td>11</td>\n",
       "      <td>Saturday</td>\n",
       "      <td>18</td>\n",
       "      <td>appliances</td>\n",
       "      <td>environment</td>\n",
       "      <td>air_heater</td>\n",
       "      <td>ava</td>\n",
       "      <td>43</td>\n",
       "      <td>25449876224</td>\n",
       "    </tr>\n",
       "    <tr>\n",
       "      <th>1589355</th>\n",
       "      <td>2388440981134693936</td>\n",
       "      <td>2020</td>\n",
       "      <td>11</td>\n",
       "      <td>Saturday</td>\n",
       "      <td>19</td>\n",
       "      <td>appliances</td>\n",
       "      <td>environment</td>\n",
       "      <td>air_heater</td>\n",
       "      <td>resanta</td>\n",
       "      <td>46</td>\n",
       "      <td>25512106496</td>\n",
       "    </tr>\n",
       "  </tbody>\n",
       "</table>\n",
       "<p>128287 rows × 11 columns</p>\n",
       "</div>"
      ],
      "text/plain": [
       "                        주문번호    연도   월          일  시간       제품대분류  \\\n",
       "64       2298030363735228851  2020   4  Wednesday  22  appliances   \n",
       "87       2298054179261776552  2020   4  Wednesday  23  appliances   \n",
       "89       2298057884467986457  2020   4  Wednesday  23  appliances   \n",
       "97       2298061556522418577  2020   4  Wednesday  23  appliances   \n",
       "139      2298121410213577508  2020   4   Thursday   1  appliances   \n",
       "...                      ...   ...  ..        ...  ..         ...   \n",
       "1589317  2388440981134693900  2020  11   Saturday  17  appliances   \n",
       "1589332  2388440981134693912  2020  11   Saturday  18  appliances   \n",
       "1589342  2388440981134693922  2020  11   Saturday  18  appliances   \n",
       "1589350  2388440981134693931  2020  11   Saturday  18  appliances   \n",
       "1589355  2388440981134693936  2020  11   Saturday  19  appliances   \n",
       "\n",
       "               제품중분류         제품소분류      브랜드   금액         고객번호  \n",
       "64       environment    air_heater      ava   11  25451561728  \n",
       "87       environment        vacuum   thomas   15  25452247552  \n",
       "89       environment  water_heater  ariston  118  25452244992  \n",
       "97       environment        vacuum  samsung   69  25449335296  \n",
       "139      environment  water_heater  ariston  118  25452244992  \n",
       "...              ...           ...      ...  ...          ...  \n",
       "1589317  environment           fan      ava   11  25514886656  \n",
       "1589332  environment    air_heater      ava   43  25486174720  \n",
       "1589342  environment        vacuum  samsung   69  25505554432  \n",
       "1589350  environment    air_heater      ava   43  25449876224  \n",
       "1589355  environment    air_heater  resanta   46  25512106496  \n",
       "\n",
       "[128287 rows x 11 columns]"
      ]
     },
     "execution_count": 58,
     "metadata": {},
     "output_type": "execute_result"
    }
   ],
   "source": [
    "# 특정 컬럼의 값이 궁금할 때\n",
    "df[df['제품중분류']=='environment']"
   ]
  },
  {
   "cell_type": "code",
   "execution_count": 59,
   "metadata": {
    "colab": {
     "base_uri": "https://localhost:8080/"
    },
    "id": "c6EpOaLzPFLT",
    "outputId": "7a987f0a-1ff1-43cb-e948-782d3b24c194"
   },
   "outputs": [
    {
     "data": {
      "text/plain": [
       "제품소분류\n",
       "refrigerators    77023\n",
       "tv               70995\n",
       "vacuum           65983\n",
       "headphone        65650\n",
       "kettle           62309\n",
       "Name: count, dtype: int64"
      ]
     },
     "execution_count": 59,
     "metadata": {},
     "output_type": "execute_result"
    }
   ],
   "source": [
    "# 제품소분류 유형별 개수를 계산하여 상위 5개를 출력하세요.\n",
    "df['제품소분류'].value_counts().head()"
   ]
  },
  {
   "cell_type": "code",
   "execution_count": 60,
   "metadata": {
    "colab": {
     "base_uri": "https://localhost:8080/",
     "height": 450
    },
    "id": "r44c3qdyPFLT",
    "outputId": "7d439e1a-a3b1-44be-ba6a-3df7e3947e29"
   },
   "outputs": [
    {
     "data": {
      "text/html": [
       "<div>\n",
       "<style scoped>\n",
       "    .dataframe tbody tr th:only-of-type {\n",
       "        vertical-align: middle;\n",
       "    }\n",
       "\n",
       "    .dataframe tbody tr th {\n",
       "        vertical-align: top;\n",
       "    }\n",
       "\n",
       "    .dataframe thead th {\n",
       "        text-align: right;\n",
       "    }\n",
       "</style>\n",
       "<table border=\"1\" class=\"dataframe\">\n",
       "  <thead>\n",
       "    <tr style=\"text-align: right;\">\n",
       "      <th></th>\n",
       "      <th></th>\n",
       "      <th>mean</th>\n",
       "      <th>sum</th>\n",
       "    </tr>\n",
       "    <tr>\n",
       "      <th>제품대분류</th>\n",
       "      <th>제품중분류</th>\n",
       "      <th></th>\n",
       "      <th></th>\n",
       "    </tr>\n",
       "  </thead>\n",
       "  <tbody>\n",
       "    <tr>\n",
       "      <th rowspan=\"2\" valign=\"top\">accessories</th>\n",
       "      <th>bag</th>\n",
       "      <td>18.808542</td>\n",
       "      <td>253652</td>\n",
       "    </tr>\n",
       "    <tr>\n",
       "      <th>umbrella</th>\n",
       "      <td>66.470588</td>\n",
       "      <td>2260</td>\n",
       "    </tr>\n",
       "    <tr>\n",
       "      <th rowspan=\"3\" valign=\"top\">apparel</th>\n",
       "      <th>costume</th>\n",
       "      <td>21.000000</td>\n",
       "      <td>42</td>\n",
       "    </tr>\n",
       "    <tr>\n",
       "      <th>glove</th>\n",
       "      <td>399.329570</td>\n",
       "      <td>1839312</td>\n",
       "    </tr>\n",
       "    <tr>\n",
       "      <th>shirt</th>\n",
       "      <td>31.498439</td>\n",
       "      <td>30270</td>\n",
       "    </tr>\n",
       "    <tr>\n",
       "      <th>...</th>\n",
       "      <th>...</th>\n",
       "      <td>...</td>\n",
       "      <td>...</td>\n",
       "    </tr>\n",
       "    <tr>\n",
       "      <th>sport</th>\n",
       "      <th>trainer</th>\n",
       "      <td>291.840183</td>\n",
       "      <td>63913</td>\n",
       "    </tr>\n",
       "    <tr>\n",
       "      <th rowspan=\"4\" valign=\"top\">stationery</th>\n",
       "      <th>battery</th>\n",
       "      <td>2.724328</td>\n",
       "      <td>67359</td>\n",
       "    </tr>\n",
       "    <tr>\n",
       "      <th>cartrige</th>\n",
       "      <td>12.068975</td>\n",
       "      <td>128957</td>\n",
       "    </tr>\n",
       "    <tr>\n",
       "      <th>paper</th>\n",
       "      <td>4.087796</td>\n",
       "      <td>15039</td>\n",
       "    </tr>\n",
       "    <tr>\n",
       "      <th>stapler</th>\n",
       "      <td>28.507853</td>\n",
       "      <td>5445</td>\n",
       "    </tr>\n",
       "  </tbody>\n",
       "</table>\n",
       "<p>61 rows × 2 columns</p>\n",
       "</div>"
      ],
      "text/plain": [
       "                            mean      sum\n",
       "제품대분류       제품중분류                        \n",
       "accessories bag        18.808542   253652\n",
       "            umbrella   66.470588     2260\n",
       "apparel     costume    21.000000       42\n",
       "            glove     399.329570  1839312\n",
       "            shirt      31.498439    30270\n",
       "...                          ...      ...\n",
       "sport       trainer   291.840183    63913\n",
       "stationery  battery     2.724328    67359\n",
       "            cartrige   12.068975   128957\n",
       "            paper       4.087796    15039\n",
       "            stapler    28.507853     5445\n",
       "\n",
       "[61 rows x 2 columns]"
      ]
     },
     "execution_count": 60,
     "metadata": {},
     "output_type": "execute_result"
    }
   ],
   "source": [
    "# 통계 분석 : 제품 대분류별, 제품중분류별 판매 금액의 합계 금액과 평균 금액를 계산합니다.\n",
    "sales=df.groupby(['제품대분류', '제품중분류'])['금액'].agg(['mean', 'sum'])\n",
    "sales"
   ]
  },
  {
   "cell_type": "code",
   "execution_count": 61,
   "metadata": {
    "colab": {
     "base_uri": "https://localhost:8080/",
     "height": 575
    },
    "id": "Y3BFpbCkPFLU",
    "outputId": "d6b17608-dea8-476f-8ef7-d94580dbaf5f",
    "scrolled": true
   },
   "outputs": [
    {
     "data": {
      "image/png": "[encoded data removed]",
      "text/plain": [
       "<Figure size 1000x1000 with 1 Axes>"
      ]
     },
     "metadata": {},
     "output_type": "display_data"
    }
   ],
   "source": [
    "# 제품대분류가 전자제품인 제품중분류별 매출평균을 파이차트로 시각화 하세요.  \n",
    "# 힌트: figsize=(10, 10), autopct='%.2f%%', fontsize=15 \n",
    "electronics = sales.loc['electronics', :]\n",
    "electronics.plot.pie(y='mean', figsize=(10, 10), autopct='%.2f%%', fontsize=15)     \n",
    "plt.show()"
   ]
  },
  {
   "cell_type": "code",
   "execution_count": 62,
   "metadata": {
    "colab": {
     "base_uri": "https://localhost:8080/",
     "height": 575
    },
    "id": "cnO11VmeVKO1",
    "outputId": "f9291300-7dc8-447a-8689-0d2dbc240b5f"
   },
   "outputs": [
    {
     "data": {
      "image/png": "[encoded data removed]",
      "text/plain": [
       "<Figure size 1000x1000 with 1 Axes>"
      ]
     },
     "metadata": {},
     "output_type": "display_data"
    }
   ],
   "source": [
    "# 제품대분류가 의류(apparel)인, 제품중분류별 매출평균을 파이차트로 시각화하세요. \n",
    "apparel = sales.loc['apparel', :]\n",
    "apparel.plot.pie(y='mean', figsize=(10, 10), autopct='%.2f%%', fontsize=15)      \n",
    "plt.show()"
   ]
  },
  {
   "cell_type": "code",
   "execution_count": 63,
   "metadata": {
    "colab": {
     "base_uri": "https://localhost:8080/",
     "height": 606
    },
    "id": "yg1TnmWdPFLU",
    "outputId": "39cd14c2-44c6-48cc-e6f9-2e97efc5e49e"
   },
   "outputs": [
    {
     "data": {
      "image/png": "[encoded data removed]",
      "text/plain": [
       "<Figure size 2000x1000 with 1 Axes>"
      ]
     },
     "metadata": {},
     "output_type": "display_data"
    }
   ],
   "source": [
    "# 제품 대분류별 금액의 분포와 이상치를 박스플랏으로 시각화하세요. \n",
    "# seaborn의 박스플랏을 이용해보세요. \n",
    "plt.figure(figsize=(20, 10))\n",
    "sns.boxplot(data=df, x='제품대분류', y='금액')\n",
    "plt.show()"
   ]
  },
  {
   "cell_type": "code",
   "execution_count": 64,
   "metadata": {
    "colab": {
     "base_uri": "https://localhost:8080/",
     "height": 606
    },
    "id": "9AHTeB7_PFLU",
    "outputId": "b87298fe-61e7-456e-af3e-dc30ff721118"
   },
   "outputs": [
    {
     "data": {
      "image/png": "[encoded data removed]",
      "text/plain": [
       "<Figure size 2000x1000 with 1 Axes>"
      ]
     },
     "metadata": {},
     "output_type": "display_data"
    }
   ],
   "source": [
    "# 제품대분류가 computers 인 제품들을 추출하고,  computers 제품들의  제품중분류별 금액을 boxplot으로 그려보자.\n",
    "# seaborn의 boxplot을 이용해보세요.\n",
    "\n",
    "computers = df[df['제품대분류'] == 'computers']\n",
    "plt.figure(figsize=(20, 10))\n",
    "sns.boxplot(data=computers, x='제품중분류', y='금액')\n",
    "plt.show()"
   ]
  },
  {
   "attachments": {},
   "cell_type": "markdown",
   "metadata": {},
   "source": [
    "### 매출금액분석"
   ]
  },
  {
   "cell_type": "code",
   "execution_count": 65,
   "metadata": {},
   "outputs": [
    {
     "data": {
      "text/plain": [
       "8.506988859725782"
      ]
     },
     "execution_count": 65,
     "metadata": {},
     "output_type": "execute_result"
    }
   ],
   "source": [
    "# df의 금액컬럼에 대해 왜도를 구하세요. \n",
    "\n",
    "from scipy.stats import skew\n",
    "skew(df['금액'])"
   ]
  },
  {
   "cell_type": "code",
   "execution_count": 66,
   "metadata": {},
   "outputs": [
    {
     "data": {
      "text/plain": [
       "961.2663157996878"
      ]
     },
     "execution_count": 66,
     "metadata": {},
     "output_type": "execute_result"
    }
   ],
   "source": [
    "# df의 금액컬럼에 대해 첨도를 구하세요.\n",
    "\n",
    "from scipy.stats import kurtosis\n",
    "kurtosis(df['금액'], fisher=True)"
   ]
  },
  {
   "cell_type": "code",
   "execution_count": 67,
   "metadata": {},
   "outputs": [
    {
     "data": {
      "text/plain": [
       "(0.0, 5000.0, 0.0, 600000.0)"
      ]
     },
     "execution_count": 67,
     "metadata": {},
     "output_type": "execute_result"
    },
    {
     "data": {
      "image/png": "[encoded data removed]",
      "text/plain": [
       "<Figure size 640x480 with 1 Axes>"
      ]
     },
     "metadata": {},
     "output_type": "display_data"
    }
   ],
   "source": [
    "# 금액컬럼에 대해 히스그램을 출력하세요. 판다스의 히스토그램을 이용하세요. \n",
    "# bins는 1000으로 설정.  x축범위 : 0 ~ 5000, y축범위: 0 ~ 600000\n",
    "df['금액'].plot.hist(bins=1000)\n",
    "plt.axis([0, 5000, 0, 600000])"
   ]
  },
  {
   "cell_type": "code",
   "execution_count": 68,
   "metadata": {},
   "outputs": [
    {
     "data": {
      "text/plain": [
       "<Axes: >"
      ]
     },
     "execution_count": 68,
     "metadata": {},
     "output_type": "execute_result"
    },
    {
     "data": {
      "image/png": "[encoded data removed]",
      "text/plain": [
       "<Figure size 640x480 with 1 Axes>"
      ]
     },
     "metadata": {},
     "output_type": "display_data"
    }
   ],
   "source": [
    "#df의 금액에 대해서 박스플랏으로 시각화하세요. \n",
    "df['금액'].plot.box()"
   ]
  },
  {
   "cell_type": "code",
   "execution_count": 69,
   "metadata": {},
   "outputs": [
    {
     "data": {
      "text/plain": [
       "count    1.578791e+06\n",
       "mean     1.902040e+02\n",
       "std      2.608200e+02\n",
       "min      0.000000e+00\n",
       "25%      2.500000e+01\n",
       "50%      1.040000e+02\n",
       "75%      2.540000e+02\n",
       "max      5.092500e+04\n",
       "Name: 금액, dtype: float64"
      ]
     },
     "execution_count": 69,
     "metadata": {},
     "output_type": "execute_result"
    }
   ],
   "source": [
    "# df의 금액컬럼에 대해 통계적 요약 정보를 출력하세요. \n",
    "df['금액'].describe()"
   ]
  },
  {
   "cell_type": "code",
   "execution_count": 83,
   "metadata": {},
   "outputs": [
    {
     "name": "stdout",
     "output_type": "stream",
     "text": [
      "Power_divergenceResult(statistic=1563.357801386088, pvalue=0.0)\n"
     ]
    },
    {
     "data": {
      "text/plain": [
       "True"
      ]
     },
     "execution_count": 83,
     "metadata": {},
     "output_type": "execute_result"
    }
   ],
   "source": [
    "### 적합도 검정 \n",
    "\n",
    "# 예제 \n",
    "day = df['일'].value_counts()\n",
    "obs_freq = [day.Sunday, \n",
    "            day.Monday,\n",
    "            day.Tuesday,\n",
    "            day.Wednesday,\n",
    "            day.Thursday,\n",
    "            day.Friday,\n",
    "            day.Saturday]\n",
    "\n",
    "from scipy.stats import chisquare\n",
    "result = chisquare(obs_freq)\n",
    "print(result)\n",
    "result.pvalue < 0.05 \n",
    "\n",
    "# H0를 기각하지 못함. H0를 채택.균등 분포를 따른다. 요일간 차이가 있다고 볼수 없다.  \n",
    "\n",
    "#- H0: 요일에 사건이 일어날 확률은 동일하다(균등분포를 따른다) \n",
    "#- H1: 요일에 사건이 일어날 확률은 동일하지 않다(균등분포를 따르지 않는다)"
   ]
  },
  {
   "attachments": {},
   "cell_type": "markdown",
   "metadata": {},
   "source": []
  }
 ],
 "metadata": {
  "colab": {
   "collapsed_sections": [],
   "name": "Glovis_매출데이터분석_sol.ipynb",
   "provenance": []
  },
  "kernelspec": {
   "display_name": "Python 3",
   "language": "python",
   "name": "python3"
  },
  "language_info": {
   "codemirror_mode": {
    "name": "ipython",
    "version": 3
   },
   "file_extension": ".py",
   "mimetype": "text/x-python",
   "name": "python",
   "nbconvert_exporter": "python",
   "pygments_lexer": "ipython3",
   "version": "3.10.5"
  },
  "toc": {
   "base_numbering": 1,
   "nav_menu": {},
   "number_sections": true,
   "sideBar": true,
   "skip_h1_title": false,
   "title_cell": "Table of Contents",
   "title_sidebar": "Contents",
   "toc_cell": false,
   "toc_position": {},
   "toc_section_display": true,
   "toc_window_display": false
  },
  "varInspector": {
   "cols": {
    "lenName": 16,
    "lenType": 16,
    "lenVar": 40
   },
   "kernels_config": {
    "python": {
     "delete_cmd_postfix": "",
     "delete_cmd_prefix": "del ",
     "library": "var_list.py",
     "varRefreshCmd": "print(var_dic_list())"
    },
    "r": {
     "delete_cmd_postfix": ") ",
     "delete_cmd_prefix": "rm(",
     "library": "var_list.r",
     "varRefreshCmd": "cat(var_dic_list()) "
    }
   },
   "types_to_exclude": [
    "module",
    "function",
    "builtin_function_or_method",
    "instance",
    "_Feature"
   ],
   "window_display": false
  }
 },
 "nbformat": 4,
 "nbformat_minor": 1
}
