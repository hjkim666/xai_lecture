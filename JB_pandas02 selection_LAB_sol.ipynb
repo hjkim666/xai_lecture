{
 "cells": [
  {
   "attachments": {},
   "cell_type": "markdown",
   "metadata": {
    "id": "JaSI1pMNCGME"
   },
   "source": [
    "## pandas 02\n"
   ]
  },
  {
   "attachments": {},
   "cell_type": "markdown",
   "metadata": {
    "id": "YBOq-k8oPxK9"
   },
   "source": [
    "## 4.Indexing & Slicing"
   ]
  },
  {
   "attachments": {},
   "cell_type": "markdown",
   "metadata": {
    "id": "qcMTTEmHRenj"
   },
   "source": [
    "### 4-01 Series "
   ]
  },
  {
   "attachments": {},
   "cell_type": "markdown",
   "metadata": {
    "id": "xQZQDnoUQK38"
   },
   "source": [
    "#### 4-01-01 숫자 인덱스를 갖는 Series\n",
    "- Numpy Array와 동일하게 대괄호([ ])를 사용하여 특정 요소에 접근 \n",
    "- 위치가 index가 아니라 '**행 인덱스를 사용**'한다는 점에 유의\n",
    "- -1로 가장 마지막 요소에 접근 불가 (-1 인덱스는 없기 때문)"
   ]
  },
  {
   "cell_type": "code",
   "execution_count": 61,
   "metadata": {
    "colab": {
     "base_uri": "https://localhost:8080/"
    },
    "executionInfo": {
     "elapsed": 713,
     "status": "ok",
     "timestamp": 1612191587334,
     "user": {
      "displayName": "hj Kim",
      "photoUrl": "",
      "userId": "02263672027550517756"
     },
     "user_tz": -540
    },
    "id": "nI-dQHycOFX_",
    "outputId": "34a03814-ff0c-4978-b509-088aa6a778b6"
   },
   "outputs": [
    {
     "data": {
      "text/plain": [
       "0    1\n",
       "1    2\n",
       "2    3\n",
       "3    4\n",
       "4    5\n",
       "dtype: int64"
      ]
     },
     "execution_count": 61,
     "metadata": {},
     "output_type": "execute_result"
    }
   ],
   "source": [
    "# 숫자 인덱스를 갖는 Series 생성\n",
    "s = pd.Series([1, 2, 3, 4, 5])\n",
    "s"
   ]
  },
  {
   "cell_type": "code",
   "execution_count": 62,
   "metadata": {
    "colab": {
     "base_uri": "https://localhost:8080/"
    },
    "executionInfo": {
     "elapsed": 684,
     "status": "ok",
     "timestamp": 1612191593674,
     "user": {
      "displayName": "hj Kim",
      "photoUrl": "",
      "userId": "02263672027550517756"
     },
     "user_tz": -540
    },
    "id": "ALujvy06SEhU",
    "outputId": "f5227e6f-7b17-4e0a-ec60-1ac6521f12fe"
   },
   "outputs": [
    {
     "data": {
      "text/plain": [
       "1"
      ]
     },
     "execution_count": 62,
     "metadata": {},
     "output_type": "execute_result"
    }
   ],
   "source": [
    "# indexing을 사용하여 0 인덱스에 대한 value 가져오기\n",
    "s[0]"
   ]
  },
  {
   "cell_type": "code",
   "execution_count": 63,
   "metadata": {
    "colab": {
     "base_uri": "https://localhost:8080/"
    },
    "executionInfo": {
     "elapsed": 731,
     "status": "ok",
     "timestamp": 1612191608104,
     "user": {
      "displayName": "hj Kim",
      "photoUrl": "",
      "userId": "02263672027550517756"
     },
     "user_tz": -540
    },
    "id": "0_xkSl_ROFX_",
    "outputId": "c4981abc-d717-4488-fa79-ef17ded9e8dd"
   },
   "outputs": [
    {
     "data": {
      "text/plain": [
       "1    2\n",
       "2    3\n",
       "dtype: int64"
      ]
     },
     "execution_count": 63,
     "metadata": {},
     "output_type": "execute_result"
    }
   ],
   "source": [
    "# slicing을 사용하여 1~2 인덱스에 대한 value 가져오기\n",
    "s[1:3]"
   ]
  },
  {
   "cell_type": "code",
   "execution_count": 64,
   "metadata": {
    "colab": {
     "base_uri": "https://localhost:8080/"
    },
    "collapsed": true,
    "executionInfo": {
     "elapsed": 790,
     "status": "ok",
     "timestamp": 1612191663884,
     "user": {
      "displayName": "hj Kim",
      "photoUrl": "",
      "userId": "02263672027550517756"
     },
     "user_tz": -540
    },
    "id": "BSHQHueJQo1t",
    "outputId": "ca599367-64dd-40f0-fb3a-1dedf70f5df3"
   },
   "outputs": [
    {
     "ename": "KeyError",
     "evalue": "-1",
     "output_type": "error",
     "traceback": [
      "\u001b[1;31m---------------------------------------------------------------------------\u001b[0m",
      "\u001b[1;31mValueError\u001b[0m                                Traceback (most recent call last)",
      "\u001b[1;32m~\\anaconda3\\lib\\site-packages\\pandas\\core\\indexes\\range.py\u001b[0m in \u001b[0;36mget_loc\u001b[1;34m(self, key, method, tolerance)\u001b[0m\n\u001b[0;32m    350\u001b[0m                 \u001b[1;32mtry\u001b[0m\u001b[1;33m:\u001b[0m\u001b[1;33m\u001b[0m\u001b[1;33m\u001b[0m\u001b[0m\n\u001b[1;32m--> 351\u001b[1;33m                     \u001b[1;32mreturn\u001b[0m \u001b[0mself\u001b[0m\u001b[1;33m.\u001b[0m\u001b[0m_range\u001b[0m\u001b[1;33m.\u001b[0m\u001b[0mindex\u001b[0m\u001b[1;33m(\u001b[0m\u001b[0mnew_key\u001b[0m\u001b[1;33m)\u001b[0m\u001b[1;33m\u001b[0m\u001b[1;33m\u001b[0m\u001b[0m\n\u001b[0m\u001b[0;32m    352\u001b[0m                 \u001b[1;32mexcept\u001b[0m \u001b[0mValueError\u001b[0m \u001b[1;32mas\u001b[0m \u001b[0merr\u001b[0m\u001b[1;33m:\u001b[0m\u001b[1;33m\u001b[0m\u001b[1;33m\u001b[0m\u001b[0m\n",
      "\u001b[1;31mValueError\u001b[0m: -1 is not in range",
      "\nThe above exception was the direct cause of the following exception:\n",
      "\u001b[1;31mKeyError\u001b[0m                                  Traceback (most recent call last)",
      "\u001b[1;32m<ipython-input-64-8198bdc76f75>\u001b[0m in \u001b[0;36m<module>\u001b[1;34m\u001b[0m\n\u001b[0;32m      1\u001b[0m \u001b[1;31m# -1 인덱스를 사용하면 Error를 볼 수 있음\u001b[0m\u001b[1;33m\u001b[0m\u001b[1;33m\u001b[0m\u001b[1;33m\u001b[0m\u001b[0m\n\u001b[1;32m----> 2\u001b[1;33m \u001b[0ms\u001b[0m\u001b[1;33m[\u001b[0m\u001b[1;33m-\u001b[0m\u001b[1;36m1\u001b[0m\u001b[1;33m]\u001b[0m\u001b[1;33m\u001b[0m\u001b[1;33m\u001b[0m\u001b[0m\n\u001b[0m\u001b[0;32m      3\u001b[0m \u001b[1;33m\u001b[0m\u001b[0m\n\u001b[0;32m      4\u001b[0m \u001b[1;31m# s[s.index[-1]]   #-> s[4] 와 같은 의미\u001b[0m\u001b[1;33m\u001b[0m\u001b[1;33m\u001b[0m\u001b[1;33m\u001b[0m\u001b[0m\n",
      "\u001b[1;32m~\\anaconda3\\lib\\site-packages\\pandas\\core\\series.py\u001b[0m in \u001b[0;36m__getitem__\u001b[1;34m(self, key)\u001b[0m\n\u001b[0;32m    851\u001b[0m \u001b[1;33m\u001b[0m\u001b[0m\n\u001b[0;32m    852\u001b[0m         \u001b[1;32melif\u001b[0m \u001b[0mkey_is_scalar\u001b[0m\u001b[1;33m:\u001b[0m\u001b[1;33m\u001b[0m\u001b[1;33m\u001b[0m\u001b[0m\n\u001b[1;32m--> 853\u001b[1;33m             \u001b[1;32mreturn\u001b[0m \u001b[0mself\u001b[0m\u001b[1;33m.\u001b[0m\u001b[0m_get_value\u001b[0m\u001b[1;33m(\u001b[0m\u001b[0mkey\u001b[0m\u001b[1;33m)\u001b[0m\u001b[1;33m\u001b[0m\u001b[1;33m\u001b[0m\u001b[0m\n\u001b[0m\u001b[0;32m    854\u001b[0m \u001b[1;33m\u001b[0m\u001b[0m\n\u001b[0;32m    855\u001b[0m         \u001b[1;32mif\u001b[0m \u001b[0mis_hashable\u001b[0m\u001b[1;33m(\u001b[0m\u001b[0mkey\u001b[0m\u001b[1;33m)\u001b[0m\u001b[1;33m:\u001b[0m\u001b[1;33m\u001b[0m\u001b[1;33m\u001b[0m\u001b[0m\n",
      "\u001b[1;32m~\\anaconda3\\lib\\site-packages\\pandas\\core\\series.py\u001b[0m in \u001b[0;36m_get_value\u001b[1;34m(self, label, takeable)\u001b[0m\n\u001b[0;32m    959\u001b[0m \u001b[1;33m\u001b[0m\u001b[0m\n\u001b[0;32m    960\u001b[0m         \u001b[1;31m# Similar to Index.get_value, but we do not fall back to positional\u001b[0m\u001b[1;33m\u001b[0m\u001b[1;33m\u001b[0m\u001b[1;33m\u001b[0m\u001b[0m\n\u001b[1;32m--> 961\u001b[1;33m         \u001b[0mloc\u001b[0m \u001b[1;33m=\u001b[0m \u001b[0mself\u001b[0m\u001b[1;33m.\u001b[0m\u001b[0mindex\u001b[0m\u001b[1;33m.\u001b[0m\u001b[0mget_loc\u001b[0m\u001b[1;33m(\u001b[0m\u001b[0mlabel\u001b[0m\u001b[1;33m)\u001b[0m\u001b[1;33m\u001b[0m\u001b[1;33m\u001b[0m\u001b[0m\n\u001b[0m\u001b[0;32m    962\u001b[0m         \u001b[1;32mreturn\u001b[0m \u001b[0mself\u001b[0m\u001b[1;33m.\u001b[0m\u001b[0mindex\u001b[0m\u001b[1;33m.\u001b[0m\u001b[0m_get_values_for_loc\u001b[0m\u001b[1;33m(\u001b[0m\u001b[0mself\u001b[0m\u001b[1;33m,\u001b[0m \u001b[0mloc\u001b[0m\u001b[1;33m,\u001b[0m \u001b[0mlabel\u001b[0m\u001b[1;33m)\u001b[0m\u001b[1;33m\u001b[0m\u001b[1;33m\u001b[0m\u001b[0m\n\u001b[0;32m    963\u001b[0m \u001b[1;33m\u001b[0m\u001b[0m\n",
      "\u001b[1;32m~\\anaconda3\\lib\\site-packages\\pandas\\core\\indexes\\range.py\u001b[0m in \u001b[0;36mget_loc\u001b[1;34m(self, key, method, tolerance)\u001b[0m\n\u001b[0;32m    351\u001b[0m                     \u001b[1;32mreturn\u001b[0m \u001b[0mself\u001b[0m\u001b[1;33m.\u001b[0m\u001b[0m_range\u001b[0m\u001b[1;33m.\u001b[0m\u001b[0mindex\u001b[0m\u001b[1;33m(\u001b[0m\u001b[0mnew_key\u001b[0m\u001b[1;33m)\u001b[0m\u001b[1;33m\u001b[0m\u001b[1;33m\u001b[0m\u001b[0m\n\u001b[0;32m    352\u001b[0m                 \u001b[1;32mexcept\u001b[0m \u001b[0mValueError\u001b[0m \u001b[1;32mas\u001b[0m \u001b[0merr\u001b[0m\u001b[1;33m:\u001b[0m\u001b[1;33m\u001b[0m\u001b[1;33m\u001b[0m\u001b[0m\n\u001b[1;32m--> 353\u001b[1;33m                     \u001b[1;32mraise\u001b[0m \u001b[0mKeyError\u001b[0m\u001b[1;33m(\u001b[0m\u001b[0mkey\u001b[0m\u001b[1;33m)\u001b[0m \u001b[1;32mfrom\u001b[0m \u001b[0merr\u001b[0m\u001b[1;33m\u001b[0m\u001b[1;33m\u001b[0m\u001b[0m\n\u001b[0m\u001b[0;32m    354\u001b[0m             \u001b[1;32mraise\u001b[0m \u001b[0mKeyError\u001b[0m\u001b[1;33m(\u001b[0m\u001b[0mkey\u001b[0m\u001b[1;33m)\u001b[0m\u001b[1;33m\u001b[0m\u001b[1;33m\u001b[0m\u001b[0m\n\u001b[0;32m    355\u001b[0m         \u001b[1;32mreturn\u001b[0m \u001b[0msuper\u001b[0m\u001b[1;33m(\u001b[0m\u001b[1;33m)\u001b[0m\u001b[1;33m.\u001b[0m\u001b[0mget_loc\u001b[0m\u001b[1;33m(\u001b[0m\u001b[0mkey\u001b[0m\u001b[1;33m,\u001b[0m \u001b[0mmethod\u001b[0m\u001b[1;33m=\u001b[0m\u001b[0mmethod\u001b[0m\u001b[1;33m,\u001b[0m \u001b[0mtolerance\u001b[0m\u001b[1;33m=\u001b[0m\u001b[0mtolerance\u001b[0m\u001b[1;33m)\u001b[0m\u001b[1;33m\u001b[0m\u001b[1;33m\u001b[0m\u001b[0m\n",
      "\u001b[1;31mKeyError\u001b[0m: -1"
     ]
    }
   ],
   "source": [
    "# -1 인덱스를 사용하면 Error를 볼 수 있음\n",
    "s[-1]\n",
    "\n",
    "# s[s.index[-1]]   #-> s[4] 와 같은 의미 "
   ]
  },
  {
   "cell_type": "code",
   "execution_count": 55,
   "metadata": {},
   "outputs": [
    {
     "data": {
      "text/plain": [
       "4"
      ]
     },
     "execution_count": 55,
     "metadata": {},
     "output_type": "execute_result"
    }
   ],
   "source": [
    "# s.index[-1]"
   ]
  },
  {
   "attachments": {},
   "cell_type": "markdown",
   "metadata": {
    "id": "L1c28dlSRueP"
   },
   "source": [
    "#### 4-01-02 문자열 인덱스를 갖는 Series\n",
    "- Series의 경우 문자열 인덱스를 가질 수 있기 때문에 이름(문자열)을 통해서도 개별\n",
    "데이터에 접근 가능\n",
    "- 모든 행에 대해 인덱스가 문자로 지정된 경우에는 위치(숫자)를 동시에 사용 가능\n",
    "- 문자 인덱스를 이용하여 슬라이싱하는 경우 마지막 값을 포함함"
   ]
  },
  {
   "cell_type": "code",
   "execution_count": 56,
   "metadata": {
    "colab": {
     "base_uri": "https://localhost:8080/"
    },
    "executionInfo": {
     "elapsed": 740,
     "status": "ok",
     "timestamp": 1612191699619,
     "user": {
      "displayName": "hj Kim",
      "photoUrl": "",
      "userId": "02263672027550517756"
     },
     "user_tz": -540
    },
    "id": "zSTkuZSoOFYA",
    "outputId": "91a20a2a-0695-4068-ea5a-14c780084e4e"
   },
   "outputs": [
    {
     "data": {
      "text/plain": [
       "A    1\n",
       "B    2\n",
       "C    3\n",
       "D    4\n",
       "E    5\n",
       "dtype: int64"
      ]
     },
     "execution_count": 56,
     "metadata": {},
     "output_type": "execute_result"
    }
   ],
   "source": [
    "# 문자열 인덱스를 갖는 Series 생성\n",
    "s = pd.Series([1, 2, 3, 4, 5],\n",
    "              index=['A','B','C','D','E'])\n",
    "s"
   ]
  },
  {
   "cell_type": "code",
   "execution_count": 57,
   "metadata": {
    "colab": {
     "base_uri": "https://localhost:8080/"
    },
    "executionInfo": {
     "elapsed": 1070,
     "status": "ok",
     "timestamp": 1612191712965,
     "user": {
      "displayName": "hj Kim",
      "photoUrl": "",
      "userId": "02263672027550517756"
     },
     "user_tz": -540
    },
    "id": "1hvgxvo6WPwI",
    "outputId": "7aab1eed-ae36-454d-d723-00a392cee86a"
   },
   "outputs": [
    {
     "data": {
      "text/plain": [
       "1"
      ]
     },
     "execution_count": 57,
     "metadata": {},
     "output_type": "execute_result"
    }
   ],
   "source": [
    "# Series s에서 인덱스가 'A'인 것에 대한 indexing => 정수 반환\n",
    "s['A']"
   ]
  },
  {
   "cell_type": "code",
   "execution_count": 58,
   "metadata": {
    "colab": {
     "base_uri": "https://localhost:8080/"
    },
    "executionInfo": {
     "elapsed": 967,
     "status": "ok",
     "timestamp": 1612191743348,
     "user": {
      "displayName": "hj Kim",
      "photoUrl": "",
      "userId": "02263672027550517756"
     },
     "user_tz": -540
    },
    "id": "MUDbh54SOFYA",
    "outputId": "9991ae1a-0872-4bd9-8530-5772e8465dbb"
   },
   "outputs": [
    {
     "data": {
      "text/plain": [
       "B    2\n",
       "C    3\n",
       "D    4\n",
       "dtype: int64"
      ]
     },
     "execution_count": 58,
     "metadata": {},
     "output_type": "execute_result"
    }
   ],
   "source": [
    "# Series s에서 인덱스가 'B', 'C', 'D' 인 것에 대한 Slicing => Series 반환\n",
    "# 문자열 인덱스를 사용하여 slicing 하여볼 것\n",
    "s['B':'D']\n"
   ]
  },
  {
   "cell_type": "code",
   "execution_count": 59,
   "metadata": {
    "colab": {
     "base_uri": "https://localhost:8080/"
    },
    "executionInfo": {
     "elapsed": 685,
     "status": "ok",
     "timestamp": 1612191770322,
     "user": {
      "displayName": "hj Kim",
      "photoUrl": "",
      "userId": "02263672027550517756"
     },
     "user_tz": -540
    },
    "id": "fai21gRYWyo4",
    "outputId": "1e26ab2a-2f96-460e-d390-78098d258945"
   },
   "outputs": [
    {
     "data": {
      "text/plain": [
       "A    1\n",
       "B    2\n",
       "C    3\n",
       "dtype: int64"
      ]
     },
     "execution_count": 59,
     "metadata": {},
     "output_type": "execute_result"
    }
   ],
   "source": [
    "# 정수 index를 사용하여 'B', 'C', 'D' 인 것에 대한 Slicing\n",
    "s[:3]"
   ]
  },
  {
   "cell_type": "code",
   "execution_count": 60,
   "metadata": {
    "colab": {
     "base_uri": "https://localhost:8080/"
    },
    "executionInfo": {
     "elapsed": 737,
     "status": "ok",
     "timestamp": 1612191777161,
     "user": {
      "displayName": "hj Kim",
      "photoUrl": "",
      "userId": "02263672027550517756"
     },
     "user_tz": -540
    },
    "id": "d1TtoU4oOFYA",
    "outputId": "6f5da79e-9dd8-4b0e-ff38-baf969e3a9ef"
   },
   "outputs": [
    {
     "data": {
      "text/plain": [
       "5"
      ]
     },
     "execution_count": 60,
     "metadata": {},
     "output_type": "execute_result"
    }
   ],
   "source": [
    "# 정수 index를 사용할 수 있으므로 -1 인덱스 가능!\n",
    "s[-1]"
   ]
  },
  {
   "attachments": {},
   "cell_type": "markdown",
   "metadata": {
    "id": "WBb0uJ38SABl"
   },
   "source": [
    "### 4-02 DataFrame\n",
    "- DataFrame에서 Indexing과 Slicing은 다르게 동작함\n",
    "- Indexing : 열 단위 선택\n",
    "- Slicing : 행 단위 선택"
   ]
  },
  {
   "attachments": {},
   "cell_type": "markdown",
   "metadata": {
    "id": "DoOxpJOFdpBN"
   },
   "source": [
    "#### 4-02-01 Indexing, Slicing"
   ]
  },
  {
   "cell_type": "code",
   "execution_count": 66,
   "metadata": {
    "colab": {
     "base_uri": "https://localhost:8080/",
     "height": 141
    },
    "executionInfo": {
     "elapsed": 744,
     "status": "ok",
     "timestamp": 1612191811454,
     "user": {
      "displayName": "hj Kim",
      "photoUrl": "",
      "userId": "02263672027550517756"
     },
     "user_tz": -540
    },
    "id": "6JomkMecOFYB",
    "outputId": "798ae2ed-35d1-42f8-e9aa-9d8a9ef77aa7"
   },
   "outputs": [
    {
     "data": {
      "text/html": [
       "<div>\n",
       "<style scoped>\n",
       "    .dataframe tbody tr th:only-of-type {\n",
       "        vertical-align: middle;\n",
       "    }\n",
       "\n",
       "    .dataframe tbody tr th {\n",
       "        vertical-align: top;\n",
       "    }\n",
       "\n",
       "    .dataframe thead th {\n",
       "        text-align: right;\n",
       "    }\n",
       "</style>\n",
       "<table border=\"1\" class=\"dataframe\">\n",
       "  <thead>\n",
       "    <tr style=\"text-align: right;\">\n",
       "      <th></th>\n",
       "      <th>X1</th>\n",
       "      <th>X2</th>\n",
       "      <th>X3</th>\n",
       "    </tr>\n",
       "  </thead>\n",
       "  <tbody>\n",
       "    <tr>\n",
       "      <th>A</th>\n",
       "      <td>1</td>\n",
       "      <td>2</td>\n",
       "      <td>3</td>\n",
       "    </tr>\n",
       "    <tr>\n",
       "      <th>B</th>\n",
       "      <td>4</td>\n",
       "      <td>5</td>\n",
       "      <td>6</td>\n",
       "    </tr>\n",
       "    <tr>\n",
       "      <th>C</th>\n",
       "      <td>7</td>\n",
       "      <td>8</td>\n",
       "      <td>9</td>\n",
       "    </tr>\n",
       "  </tbody>\n",
       "</table>\n",
       "</div>"
      ],
      "text/plain": [
       "   X1  X2  X3\n",
       "A   1   2   3\n",
       "B   4   5   6\n",
       "C   7   8   9"
      ]
     },
     "execution_count": 66,
     "metadata": {},
     "output_type": "execute_result"
    }
   ],
   "source": [
    "df = pd.DataFrame([[1, 2, 3], \n",
    "                   [4, 5, 6], \n",
    "                   [7, 8, 9]],\n",
    "                  index=['A', 'B', 'C'], columns=['X1', 'X2', 'X3'])\n",
    "df"
   ]
  },
  {
   "cell_type": "code",
   "execution_count": null,
   "metadata": {
    "colab": {
     "base_uri": "https://localhost:8080/"
    },
    "executionInfo": {
     "elapsed": 872,
     "status": "ok",
     "timestamp": 1612191888022,
     "user": {
      "displayName": "hj Kim",
      "photoUrl": "",
      "userId": "02263672027550517756"
     },
     "user_tz": -540
    },
    "id": "Z7ye2oyvXMhN",
    "outputId": "7fc5910a-82ad-4cfb-efef-a3ef891d97c5"
   },
   "outputs": [
    {
     "data": {
      "text/plain": [
       "A    1\n",
       "B    4\n",
       "C    7\n",
       "Name: X1, dtype: int64"
      ]
     },
     "execution_count": 60,
     "metadata": {
      "tags": []
     },
     "output_type": "execute_result"
    }
   ],
   "source": [
    "# DataFrame df에서 column의 이름이 'X1'인 것에 대해 indexing\n",
    "df['X1']"
   ]
  },
  {
   "cell_type": "code",
   "execution_count": null,
   "metadata": {
    "colab": {
     "base_uri": "https://localhost:8080/",
     "height": 110
    },
    "executionInfo": {
     "elapsed": 812,
     "status": "ok",
     "timestamp": 1612191924452,
     "user": {
      "displayName": "hj Kim",
      "photoUrl": "",
      "userId": "02263672027550517756"
     },
     "user_tz": -540
    },
    "id": "JsLE1msmOFYB",
    "outputId": "f138eff4-29cf-4984-9baf-cf0410008a34"
   },
   "outputs": [
    {
     "data": {
      "text/html": [
       "<div>\n",
       "<style scoped>\n",
       "    .dataframe tbody tr th:only-of-type {\n",
       "        vertical-align: middle;\n",
       "    }\n",
       "\n",
       "    .dataframe tbody tr th {\n",
       "        vertical-align: top;\n",
       "    }\n",
       "\n",
       "    .dataframe thead th {\n",
       "        text-align: right;\n",
       "    }\n",
       "</style>\n",
       "<table border=\"1\" class=\"dataframe\">\n",
       "  <thead>\n",
       "    <tr style=\"text-align: right;\">\n",
       "      <th></th>\n",
       "      <th>X1</th>\n",
       "      <th>X2</th>\n",
       "      <th>X3</th>\n",
       "    </tr>\n",
       "  </thead>\n",
       "  <tbody>\n",
       "    <tr>\n",
       "      <th>B</th>\n",
       "      <td>4</td>\n",
       "      <td>5</td>\n",
       "      <td>6</td>\n",
       "    </tr>\n",
       "    <tr>\n",
       "      <th>C</th>\n",
       "      <td>7</td>\n",
       "      <td>8</td>\n",
       "      <td>9</td>\n",
       "    </tr>\n",
       "  </tbody>\n",
       "</table>\n",
       "</div>"
      ],
      "text/plain": [
       "   X1  X2  X3\n",
       "B   4   5   6\n",
       "C   7   8   9"
      ]
     },
     "execution_count": 61,
     "metadata": {
      "tags": []
     },
     "output_type": "execute_result"
    }
   ],
   "source": [
    "# DataFrame df에서 index의 이름이 'B'인 것부터 마지막까지 slicing\n",
    "df['B':]"
   ]
  },
  {
   "cell_type": "code",
   "execution_count": 68,
   "metadata": {},
   "outputs": [
    {
     "data": {
      "text/html": [
       "<div>\n",
       "<style scoped>\n",
       "    .dataframe tbody tr th:only-of-type {\n",
       "        vertical-align: middle;\n",
       "    }\n",
       "\n",
       "    .dataframe tbody tr th {\n",
       "        vertical-align: top;\n",
       "    }\n",
       "\n",
       "    .dataframe thead th {\n",
       "        text-align: right;\n",
       "    }\n",
       "</style>\n",
       "<table border=\"1\" class=\"dataframe\">\n",
       "  <thead>\n",
       "    <tr style=\"text-align: right;\">\n",
       "      <th></th>\n",
       "      <th>X1</th>\n",
       "      <th>X2</th>\n",
       "      <th>X3</th>\n",
       "    </tr>\n",
       "  </thead>\n",
       "  <tbody>\n",
       "    <tr>\n",
       "      <th>A</th>\n",
       "      <td>1</td>\n",
       "      <td>2</td>\n",
       "      <td>3</td>\n",
       "    </tr>\n",
       "    <tr>\n",
       "      <th>B</th>\n",
       "      <td>4</td>\n",
       "      <td>5</td>\n",
       "      <td>6</td>\n",
       "    </tr>\n",
       "    <tr>\n",
       "      <th>C</th>\n",
       "      <td>7</td>\n",
       "      <td>8</td>\n",
       "      <td>9</td>\n",
       "    </tr>\n",
       "  </tbody>\n",
       "</table>\n",
       "</div>"
      ],
      "text/plain": [
       "   X1  X2  X3\n",
       "A   1   2   3\n",
       "B   4   5   6\n",
       "C   7   8   9"
      ]
     },
     "execution_count": 68,
     "metadata": {},
     "output_type": "execute_result"
    }
   ],
   "source": [
    "# df['B':] 처럼 열을 df['X1':]하는건 안되나요? \n",
    "df.loc[:, 'X1':]"
   ]
  },
  {
   "attachments": {},
   "cell_type": "markdown",
   "metadata": {
    "id": "b3IAfT5SScO3"
   },
   "source": [
    "#### 4-02-02 조건, 팬시 인덱싱"
   ]
  },
  {
   "attachments": {},
   "cell_type": "markdown",
   "metadata": {
    "id": "PBi_kU4Sk6Rp"
   },
   "source": [
    "- Boolean DataFrame인 경우 True 값을 가지는 위치의 행 인덱스와 열 인덱스를 기\n",
    "반으로 선택\n",
    "- False 값을 가지는 위치는 NaN으로 설정"
   ]
  },
  {
   "cell_type": "code",
   "execution_count": 67,
   "metadata": {},
   "outputs": [
    {
     "data": {
      "text/html": [
       "<div>\n",
       "<style scoped>\n",
       "    .dataframe tbody tr th:only-of-type {\n",
       "        vertical-align: middle;\n",
       "    }\n",
       "\n",
       "    .dataframe tbody tr th {\n",
       "        vertical-align: top;\n",
       "    }\n",
       "\n",
       "    .dataframe thead th {\n",
       "        text-align: right;\n",
       "    }\n",
       "</style>\n",
       "<table border=\"1\" class=\"dataframe\">\n",
       "  <thead>\n",
       "    <tr style=\"text-align: right;\">\n",
       "      <th></th>\n",
       "      <th>X1</th>\n",
       "      <th>X2</th>\n",
       "      <th>X3</th>\n",
       "    </tr>\n",
       "  </thead>\n",
       "  <tbody>\n",
       "    <tr>\n",
       "      <th>A</th>\n",
       "      <td>False</td>\n",
       "      <td>True</td>\n",
       "      <td>False</td>\n",
       "    </tr>\n",
       "    <tr>\n",
       "      <th>B</th>\n",
       "      <td>True</td>\n",
       "      <td>False</td>\n",
       "      <td>True</td>\n",
       "    </tr>\n",
       "    <tr>\n",
       "      <th>C</th>\n",
       "      <td>False</td>\n",
       "      <td>True</td>\n",
       "      <td>False</td>\n",
       "    </tr>\n",
       "  </tbody>\n",
       "</table>\n",
       "</div>"
      ],
      "text/plain": [
       "      X1     X2     X3\n",
       "A  False   True  False\n",
       "B   True  False   True\n",
       "C  False   True  False"
      ]
     },
     "execution_count": 67,
     "metadata": {},
     "output_type": "execute_result"
    }
   ],
   "source": [
    "df % 2 == 0"
   ]
  },
  {
   "cell_type": "code",
   "execution_count": null,
   "metadata": {
    "colab": {
     "base_uri": "https://localhost:8080/",
     "height": 141
    },
    "executionInfo": {
     "elapsed": 805,
     "status": "ok",
     "timestamp": 1612191931951,
     "user": {
      "displayName": "hj Kim",
      "photoUrl": "",
      "userId": "02263672027550517756"
     },
     "user_tz": -540
    },
    "id": "yJWuCrgKOFYB",
    "outputId": "1a0ad3fe-29ca-4e3a-880c-5b30bdeb50af"
   },
   "outputs": [
    {
     "data": {
      "text/html": [
       "<div>\n",
       "<style scoped>\n",
       "    .dataframe tbody tr th:only-of-type {\n",
       "        vertical-align: middle;\n",
       "    }\n",
       "\n",
       "    .dataframe tbody tr th {\n",
       "        vertical-align: top;\n",
       "    }\n",
       "\n",
       "    .dataframe thead th {\n",
       "        text-align: right;\n",
       "    }\n",
       "</style>\n",
       "<table border=\"1\" class=\"dataframe\">\n",
       "  <thead>\n",
       "    <tr style=\"text-align: right;\">\n",
       "      <th></th>\n",
       "      <th>X1</th>\n",
       "      <th>X2</th>\n",
       "      <th>X3</th>\n",
       "    </tr>\n",
       "  </thead>\n",
       "  <tbody>\n",
       "    <tr>\n",
       "      <th>A</th>\n",
       "      <td>NaN</td>\n",
       "      <td>2.0</td>\n",
       "      <td>NaN</td>\n",
       "    </tr>\n",
       "    <tr>\n",
       "      <th>B</th>\n",
       "      <td>4.0</td>\n",
       "      <td>NaN</td>\n",
       "      <td>6.0</td>\n",
       "    </tr>\n",
       "    <tr>\n",
       "      <th>C</th>\n",
       "      <td>NaN</td>\n",
       "      <td>8.0</td>\n",
       "      <td>NaN</td>\n",
       "    </tr>\n",
       "  </tbody>\n",
       "</table>\n",
       "</div>"
      ],
      "text/plain": [
       "    X1   X2   X3\n",
       "A  NaN  2.0  NaN\n",
       "B  4.0  NaN  6.0\n",
       "C  NaN  8.0  NaN"
      ]
     },
     "execution_count": 62,
     "metadata": {
      "tags": []
     },
     "output_type": "execute_result"
    }
   ],
   "source": [
    "# Boolean DataFrame\n",
    "# df의 값이 짝수인 것은 그대로, 홀수인 것은  Nan\n",
    "df[df % 2 == 0]"
   ]
  },
  {
   "attachments": {},
   "cell_type": "markdown",
   "metadata": {
    "id": "4wibrgKwSj_S"
   },
   "source": [
    "- Boolean List 또는 Boolean Array라면 True 값을 가지는 위치를 기반으로 선택\n",
    "- Boolean Series인 경우 True 값을 가지는 인덱스를 기반으로 선택"
   ]
  },
  {
   "cell_type": "code",
   "execution_count": null,
   "metadata": {
    "colab": {
     "base_uri": "https://localhost:8080/",
     "height": 79
    },
    "executionInfo": {
     "elapsed": 807,
     "status": "ok",
     "timestamp": 1612191944898,
     "user": {
      "displayName": "hj Kim",
      "photoUrl": "",
      "userId": "02263672027550517756"
     },
     "user_tz": -540
    },
    "id": "dwFPm7_yOFYC",
    "outputId": "961e7b0b-b142-4b75-dd36-8e1afa0112c0"
   },
   "outputs": [
    {
     "data": {
      "text/html": [
       "<div>\n",
       "<style scoped>\n",
       "    .dataframe tbody tr th:only-of-type {\n",
       "        vertical-align: middle;\n",
       "    }\n",
       "\n",
       "    .dataframe tbody tr th {\n",
       "        vertical-align: top;\n",
       "    }\n",
       "\n",
       "    .dataframe thead th {\n",
       "        text-align: right;\n",
       "    }\n",
       "</style>\n",
       "<table border=\"1\" class=\"dataframe\">\n",
       "  <thead>\n",
       "    <tr style=\"text-align: right;\">\n",
       "      <th></th>\n",
       "      <th>X1</th>\n",
       "      <th>X2</th>\n",
       "      <th>X3</th>\n",
       "    </tr>\n",
       "  </thead>\n",
       "  <tbody>\n",
       "    <tr>\n",
       "      <th>A</th>\n",
       "      <td>1</td>\n",
       "      <td>2</td>\n",
       "      <td>3</td>\n",
       "    </tr>\n",
       "  </tbody>\n",
       "</table>\n",
       "</div>"
      ],
      "text/plain": [
       "   X1  X2  X3\n",
       "A   1   2   3"
      ]
     },
     "execution_count": 63,
     "metadata": {
      "tags": []
     },
     "output_type": "execute_result"
    }
   ],
   "source": [
    "# Boolean List를 사용한 인덱싱 - True 값을 가지는 위치를 기반으로 선택\n",
    "blist = [True, False, False]\n",
    "df[blist]"
   ]
  },
  {
   "cell_type": "code",
   "execution_count": null,
   "metadata": {
    "colab": {
     "base_uri": "https://localhost:8080/",
     "height": 79
    },
    "executionInfo": {
     "elapsed": 701,
     "status": "ok",
     "timestamp": 1612191986971,
     "user": {
      "displayName": "hj Kim",
      "photoUrl": "",
      "userId": "02263672027550517756"
     },
     "user_tz": -540
    },
    "id": "vtrnFAcmflKf",
    "outputId": "7e7890f7-edc7-4532-9209-2a5a82d674be"
   },
   "outputs": [
    {
     "data": {
      "text/html": [
       "<div>\n",
       "<style scoped>\n",
       "    .dataframe tbody tr th:only-of-type {\n",
       "        vertical-align: middle;\n",
       "    }\n",
       "\n",
       "    .dataframe tbody tr th {\n",
       "        vertical-align: top;\n",
       "    }\n",
       "\n",
       "    .dataframe thead th {\n",
       "        text-align: right;\n",
       "    }\n",
       "</style>\n",
       "<table border=\"1\" class=\"dataframe\">\n",
       "  <thead>\n",
       "    <tr style=\"text-align: right;\">\n",
       "      <th></th>\n",
       "      <th>X1</th>\n",
       "      <th>X2</th>\n",
       "      <th>X3</th>\n",
       "    </tr>\n",
       "  </thead>\n",
       "  <tbody>\n",
       "    <tr>\n",
       "      <th>B</th>\n",
       "      <td>4</td>\n",
       "      <td>5</td>\n",
       "      <td>6</td>\n",
       "    </tr>\n",
       "  </tbody>\n",
       "</table>\n",
       "</div>"
      ],
      "text/plain": [
       "   X1  X2  X3\n",
       "B   4   5   6"
      ]
     },
     "execution_count": 64,
     "metadata": {
      "tags": []
     },
     "output_type": "execute_result"
    }
   ],
   "source": [
    "# Boolean Series를 사용한 인덱싱 - True 값을 가지는 인덱스를 기반으로 선택\n",
    "# df['X1']의 값이 짝수 index에 인 것에 대해 가져오기\n",
    "df[df['X1'] %2 ==0]"
   ]
  },
  {
   "cell_type": "code",
   "execution_count": 72,
   "metadata": {},
   "outputs": [
    {
     "data": {
      "text/plain": [
       "A    False\n",
       "B     True\n",
       "C    False\n",
       "Name: X1, dtype: bool"
      ]
     },
     "execution_count": 72,
     "metadata": {},
     "output_type": "execute_result"
    }
   ],
   "source": [
    "type(df['X1'] %2 ==0)\n",
    "df['X1'] %2 ==0"
   ]
  },
  {
   "cell_type": "code",
   "execution_count": 82,
   "metadata": {
    "colab": {
     "base_uri": "https://localhost:8080/"
    },
    "executionInfo": {
     "elapsed": 744,
     "status": "ok",
     "timestamp": 1611981596831,
     "user": {
      "displayName": "soyoung yoon",
      "photoUrl": "",
      "userId": "10805103917170170851"
     },
     "user_tz": -540
    },
    "id": "tO2yBZMblx_2",
    "outputId": "dad36e28-618e-4166-c6e7-51598cb8af2b"
   },
   "outputs": [
    {
     "data": {
      "text/plain": [
       "A    False\n",
       "B     True\n",
       "C    False\n",
       "Name: X1, dtype: bool"
      ]
     },
     "execution_count": 82,
     "metadata": {},
     "output_type": "execute_result"
    }
   ],
   "source": [
    "df['X1'] % 2 ==0"
   ]
  },
  {
   "cell_type": "code",
   "execution_count": 84,
   "metadata": {},
   "outputs": [
    {
     "data": {
      "text/plain": [
       "pandas.core.series.Series"
      ]
     },
     "execution_count": 84,
     "metadata": {},
     "output_type": "execute_result"
    }
   ],
   "source": [
    "type(df['X1'])"
   ]
  },
  {
   "cell_type": "code",
   "execution_count": 73,
   "metadata": {
    "colab": {
     "base_uri": "https://localhost:8080/"
    },
    "executionInfo": {
     "elapsed": 668,
     "status": "ok",
     "timestamp": 1612192001324,
     "user": {
      "displayName": "hj Kim",
      "photoUrl": "",
      "userId": "02263672027550517756"
     },
     "user_tz": -540
    },
    "id": "r03UOKoTOFYC",
    "outputId": "13846c62-3694-4ff8-c1f8-317b504b15db"
   },
   "outputs": [
    {
     "data": {
      "text/plain": [
       "C     True\n",
       "B    False\n",
       "A    False\n",
       "dtype: bool"
      ]
     },
     "execution_count": 73,
     "metadata": {},
     "output_type": "execute_result"
    }
   ],
   "source": [
    "# index를 ['C','B','A']로 갖는 Series 생성\n",
    "bs = pd.Series([True, False, False], index=['C','B','A'])\n",
    "bs"
   ]
  },
  {
   "cell_type": "code",
   "execution_count": 74,
   "metadata": {
    "colab": {
     "base_uri": "https://localhost:8080/",
     "height": 135
    },
    "executionInfo": {
     "elapsed": 711,
     "status": "ok",
     "timestamp": 1612192011593,
     "user": {
      "displayName": "hj Kim",
      "photoUrl": "",
      "userId": "02263672027550517756"
     },
     "user_tz": -540
    },
    "id": "G1GCqdjvvbf6",
    "outputId": "1b6332e9-f148-4d8d-84b3-f4a772a7eecc"
   },
   "outputs": [
    {
     "name": "stderr",
     "output_type": "stream",
     "text": [
      "<ipython-input-74-2e07d04563c2>:2: UserWarning: Boolean Series key will be reindexed to match DataFrame index.\n",
      "  df[bs]\n"
     ]
    },
    {
     "data": {
      "text/html": [
       "<div>\n",
       "<style scoped>\n",
       "    .dataframe tbody tr th:only-of-type {\n",
       "        vertical-align: middle;\n",
       "    }\n",
       "\n",
       "    .dataframe tbody tr th {\n",
       "        vertical-align: top;\n",
       "    }\n",
       "\n",
       "    .dataframe thead th {\n",
       "        text-align: right;\n",
       "    }\n",
       "</style>\n",
       "<table border=\"1\" class=\"dataframe\">\n",
       "  <thead>\n",
       "    <tr style=\"text-align: right;\">\n",
       "      <th></th>\n",
       "      <th>X1</th>\n",
       "      <th>X2</th>\n",
       "      <th>X3</th>\n",
       "    </tr>\n",
       "  </thead>\n",
       "  <tbody>\n",
       "    <tr>\n",
       "      <th>C</th>\n",
       "      <td>7</td>\n",
       "      <td>8</td>\n",
       "      <td>9</td>\n",
       "    </tr>\n",
       "  </tbody>\n",
       "</table>\n",
       "</div>"
      ],
      "text/plain": [
       "   X1  X2  X3\n",
       "C   7   8   9"
      ]
     },
     "execution_count": 74,
     "metadata": {},
     "output_type": "execute_result"
    }
   ],
   "source": [
    "# bs를 사용한 indexing 확인\n",
    "df[bs]"
   ]
  },
  {
   "cell_type": "code",
   "execution_count": 75,
   "metadata": {
    "colab": {
     "base_uri": "https://localhost:8080/",
     "height": 141
    },
    "executionInfo": {
     "elapsed": 989,
     "status": "ok",
     "timestamp": 1612192072054,
     "user": {
      "displayName": "hj Kim",
      "photoUrl": "",
      "userId": "02263672027550517756"
     },
     "user_tz": -540
    },
    "id": "wulalG7pOFYC",
    "outputId": "09a07f24-2420-411d-ea47-5b5dfde05b58"
   },
   "outputs": [
    {
     "data": {
      "text/html": [
       "<div>\n",
       "<style scoped>\n",
       "    .dataframe tbody tr th:only-of-type {\n",
       "        vertical-align: middle;\n",
       "    }\n",
       "\n",
       "    .dataframe tbody tr th {\n",
       "        vertical-align: top;\n",
       "    }\n",
       "\n",
       "    .dataframe thead th {\n",
       "        text-align: right;\n",
       "    }\n",
       "</style>\n",
       "<table border=\"1\" class=\"dataframe\">\n",
       "  <thead>\n",
       "    <tr style=\"text-align: right;\">\n",
       "      <th></th>\n",
       "      <th>X1</th>\n",
       "      <th>X3</th>\n",
       "    </tr>\n",
       "  </thead>\n",
       "  <tbody>\n",
       "    <tr>\n",
       "      <th>A</th>\n",
       "      <td>1</td>\n",
       "      <td>3</td>\n",
       "    </tr>\n",
       "    <tr>\n",
       "      <th>B</th>\n",
       "      <td>4</td>\n",
       "      <td>6</td>\n",
       "    </tr>\n",
       "    <tr>\n",
       "      <th>C</th>\n",
       "      <td>7</td>\n",
       "      <td>9</td>\n",
       "    </tr>\n",
       "  </tbody>\n",
       "</table>\n",
       "</div>"
      ],
      "text/plain": [
       "   X1  X3\n",
       "A   1   3\n",
       "B   4   6\n",
       "C   7   9"
      ]
     },
     "execution_count": 75,
     "metadata": {},
     "output_type": "execute_result"
    }
   ],
   "source": [
    "# array를 사용하여 가져올 여러 개의 열을 지정\n",
    "# DataFrame df에 대해 array를 사용하여 'X1', 'X3' 열 가져오기\n",
    "df[['X1', 'X3']]"
   ]
  },
  {
   "cell_type": "code",
   "execution_count": 81,
   "metadata": {},
   "outputs": [
    {
     "data": {
      "text/html": [
       "<div>\n",
       "<style scoped>\n",
       "    .dataframe tbody tr th:only-of-type {\n",
       "        vertical-align: middle;\n",
       "    }\n",
       "\n",
       "    .dataframe tbody tr th {\n",
       "        vertical-align: top;\n",
       "    }\n",
       "\n",
       "    .dataframe thead th {\n",
       "        text-align: right;\n",
       "    }\n",
       "</style>\n",
       "<table border=\"1\" class=\"dataframe\">\n",
       "  <thead>\n",
       "    <tr style=\"text-align: right;\">\n",
       "      <th></th>\n",
       "      <th>X1</th>\n",
       "      <th>X2</th>\n",
       "      <th>X3</th>\n",
       "    </tr>\n",
       "  </thead>\n",
       "  <tbody>\n",
       "    <tr>\n",
       "      <th>A</th>\n",
       "      <td>1</td>\n",
       "      <td>2</td>\n",
       "      <td>3</td>\n",
       "    </tr>\n",
       "  </tbody>\n",
       "</table>\n",
       "</div>"
      ],
      "text/plain": [
       "   X1  X2  X3\n",
       "A   1   2   3"
      ]
     },
     "execution_count": 81,
     "metadata": {},
     "output_type": "execute_result"
    }
   ],
   "source": [
    "df.columns == 'X1'\n",
    "df.loc[:, df.columns == 'X1']\n",
    "# df[[True, False,False]]"
   ]
  },
  {
   "cell_type": "code",
   "execution_count": 86,
   "metadata": {
    "collapsed": true
   },
   "outputs": [
    {
     "data": {
      "text/html": [
       "<div>\n",
       "<style scoped>\n",
       "    .dataframe tbody tr th:only-of-type {\n",
       "        vertical-align: middle;\n",
       "    }\n",
       "\n",
       "    .dataframe tbody tr th {\n",
       "        vertical-align: top;\n",
       "    }\n",
       "\n",
       "    .dataframe thead th {\n",
       "        text-align: right;\n",
       "    }\n",
       "</style>\n",
       "<table border=\"1\" class=\"dataframe\">\n",
       "  <thead>\n",
       "    <tr style=\"text-align: right;\">\n",
       "      <th></th>\n",
       "      <th>X2</th>\n",
       "    </tr>\n",
       "  </thead>\n",
       "  <tbody>\n",
       "    <tr>\n",
       "      <th>A</th>\n",
       "      <td>2</td>\n",
       "    </tr>\n",
       "    <tr>\n",
       "      <th>B</th>\n",
       "      <td>5</td>\n",
       "    </tr>\n",
       "    <tr>\n",
       "      <th>C</th>\n",
       "      <td>8</td>\n",
       "    </tr>\n",
       "  </tbody>\n",
       "</table>\n",
       "</div>"
      ],
      "text/plain": [
       "   X2\n",
       "A   2\n",
       "B   5\n",
       "C   8"
      ]
     },
     "execution_count": 86,
     "metadata": {},
     "output_type": "execute_result"
    }
   ],
   "source": [
    "df[df.columns[df['X1'] % 2 == 0]]  ### 안됨 "
   ]
  },
  {
   "cell_type": "code",
   "execution_count": 85,
   "metadata": {},
   "outputs": [
    {
     "data": {
      "text/plain": [
       "Index(['X2'], dtype='object')"
      ]
     },
     "execution_count": 85,
     "metadata": {},
     "output_type": "execute_result"
    }
   ],
   "source": [
    "df.columns[df['X1'] % 2 == 0] "
   ]
  },
  {
   "cell_type": "code",
   "execution_count": 88,
   "metadata": {},
   "outputs": [
    {
     "data": {
      "text/plain": [
       "Index(['X1', 'X2', 'X3'], dtype='object')"
      ]
     },
     "execution_count": 88,
     "metadata": {},
     "output_type": "execute_result"
    }
   ],
   "source": [
    "df.columns"
   ]
  },
  {
   "cell_type": "code",
   "execution_count": 87,
   "metadata": {},
   "outputs": [
    {
     "data": {
      "text/plain": [
       "A    False\n",
       "B     True\n",
       "C    False\n",
       "Name: X1, dtype: bool"
      ]
     },
     "execution_count": 87,
     "metadata": {},
     "output_type": "execute_result"
    }
   ],
   "source": [
    "df['X1'] % 2 == 0"
   ]
  },
  {
   "cell_type": "code",
   "execution_count": 89,
   "metadata": {},
   "outputs": [
    {
     "data": {
      "text/html": [
       "<div>\n",
       "<style scoped>\n",
       "    .dataframe tbody tr th:only-of-type {\n",
       "        vertical-align: middle;\n",
       "    }\n",
       "\n",
       "    .dataframe tbody tr th {\n",
       "        vertical-align: top;\n",
       "    }\n",
       "\n",
       "    .dataframe thead th {\n",
       "        text-align: right;\n",
       "    }\n",
       "</style>\n",
       "<table border=\"1\" class=\"dataframe\">\n",
       "  <thead>\n",
       "    <tr style=\"text-align: right;\">\n",
       "      <th></th>\n",
       "      <th>X1</th>\n",
       "    </tr>\n",
       "  </thead>\n",
       "  <tbody>\n",
       "    <tr>\n",
       "      <th>A</th>\n",
       "      <td>1</td>\n",
       "    </tr>\n",
       "    <tr>\n",
       "      <th>B</th>\n",
       "      <td>4</td>\n",
       "    </tr>\n",
       "    <tr>\n",
       "      <th>C</th>\n",
       "      <td>7</td>\n",
       "    </tr>\n",
       "  </tbody>\n",
       "</table>\n",
       "</div>"
      ],
      "text/plain": [
       "   X1\n",
       "A   1\n",
       "B   4\n",
       "C   7"
      ]
     },
     "execution_count": 89,
     "metadata": {},
     "output_type": "execute_result"
    }
   ],
   "source": [
    "df[df.columns[[True, False, False]]]"
   ]
  },
  {
   "attachments": {},
   "cell_type": "markdown",
   "metadata": {
    "id": "DefZp5y1vnu8"
   },
   "source": [
    "## 5.Indexer\n",
    "- 기본 indexing, slicing보다 indexer 사용을 권장함\n",
    "- indexer는 loc, iloc, at, iat이 있음\n",
    "    - loc, at 인덱서 : 이름 기반 인덱싱\n",
    "    - iloc, iat 인덱서 : 위치 기반 인덱싱\n",
    "    - at, iat 인덱서 : 한 개의 값만 반환\n",
    "- dataframe.인덱서[행 인덱스, 열 인덱스] 와 같이 사용    "
   ]
  },
  {
   "attachments": {},
   "cell_type": "markdown",
   "metadata": {
    "id": "MzQNcbF2wD63"
   },
   "source": [
    "### 5-01 loc 인덱서\n",
    "- loc 인덱서의 행 또는 열 인덱스\n",
    "    - 위치(정수)가 아닌 이름(문자열)\n",
    "    - 이름(문자열)의 리스트나 슬라이싱\n",
    "    - boolean 리스트, 1차원 배열, 시리즈 (DataFrame은 불가)\n",
    "- loc 인덱서 사용 방법\n",
    "    - dataframe.loc[행 인덱스, 열 인덱스]\n",
    "    - 예) df.loc[:, 'A':'C']    "
   ]
  },
  {
   "cell_type": "code",
   "execution_count": 95,
   "metadata": {
    "colab": {
     "base_uri": "https://localhost:8080/",
     "height": 141
    },
    "executionInfo": {
     "elapsed": 676,
     "status": "ok",
     "timestamp": 1612192087603,
     "user": {
      "displayName": "hj Kim",
      "photoUrl": "",
      "userId": "02263672027550517756"
     },
     "user_tz": -540
    },
    "id": "mVGRuDfswmqp",
    "outputId": "b0e8ff7c-a3cc-441d-b90d-e2e8bc0762e2"
   },
   "outputs": [
    {
     "data": {
      "text/html": [
       "<div>\n",
       "<style scoped>\n",
       "    .dataframe tbody tr th:only-of-type {\n",
       "        vertical-align: middle;\n",
       "    }\n",
       "\n",
       "    .dataframe tbody tr th {\n",
       "        vertical-align: top;\n",
       "    }\n",
       "\n",
       "    .dataframe thead th {\n",
       "        text-align: right;\n",
       "    }\n",
       "</style>\n",
       "<table border=\"1\" class=\"dataframe\">\n",
       "  <thead>\n",
       "    <tr style=\"text-align: right;\">\n",
       "      <th></th>\n",
       "      <th>X1</th>\n",
       "      <th>X2</th>\n",
       "      <th>X3</th>\n",
       "    </tr>\n",
       "  </thead>\n",
       "  <tbody>\n",
       "    <tr>\n",
       "      <th>A</th>\n",
       "      <td>1</td>\n",
       "      <td>2</td>\n",
       "      <td>3</td>\n",
       "    </tr>\n",
       "    <tr>\n",
       "      <th>B</th>\n",
       "      <td>4</td>\n",
       "      <td>5</td>\n",
       "      <td>6</td>\n",
       "    </tr>\n",
       "    <tr>\n",
       "      <th>C</th>\n",
       "      <td>7</td>\n",
       "      <td>8</td>\n",
       "      <td>9</td>\n",
       "    </tr>\n",
       "  </tbody>\n",
       "</table>\n",
       "</div>"
      ],
      "text/plain": [
       "   X1  X2  X3\n",
       "A   1   2   3\n",
       "B   4   5   6\n",
       "C   7   8   9"
      ]
     },
     "execution_count": 95,
     "metadata": {},
     "output_type": "execute_result"
    }
   ],
   "source": [
    "df = pd.DataFrame([[1, 2, 3], \n",
    "                   [4, 5, 6], \n",
    "                   [7, 8, 9]],\n",
    "                  index=['A', 'B', 'C'], columns=['X1', 'X2', 'X3'])\n",
    "df"
   ]
  },
  {
   "cell_type": "code",
   "execution_count": 96,
   "metadata": {
    "colab": {
     "base_uri": "https://localhost:8080/"
    },
    "executionInfo": {
     "elapsed": 680,
     "status": "ok",
     "timestamp": 1612192090934,
     "user": {
      "displayName": "hj Kim",
      "photoUrl": "",
      "userId": "02263672027550517756"
     },
     "user_tz": -540
    },
    "id": "yPotFniBOFYD",
    "outputId": "e76eeba1-eaac-41b2-9eaf-fd0bfe7da8c0"
   },
   "outputs": [
    {
     "data": {
      "text/plain": [
       "X1    1\n",
       "X2    2\n",
       "X3    3\n",
       "Name: A, dtype: int64"
      ]
     },
     "execution_count": 96,
     "metadata": {},
     "output_type": "execute_result"
    }
   ],
   "source": [
    "# DataFrame df에서 'A' 행, 모든 열에 대해 추출 -> Series 반환\n",
    "df.loc['A', :]   #df.loc['A']"
   ]
  },
  {
   "cell_type": "code",
   "execution_count": 97,
   "metadata": {},
   "outputs": [
    {
     "data": {
      "text/html": [
       "<div>\n",
       "<style scoped>\n",
       "    .dataframe tbody tr th:only-of-type {\n",
       "        vertical-align: middle;\n",
       "    }\n",
       "\n",
       "    .dataframe tbody tr th {\n",
       "        vertical-align: top;\n",
       "    }\n",
       "\n",
       "    .dataframe thead th {\n",
       "        text-align: right;\n",
       "    }\n",
       "</style>\n",
       "<table border=\"1\" class=\"dataframe\">\n",
       "  <thead>\n",
       "    <tr style=\"text-align: right;\">\n",
       "      <th></th>\n",
       "      <th>X1</th>\n",
       "      <th>X2</th>\n",
       "      <th>X3</th>\n",
       "    </tr>\n",
       "  </thead>\n",
       "  <tbody>\n",
       "    <tr>\n",
       "      <th>A</th>\n",
       "      <td>1</td>\n",
       "      <td>2</td>\n",
       "      <td>3</td>\n",
       "    </tr>\n",
       "  </tbody>\n",
       "</table>\n",
       "</div>"
      ],
      "text/plain": [
       "   X1  X2  X3\n",
       "A   1   2   3"
      ]
     },
     "execution_count": 97,
     "metadata": {},
     "output_type": "execute_result"
    }
   ],
   "source": [
    "df.loc[:'A', :] "
   ]
  },
  {
   "cell_type": "code",
   "execution_count": 100,
   "metadata": {
    "colab": {
     "base_uri": "https://localhost:8080/"
    },
    "executionInfo": {
     "elapsed": 668,
     "status": "ok",
     "timestamp": 1612192124265,
     "user": {
      "displayName": "hj Kim",
      "photoUrl": "",
      "userId": "02263672027550517756"
     },
     "user_tz": -540
    },
    "id": "VqCEeno-OFYD",
    "outputId": "14730708-58d4-4faf-b1d9-c2a3d7a8a419"
   },
   "outputs": [
    {
     "data": {
      "text/plain": [
       "A    1\n",
       "B    4\n",
       "C    7\n",
       "Name: X1, dtype: int64"
      ]
     },
     "execution_count": 100,
     "metadata": {},
     "output_type": "execute_result"
    }
   ],
   "source": [
    "# loc을 사용하여 DataFrame df에서 모든 행, 'X1' 열에 대해 추출 -> Series 반환\n",
    "df.loc[:, 'X1']\n",
    "# type(df.loc[:, 'X1'])"
   ]
  },
  {
   "cell_type": "code",
   "execution_count": 101,
   "metadata": {
    "colab": {
     "base_uri": "https://localhost:8080/",
     "height": 110
    },
    "executionInfo": {
     "elapsed": 729,
     "status": "ok",
     "timestamp": 1612192155022,
     "user": {
      "displayName": "hj Kim",
      "photoUrl": "",
      "userId": "02263672027550517756"
     },
     "user_tz": -540
    },
    "id": "wtxLROJ6OFYE",
    "outputId": "0aacdd52-2605-4d9e-9c4e-25d82f351190"
   },
   "outputs": [
    {
     "data": {
      "text/html": [
       "<div>\n",
       "<style scoped>\n",
       "    .dataframe tbody tr th:only-of-type {\n",
       "        vertical-align: middle;\n",
       "    }\n",
       "\n",
       "    .dataframe tbody tr th {\n",
       "        vertical-align: top;\n",
       "    }\n",
       "\n",
       "    .dataframe thead th {\n",
       "        text-align: right;\n",
       "    }\n",
       "</style>\n",
       "<table border=\"1\" class=\"dataframe\">\n",
       "  <thead>\n",
       "    <tr style=\"text-align: right;\">\n",
       "      <th></th>\n",
       "      <th>X1</th>\n",
       "      <th>X2</th>\n",
       "    </tr>\n",
       "  </thead>\n",
       "  <tbody>\n",
       "    <tr>\n",
       "      <th>A</th>\n",
       "      <td>1</td>\n",
       "      <td>2</td>\n",
       "    </tr>\n",
       "    <tr>\n",
       "      <th>C</th>\n",
       "      <td>7</td>\n",
       "      <td>8</td>\n",
       "    </tr>\n",
       "  </tbody>\n",
       "</table>\n",
       "</div>"
      ],
      "text/plain": [
       "   X1  X2\n",
       "A   1   2\n",
       "C   7   8"
      ]
     },
     "execution_count": 101,
     "metadata": {},
     "output_type": "execute_result"
    }
   ],
   "source": [
    "# loc을 사용하여 DataFrame df에서 ['A', 'C']행, ['X1', 'X2']열에 대해 추출\n",
    "df.loc[['A','C'], ['X1','X2']]"
   ]
  },
  {
   "cell_type": "code",
   "execution_count": 104,
   "metadata": {
    "colab": {
     "base_uri": "https://localhost:8080/",
     "height": 79
    },
    "executionInfo": {
     "elapsed": 771,
     "status": "ok",
     "timestamp": 1612192200779,
     "user": {
      "displayName": "hj Kim",
      "photoUrl": "",
      "userId": "02263672027550517756"
     },
     "user_tz": -540
    },
    "id": "gbces0fNOFYE",
    "outputId": "4ad3f97d-3dbd-45cf-c754-677a0e16c09b"
   },
   "outputs": [
    {
     "data": {
      "text/html": [
       "<div>\n",
       "<style scoped>\n",
       "    .dataframe tbody tr th:only-of-type {\n",
       "        vertical-align: middle;\n",
       "    }\n",
       "\n",
       "    .dataframe tbody tr th {\n",
       "        vertical-align: top;\n",
       "    }\n",
       "\n",
       "    .dataframe thead th {\n",
       "        text-align: right;\n",
       "    }\n",
       "</style>\n",
       "<table border=\"1\" class=\"dataframe\">\n",
       "  <thead>\n",
       "    <tr style=\"text-align: right;\">\n",
       "      <th></th>\n",
       "      <th>X1</th>\n",
       "      <th>X3</th>\n",
       "    </tr>\n",
       "  </thead>\n",
       "  <tbody>\n",
       "    <tr>\n",
       "      <th>B</th>\n",
       "      <td>4</td>\n",
       "      <td>6</td>\n",
       "    </tr>\n",
       "  </tbody>\n",
       "</table>\n",
       "</div>"
      ],
      "text/plain": [
       "   X1  X3\n",
       "B   4   6"
      ]
     },
     "execution_count": 104,
     "metadata": {},
     "output_type": "execute_result"
    }
   ],
   "source": [
    "# loc을 사용하여 DataFrame df에서 행은 'X1'열의 값이 짝수인 것, 열은 ['X1', 'X3']에 대해 추출\n",
    "df.loc[df.X1 %2 ==0, ['X1','X3']]"
   ]
  },
  {
   "cell_type": "code",
   "execution_count": 102,
   "metadata": {},
   "outputs": [
    {
     "data": {
      "text/plain": [
       "A    1\n",
       "B    4\n",
       "C    7\n",
       "Name: X1, dtype: int64"
      ]
     },
     "execution_count": 102,
     "metadata": {},
     "output_type": "execute_result"
    }
   ],
   "source": [
    "df.X1   #df['X1']"
   ]
  },
  {
   "cell_type": "code",
   "execution_count": 103,
   "metadata": {},
   "outputs": [
    {
     "data": {
      "text/plain": [
       "A    False\n",
       "B     True\n",
       "C    False\n",
       "Name: X1, dtype: bool"
      ]
     },
     "execution_count": 103,
     "metadata": {},
     "output_type": "execute_result"
    }
   ],
   "source": [
    "df.X1 %2 ==0"
   ]
  },
  {
   "attachments": {},
   "cell_type": "markdown",
   "metadata": {
    "id": "DnBQOcA-xRmh"
   },
   "source": [
    "### 5-02 iloc 인덱서\n",
    "- iloc 인덱서의 행 또는 열 인덱스 형식\n",
    "   - 위치(정수)\n",
    "   - 위치(정수)의 리스트나 슬라이싱\n",
    "   - boolean 리스트, 1차원 배열 (시리즈 불가)\n",
    "- iloc 인덱서 사용 방법\n",
    "   - dataframe.iloc[행 인덱스, 열 인덱스]\n",
    "   - 예) df.iloc[:, 1:3]"
   ]
  },
  {
   "cell_type": "code",
   "execution_count": null,
   "metadata": {
    "colab": {
     "base_uri": "https://localhost:8080/"
    },
    "executionInfo": {
     "elapsed": 674,
     "status": "ok",
     "timestamp": 1612192226557,
     "user": {
      "displayName": "hj Kim",
      "photoUrl": "",
      "userId": "02263672027550517756"
     },
     "user_tz": -540
    },
    "id": "2jnChx0COFYE",
    "outputId": "c1f4d3f3-48e7-40d6-f687-3735530c9430"
   },
   "outputs": [
    {
     "data": {
      "text/plain": [
       "X1    1\n",
       "X2    2\n",
       "X3    3\n",
       "Name: A, dtype: int64"
      ]
     },
     "execution_count": 74,
     "metadata": {
      "tags": []
     },
     "output_type": "execute_result"
    }
   ],
   "source": [
    "# iloc을 사용하여 DataFrame df에서 0번 행, 모든 열에 대해 추출 => Series\n",
    "df.iloc[0]    #df.iloc[0,:]"
   ]
  },
  {
   "cell_type": "code",
   "execution_count": 105,
   "metadata": {
    "colab": {
     "base_uri": "https://localhost:8080/"
    },
    "executionInfo": {
     "elapsed": 687,
     "status": "ok",
     "timestamp": 1612192239665,
     "user": {
      "displayName": "hj Kim",
      "photoUrl": "",
      "userId": "02263672027550517756"
     },
     "user_tz": -540
    },
    "id": "04UAcnC4OFYF",
    "outputId": "7a797ee7-e34e-41ba-f4d7-b9da39bbd907"
   },
   "outputs": [
    {
     "data": {
      "text/plain": [
       "A    1\n",
       "B    4\n",
       "C    7\n",
       "Name: X1, dtype: int64"
      ]
     },
     "execution_count": 105,
     "metadata": {},
     "output_type": "execute_result"
    }
   ],
   "source": [
    "# iloc을 사용하여 DataFrame df에서 모든 행, 0번 열에 대해 추출 => Series\n",
    "df.iloc[:, 0]"
   ]
  },
  {
   "cell_type": "code",
   "execution_count": 106,
   "metadata": {},
   "outputs": [
    {
     "data": {
      "text/html": [
       "<div>\n",
       "<style scoped>\n",
       "    .dataframe tbody tr th:only-of-type {\n",
       "        vertical-align: middle;\n",
       "    }\n",
       "\n",
       "    .dataframe tbody tr th {\n",
       "        vertical-align: top;\n",
       "    }\n",
       "\n",
       "    .dataframe thead th {\n",
       "        text-align: right;\n",
       "    }\n",
       "</style>\n",
       "<table border=\"1\" class=\"dataframe\">\n",
       "  <thead>\n",
       "    <tr style=\"text-align: right;\">\n",
       "      <th></th>\n",
       "      <th>X1</th>\n",
       "    </tr>\n",
       "  </thead>\n",
       "  <tbody>\n",
       "    <tr>\n",
       "      <th>A</th>\n",
       "      <td>1</td>\n",
       "    </tr>\n",
       "    <tr>\n",
       "      <th>B</th>\n",
       "      <td>4</td>\n",
       "    </tr>\n",
       "    <tr>\n",
       "      <th>C</th>\n",
       "      <td>7</td>\n",
       "    </tr>\n",
       "  </tbody>\n",
       "</table>\n",
       "</div>"
      ],
      "text/plain": [
       "   X1\n",
       "A   1\n",
       "B   4\n",
       "C   7"
      ]
     },
     "execution_count": 106,
     "metadata": {},
     "output_type": "execute_result"
    }
   ],
   "source": [
    "df.iloc[:, 0:1]"
   ]
  },
  {
   "cell_type": "code",
   "execution_count": 107,
   "metadata": {
    "colab": {
     "base_uri": "https://localhost:8080/",
     "height": 110
    },
    "executionInfo": {
     "elapsed": 683,
     "status": "ok",
     "timestamp": 1612192253221,
     "user": {
      "displayName": "hj Kim",
      "photoUrl": "",
      "userId": "02263672027550517756"
     },
     "user_tz": -540
    },
    "id": "zxV4l5LAOFYF",
    "outputId": "5ca1f6c4-61fa-46c7-b600-eb65e4cb3838"
   },
   "outputs": [
    {
     "data": {
      "text/html": [
       "<div>\n",
       "<style scoped>\n",
       "    .dataframe tbody tr th:only-of-type {\n",
       "        vertical-align: middle;\n",
       "    }\n",
       "\n",
       "    .dataframe tbody tr th {\n",
       "        vertical-align: top;\n",
       "    }\n",
       "\n",
       "    .dataframe thead th {\n",
       "        text-align: right;\n",
       "    }\n",
       "</style>\n",
       "<table border=\"1\" class=\"dataframe\">\n",
       "  <thead>\n",
       "    <tr style=\"text-align: right;\">\n",
       "      <th></th>\n",
       "      <th>X1</th>\n",
       "      <th>X2</th>\n",
       "    </tr>\n",
       "  </thead>\n",
       "  <tbody>\n",
       "    <tr>\n",
       "      <th>A</th>\n",
       "      <td>1</td>\n",
       "      <td>2</td>\n",
       "    </tr>\n",
       "    <tr>\n",
       "      <th>C</th>\n",
       "      <td>7</td>\n",
       "      <td>8</td>\n",
       "    </tr>\n",
       "  </tbody>\n",
       "</table>\n",
       "</div>"
      ],
      "text/plain": [
       "   X1  X2\n",
       "A   1   2\n",
       "C   7   8"
      ]
     },
     "execution_count": 107,
     "metadata": {},
     "output_type": "execute_result"
    }
   ],
   "source": [
    "# iloc을 사용하여 DataFrame df에서 [0, 2]번 행, [0, 1]번 열에 대해 추출 \n",
    "df.iloc[[0,2], [0,1]]"
   ]
  },
  {
   "cell_type": "code",
   "execution_count": 108,
   "metadata": {
    "colab": {
     "base_uri": "https://localhost:8080/",
     "height": 79
    },
    "executionInfo": {
     "elapsed": 689,
     "status": "ok",
     "timestamp": 1612192291479,
     "user": {
      "displayName": "hj Kim",
      "photoUrl": "",
      "userId": "02263672027550517756"
     },
     "user_tz": -540
    },
    "id": "x_mU19n_OFYF",
    "outputId": "c488bbf6-2fcd-4b25-baf0-e34a2593ae0a"
   },
   "outputs": [
    {
     "data": {
      "text/html": [
       "<div>\n",
       "<style scoped>\n",
       "    .dataframe tbody tr th:only-of-type {\n",
       "        vertical-align: middle;\n",
       "    }\n",
       "\n",
       "    .dataframe tbody tr th {\n",
       "        vertical-align: top;\n",
       "    }\n",
       "\n",
       "    .dataframe thead th {\n",
       "        text-align: right;\n",
       "    }\n",
       "</style>\n",
       "<table border=\"1\" class=\"dataframe\">\n",
       "  <thead>\n",
       "    <tr style=\"text-align: right;\">\n",
       "      <th></th>\n",
       "      <th>X1</th>\n",
       "      <th>X3</th>\n",
       "    </tr>\n",
       "  </thead>\n",
       "  <tbody>\n",
       "    <tr>\n",
       "      <th>B</th>\n",
       "      <td>4</td>\n",
       "      <td>6</td>\n",
       "    </tr>\n",
       "  </tbody>\n",
       "</table>\n",
       "</div>"
      ],
      "text/plain": [
       "   X1  X3\n",
       "B   4   6"
      ]
     },
     "execution_count": 108,
     "metadata": {},
     "output_type": "execute_result"
    }
   ],
   "source": [
    "# iloc을 사용하여 DataFrame df에서 행의 경우 [False, True, False] boolean list사용\n",
    "# [0, -1] 열에 대해 추출 \n",
    "\n",
    "blist =  [False, True, False]\n",
    "df.iloc[blist, [0, -1]]"
   ]
  },
  {
   "attachments": {},
   "cell_type": "markdown",
   "metadata": {
    "id": "ccTL7ryPyLSu"
   },
   "source": [
    "### 5-03 at, iat의 성능\n",
    "- at, iat 인덱서는 loc, iloc 인덱서와 비슷하지만 하나의 값만 가져옴\n",
    "- 빠른 인덱싱 속도가 요구되는 경우 사용\n",
    "- loc, iloc보다 at, iat이 소모 시간이 적음"
   ]
  },
  {
   "cell_type": "code",
   "execution_count": null,
   "metadata": {
    "colab": {
     "base_uri": "https://localhost:8080/"
    },
    "executionInfo": {
     "elapsed": 3731,
     "status": "ok",
     "timestamp": 1612192298416,
     "user": {
      "displayName": "hj Kim",
      "photoUrl": "",
      "userId": "02263672027550517756"
     },
     "user_tz": -540
    },
    "id": "1YLD65GyOFYF",
    "outputId": "8004b1eb-bb07-4d25-dedf-a429b10a40a7"
   },
   "outputs": [
    {
     "name": "stdout",
     "output_type": "stream",
     "text": [
      "The slowest run took 11.55 times longer than the fastest. This could mean that an intermediate result is being cached.\n",
      "100000 loops, best of 3: 7.07 µs per loop\n"
     ]
    }
   ],
   "source": [
    "%timeit df.loc[\"A\", \"X1\"]"
   ]
  },
  {
   "cell_type": "code",
   "execution_count": null,
   "metadata": {
    "colab": {
     "base_uri": "https://localhost:8080/"
    },
    "executionInfo": {
     "elapsed": 2565,
     "status": "ok",
     "timestamp": 1612192302800,
     "user": {
      "displayName": "hj Kim",
      "photoUrl": "",
      "userId": "02263672027550517756"
     },
     "user_tz": -540
    },
    "id": "kk7Z2yqMOFYG",
    "outputId": "75f57d45-304a-4d90-ceb9-1af9a7f57b99"
   },
   "outputs": [
    {
     "name": "stdout",
     "output_type": "stream",
     "text": [
      "The slowest run took 18.00 times longer than the fastest. This could mean that an intermediate result is being cached.\n",
      "100000 loops, best of 3: 4.03 µs per loop\n"
     ]
    }
   ],
   "source": [
    "%timeit df.at[\"A\", \"X1\"]"
   ]
  },
  {
   "cell_type": "code",
   "execution_count": null,
   "metadata": {
    "colab": {
     "base_uri": "https://localhost:8080/"
    },
    "executionInfo": {
     "elapsed": 8667,
     "status": "ok",
     "timestamp": 1612192333969,
     "user": {
      "displayName": "hj Kim",
      "photoUrl": "",
      "userId": "02263672027550517756"
     },
     "user_tz": -540
    },
    "id": "zp92X2FuOFYG",
    "outputId": "a640bdc7-d9ca-4baa-cb6f-3c131bf23a58"
   },
   "outputs": [
    {
     "name": "stdout",
     "output_type": "stream",
     "text": [
      "The slowest run took 8.91 times longer than the fastest. This could mean that an intermediate result is being cached.\n",
      "100000 loops, best of 3: 19.2 µs per loop\n"
     ]
    }
   ],
   "source": [
    "%timeit df.iloc[0, 0]"
   ]
  },
  {
   "cell_type": "code",
   "execution_count": null,
   "metadata": {
    "colab": {
     "base_uri": "https://localhost:8080/"
    },
    "executionInfo": {
     "elapsed": 8354,
     "status": "ok",
     "timestamp": 1611984925517,
     "user": {
      "displayName": "soyoung yoon",
      "photoUrl": "",
      "userId": "10805103917170170851"
     },
     "user_tz": -540
    },
    "id": "byA27M8COFYG",
    "outputId": "5b48d578-81ec-48be-838a-065fb582486e"
   },
   "outputs": [
    {
     "name": "stdout",
     "output_type": "stream",
     "text": [
      "The slowest run took 7.52 times longer than the fastest. This could mean that an intermediate result is being cached.\n",
      "100000 loops, best of 3: 18.4 µs per loop\n"
     ]
    }
   ],
   "source": [
    "%timeit df.iat[0, 0]"
   ]
  },
  {
   "attachments": {},
   "cell_type": "markdown",
   "metadata": {
    "id": "I2tfaYyoydt5"
   },
   "source": [
    "## 6.데이터 조작"
   ]
  },
  {
   "attachments": {},
   "cell_type": "markdown",
   "metadata": {
    "id": "3wvoNv77y5I9"
   },
   "source": [
    "### 6-01 데이터 조회\n",
    "- head(N)\n",
    "    - Series 또는 DataFrame에서 사용 가능\n",
    "    - 첫 행부터 아래로 N개(기본 값 5)의 데이터를 조회\n",
    "- tail(N)\n",
    "    - Series 또는 DataFrame에서 사용 가능\n",
    "    - 마지막 행부터 위로 N개(기본 값 5)의 데이터를 조회\n"
   ]
  },
  {
   "cell_type": "code",
   "execution_count": 109,
   "metadata": {
    "colab": {
     "base_uri": "https://localhost:8080/",
     "height": 141
    },
    "executionInfo": {
     "elapsed": 682,
     "status": "ok",
     "timestamp": 1612192342253,
     "user": {
      "displayName": "hj Kim",
      "photoUrl": "",
      "userId": "02263672027550517756"
     },
     "user_tz": -540
    },
    "id": "cNfY_ZKAzKVp",
    "outputId": "65114edb-aca2-4968-9e25-fccdb3a6192e"
   },
   "outputs": [
    {
     "data": {
      "text/html": [
       "<div>\n",
       "<style scoped>\n",
       "    .dataframe tbody tr th:only-of-type {\n",
       "        vertical-align: middle;\n",
       "    }\n",
       "\n",
       "    .dataframe tbody tr th {\n",
       "        vertical-align: top;\n",
       "    }\n",
       "\n",
       "    .dataframe thead th {\n",
       "        text-align: right;\n",
       "    }\n",
       "</style>\n",
       "<table border=\"1\" class=\"dataframe\">\n",
       "  <thead>\n",
       "    <tr style=\"text-align: right;\">\n",
       "      <th></th>\n",
       "      <th>X1</th>\n",
       "      <th>X2</th>\n",
       "      <th>X3</th>\n",
       "    </tr>\n",
       "  </thead>\n",
       "  <tbody>\n",
       "    <tr>\n",
       "      <th>A</th>\n",
       "      <td>1</td>\n",
       "      <td>2</td>\n",
       "      <td>3</td>\n",
       "    </tr>\n",
       "    <tr>\n",
       "      <th>B</th>\n",
       "      <td>4</td>\n",
       "      <td>5</td>\n",
       "      <td>6</td>\n",
       "    </tr>\n",
       "    <tr>\n",
       "      <th>C</th>\n",
       "      <td>7</td>\n",
       "      <td>8</td>\n",
       "      <td>9</td>\n",
       "    </tr>\n",
       "  </tbody>\n",
       "</table>\n",
       "</div>"
      ],
      "text/plain": [
       "   X1  X2  X3\n",
       "A   1   2   3\n",
       "B   4   5   6\n",
       "C   7   8   9"
      ]
     },
     "execution_count": 109,
     "metadata": {},
     "output_type": "execute_result"
    }
   ],
   "source": [
    "df = pd.DataFrame([[1, 2, 3], \n",
    "                   [4, 5, 6], \n",
    "                   [7, 8, 9]],\n",
    "                  index=['A', 'B', 'C'], columns=['X1', 'X2', 'X3'])\n",
    "df"
   ]
  },
  {
   "cell_type": "code",
   "execution_count": 114,
   "metadata": {
    "colab": {
     "base_uri": "https://localhost:8080/",
     "height": 79
    },
    "executionInfo": {
     "elapsed": 856,
     "status": "ok",
     "timestamp": 1612192351299,
     "user": {
      "displayName": "hj Kim",
      "photoUrl": "",
      "userId": "02263672027550517756"
     },
     "user_tz": -540
    },
    "id": "hKMal9MYOFYH",
    "outputId": "630575f7-0a62-412f-d35d-018313df9290"
   },
   "outputs": [
    {
     "data": {
      "text/html": [
       "<div>\n",
       "<style scoped>\n",
       "    .dataframe tbody tr th:only-of-type {\n",
       "        vertical-align: middle;\n",
       "    }\n",
       "\n",
       "    .dataframe tbody tr th {\n",
       "        vertical-align: top;\n",
       "    }\n",
       "\n",
       "    .dataframe thead th {\n",
       "        text-align: right;\n",
       "    }\n",
       "</style>\n",
       "<table border=\"1\" class=\"dataframe\">\n",
       "  <thead>\n",
       "    <tr style=\"text-align: right;\">\n",
       "      <th></th>\n",
       "      <th>X1</th>\n",
       "      <th>X2</th>\n",
       "      <th>X3</th>\n",
       "    </tr>\n",
       "  </thead>\n",
       "  <tbody>\n",
       "    <tr>\n",
       "      <th>A</th>\n",
       "      <td>1</td>\n",
       "      <td>2</td>\n",
       "      <td>3</td>\n",
       "    </tr>\n",
       "  </tbody>\n",
       "</table>\n",
       "</div>"
      ],
      "text/plain": [
       "   X1  X2  X3\n",
       "A   1   2   3"
      ]
     },
     "execution_count": 114,
     "metadata": {},
     "output_type": "execute_result"
    }
   ],
   "source": [
    "# DataFrame df에서 첫 행부터 1개의 데이터 조회\n",
    "df.head(1)   #기본5개 "
   ]
  },
  {
   "cell_type": "code",
   "execution_count": 118,
   "metadata": {
    "colab": {
     "base_uri": "https://localhost:8080/",
     "height": 79
    },
    "executionInfo": {
     "elapsed": 687,
     "status": "ok",
     "timestamp": 1612192357169,
     "user": {
      "displayName": "hj Kim",
      "photoUrl": "",
      "userId": "02263672027550517756"
     },
     "user_tz": -540
    },
    "id": "MTnvYnCROFYH",
    "outputId": "bd92a005-c204-4523-ba60-7ae4d757dc91"
   },
   "outputs": [
    {
     "data": {
      "text/html": [
       "<div>\n",
       "<style scoped>\n",
       "    .dataframe tbody tr th:only-of-type {\n",
       "        vertical-align: middle;\n",
       "    }\n",
       "\n",
       "    .dataframe tbody tr th {\n",
       "        vertical-align: top;\n",
       "    }\n",
       "\n",
       "    .dataframe thead th {\n",
       "        text-align: right;\n",
       "    }\n",
       "</style>\n",
       "<table border=\"1\" class=\"dataframe\">\n",
       "  <thead>\n",
       "    <tr style=\"text-align: right;\">\n",
       "      <th></th>\n",
       "      <th>X1</th>\n",
       "      <th>X2</th>\n",
       "      <th>X3</th>\n",
       "    </tr>\n",
       "  </thead>\n",
       "  <tbody>\n",
       "    <tr>\n",
       "      <th>C</th>\n",
       "      <td>7</td>\n",
       "      <td>8</td>\n",
       "      <td>9</td>\n",
       "    </tr>\n",
       "  </tbody>\n",
       "</table>\n",
       "</div>"
      ],
      "text/plain": [
       "   X1  X2  X3\n",
       "C   7   8   9"
      ]
     },
     "execution_count": 118,
     "metadata": {},
     "output_type": "execute_result"
    }
   ],
   "source": [
    "# DataFrame df에서 마지막 행부터 1개의 데이터 조회\n",
    "df.tail(1)   #기본 5개 "
   ]
  },
  {
   "attachments": {},
   "cell_type": "markdown",
   "metadata": {
    "id": "xs5MHZxrzbtF"
   },
   "source": [
    "### 6-02 데이터 빈도 조회\n",
    "- value_counts(sort, ascending, normalize)\n",
    "    - 값의 개수를 계산하여 **내림차순**으로 정렬 후 결과 반환\n",
    "    - sort를 False로 지정하면 결과를 정렬하지 않음\n",
    "    - ascending을 True로 지정하면 오름차순, False로 지정하면 내림차순 정렬\n",
    "    - normalize를 True로 지정하면 비율 반환"
   ]
  },
  {
   "cell_type": "code",
   "execution_count": 119,
   "metadata": {
    "colab": {
     "base_uri": "https://localhost:8080/"
    },
    "executionInfo": {
     "elapsed": 690,
     "status": "ok",
     "timestamp": 1612192406923,
     "user": {
      "displayName": "hj Kim",
      "photoUrl": "",
      "userId": "02263672027550517756"
     },
     "user_tz": -540
    },
    "id": "tnyQEWHhz8ke",
    "outputId": "10a3790a-698c-48f7-c46b-622601922e4a"
   },
   "outputs": [
    {
     "data": {
      "text/plain": [
       "A    3\n",
       "C    1\n",
       "B    1\n",
       "dtype: int64"
      ]
     },
     "execution_count": 119,
     "metadata": {},
     "output_type": "execute_result"
    }
   ],
   "source": [
    "s = pd.Series(['A', 'B', 'A', 'C', 'A'])\n",
    "# Series s의 값 개수를 계산하여 내림차순으로 정렬 후 결과 반환\n",
    "s.value_counts()"
   ]
  },
  {
   "cell_type": "code",
   "execution_count": 120,
   "metadata": {
    "colab": {
     "base_uri": "https://localhost:8080/"
    },
    "executionInfo": {
     "elapsed": 806,
     "status": "ok",
     "timestamp": 1612192443419,
     "user": {
      "displayName": "hj Kim",
      "photoUrl": "",
      "userId": "02263672027550517756"
     },
     "user_tz": -540
    },
    "id": "HYf1-CcnIrsA",
    "outputId": "13f920d8-1f36-4e2e-9090-acb0d0ef54ea"
   },
   "outputs": [
    {
     "data": {
      "text/plain": [
       "A    0.6\n",
       "C    0.2\n",
       "B    0.2\n",
       "dtype: float64"
      ]
     },
     "execution_count": 120,
     "metadata": {},
     "output_type": "execute_result"
    }
   ],
   "source": [
    "s = pd.Series(['A', 'B', 'A', 'C', 'A'])\n",
    "# Series s의 값 개수를 계산하여 결과를 비율로 반환 (normalize=True 사용)\n",
    "s.value_counts(normalize=True)"
   ]
  },
  {
   "cell_type": "code",
   "execution_count": 123,
   "metadata": {},
   "outputs": [
    {
     "data": {
      "text/plain": [
       "array(['A', 'B', 'C'], dtype=object)"
      ]
     },
     "execution_count": 123,
     "metadata": {},
     "output_type": "execute_result"
    }
   ],
   "source": [
    "s.unique()     #유니크값 - 범주형데이터"
   ]
  },
  {
   "cell_type": "code",
   "execution_count": 128,
   "metadata": {},
   "outputs": [
    {
     "data": {
      "text/plain": [
       "3"
      ]
     },
     "execution_count": 128,
     "metadata": {},
     "output_type": "execute_result"
    }
   ],
   "source": [
    "# s.value_counts('A')\n",
    "# df.value_counts('X1')\n",
    "s.value_counts()['A']"
   ]
  },
  {
   "cell_type": "code",
   "execution_count": 129,
   "metadata": {},
   "outputs": [
    {
     "data": {
      "text/plain": [
       "A    3\n",
       "C    1\n",
       "B    1\n",
       "dtype: int64"
      ]
     },
     "execution_count": 129,
     "metadata": {},
     "output_type": "execute_result"
    }
   ],
   "source": [
    "s.value_counts()"
   ]
  },
  {
   "attachments": {},
   "cell_type": "markdown",
   "metadata": {
    "id": "L5sQI5O4JAmX"
   },
   "source": [
    "### 6-03 데이터 정렬\n"
   ]
  },
  {
   "attachments": {},
   "cell_type": "markdown",
   "metadata": {
    "id": "hD-YhAdiJ-rC"
   },
   "source": [
    "sort_index(axis=0 or 1, ascending=True or False)\n",
    "- 행(aixs=0) 또는 열(axis=1) 인덱스를 오름차순(ascending=True) 또는 내림차순\n",
    "(ascending=False)로 정렬 가능\n",
    "- DataFrame에서만 열(axis=1) 지정 가능"
   ]
  },
  {
   "cell_type": "code",
   "execution_count": 130,
   "metadata": {
    "colab": {
     "base_uri": "https://localhost:8080/",
     "height": 141
    },
    "executionInfo": {
     "elapsed": 675,
     "status": "ok",
     "timestamp": 1612192447733,
     "user": {
      "displayName": "hj Kim",
      "photoUrl": "",
      "userId": "02263672027550517756"
     },
     "user_tz": -540
    },
    "id": "jfRJNzz2JXYF",
    "outputId": "55be823d-8d4e-4589-cf78-f17af9dfd0e8"
   },
   "outputs": [
    {
     "data": {
      "text/html": [
       "<div>\n",
       "<style scoped>\n",
       "    .dataframe tbody tr th:only-of-type {\n",
       "        vertical-align: middle;\n",
       "    }\n",
       "\n",
       "    .dataframe tbody tr th {\n",
       "        vertical-align: top;\n",
       "    }\n",
       "\n",
       "    .dataframe thead th {\n",
       "        text-align: right;\n",
       "    }\n",
       "</style>\n",
       "<table border=\"1\" class=\"dataframe\">\n",
       "  <thead>\n",
       "    <tr style=\"text-align: right;\">\n",
       "      <th></th>\n",
       "      <th>X1</th>\n",
       "      <th>X2</th>\n",
       "      <th>X3</th>\n",
       "    </tr>\n",
       "  </thead>\n",
       "  <tbody>\n",
       "    <tr>\n",
       "      <th>A</th>\n",
       "      <td>1</td>\n",
       "      <td>2</td>\n",
       "      <td>3</td>\n",
       "    </tr>\n",
       "    <tr>\n",
       "      <th>B</th>\n",
       "      <td>4</td>\n",
       "      <td>5</td>\n",
       "      <td>6</td>\n",
       "    </tr>\n",
       "    <tr>\n",
       "      <th>C</th>\n",
       "      <td>7</td>\n",
       "      <td>8</td>\n",
       "      <td>9</td>\n",
       "    </tr>\n",
       "  </tbody>\n",
       "</table>\n",
       "</div>"
      ],
      "text/plain": [
       "   X1  X2  X3\n",
       "A   1   2   3\n",
       "B   4   5   6\n",
       "C   7   8   9"
      ]
     },
     "execution_count": 130,
     "metadata": {},
     "output_type": "execute_result"
    }
   ],
   "source": [
    "df"
   ]
  },
  {
   "cell_type": "code",
   "execution_count": 131,
   "metadata": {
    "colab": {
     "base_uri": "https://localhost:8080/",
     "height": 141
    },
    "executionInfo": {
     "elapsed": 729,
     "status": "ok",
     "timestamp": 1612192477269,
     "user": {
      "displayName": "hj Kim",
      "photoUrl": "",
      "userId": "02263672027550517756"
     },
     "user_tz": -540
    },
    "id": "NxtpjsGTOFYH",
    "outputId": "bcb07224-e90e-4d4a-fe0f-40f0021521e3"
   },
   "outputs": [
    {
     "data": {
      "text/html": [
       "<div>\n",
       "<style scoped>\n",
       "    .dataframe tbody tr th:only-of-type {\n",
       "        vertical-align: middle;\n",
       "    }\n",
       "\n",
       "    .dataframe tbody tr th {\n",
       "        vertical-align: top;\n",
       "    }\n",
       "\n",
       "    .dataframe thead th {\n",
       "        text-align: right;\n",
       "    }\n",
       "</style>\n",
       "<table border=\"1\" class=\"dataframe\">\n",
       "  <thead>\n",
       "    <tr style=\"text-align: right;\">\n",
       "      <th></th>\n",
       "      <th>X1</th>\n",
       "      <th>X2</th>\n",
       "      <th>X3</th>\n",
       "    </tr>\n",
       "  </thead>\n",
       "  <tbody>\n",
       "    <tr>\n",
       "      <th>C</th>\n",
       "      <td>7</td>\n",
       "      <td>8</td>\n",
       "      <td>9</td>\n",
       "    </tr>\n",
       "    <tr>\n",
       "      <th>B</th>\n",
       "      <td>4</td>\n",
       "      <td>5</td>\n",
       "      <td>6</td>\n",
       "    </tr>\n",
       "    <tr>\n",
       "      <th>A</th>\n",
       "      <td>1</td>\n",
       "      <td>2</td>\n",
       "      <td>3</td>\n",
       "    </tr>\n",
       "  </tbody>\n",
       "</table>\n",
       "</div>"
      ],
      "text/plain": [
       "   X1  X2  X3\n",
       "C   7   8   9\n",
       "B   4   5   6\n",
       "A   1   2   3"
      ]
     },
     "execution_count": 131,
     "metadata": {},
     "output_type": "execute_result"
    }
   ],
   "source": [
    "# 행 인덱스 기준 내림차순 정렬\n",
    "df.sort_index(ascending=False)"
   ]
  },
  {
   "cell_type": "code",
   "execution_count": null,
   "metadata": {
    "colab": {
     "base_uri": "https://localhost:8080/",
     "height": 141
    },
    "executionInfo": {
     "elapsed": 701,
     "status": "ok",
     "timestamp": 1612192490311,
     "user": {
      "displayName": "hj Kim",
      "photoUrl": "",
      "userId": "02263672027550517756"
     },
     "user_tz": -540
    },
    "id": "1EskXwwLOFYH",
    "outputId": "3ffada95-b8fc-435c-b48f-e475efc9a40e"
   },
   "outputs": [
    {
     "data": {
      "text/html": [
       "<div>\n",
       "<style scoped>\n",
       "    .dataframe tbody tr th:only-of-type {\n",
       "        vertical-align: middle;\n",
       "    }\n",
       "\n",
       "    .dataframe tbody tr th {\n",
       "        vertical-align: top;\n",
       "    }\n",
       "\n",
       "    .dataframe thead th {\n",
       "        text-align: right;\n",
       "    }\n",
       "</style>\n",
       "<table border=\"1\" class=\"dataframe\">\n",
       "  <thead>\n",
       "    <tr style=\"text-align: right;\">\n",
       "      <th></th>\n",
       "      <th>X3</th>\n",
       "      <th>X2</th>\n",
       "      <th>X1</th>\n",
       "    </tr>\n",
       "  </thead>\n",
       "  <tbody>\n",
       "    <tr>\n",
       "      <th>A</th>\n",
       "      <td>3</td>\n",
       "      <td>2</td>\n",
       "      <td>1</td>\n",
       "    </tr>\n",
       "    <tr>\n",
       "      <th>B</th>\n",
       "      <td>6</td>\n",
       "      <td>5</td>\n",
       "      <td>4</td>\n",
       "    </tr>\n",
       "    <tr>\n",
       "      <th>C</th>\n",
       "      <td>9</td>\n",
       "      <td>8</td>\n",
       "      <td>7</td>\n",
       "    </tr>\n",
       "  </tbody>\n",
       "</table>\n",
       "</div>"
      ],
      "text/plain": [
       "   X3  X2  X1\n",
       "A   3   2   1\n",
       "B   6   5   4\n",
       "C   9   8   7"
      ]
     },
     "execution_count": 90,
     "metadata": {
      "tags": []
     },
     "output_type": "execute_result"
    }
   ],
   "source": [
    "# 열 인덱스 기준 내림차순 정렬\n",
    "df.sort_index(ascending=False,axis=1)"
   ]
  },
  {
   "attachments": {},
   "cell_type": "markdown",
   "metadata": {
    "id": "iNkmQhmDJ2t-"
   },
   "source": [
    "sort_values(by, ascending=True or False)\n",
    "- 특정 컬럼을 기준으로 데이터를 정렬\n",
    "- DataFrame에서는정렬 기준(by) 지정 필수\n",
    "- 정렬 기준과 방식을 [ ]로 묶어서 여러 개 설정 가능"
   ]
  },
  {
   "cell_type": "code",
   "execution_count": 132,
   "metadata": {
    "colab": {
     "base_uri": "https://localhost:8080/"
    },
    "executionInfo": {
     "elapsed": 723,
     "status": "ok",
     "timestamp": 1612192496855,
     "user": {
      "displayName": "hj Kim",
      "photoUrl": "",
      "userId": "02263672027550517756"
     },
     "user_tz": -540
    },
    "id": "c_iOZZIbLB8L",
    "outputId": "0addcd89-d02b-4f50-92f8-d9552c98e00f"
   },
   "outputs": [
    {
     "data": {
      "text/plain": [
       "A    1\n",
       "B    2\n",
       "C    3\n",
       "D    4\n",
       "E    5\n",
       "dtype: int64"
      ]
     },
     "execution_count": 132,
     "metadata": {},
     "output_type": "execute_result"
    }
   ],
   "source": [
    "s = pd.Series([1,2,3,4,5], index=list(\"ABCDE\"))\n",
    "s"
   ]
  },
  {
   "cell_type": "code",
   "execution_count": 133,
   "metadata": {
    "colab": {
     "base_uri": "https://localhost:8080/"
    },
    "executionInfo": {
     "elapsed": 704,
     "status": "ok",
     "timestamp": 1612192518068,
     "user": {
      "displayName": "hj Kim",
      "photoUrl": "",
      "userId": "02263672027550517756"
     },
     "user_tz": -540
    },
    "id": "jebsBh02LnH4",
    "outputId": "aa8a58e2-1dfb-4a59-db93-9d931005ba75"
   },
   "outputs": [
    {
     "data": {
      "text/plain": [
       "E    5\n",
       "D    4\n",
       "C    3\n",
       "B    2\n",
       "A    1\n",
       "dtype: int64"
      ]
     },
     "execution_count": 133,
     "metadata": {},
     "output_type": "execute_result"
    }
   ],
   "source": [
    "# Series s를 내림차순 정렬\n",
    "s.sort_values(ascending=False)"
   ]
  },
  {
   "cell_type": "code",
   "execution_count": 136,
   "metadata": {
    "colab": {
     "base_uri": "https://localhost:8080/",
     "height": 141
    },
    "executionInfo": {
     "elapsed": 895,
     "status": "ok",
     "timestamp": 1612192552306,
     "user": {
      "displayName": "hj Kim",
      "photoUrl": "",
      "userId": "02263672027550517756"
     },
     "user_tz": -540
    },
    "id": "yqR1TZT1OFYI",
    "outputId": "268d27ce-9e79-4966-dd27-d76ad47e1351"
   },
   "outputs": [
    {
     "data": {
      "text/html": [
       "<div>\n",
       "<style scoped>\n",
       "    .dataframe tbody tr th:only-of-type {\n",
       "        vertical-align: middle;\n",
       "    }\n",
       "\n",
       "    .dataframe tbody tr th {\n",
       "        vertical-align: top;\n",
       "    }\n",
       "\n",
       "    .dataframe thead th {\n",
       "        text-align: right;\n",
       "    }\n",
       "</style>\n",
       "<table border=\"1\" class=\"dataframe\">\n",
       "  <thead>\n",
       "    <tr style=\"text-align: right;\">\n",
       "      <th></th>\n",
       "      <th>X1</th>\n",
       "      <th>X2</th>\n",
       "      <th>X3</th>\n",
       "    </tr>\n",
       "  </thead>\n",
       "  <tbody>\n",
       "    <tr>\n",
       "      <th>C</th>\n",
       "      <td>7</td>\n",
       "      <td>8</td>\n",
       "      <td>9</td>\n",
       "    </tr>\n",
       "    <tr>\n",
       "      <th>B</th>\n",
       "      <td>4</td>\n",
       "      <td>5</td>\n",
       "      <td>6</td>\n",
       "    </tr>\n",
       "    <tr>\n",
       "      <th>A</th>\n",
       "      <td>1</td>\n",
       "      <td>2</td>\n",
       "      <td>3</td>\n",
       "    </tr>\n",
       "  </tbody>\n",
       "</table>\n",
       "</div>"
      ],
      "text/plain": [
       "   X1  X2  X3\n",
       "C   7   8   9\n",
       "B   4   5   6\n",
       "A   1   2   3"
      ]
     },
     "execution_count": 136,
     "metadata": {},
     "output_type": "execute_result"
    }
   ],
   "source": [
    "# DataFrame df를 정렬 기준을 'X3'열로 하여 내림차순 정렬\n",
    "df.sort_values(by='X3', ascending=False)\n",
    "df.sort_values(by='X3', ascending=False).head(3)"
   ]
  },
  {
   "attachments": {},
   "cell_type": "markdown",
   "metadata": {
    "id": "uZO_WcuCMB2M"
   },
   "source": [
    "### 6-04 데이터 타입 변경\n"
   ]
  },
  {
   "attachments": {},
   "cell_type": "markdown",
   "metadata": {
    "id": "8iu28WKQMUwo"
   },
   "source": [
    "#### 6-04-01 astype(str or dict)\n",
    "- DataFrame의 전체 데이터 유형을 변환하거나 특정 컬럼(Series)만 변경 가능\n",
    "- 전체 데이터 유형을 변환하기 위해서는 변환하고자 하는 데이터 유형을 문자열로 지정\n",
    "- 특정 컬럼의 데이터 유형만 변경하고 싶은 경우 딕셔너리 형태로 지정\n",
    "    - { ‘컬럼명’ : ‘데이터 유형‘}"
   ]
  },
  {
   "cell_type": "code",
   "execution_count": 137,
   "metadata": {},
   "outputs": [
    {
     "data": {
      "text/plain": [
       "X1    int64\n",
       "X2    int64\n",
       "X3    int64\n",
       "dtype: object"
      ]
     },
     "execution_count": 137,
     "metadata": {},
     "output_type": "execute_result"
    }
   ],
   "source": [
    "df.dtypes"
   ]
  },
  {
   "cell_type": "code",
   "execution_count": 138,
   "metadata": {
    "colab": {
     "base_uri": "https://localhost:8080/",
     "height": 141
    },
    "executionInfo": {
     "elapsed": 720,
     "status": "ok",
     "timestamp": 1612192846082,
     "user": {
      "displayName": "hj Kim",
      "photoUrl": "",
      "userId": "02263672027550517756"
     },
     "user_tz": -540
    },
    "id": "jQrD1UGiOFYJ",
    "outputId": "d16fc784-6192-424c-d928-311358e8a6a7"
   },
   "outputs": [
    {
     "data": {
      "text/html": [
       "<div>\n",
       "<style scoped>\n",
       "    .dataframe tbody tr th:only-of-type {\n",
       "        vertical-align: middle;\n",
       "    }\n",
       "\n",
       "    .dataframe tbody tr th {\n",
       "        vertical-align: top;\n",
       "    }\n",
       "\n",
       "    .dataframe thead th {\n",
       "        text-align: right;\n",
       "    }\n",
       "</style>\n",
       "<table border=\"1\" class=\"dataframe\">\n",
       "  <thead>\n",
       "    <tr style=\"text-align: right;\">\n",
       "      <th></th>\n",
       "      <th>X1</th>\n",
       "      <th>X2</th>\n",
       "      <th>X3</th>\n",
       "    </tr>\n",
       "  </thead>\n",
       "  <tbody>\n",
       "    <tr>\n",
       "      <th>A</th>\n",
       "      <td>1.0</td>\n",
       "      <td>2.0</td>\n",
       "      <td>3.0</td>\n",
       "    </tr>\n",
       "    <tr>\n",
       "      <th>B</th>\n",
       "      <td>4.0</td>\n",
       "      <td>5.0</td>\n",
       "      <td>6.0</td>\n",
       "    </tr>\n",
       "    <tr>\n",
       "      <th>C</th>\n",
       "      <td>7.0</td>\n",
       "      <td>8.0</td>\n",
       "      <td>9.0</td>\n",
       "    </tr>\n",
       "  </tbody>\n",
       "</table>\n",
       "</div>"
      ],
      "text/plain": [
       "    X1   X2   X3\n",
       "A  1.0  2.0  3.0\n",
       "B  4.0  5.0  6.0\n",
       "C  7.0  8.0  9.0"
      ]
     },
     "execution_count": 138,
     "metadata": {},
     "output_type": "execute_result"
    }
   ],
   "source": [
    "# DataFrame df의 dtype을 'float'로 변경\n",
    "df = df.astype('float')\n",
    "df"
   ]
  },
  {
   "cell_type": "code",
   "execution_count": 140,
   "metadata": {},
   "outputs": [
    {
     "data": {
      "text/plain": [
       "X1    float64\n",
       "X2    float64\n",
       "X3    float64\n",
       "dtype: object"
      ]
     },
     "execution_count": 140,
     "metadata": {},
     "output_type": "execute_result"
    }
   ],
   "source": [
    "df.dtypes"
   ]
  },
  {
   "cell_type": "code",
   "execution_count": 141,
   "metadata": {
    "colab": {
     "base_uri": "https://localhost:8080/",
     "height": 141
    },
    "executionInfo": {
     "elapsed": 783,
     "status": "ok",
     "timestamp": 1612192887470,
     "user": {
      "displayName": "hj Kim",
      "photoUrl": "",
      "userId": "02263672027550517756"
     },
     "user_tz": -540
    },
    "id": "B1Dcv9eIOFYJ",
    "outputId": "b5cdfd9a-7788-45b0-aedc-e6f4459b548c"
   },
   "outputs": [
    {
     "data": {
      "text/html": [
       "<div>\n",
       "<style scoped>\n",
       "    .dataframe tbody tr th:only-of-type {\n",
       "        vertical-align: middle;\n",
       "    }\n",
       "\n",
       "    .dataframe tbody tr th {\n",
       "        vertical-align: top;\n",
       "    }\n",
       "\n",
       "    .dataframe thead th {\n",
       "        text-align: right;\n",
       "    }\n",
       "</style>\n",
       "<table border=\"1\" class=\"dataframe\">\n",
       "  <thead>\n",
       "    <tr style=\"text-align: right;\">\n",
       "      <th></th>\n",
       "      <th>X1</th>\n",
       "      <th>X2</th>\n",
       "      <th>X3</th>\n",
       "    </tr>\n",
       "  </thead>\n",
       "  <tbody>\n",
       "    <tr>\n",
       "      <th>A</th>\n",
       "      <td>1.0</td>\n",
       "      <td>2.0</td>\n",
       "      <td>3.0</td>\n",
       "    </tr>\n",
       "    <tr>\n",
       "      <th>B</th>\n",
       "      <td>4.0</td>\n",
       "      <td>5.0</td>\n",
       "      <td>6.0</td>\n",
       "    </tr>\n",
       "    <tr>\n",
       "      <th>C</th>\n",
       "      <td>7.0</td>\n",
       "      <td>8.0</td>\n",
       "      <td>9.0</td>\n",
       "    </tr>\n",
       "  </tbody>\n",
       "</table>\n",
       "</div>"
      ],
      "text/plain": [
       "    X1   X2   X3\n",
       "A  1.0  2.0  3.0\n",
       "B  4.0  5.0  6.0\n",
       "C  7.0  8.0  9.0"
      ]
     },
     "execution_count": 141,
     "metadata": {},
     "output_type": "execute_result"
    }
   ],
   "source": [
    "# DataFrame df의 'X1', 'X3'열에 대한 dtype을 'float'로 변경\n",
    "# dict 객체를 사용함\n",
    "df.astype({'X1':'float', 'X3':'float'})"
   ]
  },
  {
   "attachments": {},
   "cell_type": "markdown",
   "metadata": {
    "id": "oKLCKE6zMZGt"
   },
   "source": [
    "#### 6-04-02 pd.to_numeric\n",
    "- pd.to_numeric(1d array or series, errors='ignore', 'raise', 'coerce')\n",
    "- astype을 이용하여 숫자형으로변경하고자하는 경우 에러가 발생할 수 있음\n",
    "    - 숫자형으로 변경이 불가능한 데이터가 존재하는 경우 발생하며 주로 문자열에서 많이\n",
    "발생함\n",
    "- to_numeric 함수를 이용하면 에러 유형에 따라 변환 방법을 지정 가능\n",
    "    - erros를 ignore로 설정하는 경우 에러가 발생하지 않고 변경이 안됨\n",
    "    - erros를 raise로 설정하는 경우 에러를 발생시킴 (기본 값)\n",
    "    - erros를 coerce로 설정하는 경우 에러가 발생한 데이터는 NaN으로 변환"
   ]
  },
  {
   "cell_type": "code",
   "execution_count": 142,
   "metadata": {
    "colab": {
     "base_uri": "https://localhost:8080/"
    },
    "executionInfo": {
     "elapsed": 800,
     "status": "ok",
     "timestamp": 1612192918319,
     "user": {
      "displayName": "hj Kim",
      "photoUrl": "",
      "userId": "02263672027550517756"
     },
     "user_tz": -540
    },
    "id": "KQA_r6cKOFYK",
    "outputId": "58ec1278-0eaf-47ae-de1f-27debedf2497"
   },
   "outputs": [
    {
     "data": {
      "text/plain": [
       "0    1\n",
       "1    2\n",
       "2    3\n",
       "3    4\n",
       "4    a\n",
       "dtype: object"
      ]
     },
     "execution_count": 142,
     "metadata": {},
     "output_type": "execute_result"
    }
   ],
   "source": [
    "# 문자열 값을 갖는 Series 생성\n",
    "str_series = pd.Series(['1', '2', '3', '4', 'a'])\n",
    "str_series"
   ]
  },
  {
   "cell_type": "code",
   "execution_count": 143,
   "metadata": {
    "collapsed": true,
    "id": "WCah_9LhQBOF"
   },
   "outputs": [
    {
     "ename": "ValueError",
     "evalue": "Unable to parse string \"a\" at position 4",
     "output_type": "error",
     "traceback": [
      "\u001b[1;31m---------------------------------------------------------------------------\u001b[0m",
      "\u001b[1;31mValueError\u001b[0m                                Traceback (most recent call last)",
      "\u001b[1;32mpandas\\_libs\\lib.pyx\u001b[0m in \u001b[0;36mpandas._libs.lib.maybe_convert_numeric\u001b[1;34m()\u001b[0m\n",
      "\u001b[1;31mValueError\u001b[0m: Unable to parse string \"a\"",
      "\nDuring handling of the above exception, another exception occurred:\n",
      "\u001b[1;31mValueError\u001b[0m                                Traceback (most recent call last)",
      "\u001b[1;32m<ipython-input-143-6b26d90819eb>\u001b[0m in \u001b[0;36m<module>\u001b[1;34m\u001b[0m\n\u001b[0;32m      1\u001b[0m \u001b[1;31m# 숫자로 변경할 수 없는 'a'가 있어 Error 발생\u001b[0m\u001b[1;33m\u001b[0m\u001b[1;33m\u001b[0m\u001b[1;33m\u001b[0m\u001b[0m\n\u001b[1;32m----> 2\u001b[1;33m \u001b[0mpd\u001b[0m\u001b[1;33m.\u001b[0m\u001b[0mto_numeric\u001b[0m\u001b[1;33m(\u001b[0m\u001b[0mstr_series\u001b[0m\u001b[1;33m,\u001b[0m \u001b[0merrors\u001b[0m\u001b[1;33m=\u001b[0m\u001b[1;34m'raise'\u001b[0m\u001b[1;33m)\u001b[0m \u001b[1;31m# Error\u001b[0m\u001b[1;33m\u001b[0m\u001b[1;33m\u001b[0m\u001b[0m\n\u001b[0m",
      "\u001b[1;32m~\\anaconda3\\lib\\site-packages\\pandas\\core\\tools\\numeric.py\u001b[0m in \u001b[0;36mto_numeric\u001b[1;34m(arg, errors, downcast)\u001b[0m\n\u001b[0;32m    152\u001b[0m         \u001b[0mcoerce_numeric\u001b[0m \u001b[1;33m=\u001b[0m \u001b[0merrors\u001b[0m \u001b[1;32mnot\u001b[0m \u001b[1;32min\u001b[0m \u001b[1;33m(\u001b[0m\u001b[1;34m\"ignore\"\u001b[0m\u001b[1;33m,\u001b[0m \u001b[1;34m\"raise\"\u001b[0m\u001b[1;33m)\u001b[0m\u001b[1;33m\u001b[0m\u001b[1;33m\u001b[0m\u001b[0m\n\u001b[0;32m    153\u001b[0m         \u001b[1;32mtry\u001b[0m\u001b[1;33m:\u001b[0m\u001b[1;33m\u001b[0m\u001b[1;33m\u001b[0m\u001b[0m\n\u001b[1;32m--> 154\u001b[1;33m             values = lib.maybe_convert_numeric(\n\u001b[0m\u001b[0;32m    155\u001b[0m                 \u001b[0mvalues\u001b[0m\u001b[1;33m,\u001b[0m \u001b[0mset\u001b[0m\u001b[1;33m(\u001b[0m\u001b[1;33m)\u001b[0m\u001b[1;33m,\u001b[0m \u001b[0mcoerce_numeric\u001b[0m\u001b[1;33m=\u001b[0m\u001b[0mcoerce_numeric\u001b[0m\u001b[1;33m\u001b[0m\u001b[1;33m\u001b[0m\u001b[0m\n\u001b[0;32m    156\u001b[0m             )\n",
      "\u001b[1;32mpandas\\_libs\\lib.pyx\u001b[0m in \u001b[0;36mpandas._libs.lib.maybe_convert_numeric\u001b[1;34m()\u001b[0m\n",
      "\u001b[1;31mValueError\u001b[0m: Unable to parse string \"a\" at position 4"
     ]
    }
   ],
   "source": [
    "# 숫자로 변경할 수 없는 'a'가 있어 Error 발생\n",
    "pd.to_numeric(str_series, errors='raise') # Error "
   ]
  },
  {
   "cell_type": "code",
   "execution_count": 144,
   "metadata": {
    "colab": {
     "base_uri": "https://localhost:8080/"
    },
    "executionInfo": {
     "elapsed": 735,
     "status": "ok",
     "timestamp": 1612192927530,
     "user": {
      "displayName": "hj Kim",
      "photoUrl": "",
      "userId": "02263672027550517756"
     },
     "user_tz": -540
    },
    "id": "S8p0xKRBOFYK",
    "outputId": "936d7328-6b08-4035-e750-f67a2747a0ff"
   },
   "outputs": [
    {
     "data": {
      "text/plain": [
       "0    1\n",
       "1    2\n",
       "2    3\n",
       "3    4\n",
       "4    a\n",
       "dtype: object"
      ]
     },
     "execution_count": 144,
     "metadata": {},
     "output_type": "execute_result"
    }
   ],
   "source": [
    "# 숫자로 변경할 수 없는 'a'가 있어 numeric으로 변환하지 않음\n",
    "pd.to_numeric(str_series, errors='ignore')"
   ]
  },
  {
   "cell_type": "code",
   "execution_count": 145,
   "metadata": {
    "colab": {
     "base_uri": "https://localhost:8080/"
    },
    "executionInfo": {
     "elapsed": 683,
     "status": "ok",
     "timestamp": 1612192931076,
     "user": {
      "displayName": "hj Kim",
      "photoUrl": "",
      "userId": "02263672027550517756"
     },
     "user_tz": -540
    },
    "id": "8bb00H7ROFYK",
    "outputId": "07834f89-e5f0-43e0-96a4-d91993dac29d"
   },
   "outputs": [
    {
     "data": {
      "text/plain": [
       "0    1.0\n",
       "1    2.0\n",
       "2    3.0\n",
       "3    4.0\n",
       "4    NaN\n",
       "dtype: float64"
      ]
     },
     "execution_count": 145,
     "metadata": {},
     "output_type": "execute_result"
    }
   ],
   "source": [
    "# 숫자로 변경할 수 없는 'a'에 대해 NaN 으로 대체하고 float64로 변경\n",
    "pd.to_numeric(str_series, errors='coerce')"
   ]
  },
  {
   "attachments": {},
   "cell_type": "markdown",
   "metadata": {
    "id": "z8px0r7ZQdS1"
   },
   "source": [
    "#### 6-04-03 pd.to_datetime\n",
    "- pd.to_datetime(dataframe)\n",
    "   - DataFrame의 컬럼명이 ‘year’, ‘month’, ‘day’, ‘hour’, ‘minute’, ‘second’, ‘ms’, ‘us’,\n",
    "‘ns’과 같다면 날짜 형식 데이터 반환\n",
    "- pd.to_datetime(1d array or series, format)\n",
    "   - 문자열 또는 숫자로 지정된 데이터를 날짜 형식으로 변환\n",
    "   - format을 지정하면 변환 속도가 빨라짐\n"
   ]
  },
  {
   "cell_type": "code",
   "execution_count": 153,
   "metadata": {
    "colab": {
     "base_uri": "https://localhost:8080/",
     "height": 141
    },
    "executionInfo": {
     "elapsed": 760,
     "status": "ok",
     "timestamp": 1612194066692,
     "user": {
      "displayName": "hj Kim",
      "photoUrl": "",
      "userId": "02263672027550517756"
     },
     "user_tz": -540
    },
    "id": "rV11Uxv3OFYK",
    "outputId": "88554727-96d6-4f04-9b3e-67169f34d0fa"
   },
   "outputs": [
    {
     "data": {
      "text/html": [
       "<div>\n",
       "<style scoped>\n",
       "    .dataframe tbody tr th:only-of-type {\n",
       "        vertical-align: middle;\n",
       "    }\n",
       "\n",
       "    .dataframe tbody tr th {\n",
       "        vertical-align: top;\n",
       "    }\n",
       "\n",
       "    .dataframe thead th {\n",
       "        text-align: right;\n",
       "    }\n",
       "</style>\n",
       "<table border=\"1\" class=\"dataframe\">\n",
       "  <thead>\n",
       "    <tr style=\"text-align: right;\">\n",
       "      <th></th>\n",
       "      <th>year</th>\n",
       "      <th>month</th>\n",
       "      <th>day</th>\n",
       "    </tr>\n",
       "  </thead>\n",
       "  <tbody>\n",
       "    <tr>\n",
       "      <th>0</th>\n",
       "      <td>2020</td>\n",
       "      <td>1</td>\n",
       "      <td>1</td>\n",
       "    </tr>\n",
       "    <tr>\n",
       "      <th>1</th>\n",
       "      <td>2019</td>\n",
       "      <td>1</td>\n",
       "      <td>1</td>\n",
       "    </tr>\n",
       "    <tr>\n",
       "      <th>2</th>\n",
       "      <td>2018</td>\n",
       "      <td>1</td>\n",
       "      <td>1</td>\n",
       "    </tr>\n",
       "  </tbody>\n",
       "</table>\n",
       "</div>"
      ],
      "text/plain": [
       "   year  month  day\n",
       "0  2020      1    1\n",
       "1  2019      1    1\n",
       "2  2018      1    1"
      ]
     },
     "execution_count": 153,
     "metadata": {},
     "output_type": "execute_result"
    }
   ],
   "source": [
    "import pandas as pd\n",
    "# 특정 열이름(year, month, day)을 갖는 DataFrame 생성\n",
    "date = pd.DataFrame({\n",
    "    'year' : [2020, 2019, 2018],\n",
    "    'month': [1, 1, 1],\n",
    "    'day' : [1, 1, 1]\n",
    "})\n",
    "date"
   ]
  },
  {
   "cell_type": "code",
   "execution_count": 162,
   "metadata": {
    "colab": {
     "base_uri": "https://localhost:8080/"
    },
    "executionInfo": {
     "elapsed": 674,
     "status": "ok",
     "timestamp": 1612194094296,
     "user": {
      "displayName": "hj Kim",
      "photoUrl": "",
      "userId": "02263672027550517756"
     },
     "user_tz": -540
    },
    "id": "9Q0CL8jjOFYL",
    "outputId": "6f6cb2f8-91cd-442b-c3f9-87efa635b5c7"
   },
   "outputs": [
    {
     "data": {
      "text/plain": [
       "0   2020-01-01\n",
       "1   2019-01-01\n",
       "2   2018-01-01\n",
       "dtype: datetime64[ns]"
      ]
     },
     "execution_count": 162,
     "metadata": {},
     "output_type": "execute_result"
    }
   ],
   "source": [
    "# 특정 열이름(year, month, day)를 갖는 DataFrame을 사용하여 \n",
    "# dtype이 datatime인 Series 생성\n",
    "pd.to_datetime(date)\n",
    "\n"
   ]
  },
  {
   "cell_type": "code",
   "execution_count": 4,
   "metadata": {
    "colab": {
     "base_uri": "https://localhost:8080/"
    },
    "executionInfo": {
     "elapsed": 1023,
     "status": "ok",
     "timestamp": 1612193488412,
     "user": {
      "displayName": "hj Kim",
      "photoUrl": "",
      "userId": "02263672027550517756"
     },
     "user_tz": -540
    },
    "id": "Xk_Thxi6OFYL",
    "outputId": "e8acbe04-6021-4af1-e23a-7a33c4537b5d"
   },
   "outputs": [
    {
     "data": {
      "text/plain": [
       "DatetimeIndex(['2020-01-01', '2019-01-01', '2018-01-01'], dtype='datetime64[ns]', freq=None)"
      ]
     },
     "execution_count": 4,
     "metadata": {},
     "output_type": "execute_result"
    }
   ],
   "source": [
    "# 날짜 형식의 문자열을 item으로 하는 list를 사용하여 \n",
    "# dtype이 datatime인 DatetimeIndex 생성\n",
    "datelist = ['2020-01-01', '2019-01-01', '2018-01-01']\n",
    "pd.to_datetime(datelist, format=\"%Y-%m-%d\")"
   ]
  },
  {
   "cell_type": "code",
   "execution_count": 148,
   "metadata": {
    "id": "sLzeF7-bOFYL"
   },
   "outputs": [
    {
     "data": {
      "text/plain": [
       "DatetimeIndex(['2020-01-01', '2019-01-01', '2018-01-01'], dtype='datetime64[ns]', freq=None)"
      ]
     },
     "execution_count": 148,
     "metadata": {},
     "output_type": "execute_result"
    }
   ],
   "source": [
    "# 날짜 형식의 문자열을 item으로 하는 list를 사용하여 \n",
    "# format 지정하여, dtype이 datatime인 DatetimeIndex 생성 \n",
    "date = ['01012020', '01012019', '01012018']\n",
    "#pd.to_datetime(date)  # 자동으로 날짜 형식 인지가 안됨\n",
    "pd.to_datetime(date, format=\"%m%d%Y\")  # 형식을 알려줌"
   ]
  },
  {
   "attachments": {},
   "cell_type": "markdown",
   "metadata": {
    "id": "52bBBACBRYbe"
   },
   "source": [
    "![image.png](data:image/png;base64,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)"
   ]
  },
  {
   "cell_type": "code",
   "execution_count": 3,
   "metadata": {},
   "outputs": [
    {
     "data": {
      "text/plain": [
       "0    19/01/01 AM 09:10:00\n",
       "1    19/06/30 PM 09:20:50\n",
       "2    19/07/20 PM 11:30:59\n",
       "Name: Birth, dtype: object"
      ]
     },
     "execution_count": 3,
     "metadata": {},
     "output_type": "execute_result"
    }
   ],
   "source": [
    "import pandas as pd \n",
    "df = pd.DataFrame({'Birth':['2019-01-01 09:10:00',\n",
    "                            '2019-06-30 21:20:50',\n",
    "                            '2019-07-20 23:30:59']})\n",
    "df['Birth'] = pd.to_datetime(df['Birth'], format='%Y-%m-%d %H:%M:%S'\n",
    "                             , errors='raise')\n",
    "# df['Birth'].dt.date  \n",
    "df['Birth'].dt.strftime('%y/%m/%d %p %I:%M:%S')"
   ]
  },
  {
   "cell_type": "code",
   "execution_count": 10,
   "metadata": {},
   "outputs": [
    {
     "data": {
      "text/plain": [
       "'13-02-18 AM 12:00:00'"
      ]
     },
     "execution_count": 10,
     "metadata": {},
     "output_type": "execute_result"
    }
   ],
   "source": [
    "# format='%Y-%m-%d %I:%M:%S',\n",
    "import pandas as pd\n",
    "# pd.to_datetime('2019-11-26 오후 2:40:14', format='%Y-%m-%d %p %H:%M:%S')\n",
    "\n",
    "\n",
    "\n",
    "import datetime\n",
    "D=datetime.date(2013,2,18)\n",
    "D.strftime('%Y %m %d')\n",
    "D.strftime('%y/%m/%d %p %I:%M:%S') #시, 분, 초에 대한 정보는 없기때문에 '0'으로 반환됨\n",
    "D.strftime('%y-%m-%d %p %I:%M:%S') "
   ]
  },
  {
   "cell_type": "code",
   "execution_count": 12,
   "metadata": {},
   "outputs": [
    {
     "data": {
      "text/plain": [
       "Timestamp('2019-11-26 14:40:14')"
      ]
     },
     "execution_count": 12,
     "metadata": {},
     "output_type": "execute_result"
    }
   ],
   "source": [
    "pd.to_datetime('2019-11-26 PM 2:40:14', format='%Y-%m-%d %p %I:%M:%S')\n"
   ]
  },
  {
   "attachments": {},
   "cell_type": "markdown",
   "metadata": {
    "id": "HPu_0Bu2RjNF"
   },
   "source": [
    "#### 6-06-04 날짜 범위 생성\n",
    "- pd.date_range(start, end, periods, freq)\n",
    "   - 특정 날짜/시간 범위의 데이터 생성 가능\n",
    "   - periods(데이터의 개수), freq(생성 주기)"
   ]
  },
  {
   "cell_type": "code",
   "execution_count": 149,
   "metadata": {
    "colab": {
     "base_uri": "https://localhost:8080/"
    },
    "executionInfo": {
     "elapsed": 697,
     "status": "ok",
     "timestamp": 1612192991949,
     "user": {
      "displayName": "hj Kim",
      "photoUrl": "",
      "userId": "02263672027550517756"
     },
     "user_tz": -540
    },
    "id": "f8J5EOUhOFYM",
    "outputId": "7cd87ea1-7efc-48cf-cb25-07f8ec82fde5"
   },
   "outputs": [
    {
     "data": {
      "text/plain": [
       "DatetimeIndex(['2020-01-01', '2020-01-02', '2020-01-03', '2020-01-04',\n",
       "               '2020-01-05', '2020-01-06', '2020-01-07', '2020-01-08',\n",
       "               '2020-01-09', '2020-01-10'],\n",
       "              dtype='datetime64[ns]', freq='D')"
      ]
     },
     "execution_count": 149,
     "metadata": {},
     "output_type": "execute_result"
    }
   ],
   "source": [
    "# date_range(start, periods)를 사용하여 \n",
    "# 2020년 1월 1일 ~ 10일까지의 날짜를 갖는 dtype이 datatime인 DatetimeIndex 생성\n",
    "pd.date_range('20200101', periods=10)"
   ]
  },
  {
   "cell_type": "code",
   "execution_count": 150,
   "metadata": {
    "colab": {
     "base_uri": "https://localhost:8080/"
    },
    "executionInfo": {
     "elapsed": 1443,
     "status": "ok",
     "timestamp": 1612193198974,
     "user": {
      "displayName": "hj Kim",
      "photoUrl": "",
      "userId": "02263672027550517756"
     },
     "user_tz": -540
    },
    "id": "JktAhLiUOFYM",
    "outputId": "f4d0016c-7836-46d0-f44f-d4594a3da718"
   },
   "outputs": [
    {
     "data": {
      "text/plain": [
       "DatetimeIndex(['2020-01-01 00:00:00', '2020-01-01 00:00:01',\n",
       "               '2020-01-01 00:00:02', '2020-01-01 00:00:03',\n",
       "               '2020-01-01 00:00:04', '2020-01-01 00:00:05',\n",
       "               '2020-01-01 00:00:06', '2020-01-01 00:00:07',\n",
       "               '2020-01-01 00:00:08', '2020-01-01 00:00:09',\n",
       "               ...\n",
       "               '2020-12-30 23:59:51', '2020-12-30 23:59:52',\n",
       "               '2020-12-30 23:59:53', '2020-12-30 23:59:54',\n",
       "               '2020-12-30 23:59:55', '2020-12-30 23:59:56',\n",
       "               '2020-12-30 23:59:57', '2020-12-30 23:59:58',\n",
       "               '2020-12-30 23:59:59', '2020-12-31 00:00:00'],\n",
       "              dtype='datetime64[ns]', length=31536001, freq='S')"
      ]
     },
     "execution_count": 150,
     "metadata": {},
     "output_type": "execute_result"
    }
   ],
   "source": [
    "# date_range(start, end, freq='S')를 사용하여 \n",
    "# 2020-01-01 00:00:00  ~ 2020-12-31 00:00:00 까지의 데이터를 갖는 \n",
    "# dtype이 datatime인 DatetimeIndex 생성\n",
    "\n",
    "index = pd.date_range('2020-01-01', '2020-12-31', freq='S')\n",
    "index"
   ]
  },
  {
   "cell_type": "code",
   "execution_count": 151,
   "metadata": {},
   "outputs": [
    {
     "data": {
      "text/plain": [
       "DatetimeIndex(['2020-01-31', '2020-02-29', '2020-03-31', '2020-04-30',\n",
       "               '2020-05-31', '2020-06-30', '2020-07-31', '2020-08-31',\n",
       "               '2020-09-30', '2020-10-31', '2020-11-30', '2020-12-31'],\n",
       "              dtype='datetime64[ns]', freq='M')"
      ]
     },
     "execution_count": 151,
     "metadata": {},
     "output_type": "execute_result"
    }
   ],
   "source": [
    "pd.date_range('2020-01-01', '2020-12-31', freq='M')"
   ]
  },
  {
   "attachments": {},
   "cell_type": "markdown",
   "metadata": {
    "id": "fHKMUsSBSdrA"
   },
   "source": [
    "### 6-05 데이터 삭제\n",
    "- drop(labels, axis, inplace)\n",
    "   - labels로 지정된 행(axis=0) 또는 열(axis=1)이 삭제된 결과 반환\n",
    "   - 삭제 대상이 여러 개인 경우 행 또는 **열 인덱스를 [ ]로 묶어서 설정**\n",
    "   - 결과를 반환하지 않고 원본에 바로 적용하고자 하는 경우 inplace를 True로 설정"
   ]
  },
  {
   "cell_type": "code",
   "execution_count": null,
   "metadata": {
    "colab": {
     "base_uri": "https://localhost:8080/",
     "height": 141
    },
    "executionInfo": {
     "elapsed": 744,
     "status": "ok",
     "timestamp": 1611995474253,
     "user": {
      "displayName": "soyoung yoon",
      "photoUrl": "",
      "userId": "10805103917170170851"
     },
     "user_tz": -540
    },
    "id": "z6Zp1bKhatrw",
    "outputId": "39078dfa-d7d1-401f-e172-5ebc572aca52"
   },
   "outputs": [
    {
     "data": {
      "text/html": [
       "<div>\n",
       "<style scoped>\n",
       "    .dataframe tbody tr th:only-of-type {\n",
       "        vertical-align: middle;\n",
       "    }\n",
       "\n",
       "    .dataframe tbody tr th {\n",
       "        vertical-align: top;\n",
       "    }\n",
       "\n",
       "    .dataframe thead th {\n",
       "        text-align: right;\n",
       "    }\n",
       "</style>\n",
       "<table border=\"1\" class=\"dataframe\">\n",
       "  <thead>\n",
       "    <tr style=\"text-align: right;\">\n",
       "      <th></th>\n",
       "      <th>X1</th>\n",
       "      <th>X2</th>\n",
       "      <th>X3</th>\n",
       "    </tr>\n",
       "  </thead>\n",
       "  <tbody>\n",
       "    <tr>\n",
       "      <th>A</th>\n",
       "      <td>1</td>\n",
       "      <td>2</td>\n",
       "      <td>3</td>\n",
       "    </tr>\n",
       "    <tr>\n",
       "      <th>B</th>\n",
       "      <td>4</td>\n",
       "      <td>5</td>\n",
       "      <td>6</td>\n",
       "    </tr>\n",
       "    <tr>\n",
       "      <th>C</th>\n",
       "      <td>7</td>\n",
       "      <td>8</td>\n",
       "      <td>9</td>\n",
       "    </tr>\n",
       "  </tbody>\n",
       "</table>\n",
       "</div>"
      ],
      "text/plain": [
       "   X1  X2  X3\n",
       "A   1   2   3\n",
       "B   4   5   6\n",
       "C   7   8   9"
      ]
     },
     "execution_count": 98,
     "metadata": {
      "tags": []
     },
     "output_type": "execute_result"
    }
   ],
   "source": [
    "df"
   ]
  },
  {
   "cell_type": "code",
   "execution_count": 163,
   "metadata": {
    "colab": {
     "base_uri": "https://localhost:8080/",
     "height": 110
    },
    "executionInfo": {
     "elapsed": 807,
     "status": "ok",
     "timestamp": 1612194143919,
     "user": {
      "displayName": "hj Kim",
      "photoUrl": "",
      "userId": "02263672027550517756"
     },
     "user_tz": -540
    },
    "id": "PLQ6IZisOFYM",
    "outputId": "79df5b14-4dc4-445e-df34-a69e5a9093ed"
   },
   "outputs": [
    {
     "data": {
      "text/html": [
       "<div>\n",
       "<style scoped>\n",
       "    .dataframe tbody tr th:only-of-type {\n",
       "        vertical-align: middle;\n",
       "    }\n",
       "\n",
       "    .dataframe tbody tr th {\n",
       "        vertical-align: top;\n",
       "    }\n",
       "\n",
       "    .dataframe thead th {\n",
       "        text-align: right;\n",
       "    }\n",
       "</style>\n",
       "<table border=\"1\" class=\"dataframe\">\n",
       "  <thead>\n",
       "    <tr style=\"text-align: right;\">\n",
       "      <th></th>\n",
       "      <th>X1</th>\n",
       "      <th>X2</th>\n",
       "      <th>X3</th>\n",
       "    </tr>\n",
       "  </thead>\n",
       "  <tbody>\n",
       "    <tr>\n",
       "      <th>B</th>\n",
       "      <td>4.0</td>\n",
       "      <td>5.0</td>\n",
       "      <td>6.0</td>\n",
       "    </tr>\n",
       "    <tr>\n",
       "      <th>C</th>\n",
       "      <td>7.0</td>\n",
       "      <td>8.0</td>\n",
       "      <td>9.0</td>\n",
       "    </tr>\n",
       "  </tbody>\n",
       "</table>\n",
       "</div>"
      ],
      "text/plain": [
       "    X1   X2   X3\n",
       "B  4.0  5.0  6.0\n",
       "C  7.0  8.0  9.0"
      ]
     },
     "execution_count": 163,
     "metadata": {},
     "output_type": "execute_result"
    }
   ],
   "source": [
    "# DataFrame에서 행 인덱스가 'A'인 행 삭제 -> 행기준 axis=0 \n",
    "df.drop('A')"
   ]
  },
  {
   "cell_type": "code",
   "execution_count": 164,
   "metadata": {
    "colab": {
     "base_uri": "https://localhost:8080/",
     "height": 141
    },
    "executionInfo": {
     "elapsed": 1308,
     "status": "ok",
     "timestamp": 1612194174086,
     "user": {
      "displayName": "hj Kim",
      "photoUrl": "",
      "userId": "02263672027550517756"
     },
     "user_tz": -540
    },
    "id": "5zutQgrNOFYM",
    "outputId": "ac99f0e8-55b1-4f70-faf1-06624a3d2a01"
   },
   "outputs": [
    {
     "data": {
      "text/html": [
       "<div>\n",
       "<style scoped>\n",
       "    .dataframe tbody tr th:only-of-type {\n",
       "        vertical-align: middle;\n",
       "    }\n",
       "\n",
       "    .dataframe tbody tr th {\n",
       "        vertical-align: top;\n",
       "    }\n",
       "\n",
       "    .dataframe thead th {\n",
       "        text-align: right;\n",
       "    }\n",
       "</style>\n",
       "<table border=\"1\" class=\"dataframe\">\n",
       "  <thead>\n",
       "    <tr style=\"text-align: right;\">\n",
       "      <th></th>\n",
       "      <th>X2</th>\n",
       "    </tr>\n",
       "  </thead>\n",
       "  <tbody>\n",
       "    <tr>\n",
       "      <th>A</th>\n",
       "      <td>2.0</td>\n",
       "    </tr>\n",
       "    <tr>\n",
       "      <th>B</th>\n",
       "      <td>5.0</td>\n",
       "    </tr>\n",
       "    <tr>\n",
       "      <th>C</th>\n",
       "      <td>8.0</td>\n",
       "    </tr>\n",
       "  </tbody>\n",
       "</table>\n",
       "</div>"
      ],
      "text/plain": [
       "    X2\n",
       "A  2.0\n",
       "B  5.0\n",
       "C  8.0"
      ]
     },
     "execution_count": 164,
     "metadata": {},
     "output_type": "execute_result"
    }
   ],
   "source": [
    "# DataFrame에서 열 인덱스가 ['X1', 'X3']인 열 삭제 \n",
    "df.drop(['X1', 'X3'], axis=1)"
   ]
  },
  {
   "cell_type": "code",
   "execution_count": 165,
   "metadata": {},
   "outputs": [
    {
     "data": {
      "text/html": [
       "<div>\n",
       "<style scoped>\n",
       "    .dataframe tbody tr th:only-of-type {\n",
       "        vertical-align: middle;\n",
       "    }\n",
       "\n",
       "    .dataframe tbody tr th {\n",
       "        vertical-align: top;\n",
       "    }\n",
       "\n",
       "    .dataframe thead th {\n",
       "        text-align: right;\n",
       "    }\n",
       "</style>\n",
       "<table border=\"1\" class=\"dataframe\">\n",
       "  <thead>\n",
       "    <tr style=\"text-align: right;\">\n",
       "      <th></th>\n",
       "      <th>X1</th>\n",
       "      <th>X2</th>\n",
       "      <th>X3</th>\n",
       "    </tr>\n",
       "  </thead>\n",
       "  <tbody>\n",
       "    <tr>\n",
       "      <th>A</th>\n",
       "      <td>1.0</td>\n",
       "      <td>2.0</td>\n",
       "      <td>3.0</td>\n",
       "    </tr>\n",
       "    <tr>\n",
       "      <th>B</th>\n",
       "      <td>4.0</td>\n",
       "      <td>5.0</td>\n",
       "      <td>6.0</td>\n",
       "    </tr>\n",
       "    <tr>\n",
       "      <th>C</th>\n",
       "      <td>7.0</td>\n",
       "      <td>8.0</td>\n",
       "      <td>9.0</td>\n",
       "    </tr>\n",
       "  </tbody>\n",
       "</table>\n",
       "</div>"
      ],
      "text/plain": [
       "    X1   X2   X3\n",
       "A  1.0  2.0  3.0\n",
       "B  4.0  5.0  6.0\n",
       "C  7.0  8.0  9.0"
      ]
     },
     "execution_count": 165,
     "metadata": {},
     "output_type": "execute_result"
    }
   ],
   "source": [
    "del df['X1']    #열삭제 "
   ]
  },
  {
   "cell_type": "code",
   "execution_count": null,
   "metadata": {},
   "outputs": [],
   "source": [
    "import numpy as np \n",
    "np.cor"
   ]
  },
  {
   "attachments": {},
   "cell_type": "markdown",
   "metadata": {
    "id": "YvggFROwS0Wn"
   },
   "source": [
    "### 6-06 데이터 구간별 범주화\n",
    "- pd.cut(x, bins, right, labels, …)\n",
    "- 연속 데이터를 구간별 범주화"
   ]
  },
  {
   "cell_type": "code",
   "execution_count": 2,
   "metadata": {
    "colab": {
     "base_uri": "https://localhost:8080/"
    },
    "executionInfo": {
     "elapsed": 1606,
     "status": "ok",
     "timestamp": 1612512412219,
     "user": {
      "displayName": "hj Kim",
      "photoUrl": "",
      "userId": "02263672027550517756"
     },
     "user_tz": -540
    },
    "id": "DfJ13FtYOFYN",
    "outputId": "ef24b4bc-1719-447e-889b-8c0b7d9282ed"
   },
   "outputs": [
    {
     "data": {
      "text/plain": [
       "['어린이', '청년', '어린이', '청년', '청년', ..., '노년', '청년', '중년', '장년', NaN]\n",
       "Length: 12\n",
       "Categories (5, object): ['어린이' < '청년' < '장년' < '중년' < '노년']"
      ]
     },
     "execution_count": 2,
     "metadata": {
      "tags": []
     },
     "output_type": "execute_result"
    }
   ],
   "source": [
    "import pandas as pd\n",
    "ages = [0, 15, 10, 21, 23, 37, 31, 61, 20, 41, 32, 100]\n",
    "bins = [0, 15, 25, 35, 60, 100]\n",
    "labels = ['어린이', '청년', '장년', '중년', '노년']\n",
    "cuts = pd.cut(ages, bins, right=False, labels=labels)\n",
    "cuts"
   ]
  },
  {
   "cell_type": "code",
   "execution_count": 176,
   "metadata": {
    "colab": {
     "base_uri": "https://localhost:8080/"
    },
    "executionInfo": {
     "elapsed": 870,
     "status": "ok",
     "timestamp": 1612512443777,
     "user": {
      "displayName": "hj Kim",
      "photoUrl": "",
      "userId": "02263672027550517756"
     },
     "user_tz": -540
    },
    "id": "yjMtQaRbOxsE",
    "outputId": "0c111ab6-5120-4ec0-f4f6-21faba9f0bcf"
   },
   "outputs": [
    {
     "data": {
      "text/plain": [
       "['어린이', '어린이', '어린이', '청년', '청년', ..., '노년', '청년', '중년', '장년', '노년']\n",
       "Length: 12\n",
       "Categories (5, object): ['어린이' < '청년' < '장년' < '중년' < '노년']"
      ]
     },
     "execution_count": 176,
     "metadata": {},
     "output_type": "execute_result"
    }
   ],
   "source": [
    "import pandas as pd\n",
    "ages = [0, 15, 10, 21, 23, 37, 31, 61, 20, 41, 32, 100]\n",
    "bins = [0, 15, 25, 35, 60, 100]\n",
    "labels = ['어린이', '청년', '장년', '중년', '노년']\n",
    "cuts = pd.cut(ages, bins,  right=True, labels=labels, include_lowest=True)\n",
    "cuts"
   ]
  },
  {
   "attachments": {},
   "cell_type": "markdown",
   "metadata": {
    "id": "3eZdb7UOS9xM"
   },
   "source": [
    "## 7.통계함수(Statistical Functions)\n",
    "- Pandas는 배열의 주어진 요소로 부터 최소, 최대, 백분위수, 표준 편차, 분산 등을 찾\n",
    "는데 유용한 통계 함수가 존재\n",
    "- 통계 함수는 배열에서 요소별로 작동하며axis 옵션을 통해 연산 방향을 지정할 수 있\n",
    "음\n",
    "    - axis이 0으로 지정 된 경우 행과 행의 연산 결과 반환 (기본 값)\n",
    "    - axis이 1로 지정 된 경우 열과 열의 연산 결과 반환\n",
    "- min, max, mean, median, quantile, std, var, corrcoef, argmin, argmax,\n",
    "cumsum, cumprod 등"
   ]
  },
  {
   "cell_type": "code",
   "execution_count": 179,
   "metadata": {
    "colab": {
     "base_uri": "https://localhost:8080/",
     "height": 141
    },
    "executionInfo": {
     "elapsed": 1231,
     "status": "ok",
     "timestamp": 1612194200839,
     "user": {
      "displayName": "hj Kim",
      "photoUrl": "",
      "userId": "02263672027550517756"
     },
     "user_tz": -540
    },
    "id": "epx7PO0sb2jV",
    "outputId": "b623d593-2dba-435f-b36e-7a20d735cde7"
   },
   "outputs": [
    {
     "data": {
      "text/html": [
       "<div>\n",
       "<style scoped>\n",
       "    .dataframe tbody tr th:only-of-type {\n",
       "        vertical-align: middle;\n",
       "    }\n",
       "\n",
       "    .dataframe tbody tr th {\n",
       "        vertical-align: top;\n",
       "    }\n",
       "\n",
       "    .dataframe thead th {\n",
       "        text-align: right;\n",
       "    }\n",
       "</style>\n",
       "<table border=\"1\" class=\"dataframe\">\n",
       "  <thead>\n",
       "    <tr style=\"text-align: right;\">\n",
       "      <th></th>\n",
       "      <th>X1</th>\n",
       "      <th>X2</th>\n",
       "      <th>X3</th>\n",
       "    </tr>\n",
       "  </thead>\n",
       "  <tbody>\n",
       "    <tr>\n",
       "      <th>A</th>\n",
       "      <td>1.0</td>\n",
       "      <td>2.0</td>\n",
       "      <td>3.0</td>\n",
       "    </tr>\n",
       "    <tr>\n",
       "      <th>B</th>\n",
       "      <td>4.0</td>\n",
       "      <td>5.0</td>\n",
       "      <td>6.0</td>\n",
       "    </tr>\n",
       "    <tr>\n",
       "      <th>C</th>\n",
       "      <td>7.0</td>\n",
       "      <td>8.0</td>\n",
       "      <td>9.0</td>\n",
       "    </tr>\n",
       "  </tbody>\n",
       "</table>\n",
       "</div>"
      ],
      "text/plain": [
       "    X1   X2   X3\n",
       "A  1.0  2.0  3.0\n",
       "B  4.0  5.0  6.0\n",
       "C  7.0  8.0  9.0"
      ]
     },
     "execution_count": 179,
     "metadata": {},
     "output_type": "execute_result"
    }
   ],
   "source": [
    "df"
   ]
  },
  {
   "cell_type": "code",
   "execution_count": 180,
   "metadata": {
    "colab": {
     "base_uri": "https://localhost:8080/"
    },
    "executionInfo": {
     "elapsed": 1193,
     "status": "ok",
     "timestamp": 1612194246264,
     "user": {
      "displayName": "hj Kim",
      "photoUrl": "",
      "userId": "02263672027550517756"
     },
     "user_tz": -540
    },
    "id": "JW0O0M84OFYN",
    "outputId": "a253ebd7-9324-4241-d310-cf1c1f42d4ce"
   },
   "outputs": [
    {
     "data": {
      "text/plain": [
       "X1    12.0\n",
       "X2    15.0\n",
       "X3    18.0\n",
       "dtype: float64"
      ]
     },
     "execution_count": 180,
     "metadata": {},
     "output_type": "execute_result"
    }
   ],
   "source": [
    "# DataFrame df의 행과 행의 합(sum)결과 반환\n",
    "df.sum()"
   ]
  },
  {
   "cell_type": "code",
   "execution_count": null,
   "metadata": {
    "colab": {
     "base_uri": "https://localhost:8080/"
    },
    "executionInfo": {
     "elapsed": 671,
     "status": "ok",
     "timestamp": 1612194275014,
     "user": {
      "displayName": "hj Kim",
      "photoUrl": "",
      "userId": "02263672027550517756"
     },
     "user_tz": -540
    },
    "id": "RICXz-5kOFYO",
    "outputId": "14a6ba45-485b-47c1-ff89-ec1351cf1c43"
   },
   "outputs": [
    {
     "data": {
      "text/plain": [
       "A     6.0\n",
       "B    15.0\n",
       "C    24.0\n",
       "dtype: float64"
      ]
     },
     "execution_count": 147,
     "metadata": {
      "tags": []
     },
     "output_type": "execute_result"
    }
   ],
   "source": [
    "# DataFrame df의 열과 열의 합(sum)결과 반환\n",
    "df.sum(axis=1)"
   ]
  },
  {
   "cell_type": "code",
   "execution_count": null,
   "metadata": {
    "colab": {
     "base_uri": "https://localhost:8080/",
     "height": 295
    },
    "executionInfo": {
     "elapsed": 955,
     "status": "ok",
     "timestamp": 1612194278654,
     "user": {
      "displayName": "hj Kim",
      "photoUrl": "",
      "userId": "02263672027550517756"
     },
     "user_tz": -540
    },
    "id": "N-pxZ0bUOFYO",
    "outputId": "2b37bded-0d71-4c04-b45a-87c6b4ece67b"
   },
   "outputs": [
    {
     "data": {
      "text/html": [
       "<div>\n",
       "<style scoped>\n",
       "    .dataframe tbody tr th:only-of-type {\n",
       "        vertical-align: middle;\n",
       "    }\n",
       "\n",
       "    .dataframe tbody tr th {\n",
       "        vertical-align: top;\n",
       "    }\n",
       "\n",
       "    .dataframe thead th {\n",
       "        text-align: right;\n",
       "    }\n",
       "</style>\n",
       "<table border=\"1\" class=\"dataframe\">\n",
       "  <thead>\n",
       "    <tr style=\"text-align: right;\">\n",
       "      <th></th>\n",
       "      <th>X1</th>\n",
       "      <th>X2</th>\n",
       "      <th>X3</th>\n",
       "    </tr>\n",
       "  </thead>\n",
       "  <tbody>\n",
       "    <tr>\n",
       "      <th>count</th>\n",
       "      <td>3.0</td>\n",
       "      <td>3.0</td>\n",
       "      <td>3.0</td>\n",
       "    </tr>\n",
       "    <tr>\n",
       "      <th>mean</th>\n",
       "      <td>4.0</td>\n",
       "      <td>5.0</td>\n",
       "      <td>6.0</td>\n",
       "    </tr>\n",
       "    <tr>\n",
       "      <th>std</th>\n",
       "      <td>3.0</td>\n",
       "      <td>3.0</td>\n",
       "      <td>3.0</td>\n",
       "    </tr>\n",
       "    <tr>\n",
       "      <th>min</th>\n",
       "      <td>1.0</td>\n",
       "      <td>2.0</td>\n",
       "      <td>3.0</td>\n",
       "    </tr>\n",
       "    <tr>\n",
       "      <th>25%</th>\n",
       "      <td>2.5</td>\n",
       "      <td>3.5</td>\n",
       "      <td>4.5</td>\n",
       "    </tr>\n",
       "    <tr>\n",
       "      <th>50%</th>\n",
       "      <td>4.0</td>\n",
       "      <td>5.0</td>\n",
       "      <td>6.0</td>\n",
       "    </tr>\n",
       "    <tr>\n",
       "      <th>75%</th>\n",
       "      <td>5.5</td>\n",
       "      <td>6.5</td>\n",
       "      <td>7.5</td>\n",
       "    </tr>\n",
       "    <tr>\n",
       "      <th>max</th>\n",
       "      <td>7.0</td>\n",
       "      <td>8.0</td>\n",
       "      <td>9.0</td>\n",
       "    </tr>\n",
       "  </tbody>\n",
       "</table>\n",
       "</div>"
      ],
      "text/plain": [
       "        X1   X2   X3\n",
       "count  3.0  3.0  3.0\n",
       "mean   4.0  5.0  6.0\n",
       "std    3.0  3.0  3.0\n",
       "min    1.0  2.0  3.0\n",
       "25%    2.5  3.5  4.5\n",
       "50%    4.0  5.0  6.0\n",
       "75%    5.5  6.5  7.5\n",
       "max    7.0  8.0  9.0"
      ]
     },
     "execution_count": 148,
     "metadata": {
      "tags": []
     },
     "output_type": "execute_result"
    }
   ],
   "source": [
    "# DataFrame df의 열별 통계 값 출력\n",
    "# count, mean, std, min, 25%, 50%, 75%, max\n",
    "df.describe()"
   ]
  },
  {
   "cell_type": "code",
   "execution_count": 181,
   "metadata": {
    "id": "MHQUkv6JRGkX"
   },
   "outputs": [
    {
     "data": {
      "text/html": [
       "<div>\n",
       "<style scoped>\n",
       "    .dataframe tbody tr th:only-of-type {\n",
       "        vertical-align: middle;\n",
       "    }\n",
       "\n",
       "    .dataframe tbody tr th {\n",
       "        vertical-align: top;\n",
       "    }\n",
       "\n",
       "    .dataframe thead th {\n",
       "        text-align: right;\n",
       "    }\n",
       "</style>\n",
       "<table border=\"1\" class=\"dataframe\">\n",
       "  <thead>\n",
       "    <tr style=\"text-align: right;\">\n",
       "      <th></th>\n",
       "      <th>X1</th>\n",
       "      <th>X2</th>\n",
       "      <th>X3</th>\n",
       "    </tr>\n",
       "  </thead>\n",
       "  <tbody>\n",
       "    <tr>\n",
       "      <th>A</th>\n",
       "      <td>NaN</td>\n",
       "      <td>2.0</td>\n",
       "      <td>3.0</td>\n",
       "    </tr>\n",
       "    <tr>\n",
       "      <th>B</th>\n",
       "      <td>4.0</td>\n",
       "      <td>5.0</td>\n",
       "      <td>6.0</td>\n",
       "    </tr>\n",
       "    <tr>\n",
       "      <th>C</th>\n",
       "      <td>7.0</td>\n",
       "      <td>8.0</td>\n",
       "      <td>9.0</td>\n",
       "    </tr>\n",
       "  </tbody>\n",
       "</table>\n",
       "</div>"
      ],
      "text/plain": [
       "    X1   X2   X3\n",
       "A  NaN  2.0  3.0\n",
       "B  4.0  5.0  6.0\n",
       "C  7.0  8.0  9.0"
      ]
     },
     "execution_count": 181,
     "metadata": {},
     "output_type": "execute_result"
    }
   ],
   "source": [
    "#### NaN 있는 경우 \n",
    "df.loc['A', 'X1'] =  np.NaN\n",
    "df"
   ]
  },
  {
   "cell_type": "code",
   "execution_count": 184,
   "metadata": {},
   "outputs": [
    {
     "data": {
      "text/plain": [
       "X1     NaN\n",
       "X2    15.0\n",
       "X3    18.0\n",
       "dtype: float64"
      ]
     },
     "execution_count": 184,
     "metadata": {},
     "output_type": "execute_result"
    }
   ],
   "source": [
    "df.sum(axis=0, skipna=False)   #기본은 NaN은 스킵 "
   ]
  },
  {
   "attachments": {
    "image.png": {
     "image/png": "[encoded data removed]"
    }
   },
   "cell_type": "markdown",
   "metadata": {},
   "source": [
    "### 연습문제 \n",
    "- 아래 데이터프레임에 대한 특정 통계 함수를 이용하여 연산하였을때 \n",
    "- 수행 결과가 오른쪽과 같이 나오도록 코드를 작성하세요. \n",
    "\n",
    "![image.png](attachment:image.png)\n"
   ]
  },
  {
   "cell_type": "code",
   "execution_count": 4,
   "metadata": {},
   "outputs": [
    {
     "data": {
      "text/html": [
       "<div>\n",
       "<style scoped>\n",
       "    .dataframe tbody tr th:only-of-type {\n",
       "        vertical-align: middle;\n",
       "    }\n",
       "\n",
       "    .dataframe tbody tr th {\n",
       "        vertical-align: top;\n",
       "    }\n",
       "\n",
       "    .dataframe thead th {\n",
       "        text-align: right;\n",
       "    }\n",
       "</style>\n",
       "<table border=\"1\" class=\"dataframe\">\n",
       "  <thead>\n",
       "    <tr style=\"text-align: right;\">\n",
       "      <th></th>\n",
       "      <th>A</th>\n",
       "      <th>B</th>\n",
       "      <th>C</th>\n",
       "      <th>D</th>\n",
       "    </tr>\n",
       "  </thead>\n",
       "  <tbody>\n",
       "    <tr>\n",
       "      <th>0</th>\n",
       "      <td>5</td>\n",
       "      <td>1</td>\n",
       "      <td>2</td>\n",
       "      <td>4.0</td>\n",
       "    </tr>\n",
       "    <tr>\n",
       "      <th>1</th>\n",
       "      <td>1</td>\n",
       "      <td>2</td>\n",
       "      <td>0</td>\n",
       "      <td>NaN</td>\n",
       "    </tr>\n",
       "    <tr>\n",
       "      <th>2</th>\n",
       "      <td>1</td>\n",
       "      <td>3</td>\n",
       "      <td>2</td>\n",
       "      <td>NaN</td>\n",
       "    </tr>\n",
       "  </tbody>\n",
       "</table>\n",
       "</div>"
      ],
      "text/plain": [
       "   A  B  C    D\n",
       "0  5  1  2  4.0\n",
       "1  1  2  0  NaN\n",
       "2  1  3  2  NaN"
      ]
     },
     "execution_count": 4,
     "metadata": {},
     "output_type": "execute_result"
    }
   ],
   "source": [
    "import numpy as np \n",
    "import pandas as pd \n",
    "\n",
    "df0 = pd.DataFrame([[5,1,2,4.0], [1,2,0, np.nan], [1,3,2, np.nan]], columns=list('ABCD'))\n",
    "df0"
   ]
  },
  {
   "cell_type": "code",
   "execution_count": 6,
   "metadata": {},
   "outputs": [
    {
     "data": {
      "text/plain": [
       "A    7.0\n",
       "B    6.0\n",
       "C    4.0\n",
       "D    NaN\n",
       "dtype: float64"
      ]
     },
     "execution_count": 6,
     "metadata": {},
     "output_type": "execute_result"
    }
   ],
   "source": [
    "# code here \n",
    "df0.sum(axis=0, skipna=False)"
   ]
  },
  {
   "attachments": {},
   "cell_type": "markdown",
   "metadata": {},
   "source": []
  }
 ],
 "metadata": {
  "colab": {
   "collapsed_sections": [],
   "name": "SKI PART4_pandas01 LAB_sol.ipynb",
   "provenance": [
    {
     "file_id": "1eOdDbgXNqCuoy1a6TgFqv7WCNDici9w7",
     "timestamp": 1612190830963
    },
    {
     "file_id": "1zCZRt1dLd-ODKVmUQbXk6BKSxZolU7kR",
     "timestamp": 1612180217067
    },
    {
     "file_id": "1pxfKL8b_q3fVDhmjffKvrlITz7uYkZbq",
     "timestamp": 1611841178308
    }
   ]
  },
  "kernelspec": {
   "display_name": "Python 3",
   "language": "python",
   "name": "python3"
  },
  "language_info": {
   "codemirror_mode": {
    "name": "ipython",
    "version": 3
   },
   "file_extension": ".py",
   "mimetype": "text/x-python",
   "name": "python",
   "nbconvert_exporter": "python",
   "pygments_lexer": "ipython3",
   "version": "3.10.5"
  }
 },
 "nbformat": 4,
 "nbformat_minor": 1
}
